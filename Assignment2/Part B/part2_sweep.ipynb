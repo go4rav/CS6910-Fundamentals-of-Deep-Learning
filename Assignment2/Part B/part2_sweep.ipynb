{
  "nbformat": 4,
  "nbformat_minor": 0,
  "metadata": {
    "colab": {
      "name": "ass2_p3.ipynb",
      "provenance": [],
      "collapsed_sections": []
    },
    "kernelspec": {
      "name": "python3",
      "display_name": "Python 3"
    },
    "language_info": {
      "name": "python"
    },
    "widgets": {
      "application/vnd.jupyter.widget-state+json": {
        "5c3b87673dd94721a115cdc237a38306": {
          "model_module": "@jupyter-widgets/controls",
          "model_name": "VBoxModel",
          "model_module_version": "1.5.0",
          "state": {
            "_dom_classes": [],
            "_model_module": "@jupyter-widgets/controls",
            "_model_module_version": "1.5.0",
            "_model_name": "VBoxModel",
            "_view_count": null,
            "_view_module": "@jupyter-widgets/controls",
            "_view_module_version": "1.5.0",
            "_view_name": "VBoxView",
            "box_style": "",
            "children": [
              "IPY_MODEL_62ee45b3ef87416c880683fad60dc91d",
              "IPY_MODEL_d307c4aa93ff49048e225defcccf3557"
            ],
            "layout": "IPY_MODEL_8ab79482d88f40d7836a29922ea4c78a"
          }
        },
        "62ee45b3ef87416c880683fad60dc91d": {
          "model_module": "@jupyter-widgets/controls",
          "model_name": "LabelModel",
          "model_module_version": "1.5.0",
          "state": {
            "_dom_classes": [],
            "_model_module": "@jupyter-widgets/controls",
            "_model_module_version": "1.5.0",
            "_model_name": "LabelModel",
            "_view_count": null,
            "_view_module": "@jupyter-widgets/controls",
            "_view_module_version": "1.5.0",
            "_view_name": "LabelView",
            "description": "",
            "description_tooltip": null,
            "layout": "IPY_MODEL_a67cd82a9a084dafa5ac0c0a98588b3f",
            "placeholder": "​",
            "style": "IPY_MODEL_5596d4dc91af40949cdb8edb8b0305b7",
            "value": "0.009 MB of 0.009 MB uploaded (0.000 MB deduped)\r"
          }
        },
        "d307c4aa93ff49048e225defcccf3557": {
          "model_module": "@jupyter-widgets/controls",
          "model_name": "FloatProgressModel",
          "model_module_version": "1.5.0",
          "state": {
            "_dom_classes": [],
            "_model_module": "@jupyter-widgets/controls",
            "_model_module_version": "1.5.0",
            "_model_name": "FloatProgressModel",
            "_view_count": null,
            "_view_module": "@jupyter-widgets/controls",
            "_view_module_version": "1.5.0",
            "_view_name": "ProgressView",
            "bar_style": "",
            "description": "",
            "description_tooltip": null,
            "layout": "IPY_MODEL_5af467262bdb421aa8372b20e6974148",
            "max": 1,
            "min": 0,
            "orientation": "horizontal",
            "style": "IPY_MODEL_e5a1e736e004424da2c8e1f4256064a2",
            "value": 1
          }
        },
        "8ab79482d88f40d7836a29922ea4c78a": {
          "model_module": "@jupyter-widgets/base",
          "model_name": "LayoutModel",
          "model_module_version": "1.2.0",
          "state": {
            "_model_module": "@jupyter-widgets/base",
            "_model_module_version": "1.2.0",
            "_model_name": "LayoutModel",
            "_view_count": null,
            "_view_module": "@jupyter-widgets/base",
            "_view_module_version": "1.2.0",
            "_view_name": "LayoutView",
            "align_content": null,
            "align_items": null,
            "align_self": null,
            "border": null,
            "bottom": null,
            "display": null,
            "flex": null,
            "flex_flow": null,
            "grid_area": null,
            "grid_auto_columns": null,
            "grid_auto_flow": null,
            "grid_auto_rows": null,
            "grid_column": null,
            "grid_gap": null,
            "grid_row": null,
            "grid_template_areas": null,
            "grid_template_columns": null,
            "grid_template_rows": null,
            "height": null,
            "justify_content": null,
            "justify_items": null,
            "left": null,
            "margin": null,
            "max_height": null,
            "max_width": null,
            "min_height": null,
            "min_width": null,
            "object_fit": null,
            "object_position": null,
            "order": null,
            "overflow": null,
            "overflow_x": null,
            "overflow_y": null,
            "padding": null,
            "right": null,
            "top": null,
            "visibility": null,
            "width": null
          }
        },
        "a67cd82a9a084dafa5ac0c0a98588b3f": {
          "model_module": "@jupyter-widgets/base",
          "model_name": "LayoutModel",
          "model_module_version": "1.2.0",
          "state": {
            "_model_module": "@jupyter-widgets/base",
            "_model_module_version": "1.2.0",
            "_model_name": "LayoutModel",
            "_view_count": null,
            "_view_module": "@jupyter-widgets/base",
            "_view_module_version": "1.2.0",
            "_view_name": "LayoutView",
            "align_content": null,
            "align_items": null,
            "align_self": null,
            "border": null,
            "bottom": null,
            "display": null,
            "flex": null,
            "flex_flow": null,
            "grid_area": null,
            "grid_auto_columns": null,
            "grid_auto_flow": null,
            "grid_auto_rows": null,
            "grid_column": null,
            "grid_gap": null,
            "grid_row": null,
            "grid_template_areas": null,
            "grid_template_columns": null,
            "grid_template_rows": null,
            "height": null,
            "justify_content": null,
            "justify_items": null,
            "left": null,
            "margin": null,
            "max_height": null,
            "max_width": null,
            "min_height": null,
            "min_width": null,
            "object_fit": null,
            "object_position": null,
            "order": null,
            "overflow": null,
            "overflow_x": null,
            "overflow_y": null,
            "padding": null,
            "right": null,
            "top": null,
            "visibility": null,
            "width": null
          }
        },
        "5596d4dc91af40949cdb8edb8b0305b7": {
          "model_module": "@jupyter-widgets/controls",
          "model_name": "DescriptionStyleModel",
          "model_module_version": "1.5.0",
          "state": {
            "_model_module": "@jupyter-widgets/controls",
            "_model_module_version": "1.5.0",
            "_model_name": "DescriptionStyleModel",
            "_view_count": null,
            "_view_module": "@jupyter-widgets/base",
            "_view_module_version": "1.2.0",
            "_view_name": "StyleView",
            "description_width": ""
          }
        },
        "5af467262bdb421aa8372b20e6974148": {
          "model_module": "@jupyter-widgets/base",
          "model_name": "LayoutModel",
          "model_module_version": "1.2.0",
          "state": {
            "_model_module": "@jupyter-widgets/base",
            "_model_module_version": "1.2.0",
            "_model_name": "LayoutModel",
            "_view_count": null,
            "_view_module": "@jupyter-widgets/base",
            "_view_module_version": "1.2.0",
            "_view_name": "LayoutView",
            "align_content": null,
            "align_items": null,
            "align_self": null,
            "border": null,
            "bottom": null,
            "display": null,
            "flex": null,
            "flex_flow": null,
            "grid_area": null,
            "grid_auto_columns": null,
            "grid_auto_flow": null,
            "grid_auto_rows": null,
            "grid_column": null,
            "grid_gap": null,
            "grid_row": null,
            "grid_template_areas": null,
            "grid_template_columns": null,
            "grid_template_rows": null,
            "height": null,
            "justify_content": null,
            "justify_items": null,
            "left": null,
            "margin": null,
            "max_height": null,
            "max_width": null,
            "min_height": null,
            "min_width": null,
            "object_fit": null,
            "object_position": null,
            "order": null,
            "overflow": null,
            "overflow_x": null,
            "overflow_y": null,
            "padding": null,
            "right": null,
            "top": null,
            "visibility": null,
            "width": null
          }
        },
        "e5a1e736e004424da2c8e1f4256064a2": {
          "model_module": "@jupyter-widgets/controls",
          "model_name": "ProgressStyleModel",
          "model_module_version": "1.5.0",
          "state": {
            "_model_module": "@jupyter-widgets/controls",
            "_model_module_version": "1.5.0",
            "_model_name": "ProgressStyleModel",
            "_view_count": null,
            "_view_module": "@jupyter-widgets/base",
            "_view_module_version": "1.2.0",
            "_view_name": "StyleView",
            "bar_color": null,
            "description_width": ""
          }
        },
        "5d3b34a04b21461c9395992372bf049b": {
          "model_module": "@jupyter-widgets/controls",
          "model_name": "VBoxModel",
          "model_module_version": "1.5.0",
          "state": {
            "_dom_classes": [],
            "_model_module": "@jupyter-widgets/controls",
            "_model_module_version": "1.5.0",
            "_model_name": "VBoxModel",
            "_view_count": null,
            "_view_module": "@jupyter-widgets/controls",
            "_view_module_version": "1.5.0",
            "_view_name": "VBoxView",
            "box_style": "",
            "children": [
              "IPY_MODEL_bd17d0bb89fc477da4cc26aa3c3105e9",
              "IPY_MODEL_df122a32e4984d7d841b5e19578286cd"
            ],
            "layout": "IPY_MODEL_9a1d4b0c58fc4082ba88164271f6c3c4"
          }
        },
        "bd17d0bb89fc477da4cc26aa3c3105e9": {
          "model_module": "@jupyter-widgets/controls",
          "model_name": "LabelModel",
          "model_module_version": "1.5.0",
          "state": {
            "_dom_classes": [],
            "_model_module": "@jupyter-widgets/controls",
            "_model_module_version": "1.5.0",
            "_model_name": "LabelModel",
            "_view_count": null,
            "_view_module": "@jupyter-widgets/controls",
            "_view_module_version": "1.5.0",
            "_view_name": "LabelView",
            "description": "",
            "description_tooltip": null,
            "layout": "IPY_MODEL_d544a1f3ef02487cb0485952224ab695",
            "placeholder": "​",
            "style": "IPY_MODEL_a27bf21acaa44197a0fbdad84d0a6312",
            "value": "0.009 MB of 0.009 MB uploaded (0.000 MB deduped)\r"
          }
        },
        "df122a32e4984d7d841b5e19578286cd": {
          "model_module": "@jupyter-widgets/controls",
          "model_name": "FloatProgressModel",
          "model_module_version": "1.5.0",
          "state": {
            "_dom_classes": [],
            "_model_module": "@jupyter-widgets/controls",
            "_model_module_version": "1.5.0",
            "_model_name": "FloatProgressModel",
            "_view_count": null,
            "_view_module": "@jupyter-widgets/controls",
            "_view_module_version": "1.5.0",
            "_view_name": "ProgressView",
            "bar_style": "",
            "description": "",
            "description_tooltip": null,
            "layout": "IPY_MODEL_26ffb307a4254c679f8f419089a94019",
            "max": 1,
            "min": 0,
            "orientation": "horizontal",
            "style": "IPY_MODEL_fc8b6dbd0ce6457497799456319517dd",
            "value": 1
          }
        },
        "9a1d4b0c58fc4082ba88164271f6c3c4": {
          "model_module": "@jupyter-widgets/base",
          "model_name": "LayoutModel",
          "model_module_version": "1.2.0",
          "state": {
            "_model_module": "@jupyter-widgets/base",
            "_model_module_version": "1.2.0",
            "_model_name": "LayoutModel",
            "_view_count": null,
            "_view_module": "@jupyter-widgets/base",
            "_view_module_version": "1.2.0",
            "_view_name": "LayoutView",
            "align_content": null,
            "align_items": null,
            "align_self": null,
            "border": null,
            "bottom": null,
            "display": null,
            "flex": null,
            "flex_flow": null,
            "grid_area": null,
            "grid_auto_columns": null,
            "grid_auto_flow": null,
            "grid_auto_rows": null,
            "grid_column": null,
            "grid_gap": null,
            "grid_row": null,
            "grid_template_areas": null,
            "grid_template_columns": null,
            "grid_template_rows": null,
            "height": null,
            "justify_content": null,
            "justify_items": null,
            "left": null,
            "margin": null,
            "max_height": null,
            "max_width": null,
            "min_height": null,
            "min_width": null,
            "object_fit": null,
            "object_position": null,
            "order": null,
            "overflow": null,
            "overflow_x": null,
            "overflow_y": null,
            "padding": null,
            "right": null,
            "top": null,
            "visibility": null,
            "width": null
          }
        },
        "d544a1f3ef02487cb0485952224ab695": {
          "model_module": "@jupyter-widgets/base",
          "model_name": "LayoutModel",
          "model_module_version": "1.2.0",
          "state": {
            "_model_module": "@jupyter-widgets/base",
            "_model_module_version": "1.2.0",
            "_model_name": "LayoutModel",
            "_view_count": null,
            "_view_module": "@jupyter-widgets/base",
            "_view_module_version": "1.2.0",
            "_view_name": "LayoutView",
            "align_content": null,
            "align_items": null,
            "align_self": null,
            "border": null,
            "bottom": null,
            "display": null,
            "flex": null,
            "flex_flow": null,
            "grid_area": null,
            "grid_auto_columns": null,
            "grid_auto_flow": null,
            "grid_auto_rows": null,
            "grid_column": null,
            "grid_gap": null,
            "grid_row": null,
            "grid_template_areas": null,
            "grid_template_columns": null,
            "grid_template_rows": null,
            "height": null,
            "justify_content": null,
            "justify_items": null,
            "left": null,
            "margin": null,
            "max_height": null,
            "max_width": null,
            "min_height": null,
            "min_width": null,
            "object_fit": null,
            "object_position": null,
            "order": null,
            "overflow": null,
            "overflow_x": null,
            "overflow_y": null,
            "padding": null,
            "right": null,
            "top": null,
            "visibility": null,
            "width": null
          }
        },
        "a27bf21acaa44197a0fbdad84d0a6312": {
          "model_module": "@jupyter-widgets/controls",
          "model_name": "DescriptionStyleModel",
          "model_module_version": "1.5.0",
          "state": {
            "_model_module": "@jupyter-widgets/controls",
            "_model_module_version": "1.5.0",
            "_model_name": "DescriptionStyleModel",
            "_view_count": null,
            "_view_module": "@jupyter-widgets/base",
            "_view_module_version": "1.2.0",
            "_view_name": "StyleView",
            "description_width": ""
          }
        },
        "26ffb307a4254c679f8f419089a94019": {
          "model_module": "@jupyter-widgets/base",
          "model_name": "LayoutModel",
          "model_module_version": "1.2.0",
          "state": {
            "_model_module": "@jupyter-widgets/base",
            "_model_module_version": "1.2.0",
            "_model_name": "LayoutModel",
            "_view_count": null,
            "_view_module": "@jupyter-widgets/base",
            "_view_module_version": "1.2.0",
            "_view_name": "LayoutView",
            "align_content": null,
            "align_items": null,
            "align_self": null,
            "border": null,
            "bottom": null,
            "display": null,
            "flex": null,
            "flex_flow": null,
            "grid_area": null,
            "grid_auto_columns": null,
            "grid_auto_flow": null,
            "grid_auto_rows": null,
            "grid_column": null,
            "grid_gap": null,
            "grid_row": null,
            "grid_template_areas": null,
            "grid_template_columns": null,
            "grid_template_rows": null,
            "height": null,
            "justify_content": null,
            "justify_items": null,
            "left": null,
            "margin": null,
            "max_height": null,
            "max_width": null,
            "min_height": null,
            "min_width": null,
            "object_fit": null,
            "object_position": null,
            "order": null,
            "overflow": null,
            "overflow_x": null,
            "overflow_y": null,
            "padding": null,
            "right": null,
            "top": null,
            "visibility": null,
            "width": null
          }
        },
        "fc8b6dbd0ce6457497799456319517dd": {
          "model_module": "@jupyter-widgets/controls",
          "model_name": "ProgressStyleModel",
          "model_module_version": "1.5.0",
          "state": {
            "_model_module": "@jupyter-widgets/controls",
            "_model_module_version": "1.5.0",
            "_model_name": "ProgressStyleModel",
            "_view_count": null,
            "_view_module": "@jupyter-widgets/base",
            "_view_module_version": "1.2.0",
            "_view_name": "StyleView",
            "bar_color": null,
            "description_width": ""
          }
        },
        "d8b5dfa4eb644ecd9e569d94f9e46113": {
          "model_module": "@jupyter-widgets/controls",
          "model_name": "VBoxModel",
          "model_module_version": "1.5.0",
          "state": {
            "_dom_classes": [],
            "_model_module": "@jupyter-widgets/controls",
            "_model_module_version": "1.5.0",
            "_model_name": "VBoxModel",
            "_view_count": null,
            "_view_module": "@jupyter-widgets/controls",
            "_view_module_version": "1.5.0",
            "_view_name": "VBoxView",
            "box_style": "",
            "children": [
              "IPY_MODEL_d438eda4e9f740629e372b7ef0304773",
              "IPY_MODEL_cb50efb91ed3496a881986b81e31010d"
            ],
            "layout": "IPY_MODEL_5dd3551652754bec9326b36e0ea676a0"
          }
        },
        "d438eda4e9f740629e372b7ef0304773": {
          "model_module": "@jupyter-widgets/controls",
          "model_name": "LabelModel",
          "model_module_version": "1.5.0",
          "state": {
            "_dom_classes": [],
            "_model_module": "@jupyter-widgets/controls",
            "_model_module_version": "1.5.0",
            "_model_name": "LabelModel",
            "_view_count": null,
            "_view_module": "@jupyter-widgets/controls",
            "_view_module_version": "1.5.0",
            "_view_name": "LabelView",
            "description": "",
            "description_tooltip": null,
            "layout": "IPY_MODEL_fbcbee0d90ca418c8731e8a254b6cf40",
            "placeholder": "​",
            "style": "IPY_MODEL_c35ac114028642a7a4a88f72d8129868",
            "value": "0.009 MB of 0.009 MB uploaded (0.000 MB deduped)\r"
          }
        },
        "cb50efb91ed3496a881986b81e31010d": {
          "model_module": "@jupyter-widgets/controls",
          "model_name": "FloatProgressModel",
          "model_module_version": "1.5.0",
          "state": {
            "_dom_classes": [],
            "_model_module": "@jupyter-widgets/controls",
            "_model_module_version": "1.5.0",
            "_model_name": "FloatProgressModel",
            "_view_count": null,
            "_view_module": "@jupyter-widgets/controls",
            "_view_module_version": "1.5.0",
            "_view_name": "ProgressView",
            "bar_style": "",
            "description": "",
            "description_tooltip": null,
            "layout": "IPY_MODEL_36586a62f895459983d01ceebd203805",
            "max": 1,
            "min": 0,
            "orientation": "horizontal",
            "style": "IPY_MODEL_8d1e5030858f457f8a82d44a9616e6c2",
            "value": 1
          }
        },
        "5dd3551652754bec9326b36e0ea676a0": {
          "model_module": "@jupyter-widgets/base",
          "model_name": "LayoutModel",
          "model_module_version": "1.2.0",
          "state": {
            "_model_module": "@jupyter-widgets/base",
            "_model_module_version": "1.2.0",
            "_model_name": "LayoutModel",
            "_view_count": null,
            "_view_module": "@jupyter-widgets/base",
            "_view_module_version": "1.2.0",
            "_view_name": "LayoutView",
            "align_content": null,
            "align_items": null,
            "align_self": null,
            "border": null,
            "bottom": null,
            "display": null,
            "flex": null,
            "flex_flow": null,
            "grid_area": null,
            "grid_auto_columns": null,
            "grid_auto_flow": null,
            "grid_auto_rows": null,
            "grid_column": null,
            "grid_gap": null,
            "grid_row": null,
            "grid_template_areas": null,
            "grid_template_columns": null,
            "grid_template_rows": null,
            "height": null,
            "justify_content": null,
            "justify_items": null,
            "left": null,
            "margin": null,
            "max_height": null,
            "max_width": null,
            "min_height": null,
            "min_width": null,
            "object_fit": null,
            "object_position": null,
            "order": null,
            "overflow": null,
            "overflow_x": null,
            "overflow_y": null,
            "padding": null,
            "right": null,
            "top": null,
            "visibility": null,
            "width": null
          }
        },
        "fbcbee0d90ca418c8731e8a254b6cf40": {
          "model_module": "@jupyter-widgets/base",
          "model_name": "LayoutModel",
          "model_module_version": "1.2.0",
          "state": {
            "_model_module": "@jupyter-widgets/base",
            "_model_module_version": "1.2.0",
            "_model_name": "LayoutModel",
            "_view_count": null,
            "_view_module": "@jupyter-widgets/base",
            "_view_module_version": "1.2.0",
            "_view_name": "LayoutView",
            "align_content": null,
            "align_items": null,
            "align_self": null,
            "border": null,
            "bottom": null,
            "display": null,
            "flex": null,
            "flex_flow": null,
            "grid_area": null,
            "grid_auto_columns": null,
            "grid_auto_flow": null,
            "grid_auto_rows": null,
            "grid_column": null,
            "grid_gap": null,
            "grid_row": null,
            "grid_template_areas": null,
            "grid_template_columns": null,
            "grid_template_rows": null,
            "height": null,
            "justify_content": null,
            "justify_items": null,
            "left": null,
            "margin": null,
            "max_height": null,
            "max_width": null,
            "min_height": null,
            "min_width": null,
            "object_fit": null,
            "object_position": null,
            "order": null,
            "overflow": null,
            "overflow_x": null,
            "overflow_y": null,
            "padding": null,
            "right": null,
            "top": null,
            "visibility": null,
            "width": null
          }
        },
        "c35ac114028642a7a4a88f72d8129868": {
          "model_module": "@jupyter-widgets/controls",
          "model_name": "DescriptionStyleModel",
          "model_module_version": "1.5.0",
          "state": {
            "_model_module": "@jupyter-widgets/controls",
            "_model_module_version": "1.5.0",
            "_model_name": "DescriptionStyleModel",
            "_view_count": null,
            "_view_module": "@jupyter-widgets/base",
            "_view_module_version": "1.2.0",
            "_view_name": "StyleView",
            "description_width": ""
          }
        },
        "36586a62f895459983d01ceebd203805": {
          "model_module": "@jupyter-widgets/base",
          "model_name": "LayoutModel",
          "model_module_version": "1.2.0",
          "state": {
            "_model_module": "@jupyter-widgets/base",
            "_model_module_version": "1.2.0",
            "_model_name": "LayoutModel",
            "_view_count": null,
            "_view_module": "@jupyter-widgets/base",
            "_view_module_version": "1.2.0",
            "_view_name": "LayoutView",
            "align_content": null,
            "align_items": null,
            "align_self": null,
            "border": null,
            "bottom": null,
            "display": null,
            "flex": null,
            "flex_flow": null,
            "grid_area": null,
            "grid_auto_columns": null,
            "grid_auto_flow": null,
            "grid_auto_rows": null,
            "grid_column": null,
            "grid_gap": null,
            "grid_row": null,
            "grid_template_areas": null,
            "grid_template_columns": null,
            "grid_template_rows": null,
            "height": null,
            "justify_content": null,
            "justify_items": null,
            "left": null,
            "margin": null,
            "max_height": null,
            "max_width": null,
            "min_height": null,
            "min_width": null,
            "object_fit": null,
            "object_position": null,
            "order": null,
            "overflow": null,
            "overflow_x": null,
            "overflow_y": null,
            "padding": null,
            "right": null,
            "top": null,
            "visibility": null,
            "width": null
          }
        },
        "8d1e5030858f457f8a82d44a9616e6c2": {
          "model_module": "@jupyter-widgets/controls",
          "model_name": "ProgressStyleModel",
          "model_module_version": "1.5.0",
          "state": {
            "_model_module": "@jupyter-widgets/controls",
            "_model_module_version": "1.5.0",
            "_model_name": "ProgressStyleModel",
            "_view_count": null,
            "_view_module": "@jupyter-widgets/base",
            "_view_module_version": "1.2.0",
            "_view_name": "StyleView",
            "bar_color": null,
            "description_width": ""
          }
        },
        "f89be7636cd443f890c1967203d10198": {
          "model_module": "@jupyter-widgets/controls",
          "model_name": "VBoxModel",
          "model_module_version": "1.5.0",
          "state": {
            "_dom_classes": [],
            "_model_module": "@jupyter-widgets/controls",
            "_model_module_version": "1.5.0",
            "_model_name": "VBoxModel",
            "_view_count": null,
            "_view_module": "@jupyter-widgets/controls",
            "_view_module_version": "1.5.0",
            "_view_name": "VBoxView",
            "box_style": "",
            "children": [
              "IPY_MODEL_fc8f25657ec8433db957985e8d5fa160",
              "IPY_MODEL_539688a88e2f4f6b9fd6e66df7647699"
            ],
            "layout": "IPY_MODEL_d1c3faa52ed844998d800a2be7c0f3fa"
          }
        },
        "fc8f25657ec8433db957985e8d5fa160": {
          "model_module": "@jupyter-widgets/controls",
          "model_name": "LabelModel",
          "model_module_version": "1.5.0",
          "state": {
            "_dom_classes": [],
            "_model_module": "@jupyter-widgets/controls",
            "_model_module_version": "1.5.0",
            "_model_name": "LabelModel",
            "_view_count": null,
            "_view_module": "@jupyter-widgets/controls",
            "_view_module_version": "1.5.0",
            "_view_name": "LabelView",
            "description": "",
            "description_tooltip": null,
            "layout": "IPY_MODEL_164446d1dba745dd925a241ed2941c4e",
            "placeholder": "​",
            "style": "IPY_MODEL_3b4bb15d4904409ab2ff2852c154c181",
            "value": "0.009 MB of 0.009 MB uploaded (0.000 MB deduped)\r"
          }
        },
        "539688a88e2f4f6b9fd6e66df7647699": {
          "model_module": "@jupyter-widgets/controls",
          "model_name": "FloatProgressModel",
          "model_module_version": "1.5.0",
          "state": {
            "_dom_classes": [],
            "_model_module": "@jupyter-widgets/controls",
            "_model_module_version": "1.5.0",
            "_model_name": "FloatProgressModel",
            "_view_count": null,
            "_view_module": "@jupyter-widgets/controls",
            "_view_module_version": "1.5.0",
            "_view_name": "ProgressView",
            "bar_style": "",
            "description": "",
            "description_tooltip": null,
            "layout": "IPY_MODEL_fb128dc181aa44e7b3bec41d219bdb45",
            "max": 1,
            "min": 0,
            "orientation": "horizontal",
            "style": "IPY_MODEL_73ecda859694423caf09a707952b0e85",
            "value": 1
          }
        },
        "d1c3faa52ed844998d800a2be7c0f3fa": {
          "model_module": "@jupyter-widgets/base",
          "model_name": "LayoutModel",
          "model_module_version": "1.2.0",
          "state": {
            "_model_module": "@jupyter-widgets/base",
            "_model_module_version": "1.2.0",
            "_model_name": "LayoutModel",
            "_view_count": null,
            "_view_module": "@jupyter-widgets/base",
            "_view_module_version": "1.2.0",
            "_view_name": "LayoutView",
            "align_content": null,
            "align_items": null,
            "align_self": null,
            "border": null,
            "bottom": null,
            "display": null,
            "flex": null,
            "flex_flow": null,
            "grid_area": null,
            "grid_auto_columns": null,
            "grid_auto_flow": null,
            "grid_auto_rows": null,
            "grid_column": null,
            "grid_gap": null,
            "grid_row": null,
            "grid_template_areas": null,
            "grid_template_columns": null,
            "grid_template_rows": null,
            "height": null,
            "justify_content": null,
            "justify_items": null,
            "left": null,
            "margin": null,
            "max_height": null,
            "max_width": null,
            "min_height": null,
            "min_width": null,
            "object_fit": null,
            "object_position": null,
            "order": null,
            "overflow": null,
            "overflow_x": null,
            "overflow_y": null,
            "padding": null,
            "right": null,
            "top": null,
            "visibility": null,
            "width": null
          }
        },
        "164446d1dba745dd925a241ed2941c4e": {
          "model_module": "@jupyter-widgets/base",
          "model_name": "LayoutModel",
          "model_module_version": "1.2.0",
          "state": {
            "_model_module": "@jupyter-widgets/base",
            "_model_module_version": "1.2.0",
            "_model_name": "LayoutModel",
            "_view_count": null,
            "_view_module": "@jupyter-widgets/base",
            "_view_module_version": "1.2.0",
            "_view_name": "LayoutView",
            "align_content": null,
            "align_items": null,
            "align_self": null,
            "border": null,
            "bottom": null,
            "display": null,
            "flex": null,
            "flex_flow": null,
            "grid_area": null,
            "grid_auto_columns": null,
            "grid_auto_flow": null,
            "grid_auto_rows": null,
            "grid_column": null,
            "grid_gap": null,
            "grid_row": null,
            "grid_template_areas": null,
            "grid_template_columns": null,
            "grid_template_rows": null,
            "height": null,
            "justify_content": null,
            "justify_items": null,
            "left": null,
            "margin": null,
            "max_height": null,
            "max_width": null,
            "min_height": null,
            "min_width": null,
            "object_fit": null,
            "object_position": null,
            "order": null,
            "overflow": null,
            "overflow_x": null,
            "overflow_y": null,
            "padding": null,
            "right": null,
            "top": null,
            "visibility": null,
            "width": null
          }
        },
        "3b4bb15d4904409ab2ff2852c154c181": {
          "model_module": "@jupyter-widgets/controls",
          "model_name": "DescriptionStyleModel",
          "model_module_version": "1.5.0",
          "state": {
            "_model_module": "@jupyter-widgets/controls",
            "_model_module_version": "1.5.0",
            "_model_name": "DescriptionStyleModel",
            "_view_count": null,
            "_view_module": "@jupyter-widgets/base",
            "_view_module_version": "1.2.0",
            "_view_name": "StyleView",
            "description_width": ""
          }
        },
        "fb128dc181aa44e7b3bec41d219bdb45": {
          "model_module": "@jupyter-widgets/base",
          "model_name": "LayoutModel",
          "model_module_version": "1.2.0",
          "state": {
            "_model_module": "@jupyter-widgets/base",
            "_model_module_version": "1.2.0",
            "_model_name": "LayoutModel",
            "_view_count": null,
            "_view_module": "@jupyter-widgets/base",
            "_view_module_version": "1.2.0",
            "_view_name": "LayoutView",
            "align_content": null,
            "align_items": null,
            "align_self": null,
            "border": null,
            "bottom": null,
            "display": null,
            "flex": null,
            "flex_flow": null,
            "grid_area": null,
            "grid_auto_columns": null,
            "grid_auto_flow": null,
            "grid_auto_rows": null,
            "grid_column": null,
            "grid_gap": null,
            "grid_row": null,
            "grid_template_areas": null,
            "grid_template_columns": null,
            "grid_template_rows": null,
            "height": null,
            "justify_content": null,
            "justify_items": null,
            "left": null,
            "margin": null,
            "max_height": null,
            "max_width": null,
            "min_height": null,
            "min_width": null,
            "object_fit": null,
            "object_position": null,
            "order": null,
            "overflow": null,
            "overflow_x": null,
            "overflow_y": null,
            "padding": null,
            "right": null,
            "top": null,
            "visibility": null,
            "width": null
          }
        },
        "73ecda859694423caf09a707952b0e85": {
          "model_module": "@jupyter-widgets/controls",
          "model_name": "ProgressStyleModel",
          "model_module_version": "1.5.0",
          "state": {
            "_model_module": "@jupyter-widgets/controls",
            "_model_module_version": "1.5.0",
            "_model_name": "ProgressStyleModel",
            "_view_count": null,
            "_view_module": "@jupyter-widgets/base",
            "_view_module_version": "1.2.0",
            "_view_name": "StyleView",
            "bar_color": null,
            "description_width": ""
          }
        },
        "799f7d7adfa04495969a09a693c9ffe1": {
          "model_module": "@jupyter-widgets/controls",
          "model_name": "VBoxModel",
          "model_module_version": "1.5.0",
          "state": {
            "_dom_classes": [],
            "_model_module": "@jupyter-widgets/controls",
            "_model_module_version": "1.5.0",
            "_model_name": "VBoxModel",
            "_view_count": null,
            "_view_module": "@jupyter-widgets/controls",
            "_view_module_version": "1.5.0",
            "_view_name": "VBoxView",
            "box_style": "",
            "children": [
              "IPY_MODEL_8e7b99fe43ca43f8a2e34c2753694c2c",
              "IPY_MODEL_af9fc338060746f187edcc0579037d5d"
            ],
            "layout": "IPY_MODEL_a81e35657d86454e9e9fa74c16f5db9d"
          }
        },
        "8e7b99fe43ca43f8a2e34c2753694c2c": {
          "model_module": "@jupyter-widgets/controls",
          "model_name": "LabelModel",
          "model_module_version": "1.5.0",
          "state": {
            "_dom_classes": [],
            "_model_module": "@jupyter-widgets/controls",
            "_model_module_version": "1.5.0",
            "_model_name": "LabelModel",
            "_view_count": null,
            "_view_module": "@jupyter-widgets/controls",
            "_view_module_version": "1.5.0",
            "_view_name": "LabelView",
            "description": "",
            "description_tooltip": null,
            "layout": "IPY_MODEL_7270cc35572f4b11a8d6d78bec98f189",
            "placeholder": "​",
            "style": "IPY_MODEL_3c29c4334fa840bbaa2fde63df5544a8",
            "value": "0.009 MB of 0.009 MB uploaded (0.000 MB deduped)\r"
          }
        },
        "af9fc338060746f187edcc0579037d5d": {
          "model_module": "@jupyter-widgets/controls",
          "model_name": "FloatProgressModel",
          "model_module_version": "1.5.0",
          "state": {
            "_dom_classes": [],
            "_model_module": "@jupyter-widgets/controls",
            "_model_module_version": "1.5.0",
            "_model_name": "FloatProgressModel",
            "_view_count": null,
            "_view_module": "@jupyter-widgets/controls",
            "_view_module_version": "1.5.0",
            "_view_name": "ProgressView",
            "bar_style": "",
            "description": "",
            "description_tooltip": null,
            "layout": "IPY_MODEL_d88e6814d9ce4114bb3f74c18f95cd36",
            "max": 1,
            "min": 0,
            "orientation": "horizontal",
            "style": "IPY_MODEL_7ff9c9b3afbe4ee3a491f94a6df90cf5",
            "value": 1
          }
        },
        "a81e35657d86454e9e9fa74c16f5db9d": {
          "model_module": "@jupyter-widgets/base",
          "model_name": "LayoutModel",
          "model_module_version": "1.2.0",
          "state": {
            "_model_module": "@jupyter-widgets/base",
            "_model_module_version": "1.2.0",
            "_model_name": "LayoutModel",
            "_view_count": null,
            "_view_module": "@jupyter-widgets/base",
            "_view_module_version": "1.2.0",
            "_view_name": "LayoutView",
            "align_content": null,
            "align_items": null,
            "align_self": null,
            "border": null,
            "bottom": null,
            "display": null,
            "flex": null,
            "flex_flow": null,
            "grid_area": null,
            "grid_auto_columns": null,
            "grid_auto_flow": null,
            "grid_auto_rows": null,
            "grid_column": null,
            "grid_gap": null,
            "grid_row": null,
            "grid_template_areas": null,
            "grid_template_columns": null,
            "grid_template_rows": null,
            "height": null,
            "justify_content": null,
            "justify_items": null,
            "left": null,
            "margin": null,
            "max_height": null,
            "max_width": null,
            "min_height": null,
            "min_width": null,
            "object_fit": null,
            "object_position": null,
            "order": null,
            "overflow": null,
            "overflow_x": null,
            "overflow_y": null,
            "padding": null,
            "right": null,
            "top": null,
            "visibility": null,
            "width": null
          }
        },
        "7270cc35572f4b11a8d6d78bec98f189": {
          "model_module": "@jupyter-widgets/base",
          "model_name": "LayoutModel",
          "model_module_version": "1.2.0",
          "state": {
            "_model_module": "@jupyter-widgets/base",
            "_model_module_version": "1.2.0",
            "_model_name": "LayoutModel",
            "_view_count": null,
            "_view_module": "@jupyter-widgets/base",
            "_view_module_version": "1.2.0",
            "_view_name": "LayoutView",
            "align_content": null,
            "align_items": null,
            "align_self": null,
            "border": null,
            "bottom": null,
            "display": null,
            "flex": null,
            "flex_flow": null,
            "grid_area": null,
            "grid_auto_columns": null,
            "grid_auto_flow": null,
            "grid_auto_rows": null,
            "grid_column": null,
            "grid_gap": null,
            "grid_row": null,
            "grid_template_areas": null,
            "grid_template_columns": null,
            "grid_template_rows": null,
            "height": null,
            "justify_content": null,
            "justify_items": null,
            "left": null,
            "margin": null,
            "max_height": null,
            "max_width": null,
            "min_height": null,
            "min_width": null,
            "object_fit": null,
            "object_position": null,
            "order": null,
            "overflow": null,
            "overflow_x": null,
            "overflow_y": null,
            "padding": null,
            "right": null,
            "top": null,
            "visibility": null,
            "width": null
          }
        },
        "3c29c4334fa840bbaa2fde63df5544a8": {
          "model_module": "@jupyter-widgets/controls",
          "model_name": "DescriptionStyleModel",
          "model_module_version": "1.5.0",
          "state": {
            "_model_module": "@jupyter-widgets/controls",
            "_model_module_version": "1.5.0",
            "_model_name": "DescriptionStyleModel",
            "_view_count": null,
            "_view_module": "@jupyter-widgets/base",
            "_view_module_version": "1.2.0",
            "_view_name": "StyleView",
            "description_width": ""
          }
        },
        "d88e6814d9ce4114bb3f74c18f95cd36": {
          "model_module": "@jupyter-widgets/base",
          "model_name": "LayoutModel",
          "model_module_version": "1.2.0",
          "state": {
            "_model_module": "@jupyter-widgets/base",
            "_model_module_version": "1.2.0",
            "_model_name": "LayoutModel",
            "_view_count": null,
            "_view_module": "@jupyter-widgets/base",
            "_view_module_version": "1.2.0",
            "_view_name": "LayoutView",
            "align_content": null,
            "align_items": null,
            "align_self": null,
            "border": null,
            "bottom": null,
            "display": null,
            "flex": null,
            "flex_flow": null,
            "grid_area": null,
            "grid_auto_columns": null,
            "grid_auto_flow": null,
            "grid_auto_rows": null,
            "grid_column": null,
            "grid_gap": null,
            "grid_row": null,
            "grid_template_areas": null,
            "grid_template_columns": null,
            "grid_template_rows": null,
            "height": null,
            "justify_content": null,
            "justify_items": null,
            "left": null,
            "margin": null,
            "max_height": null,
            "max_width": null,
            "min_height": null,
            "min_width": null,
            "object_fit": null,
            "object_position": null,
            "order": null,
            "overflow": null,
            "overflow_x": null,
            "overflow_y": null,
            "padding": null,
            "right": null,
            "top": null,
            "visibility": null,
            "width": null
          }
        },
        "7ff9c9b3afbe4ee3a491f94a6df90cf5": {
          "model_module": "@jupyter-widgets/controls",
          "model_name": "ProgressStyleModel",
          "model_module_version": "1.5.0",
          "state": {
            "_model_module": "@jupyter-widgets/controls",
            "_model_module_version": "1.5.0",
            "_model_name": "ProgressStyleModel",
            "_view_count": null,
            "_view_module": "@jupyter-widgets/base",
            "_view_module_version": "1.2.0",
            "_view_name": "StyleView",
            "bar_color": null,
            "description_width": ""
          }
        },
        "f3bc3b8afa004ee284ee447fc86084ac": {
          "model_module": "@jupyter-widgets/controls",
          "model_name": "VBoxModel",
          "model_module_version": "1.5.0",
          "state": {
            "_dom_classes": [],
            "_model_module": "@jupyter-widgets/controls",
            "_model_module_version": "1.5.0",
            "_model_name": "VBoxModel",
            "_view_count": null,
            "_view_module": "@jupyter-widgets/controls",
            "_view_module_version": "1.5.0",
            "_view_name": "VBoxView",
            "box_style": "",
            "children": [
              "IPY_MODEL_c13f762ec5b0431d940cab9b6fb27ee4",
              "IPY_MODEL_6ea6c4b933134a89a923becd804ae875"
            ],
            "layout": "IPY_MODEL_9ae7eaa151444fdc866c7e7aa27c8afd"
          }
        },
        "c13f762ec5b0431d940cab9b6fb27ee4": {
          "model_module": "@jupyter-widgets/controls",
          "model_name": "LabelModel",
          "model_module_version": "1.5.0",
          "state": {
            "_dom_classes": [],
            "_model_module": "@jupyter-widgets/controls",
            "_model_module_version": "1.5.0",
            "_model_name": "LabelModel",
            "_view_count": null,
            "_view_module": "@jupyter-widgets/controls",
            "_view_module_version": "1.5.0",
            "_view_name": "LabelView",
            "description": "",
            "description_tooltip": null,
            "layout": "IPY_MODEL_2bb0e657a49c46d4b57266c5d1107390",
            "placeholder": "​",
            "style": "IPY_MODEL_d9dd93c75aff4748959ecc3b16b0a148",
            "value": "0.009 MB of 0.009 MB uploaded (0.000 MB deduped)\r"
          }
        },
        "6ea6c4b933134a89a923becd804ae875": {
          "model_module": "@jupyter-widgets/controls",
          "model_name": "FloatProgressModel",
          "model_module_version": "1.5.0",
          "state": {
            "_dom_classes": [],
            "_model_module": "@jupyter-widgets/controls",
            "_model_module_version": "1.5.0",
            "_model_name": "FloatProgressModel",
            "_view_count": null,
            "_view_module": "@jupyter-widgets/controls",
            "_view_module_version": "1.5.0",
            "_view_name": "ProgressView",
            "bar_style": "",
            "description": "",
            "description_tooltip": null,
            "layout": "IPY_MODEL_631027c0ce114042bf510100acadaef1",
            "max": 1,
            "min": 0,
            "orientation": "horizontal",
            "style": "IPY_MODEL_1e5db4ceb7494035a64b003b5f8614f2",
            "value": 1
          }
        },
        "9ae7eaa151444fdc866c7e7aa27c8afd": {
          "model_module": "@jupyter-widgets/base",
          "model_name": "LayoutModel",
          "model_module_version": "1.2.0",
          "state": {
            "_model_module": "@jupyter-widgets/base",
            "_model_module_version": "1.2.0",
            "_model_name": "LayoutModel",
            "_view_count": null,
            "_view_module": "@jupyter-widgets/base",
            "_view_module_version": "1.2.0",
            "_view_name": "LayoutView",
            "align_content": null,
            "align_items": null,
            "align_self": null,
            "border": null,
            "bottom": null,
            "display": null,
            "flex": null,
            "flex_flow": null,
            "grid_area": null,
            "grid_auto_columns": null,
            "grid_auto_flow": null,
            "grid_auto_rows": null,
            "grid_column": null,
            "grid_gap": null,
            "grid_row": null,
            "grid_template_areas": null,
            "grid_template_columns": null,
            "grid_template_rows": null,
            "height": null,
            "justify_content": null,
            "justify_items": null,
            "left": null,
            "margin": null,
            "max_height": null,
            "max_width": null,
            "min_height": null,
            "min_width": null,
            "object_fit": null,
            "object_position": null,
            "order": null,
            "overflow": null,
            "overflow_x": null,
            "overflow_y": null,
            "padding": null,
            "right": null,
            "top": null,
            "visibility": null,
            "width": null
          }
        },
        "2bb0e657a49c46d4b57266c5d1107390": {
          "model_module": "@jupyter-widgets/base",
          "model_name": "LayoutModel",
          "model_module_version": "1.2.0",
          "state": {
            "_model_module": "@jupyter-widgets/base",
            "_model_module_version": "1.2.0",
            "_model_name": "LayoutModel",
            "_view_count": null,
            "_view_module": "@jupyter-widgets/base",
            "_view_module_version": "1.2.0",
            "_view_name": "LayoutView",
            "align_content": null,
            "align_items": null,
            "align_self": null,
            "border": null,
            "bottom": null,
            "display": null,
            "flex": null,
            "flex_flow": null,
            "grid_area": null,
            "grid_auto_columns": null,
            "grid_auto_flow": null,
            "grid_auto_rows": null,
            "grid_column": null,
            "grid_gap": null,
            "grid_row": null,
            "grid_template_areas": null,
            "grid_template_columns": null,
            "grid_template_rows": null,
            "height": null,
            "justify_content": null,
            "justify_items": null,
            "left": null,
            "margin": null,
            "max_height": null,
            "max_width": null,
            "min_height": null,
            "min_width": null,
            "object_fit": null,
            "object_position": null,
            "order": null,
            "overflow": null,
            "overflow_x": null,
            "overflow_y": null,
            "padding": null,
            "right": null,
            "top": null,
            "visibility": null,
            "width": null
          }
        },
        "d9dd93c75aff4748959ecc3b16b0a148": {
          "model_module": "@jupyter-widgets/controls",
          "model_name": "DescriptionStyleModel",
          "model_module_version": "1.5.0",
          "state": {
            "_model_module": "@jupyter-widgets/controls",
            "_model_module_version": "1.5.0",
            "_model_name": "DescriptionStyleModel",
            "_view_count": null,
            "_view_module": "@jupyter-widgets/base",
            "_view_module_version": "1.2.0",
            "_view_name": "StyleView",
            "description_width": ""
          }
        },
        "631027c0ce114042bf510100acadaef1": {
          "model_module": "@jupyter-widgets/base",
          "model_name": "LayoutModel",
          "model_module_version": "1.2.0",
          "state": {
            "_model_module": "@jupyter-widgets/base",
            "_model_module_version": "1.2.0",
            "_model_name": "LayoutModel",
            "_view_count": null,
            "_view_module": "@jupyter-widgets/base",
            "_view_module_version": "1.2.0",
            "_view_name": "LayoutView",
            "align_content": null,
            "align_items": null,
            "align_self": null,
            "border": null,
            "bottom": null,
            "display": null,
            "flex": null,
            "flex_flow": null,
            "grid_area": null,
            "grid_auto_columns": null,
            "grid_auto_flow": null,
            "grid_auto_rows": null,
            "grid_column": null,
            "grid_gap": null,
            "grid_row": null,
            "grid_template_areas": null,
            "grid_template_columns": null,
            "grid_template_rows": null,
            "height": null,
            "justify_content": null,
            "justify_items": null,
            "left": null,
            "margin": null,
            "max_height": null,
            "max_width": null,
            "min_height": null,
            "min_width": null,
            "object_fit": null,
            "object_position": null,
            "order": null,
            "overflow": null,
            "overflow_x": null,
            "overflow_y": null,
            "padding": null,
            "right": null,
            "top": null,
            "visibility": null,
            "width": null
          }
        },
        "1e5db4ceb7494035a64b003b5f8614f2": {
          "model_module": "@jupyter-widgets/controls",
          "model_name": "ProgressStyleModel",
          "model_module_version": "1.5.0",
          "state": {
            "_model_module": "@jupyter-widgets/controls",
            "_model_module_version": "1.5.0",
            "_model_name": "ProgressStyleModel",
            "_view_count": null,
            "_view_module": "@jupyter-widgets/base",
            "_view_module_version": "1.2.0",
            "_view_name": "StyleView",
            "bar_color": null,
            "description_width": ""
          }
        },
        "4a20c5bd53fb470e9103028df2f8d284": {
          "model_module": "@jupyter-widgets/controls",
          "model_name": "VBoxModel",
          "model_module_version": "1.5.0",
          "state": {
            "_dom_classes": [],
            "_model_module": "@jupyter-widgets/controls",
            "_model_module_version": "1.5.0",
            "_model_name": "VBoxModel",
            "_view_count": null,
            "_view_module": "@jupyter-widgets/controls",
            "_view_module_version": "1.5.0",
            "_view_name": "VBoxView",
            "box_style": "",
            "children": [
              "IPY_MODEL_3d01d631b73d442891e27fa9462be0e7",
              "IPY_MODEL_292f62132e9b42ae85c240199511b743"
            ],
            "layout": "IPY_MODEL_c181c2a976aa44a7904ce997379a5dc1"
          }
        },
        "3d01d631b73d442891e27fa9462be0e7": {
          "model_module": "@jupyter-widgets/controls",
          "model_name": "LabelModel",
          "model_module_version": "1.5.0",
          "state": {
            "_dom_classes": [],
            "_model_module": "@jupyter-widgets/controls",
            "_model_module_version": "1.5.0",
            "_model_name": "LabelModel",
            "_view_count": null,
            "_view_module": "@jupyter-widgets/controls",
            "_view_module_version": "1.5.0",
            "_view_name": "LabelView",
            "description": "",
            "description_tooltip": null,
            "layout": "IPY_MODEL_c941f1520037469687972af6e5204b79",
            "placeholder": "​",
            "style": "IPY_MODEL_2723ed57501f4768b6c6f225246cf800",
            "value": "0.009 MB of 0.009 MB uploaded (0.000 MB deduped)\r"
          }
        },
        "292f62132e9b42ae85c240199511b743": {
          "model_module": "@jupyter-widgets/controls",
          "model_name": "FloatProgressModel",
          "model_module_version": "1.5.0",
          "state": {
            "_dom_classes": [],
            "_model_module": "@jupyter-widgets/controls",
            "_model_module_version": "1.5.0",
            "_model_name": "FloatProgressModel",
            "_view_count": null,
            "_view_module": "@jupyter-widgets/controls",
            "_view_module_version": "1.5.0",
            "_view_name": "ProgressView",
            "bar_style": "",
            "description": "",
            "description_tooltip": null,
            "layout": "IPY_MODEL_3c7c39cb2b494bfc8f990994ce48f42b",
            "max": 1,
            "min": 0,
            "orientation": "horizontal",
            "style": "IPY_MODEL_3940f9ba10ee44ae844018e96e13a3ae",
            "value": 1
          }
        },
        "c181c2a976aa44a7904ce997379a5dc1": {
          "model_module": "@jupyter-widgets/base",
          "model_name": "LayoutModel",
          "model_module_version": "1.2.0",
          "state": {
            "_model_module": "@jupyter-widgets/base",
            "_model_module_version": "1.2.0",
            "_model_name": "LayoutModel",
            "_view_count": null,
            "_view_module": "@jupyter-widgets/base",
            "_view_module_version": "1.2.0",
            "_view_name": "LayoutView",
            "align_content": null,
            "align_items": null,
            "align_self": null,
            "border": null,
            "bottom": null,
            "display": null,
            "flex": null,
            "flex_flow": null,
            "grid_area": null,
            "grid_auto_columns": null,
            "grid_auto_flow": null,
            "grid_auto_rows": null,
            "grid_column": null,
            "grid_gap": null,
            "grid_row": null,
            "grid_template_areas": null,
            "grid_template_columns": null,
            "grid_template_rows": null,
            "height": null,
            "justify_content": null,
            "justify_items": null,
            "left": null,
            "margin": null,
            "max_height": null,
            "max_width": null,
            "min_height": null,
            "min_width": null,
            "object_fit": null,
            "object_position": null,
            "order": null,
            "overflow": null,
            "overflow_x": null,
            "overflow_y": null,
            "padding": null,
            "right": null,
            "top": null,
            "visibility": null,
            "width": null
          }
        },
        "c941f1520037469687972af6e5204b79": {
          "model_module": "@jupyter-widgets/base",
          "model_name": "LayoutModel",
          "model_module_version": "1.2.0",
          "state": {
            "_model_module": "@jupyter-widgets/base",
            "_model_module_version": "1.2.0",
            "_model_name": "LayoutModel",
            "_view_count": null,
            "_view_module": "@jupyter-widgets/base",
            "_view_module_version": "1.2.0",
            "_view_name": "LayoutView",
            "align_content": null,
            "align_items": null,
            "align_self": null,
            "border": null,
            "bottom": null,
            "display": null,
            "flex": null,
            "flex_flow": null,
            "grid_area": null,
            "grid_auto_columns": null,
            "grid_auto_flow": null,
            "grid_auto_rows": null,
            "grid_column": null,
            "grid_gap": null,
            "grid_row": null,
            "grid_template_areas": null,
            "grid_template_columns": null,
            "grid_template_rows": null,
            "height": null,
            "justify_content": null,
            "justify_items": null,
            "left": null,
            "margin": null,
            "max_height": null,
            "max_width": null,
            "min_height": null,
            "min_width": null,
            "object_fit": null,
            "object_position": null,
            "order": null,
            "overflow": null,
            "overflow_x": null,
            "overflow_y": null,
            "padding": null,
            "right": null,
            "top": null,
            "visibility": null,
            "width": null
          }
        },
        "2723ed57501f4768b6c6f225246cf800": {
          "model_module": "@jupyter-widgets/controls",
          "model_name": "DescriptionStyleModel",
          "model_module_version": "1.5.0",
          "state": {
            "_model_module": "@jupyter-widgets/controls",
            "_model_module_version": "1.5.0",
            "_model_name": "DescriptionStyleModel",
            "_view_count": null,
            "_view_module": "@jupyter-widgets/base",
            "_view_module_version": "1.2.0",
            "_view_name": "StyleView",
            "description_width": ""
          }
        },
        "3c7c39cb2b494bfc8f990994ce48f42b": {
          "model_module": "@jupyter-widgets/base",
          "model_name": "LayoutModel",
          "model_module_version": "1.2.0",
          "state": {
            "_model_module": "@jupyter-widgets/base",
            "_model_module_version": "1.2.0",
            "_model_name": "LayoutModel",
            "_view_count": null,
            "_view_module": "@jupyter-widgets/base",
            "_view_module_version": "1.2.0",
            "_view_name": "LayoutView",
            "align_content": null,
            "align_items": null,
            "align_self": null,
            "border": null,
            "bottom": null,
            "display": null,
            "flex": null,
            "flex_flow": null,
            "grid_area": null,
            "grid_auto_columns": null,
            "grid_auto_flow": null,
            "grid_auto_rows": null,
            "grid_column": null,
            "grid_gap": null,
            "grid_row": null,
            "grid_template_areas": null,
            "grid_template_columns": null,
            "grid_template_rows": null,
            "height": null,
            "justify_content": null,
            "justify_items": null,
            "left": null,
            "margin": null,
            "max_height": null,
            "max_width": null,
            "min_height": null,
            "min_width": null,
            "object_fit": null,
            "object_position": null,
            "order": null,
            "overflow": null,
            "overflow_x": null,
            "overflow_y": null,
            "padding": null,
            "right": null,
            "top": null,
            "visibility": null,
            "width": null
          }
        },
        "3940f9ba10ee44ae844018e96e13a3ae": {
          "model_module": "@jupyter-widgets/controls",
          "model_name": "ProgressStyleModel",
          "model_module_version": "1.5.0",
          "state": {
            "_model_module": "@jupyter-widgets/controls",
            "_model_module_version": "1.5.0",
            "_model_name": "ProgressStyleModel",
            "_view_count": null,
            "_view_module": "@jupyter-widgets/base",
            "_view_module_version": "1.2.0",
            "_view_name": "StyleView",
            "bar_color": null,
            "description_width": ""
          }
        },
        "b7c5f26548564c61bb37c1802c490f28": {
          "model_module": "@jupyter-widgets/controls",
          "model_name": "VBoxModel",
          "model_module_version": "1.5.0",
          "state": {
            "_dom_classes": [],
            "_model_module": "@jupyter-widgets/controls",
            "_model_module_version": "1.5.0",
            "_model_name": "VBoxModel",
            "_view_count": null,
            "_view_module": "@jupyter-widgets/controls",
            "_view_module_version": "1.5.0",
            "_view_name": "VBoxView",
            "box_style": "",
            "children": [
              "IPY_MODEL_fd30e797f465459ca85c30c63c924abd",
              "IPY_MODEL_5d12051e89984e3f9b3934fd04b6f833"
            ],
            "layout": "IPY_MODEL_8f994957a11a4bb7bb270af56e08ada8"
          }
        },
        "fd30e797f465459ca85c30c63c924abd": {
          "model_module": "@jupyter-widgets/controls",
          "model_name": "LabelModel",
          "model_module_version": "1.5.0",
          "state": {
            "_dom_classes": [],
            "_model_module": "@jupyter-widgets/controls",
            "_model_module_version": "1.5.0",
            "_model_name": "LabelModel",
            "_view_count": null,
            "_view_module": "@jupyter-widgets/controls",
            "_view_module_version": "1.5.0",
            "_view_name": "LabelView",
            "description": "",
            "description_tooltip": null,
            "layout": "IPY_MODEL_0b46a29e323c4911af1a4ebebc0fb13e",
            "placeholder": "​",
            "style": "IPY_MODEL_85c9a59e97274c87bb0d9a6fa395c6e5",
            "value": "0.009 MB of 0.009 MB uploaded (0.000 MB deduped)\r"
          }
        },
        "5d12051e89984e3f9b3934fd04b6f833": {
          "model_module": "@jupyter-widgets/controls",
          "model_name": "FloatProgressModel",
          "model_module_version": "1.5.0",
          "state": {
            "_dom_classes": [],
            "_model_module": "@jupyter-widgets/controls",
            "_model_module_version": "1.5.0",
            "_model_name": "FloatProgressModel",
            "_view_count": null,
            "_view_module": "@jupyter-widgets/controls",
            "_view_module_version": "1.5.0",
            "_view_name": "ProgressView",
            "bar_style": "",
            "description": "",
            "description_tooltip": null,
            "layout": "IPY_MODEL_f41ac8ae9c494202a64e9254b513dd9e",
            "max": 1,
            "min": 0,
            "orientation": "horizontal",
            "style": "IPY_MODEL_7032709ec80443bda681a5268db5506e",
            "value": 1
          }
        },
        "8f994957a11a4bb7bb270af56e08ada8": {
          "model_module": "@jupyter-widgets/base",
          "model_name": "LayoutModel",
          "model_module_version": "1.2.0",
          "state": {
            "_model_module": "@jupyter-widgets/base",
            "_model_module_version": "1.2.0",
            "_model_name": "LayoutModel",
            "_view_count": null,
            "_view_module": "@jupyter-widgets/base",
            "_view_module_version": "1.2.0",
            "_view_name": "LayoutView",
            "align_content": null,
            "align_items": null,
            "align_self": null,
            "border": null,
            "bottom": null,
            "display": null,
            "flex": null,
            "flex_flow": null,
            "grid_area": null,
            "grid_auto_columns": null,
            "grid_auto_flow": null,
            "grid_auto_rows": null,
            "grid_column": null,
            "grid_gap": null,
            "grid_row": null,
            "grid_template_areas": null,
            "grid_template_columns": null,
            "grid_template_rows": null,
            "height": null,
            "justify_content": null,
            "justify_items": null,
            "left": null,
            "margin": null,
            "max_height": null,
            "max_width": null,
            "min_height": null,
            "min_width": null,
            "object_fit": null,
            "object_position": null,
            "order": null,
            "overflow": null,
            "overflow_x": null,
            "overflow_y": null,
            "padding": null,
            "right": null,
            "top": null,
            "visibility": null,
            "width": null
          }
        },
        "0b46a29e323c4911af1a4ebebc0fb13e": {
          "model_module": "@jupyter-widgets/base",
          "model_name": "LayoutModel",
          "model_module_version": "1.2.0",
          "state": {
            "_model_module": "@jupyter-widgets/base",
            "_model_module_version": "1.2.0",
            "_model_name": "LayoutModel",
            "_view_count": null,
            "_view_module": "@jupyter-widgets/base",
            "_view_module_version": "1.2.0",
            "_view_name": "LayoutView",
            "align_content": null,
            "align_items": null,
            "align_self": null,
            "border": null,
            "bottom": null,
            "display": null,
            "flex": null,
            "flex_flow": null,
            "grid_area": null,
            "grid_auto_columns": null,
            "grid_auto_flow": null,
            "grid_auto_rows": null,
            "grid_column": null,
            "grid_gap": null,
            "grid_row": null,
            "grid_template_areas": null,
            "grid_template_columns": null,
            "grid_template_rows": null,
            "height": null,
            "justify_content": null,
            "justify_items": null,
            "left": null,
            "margin": null,
            "max_height": null,
            "max_width": null,
            "min_height": null,
            "min_width": null,
            "object_fit": null,
            "object_position": null,
            "order": null,
            "overflow": null,
            "overflow_x": null,
            "overflow_y": null,
            "padding": null,
            "right": null,
            "top": null,
            "visibility": null,
            "width": null
          }
        },
        "85c9a59e97274c87bb0d9a6fa395c6e5": {
          "model_module": "@jupyter-widgets/controls",
          "model_name": "DescriptionStyleModel",
          "model_module_version": "1.5.0",
          "state": {
            "_model_module": "@jupyter-widgets/controls",
            "_model_module_version": "1.5.0",
            "_model_name": "DescriptionStyleModel",
            "_view_count": null,
            "_view_module": "@jupyter-widgets/base",
            "_view_module_version": "1.2.0",
            "_view_name": "StyleView",
            "description_width": ""
          }
        },
        "f41ac8ae9c494202a64e9254b513dd9e": {
          "model_module": "@jupyter-widgets/base",
          "model_name": "LayoutModel",
          "model_module_version": "1.2.0",
          "state": {
            "_model_module": "@jupyter-widgets/base",
            "_model_module_version": "1.2.0",
            "_model_name": "LayoutModel",
            "_view_count": null,
            "_view_module": "@jupyter-widgets/base",
            "_view_module_version": "1.2.0",
            "_view_name": "LayoutView",
            "align_content": null,
            "align_items": null,
            "align_self": null,
            "border": null,
            "bottom": null,
            "display": null,
            "flex": null,
            "flex_flow": null,
            "grid_area": null,
            "grid_auto_columns": null,
            "grid_auto_flow": null,
            "grid_auto_rows": null,
            "grid_column": null,
            "grid_gap": null,
            "grid_row": null,
            "grid_template_areas": null,
            "grid_template_columns": null,
            "grid_template_rows": null,
            "height": null,
            "justify_content": null,
            "justify_items": null,
            "left": null,
            "margin": null,
            "max_height": null,
            "max_width": null,
            "min_height": null,
            "min_width": null,
            "object_fit": null,
            "object_position": null,
            "order": null,
            "overflow": null,
            "overflow_x": null,
            "overflow_y": null,
            "padding": null,
            "right": null,
            "top": null,
            "visibility": null,
            "width": null
          }
        },
        "7032709ec80443bda681a5268db5506e": {
          "model_module": "@jupyter-widgets/controls",
          "model_name": "ProgressStyleModel",
          "model_module_version": "1.5.0",
          "state": {
            "_model_module": "@jupyter-widgets/controls",
            "_model_module_version": "1.5.0",
            "_model_name": "ProgressStyleModel",
            "_view_count": null,
            "_view_module": "@jupyter-widgets/base",
            "_view_module_version": "1.2.0",
            "_view_name": "StyleView",
            "bar_color": null,
            "description_width": ""
          }
        },
        "6c0c29a7b89d4478b39cb381accaaa3c": {
          "model_module": "@jupyter-widgets/controls",
          "model_name": "VBoxModel",
          "model_module_version": "1.5.0",
          "state": {
            "_dom_classes": [],
            "_model_module": "@jupyter-widgets/controls",
            "_model_module_version": "1.5.0",
            "_model_name": "VBoxModel",
            "_view_count": null,
            "_view_module": "@jupyter-widgets/controls",
            "_view_module_version": "1.5.0",
            "_view_name": "VBoxView",
            "box_style": "",
            "children": [
              "IPY_MODEL_11fc2d2bd65941aaa42139fed4f767c3",
              "IPY_MODEL_9b3e7b157b7a4dc2bcdc285ceec8caf7"
            ],
            "layout": "IPY_MODEL_36be5ed96dde4a1e893d9fcec3c5031e"
          }
        },
        "11fc2d2bd65941aaa42139fed4f767c3": {
          "model_module": "@jupyter-widgets/controls",
          "model_name": "LabelModel",
          "model_module_version": "1.5.0",
          "state": {
            "_dom_classes": [],
            "_model_module": "@jupyter-widgets/controls",
            "_model_module_version": "1.5.0",
            "_model_name": "LabelModel",
            "_view_count": null,
            "_view_module": "@jupyter-widgets/controls",
            "_view_module_version": "1.5.0",
            "_view_name": "LabelView",
            "description": "",
            "description_tooltip": null,
            "layout": "IPY_MODEL_13818dfb1c804e8c8b35fdc72c2a361a",
            "placeholder": "​",
            "style": "IPY_MODEL_eb0dff41b5704fd89a645ec120cc4886",
            "value": "0.009 MB of 0.009 MB uploaded (0.000 MB deduped)\r"
          }
        },
        "9b3e7b157b7a4dc2bcdc285ceec8caf7": {
          "model_module": "@jupyter-widgets/controls",
          "model_name": "FloatProgressModel",
          "model_module_version": "1.5.0",
          "state": {
            "_dom_classes": [],
            "_model_module": "@jupyter-widgets/controls",
            "_model_module_version": "1.5.0",
            "_model_name": "FloatProgressModel",
            "_view_count": null,
            "_view_module": "@jupyter-widgets/controls",
            "_view_module_version": "1.5.0",
            "_view_name": "ProgressView",
            "bar_style": "",
            "description": "",
            "description_tooltip": null,
            "layout": "IPY_MODEL_401a36fb63d2493c9be05b88443fc5bc",
            "max": 1,
            "min": 0,
            "orientation": "horizontal",
            "style": "IPY_MODEL_596dc9f1bdea4423b280e830fd81390c",
            "value": 1
          }
        },
        "36be5ed96dde4a1e893d9fcec3c5031e": {
          "model_module": "@jupyter-widgets/base",
          "model_name": "LayoutModel",
          "model_module_version": "1.2.0",
          "state": {
            "_model_module": "@jupyter-widgets/base",
            "_model_module_version": "1.2.0",
            "_model_name": "LayoutModel",
            "_view_count": null,
            "_view_module": "@jupyter-widgets/base",
            "_view_module_version": "1.2.0",
            "_view_name": "LayoutView",
            "align_content": null,
            "align_items": null,
            "align_self": null,
            "border": null,
            "bottom": null,
            "display": null,
            "flex": null,
            "flex_flow": null,
            "grid_area": null,
            "grid_auto_columns": null,
            "grid_auto_flow": null,
            "grid_auto_rows": null,
            "grid_column": null,
            "grid_gap": null,
            "grid_row": null,
            "grid_template_areas": null,
            "grid_template_columns": null,
            "grid_template_rows": null,
            "height": null,
            "justify_content": null,
            "justify_items": null,
            "left": null,
            "margin": null,
            "max_height": null,
            "max_width": null,
            "min_height": null,
            "min_width": null,
            "object_fit": null,
            "object_position": null,
            "order": null,
            "overflow": null,
            "overflow_x": null,
            "overflow_y": null,
            "padding": null,
            "right": null,
            "top": null,
            "visibility": null,
            "width": null
          }
        },
        "13818dfb1c804e8c8b35fdc72c2a361a": {
          "model_module": "@jupyter-widgets/base",
          "model_name": "LayoutModel",
          "model_module_version": "1.2.0",
          "state": {
            "_model_module": "@jupyter-widgets/base",
            "_model_module_version": "1.2.0",
            "_model_name": "LayoutModel",
            "_view_count": null,
            "_view_module": "@jupyter-widgets/base",
            "_view_module_version": "1.2.0",
            "_view_name": "LayoutView",
            "align_content": null,
            "align_items": null,
            "align_self": null,
            "border": null,
            "bottom": null,
            "display": null,
            "flex": null,
            "flex_flow": null,
            "grid_area": null,
            "grid_auto_columns": null,
            "grid_auto_flow": null,
            "grid_auto_rows": null,
            "grid_column": null,
            "grid_gap": null,
            "grid_row": null,
            "grid_template_areas": null,
            "grid_template_columns": null,
            "grid_template_rows": null,
            "height": null,
            "justify_content": null,
            "justify_items": null,
            "left": null,
            "margin": null,
            "max_height": null,
            "max_width": null,
            "min_height": null,
            "min_width": null,
            "object_fit": null,
            "object_position": null,
            "order": null,
            "overflow": null,
            "overflow_x": null,
            "overflow_y": null,
            "padding": null,
            "right": null,
            "top": null,
            "visibility": null,
            "width": null
          }
        },
        "eb0dff41b5704fd89a645ec120cc4886": {
          "model_module": "@jupyter-widgets/controls",
          "model_name": "DescriptionStyleModel",
          "model_module_version": "1.5.0",
          "state": {
            "_model_module": "@jupyter-widgets/controls",
            "_model_module_version": "1.5.0",
            "_model_name": "DescriptionStyleModel",
            "_view_count": null,
            "_view_module": "@jupyter-widgets/base",
            "_view_module_version": "1.2.0",
            "_view_name": "StyleView",
            "description_width": ""
          }
        },
        "401a36fb63d2493c9be05b88443fc5bc": {
          "model_module": "@jupyter-widgets/base",
          "model_name": "LayoutModel",
          "model_module_version": "1.2.0",
          "state": {
            "_model_module": "@jupyter-widgets/base",
            "_model_module_version": "1.2.0",
            "_model_name": "LayoutModel",
            "_view_count": null,
            "_view_module": "@jupyter-widgets/base",
            "_view_module_version": "1.2.0",
            "_view_name": "LayoutView",
            "align_content": null,
            "align_items": null,
            "align_self": null,
            "border": null,
            "bottom": null,
            "display": null,
            "flex": null,
            "flex_flow": null,
            "grid_area": null,
            "grid_auto_columns": null,
            "grid_auto_flow": null,
            "grid_auto_rows": null,
            "grid_column": null,
            "grid_gap": null,
            "grid_row": null,
            "grid_template_areas": null,
            "grid_template_columns": null,
            "grid_template_rows": null,
            "height": null,
            "justify_content": null,
            "justify_items": null,
            "left": null,
            "margin": null,
            "max_height": null,
            "max_width": null,
            "min_height": null,
            "min_width": null,
            "object_fit": null,
            "object_position": null,
            "order": null,
            "overflow": null,
            "overflow_x": null,
            "overflow_y": null,
            "padding": null,
            "right": null,
            "top": null,
            "visibility": null,
            "width": null
          }
        },
        "596dc9f1bdea4423b280e830fd81390c": {
          "model_module": "@jupyter-widgets/controls",
          "model_name": "ProgressStyleModel",
          "model_module_version": "1.5.0",
          "state": {
            "_model_module": "@jupyter-widgets/controls",
            "_model_module_version": "1.5.0",
            "_model_name": "ProgressStyleModel",
            "_view_count": null,
            "_view_module": "@jupyter-widgets/base",
            "_view_module_version": "1.2.0",
            "_view_name": "StyleView",
            "bar_color": null,
            "description_width": ""
          }
        },
        "f2dce3b8280e483995f9dce2ff1a0e94": {
          "model_module": "@jupyter-widgets/controls",
          "model_name": "VBoxModel",
          "model_module_version": "1.5.0",
          "state": {
            "_dom_classes": [],
            "_model_module": "@jupyter-widgets/controls",
            "_model_module_version": "1.5.0",
            "_model_name": "VBoxModel",
            "_view_count": null,
            "_view_module": "@jupyter-widgets/controls",
            "_view_module_version": "1.5.0",
            "_view_name": "VBoxView",
            "box_style": "",
            "children": [
              "IPY_MODEL_ae178c03c1a04db0aa03b6e3160e401a",
              "IPY_MODEL_571f645b2873426896c8e0696ad46dc8"
            ],
            "layout": "IPY_MODEL_36de3fb7990e4fa192369dd12385acc1"
          }
        },
        "ae178c03c1a04db0aa03b6e3160e401a": {
          "model_module": "@jupyter-widgets/controls",
          "model_name": "LabelModel",
          "model_module_version": "1.5.0",
          "state": {
            "_dom_classes": [],
            "_model_module": "@jupyter-widgets/controls",
            "_model_module_version": "1.5.0",
            "_model_name": "LabelModel",
            "_view_count": null,
            "_view_module": "@jupyter-widgets/controls",
            "_view_module_version": "1.5.0",
            "_view_name": "LabelView",
            "description": "",
            "description_tooltip": null,
            "layout": "IPY_MODEL_68780cdec6de47f78fe9356ab5ad6c94",
            "placeholder": "​",
            "style": "IPY_MODEL_a7a6758b6d574288a847b3f261c2beb7",
            "value": "0.009 MB of 0.009 MB uploaded (0.000 MB deduped)\r"
          }
        },
        "571f645b2873426896c8e0696ad46dc8": {
          "model_module": "@jupyter-widgets/controls",
          "model_name": "FloatProgressModel",
          "model_module_version": "1.5.0",
          "state": {
            "_dom_classes": [],
            "_model_module": "@jupyter-widgets/controls",
            "_model_module_version": "1.5.0",
            "_model_name": "FloatProgressModel",
            "_view_count": null,
            "_view_module": "@jupyter-widgets/controls",
            "_view_module_version": "1.5.0",
            "_view_name": "ProgressView",
            "bar_style": "",
            "description": "",
            "description_tooltip": null,
            "layout": "IPY_MODEL_e12c5061b24e407f88b6abd99e99d405",
            "max": 1,
            "min": 0,
            "orientation": "horizontal",
            "style": "IPY_MODEL_58ffbc0f93f64e16ab09694a865102c7",
            "value": 1
          }
        },
        "36de3fb7990e4fa192369dd12385acc1": {
          "model_module": "@jupyter-widgets/base",
          "model_name": "LayoutModel",
          "model_module_version": "1.2.0",
          "state": {
            "_model_module": "@jupyter-widgets/base",
            "_model_module_version": "1.2.0",
            "_model_name": "LayoutModel",
            "_view_count": null,
            "_view_module": "@jupyter-widgets/base",
            "_view_module_version": "1.2.0",
            "_view_name": "LayoutView",
            "align_content": null,
            "align_items": null,
            "align_self": null,
            "border": null,
            "bottom": null,
            "display": null,
            "flex": null,
            "flex_flow": null,
            "grid_area": null,
            "grid_auto_columns": null,
            "grid_auto_flow": null,
            "grid_auto_rows": null,
            "grid_column": null,
            "grid_gap": null,
            "grid_row": null,
            "grid_template_areas": null,
            "grid_template_columns": null,
            "grid_template_rows": null,
            "height": null,
            "justify_content": null,
            "justify_items": null,
            "left": null,
            "margin": null,
            "max_height": null,
            "max_width": null,
            "min_height": null,
            "min_width": null,
            "object_fit": null,
            "object_position": null,
            "order": null,
            "overflow": null,
            "overflow_x": null,
            "overflow_y": null,
            "padding": null,
            "right": null,
            "top": null,
            "visibility": null,
            "width": null
          }
        },
        "68780cdec6de47f78fe9356ab5ad6c94": {
          "model_module": "@jupyter-widgets/base",
          "model_name": "LayoutModel",
          "model_module_version": "1.2.0",
          "state": {
            "_model_module": "@jupyter-widgets/base",
            "_model_module_version": "1.2.0",
            "_model_name": "LayoutModel",
            "_view_count": null,
            "_view_module": "@jupyter-widgets/base",
            "_view_module_version": "1.2.0",
            "_view_name": "LayoutView",
            "align_content": null,
            "align_items": null,
            "align_self": null,
            "border": null,
            "bottom": null,
            "display": null,
            "flex": null,
            "flex_flow": null,
            "grid_area": null,
            "grid_auto_columns": null,
            "grid_auto_flow": null,
            "grid_auto_rows": null,
            "grid_column": null,
            "grid_gap": null,
            "grid_row": null,
            "grid_template_areas": null,
            "grid_template_columns": null,
            "grid_template_rows": null,
            "height": null,
            "justify_content": null,
            "justify_items": null,
            "left": null,
            "margin": null,
            "max_height": null,
            "max_width": null,
            "min_height": null,
            "min_width": null,
            "object_fit": null,
            "object_position": null,
            "order": null,
            "overflow": null,
            "overflow_x": null,
            "overflow_y": null,
            "padding": null,
            "right": null,
            "top": null,
            "visibility": null,
            "width": null
          }
        },
        "a7a6758b6d574288a847b3f261c2beb7": {
          "model_module": "@jupyter-widgets/controls",
          "model_name": "DescriptionStyleModel",
          "model_module_version": "1.5.0",
          "state": {
            "_model_module": "@jupyter-widgets/controls",
            "_model_module_version": "1.5.0",
            "_model_name": "DescriptionStyleModel",
            "_view_count": null,
            "_view_module": "@jupyter-widgets/base",
            "_view_module_version": "1.2.0",
            "_view_name": "StyleView",
            "description_width": ""
          }
        },
        "e12c5061b24e407f88b6abd99e99d405": {
          "model_module": "@jupyter-widgets/base",
          "model_name": "LayoutModel",
          "model_module_version": "1.2.0",
          "state": {
            "_model_module": "@jupyter-widgets/base",
            "_model_module_version": "1.2.0",
            "_model_name": "LayoutModel",
            "_view_count": null,
            "_view_module": "@jupyter-widgets/base",
            "_view_module_version": "1.2.0",
            "_view_name": "LayoutView",
            "align_content": null,
            "align_items": null,
            "align_self": null,
            "border": null,
            "bottom": null,
            "display": null,
            "flex": null,
            "flex_flow": null,
            "grid_area": null,
            "grid_auto_columns": null,
            "grid_auto_flow": null,
            "grid_auto_rows": null,
            "grid_column": null,
            "grid_gap": null,
            "grid_row": null,
            "grid_template_areas": null,
            "grid_template_columns": null,
            "grid_template_rows": null,
            "height": null,
            "justify_content": null,
            "justify_items": null,
            "left": null,
            "margin": null,
            "max_height": null,
            "max_width": null,
            "min_height": null,
            "min_width": null,
            "object_fit": null,
            "object_position": null,
            "order": null,
            "overflow": null,
            "overflow_x": null,
            "overflow_y": null,
            "padding": null,
            "right": null,
            "top": null,
            "visibility": null,
            "width": null
          }
        },
        "58ffbc0f93f64e16ab09694a865102c7": {
          "model_module": "@jupyter-widgets/controls",
          "model_name": "ProgressStyleModel",
          "model_module_version": "1.5.0",
          "state": {
            "_model_module": "@jupyter-widgets/controls",
            "_model_module_version": "1.5.0",
            "_model_name": "ProgressStyleModel",
            "_view_count": null,
            "_view_module": "@jupyter-widgets/base",
            "_view_module_version": "1.2.0",
            "_view_name": "StyleView",
            "bar_color": null,
            "description_width": ""
          }
        },
        "8c1aecb938ca440994ea025cf13c81a5": {
          "model_module": "@jupyter-widgets/controls",
          "model_name": "VBoxModel",
          "model_module_version": "1.5.0",
          "state": {
            "_dom_classes": [],
            "_model_module": "@jupyter-widgets/controls",
            "_model_module_version": "1.5.0",
            "_model_name": "VBoxModel",
            "_view_count": null,
            "_view_module": "@jupyter-widgets/controls",
            "_view_module_version": "1.5.0",
            "_view_name": "VBoxView",
            "box_style": "",
            "children": [
              "IPY_MODEL_e1fe490c64974c268bd2a0d51f3dd805",
              "IPY_MODEL_3f9077a7e3d944d69fd348bd40707979"
            ],
            "layout": "IPY_MODEL_96c2503eed264ab9896caf9880f84459"
          }
        },
        "e1fe490c64974c268bd2a0d51f3dd805": {
          "model_module": "@jupyter-widgets/controls",
          "model_name": "LabelModel",
          "model_module_version": "1.5.0",
          "state": {
            "_dom_classes": [],
            "_model_module": "@jupyter-widgets/controls",
            "_model_module_version": "1.5.0",
            "_model_name": "LabelModel",
            "_view_count": null,
            "_view_module": "@jupyter-widgets/controls",
            "_view_module_version": "1.5.0",
            "_view_name": "LabelView",
            "description": "",
            "description_tooltip": null,
            "layout": "IPY_MODEL_6fc5f773ea3945809685033239c445d4",
            "placeholder": "​",
            "style": "IPY_MODEL_ac9d467403cc4a1294742434ec24e67f",
            "value": "0.009 MB of 0.009 MB uploaded (0.000 MB deduped)\r"
          }
        },
        "3f9077a7e3d944d69fd348bd40707979": {
          "model_module": "@jupyter-widgets/controls",
          "model_name": "FloatProgressModel",
          "model_module_version": "1.5.0",
          "state": {
            "_dom_classes": [],
            "_model_module": "@jupyter-widgets/controls",
            "_model_module_version": "1.5.0",
            "_model_name": "FloatProgressModel",
            "_view_count": null,
            "_view_module": "@jupyter-widgets/controls",
            "_view_module_version": "1.5.0",
            "_view_name": "ProgressView",
            "bar_style": "",
            "description": "",
            "description_tooltip": null,
            "layout": "IPY_MODEL_0f6bf0acaca24039acb07953793c73af",
            "max": 1,
            "min": 0,
            "orientation": "horizontal",
            "style": "IPY_MODEL_b55186de79664eaaa617d0c999ed10d7",
            "value": 1
          }
        },
        "96c2503eed264ab9896caf9880f84459": {
          "model_module": "@jupyter-widgets/base",
          "model_name": "LayoutModel",
          "model_module_version": "1.2.0",
          "state": {
            "_model_module": "@jupyter-widgets/base",
            "_model_module_version": "1.2.0",
            "_model_name": "LayoutModel",
            "_view_count": null,
            "_view_module": "@jupyter-widgets/base",
            "_view_module_version": "1.2.0",
            "_view_name": "LayoutView",
            "align_content": null,
            "align_items": null,
            "align_self": null,
            "border": null,
            "bottom": null,
            "display": null,
            "flex": null,
            "flex_flow": null,
            "grid_area": null,
            "grid_auto_columns": null,
            "grid_auto_flow": null,
            "grid_auto_rows": null,
            "grid_column": null,
            "grid_gap": null,
            "grid_row": null,
            "grid_template_areas": null,
            "grid_template_columns": null,
            "grid_template_rows": null,
            "height": null,
            "justify_content": null,
            "justify_items": null,
            "left": null,
            "margin": null,
            "max_height": null,
            "max_width": null,
            "min_height": null,
            "min_width": null,
            "object_fit": null,
            "object_position": null,
            "order": null,
            "overflow": null,
            "overflow_x": null,
            "overflow_y": null,
            "padding": null,
            "right": null,
            "top": null,
            "visibility": null,
            "width": null
          }
        },
        "6fc5f773ea3945809685033239c445d4": {
          "model_module": "@jupyter-widgets/base",
          "model_name": "LayoutModel",
          "model_module_version": "1.2.0",
          "state": {
            "_model_module": "@jupyter-widgets/base",
            "_model_module_version": "1.2.0",
            "_model_name": "LayoutModel",
            "_view_count": null,
            "_view_module": "@jupyter-widgets/base",
            "_view_module_version": "1.2.0",
            "_view_name": "LayoutView",
            "align_content": null,
            "align_items": null,
            "align_self": null,
            "border": null,
            "bottom": null,
            "display": null,
            "flex": null,
            "flex_flow": null,
            "grid_area": null,
            "grid_auto_columns": null,
            "grid_auto_flow": null,
            "grid_auto_rows": null,
            "grid_column": null,
            "grid_gap": null,
            "grid_row": null,
            "grid_template_areas": null,
            "grid_template_columns": null,
            "grid_template_rows": null,
            "height": null,
            "justify_content": null,
            "justify_items": null,
            "left": null,
            "margin": null,
            "max_height": null,
            "max_width": null,
            "min_height": null,
            "min_width": null,
            "object_fit": null,
            "object_position": null,
            "order": null,
            "overflow": null,
            "overflow_x": null,
            "overflow_y": null,
            "padding": null,
            "right": null,
            "top": null,
            "visibility": null,
            "width": null
          }
        },
        "ac9d467403cc4a1294742434ec24e67f": {
          "model_module": "@jupyter-widgets/controls",
          "model_name": "DescriptionStyleModel",
          "model_module_version": "1.5.0",
          "state": {
            "_model_module": "@jupyter-widgets/controls",
            "_model_module_version": "1.5.0",
            "_model_name": "DescriptionStyleModel",
            "_view_count": null,
            "_view_module": "@jupyter-widgets/base",
            "_view_module_version": "1.2.0",
            "_view_name": "StyleView",
            "description_width": ""
          }
        },
        "0f6bf0acaca24039acb07953793c73af": {
          "model_module": "@jupyter-widgets/base",
          "model_name": "LayoutModel",
          "model_module_version": "1.2.0",
          "state": {
            "_model_module": "@jupyter-widgets/base",
            "_model_module_version": "1.2.0",
            "_model_name": "LayoutModel",
            "_view_count": null,
            "_view_module": "@jupyter-widgets/base",
            "_view_module_version": "1.2.0",
            "_view_name": "LayoutView",
            "align_content": null,
            "align_items": null,
            "align_self": null,
            "border": null,
            "bottom": null,
            "display": null,
            "flex": null,
            "flex_flow": null,
            "grid_area": null,
            "grid_auto_columns": null,
            "grid_auto_flow": null,
            "grid_auto_rows": null,
            "grid_column": null,
            "grid_gap": null,
            "grid_row": null,
            "grid_template_areas": null,
            "grid_template_columns": null,
            "grid_template_rows": null,
            "height": null,
            "justify_content": null,
            "justify_items": null,
            "left": null,
            "margin": null,
            "max_height": null,
            "max_width": null,
            "min_height": null,
            "min_width": null,
            "object_fit": null,
            "object_position": null,
            "order": null,
            "overflow": null,
            "overflow_x": null,
            "overflow_y": null,
            "padding": null,
            "right": null,
            "top": null,
            "visibility": null,
            "width": null
          }
        },
        "b55186de79664eaaa617d0c999ed10d7": {
          "model_module": "@jupyter-widgets/controls",
          "model_name": "ProgressStyleModel",
          "model_module_version": "1.5.0",
          "state": {
            "_model_module": "@jupyter-widgets/controls",
            "_model_module_version": "1.5.0",
            "_model_name": "ProgressStyleModel",
            "_view_count": null,
            "_view_module": "@jupyter-widgets/base",
            "_view_module_version": "1.2.0",
            "_view_name": "StyleView",
            "bar_color": null,
            "description_width": ""
          }
        }
      }
    },
    "accelerator": "GPU"
  },
  "cells": [
    {
      "cell_type": "code",
      "metadata": {
        "colab": {
          "base_uri": "https://localhost:8080/"
        },
        "id": "yehwNfS7iMel",
        "outputId": "db79877a-b5e0-4f99-e37c-424f47c1b3e3"
      },
      "source": [
        "from google.colab import drive\n",
        "drive.mount('/content/drive')"
      ],
      "execution_count": 1,
      "outputs": [
        {
          "output_type": "stream",
          "name": "stdout",
          "text": [
            "Drive already mounted at /content/drive; to attempt to forcibly remount, call drive.mount(\"/content/drive\", force_remount=True).\n"
          ]
        }
      ]
    },
    {
      "cell_type": "code",
      "metadata": {
        "id": "QiDt6t63mSq4",
        "colab": {
          "base_uri": "https://localhost:8080/"
        },
        "outputId": "621ded6f-37bb-475a-c563-b909a62728a4"
      },
      "source": [
        "!pip install wandb --upgrade\n",
        "import wandb\n",
        "import pathlib\n",
        "import numpy as np\n",
        "import tensorflow as tf\n",
        "from tensorflow.keras.preprocessing import image_dataset_from_directory\n",
        "from tensorflow.keras.preprocessing.image import ImageDataGenerator\n",
        "from tensorflow.keras import layers\n",
        "from tensorflow.keras.layers.experimental.preprocessing import Rescaling\n",
        "from PIL import Image"
      ],
      "execution_count": 2,
      "outputs": [
        {
          "output_type": "stream",
          "name": "stdout",
          "text": [
            "Requirement already satisfied: wandb in /usr/local/lib/python3.7/dist-packages (0.12.13)\n",
            "Requirement already satisfied: PyYAML in /usr/local/lib/python3.7/dist-packages (from wandb) (3.13)\n",
            "Requirement already satisfied: docker-pycreds>=0.4.0 in /usr/local/lib/python3.7/dist-packages (from wandb) (0.4.0)\n",
            "Requirement already satisfied: GitPython>=1.0.0 in /usr/local/lib/python3.7/dist-packages (from wandb) (3.1.27)\n",
            "Requirement already satisfied: six>=1.13.0 in /usr/local/lib/python3.7/dist-packages (from wandb) (1.15.0)\n",
            "Requirement already satisfied: psutil>=5.0.0 in /usr/local/lib/python3.7/dist-packages (from wandb) (5.4.8)\n",
            "Requirement already satisfied: pathtools in /usr/local/lib/python3.7/dist-packages (from wandb) (0.1.2)\n",
            "Requirement already satisfied: shortuuid>=0.5.0 in /usr/local/lib/python3.7/dist-packages (from wandb) (1.0.8)\n",
            "Requirement already satisfied: protobuf>=3.12.0 in /usr/local/lib/python3.7/dist-packages (from wandb) (3.17.3)\n",
            "Requirement already satisfied: sentry-sdk>=1.0.0 in /usr/local/lib/python3.7/dist-packages (from wandb) (1.5.8)\n",
            "Requirement already satisfied: requests<3,>=2.0.0 in /usr/local/lib/python3.7/dist-packages (from wandb) (2.23.0)\n",
            "Requirement already satisfied: python-dateutil>=2.6.1 in /usr/local/lib/python3.7/dist-packages (from wandb) (2.8.2)\n",
            "Requirement already satisfied: Click!=8.0.0,>=7.0 in /usr/local/lib/python3.7/dist-packages (from wandb) (7.1.2)\n",
            "Requirement already satisfied: setproctitle in /usr/local/lib/python3.7/dist-packages (from wandb) (1.2.2)\n",
            "Requirement already satisfied: promise<3,>=2.0 in /usr/local/lib/python3.7/dist-packages (from wandb) (2.3)\n",
            "Requirement already satisfied: typing-extensions>=3.7.4.3 in /usr/local/lib/python3.7/dist-packages (from GitPython>=1.0.0->wandb) (3.10.0.2)\n",
            "Requirement already satisfied: gitdb<5,>=4.0.1 in /usr/local/lib/python3.7/dist-packages (from GitPython>=1.0.0->wandb) (4.0.9)\n",
            "Requirement already satisfied: smmap<6,>=3.0.1 in /usr/local/lib/python3.7/dist-packages (from gitdb<5,>=4.0.1->GitPython>=1.0.0->wandb) (5.0.0)\n",
            "Requirement already satisfied: certifi>=2017.4.17 in /usr/local/lib/python3.7/dist-packages (from requests<3,>=2.0.0->wandb) (2021.10.8)\n",
            "Requirement already satisfied: chardet<4,>=3.0.2 in /usr/local/lib/python3.7/dist-packages (from requests<3,>=2.0.0->wandb) (3.0.4)\n",
            "Requirement already satisfied: idna<3,>=2.5 in /usr/local/lib/python3.7/dist-packages (from requests<3,>=2.0.0->wandb) (2.10)\n",
            "Requirement already satisfied: urllib3!=1.25.0,!=1.25.1,<1.26,>=1.21.1 in /usr/local/lib/python3.7/dist-packages (from requests<3,>=2.0.0->wandb) (1.24.3)\n"
          ]
        }
      ]
    },
    {
      "cell_type": "code",
      "metadata": {
        "id": "Kr967AwfdOnf",
        "colab": {
          "base_uri": "https://localhost:8080/"
        },
        "outputId": "1d0537b3-f2cc-4dd2-cc04-93e3a0868a10"
      },
      "source": [
        "################################################################\n",
        "# Preparing training (without augmentation) and validation set \n",
        "################################################################\n",
        "# Preparing training and validation sets without augmentation\n",
        "# Loading data from directory\n",
        "data_dir = pathlib.Path('/content/drive/MyDrive/inaturalist_12K/train') # Set path to the right directory\n",
        "train_data = tf.keras.preprocessing.image_dataset_from_directory(\n",
        "                      directory = data_dir,\n",
        "                      labels = 'inferred',  \n",
        "                      label_mode = 'categorical',\n",
        "                      color_mode = 'rgb',\n",
        "                      batch_size = 32,\n",
        "                      image_size = (256, 256),\n",
        "                      shuffle = True,\n",
        "                      seed = 17,\n",
        "                      validation_split = 0.2,\n",
        "                      subset = 'training')\n",
        "\n",
        "val_data = tf.keras.preprocessing.image_dataset_from_directory(\n",
        "                      directory = data_dir,\n",
        "                      labels = 'inferred',  \n",
        "                      label_mode = 'categorical',\n",
        "                      color_mode = 'rgb',\n",
        "                      batch_size = 32,\n",
        "                      image_size = (256, 256),\n",
        "                      shuffle = True,\n",
        "                      seed = 17,\n",
        "                      validation_split = 0.2,\n",
        "                      subset = 'validation')\n",
        "\n",
        "# Retaining 25 percent of train and validation data and discarding the rest\n",
        "len_train, len_val = len(train_data), len(val_data)\n",
        "train_data = train_data.take(int(0.25*len_train))\n",
        "val_data = val_data.take(int(0.25*len_val))"
      ],
      "execution_count": 3,
      "outputs": [
        {
          "output_type": "stream",
          "name": "stdout",
          "text": [
            "Found 10000 files belonging to 10 classes.\n",
            "Using 8000 files for training.\n",
            "Found 10000 files belonging to 10 classes.\n",
            "Using 2000 files for validation.\n"
          ]
        }
      ]
    },
    {
      "cell_type": "code",
      "metadata": {
        "colab": {
          "base_uri": "https://localhost:8080/"
        },
        "id": "wS_FwUfhyxYL",
        "outputId": "3fc1ae19-529d-466d-e390-bb906c200284"
      },
      "source": [
        "train_data"
      ],
      "execution_count": 4,
      "outputs": [
        {
          "output_type": "execute_result",
          "data": {
            "text/plain": [
              "<TakeDataset element_spec=(TensorSpec(shape=(None, 256, 256, 3), dtype=tf.float32, name=None), TensorSpec(shape=(None, 10), dtype=tf.float32, name=None))>"
            ]
          },
          "metadata": {},
          "execution_count": 4
        }
      ]
    },
    {
      "cell_type": "code",
      "metadata": {
        "id": "vbdra0Y50WR4",
        "colab": {
          "base_uri": "https://localhost:8080/"
        },
        "outputId": "5e5caa3a-c6d7-4570-fec9-cda54f43acd6"
      },
      "source": [
        "################################################################\n",
        "# Preparing training set with augmentation \n",
        "################################################################\n",
        "train_data_augmenter = ImageDataGenerator(\n",
        "                            rescale = None,\n",
        "                            rotation_range = 20,\n",
        "                            width_shift_range = 0.2,\n",
        "                            height_shift_range = 0.2,\n",
        "                            brightness_range = [0.2, 1.5],\n",
        "                            shear_range = 0.2,\n",
        "                            zoom_range = 0.2,\n",
        "                            horizontal_flip=True,\n",
        "                            data_format = 'channels_last',\n",
        "                            validation_split = 0.2)        #Specifying parameters for augmentation of training data\n",
        "\n",
        "val_data_augmenter = ImageDataGenerator(validation_split = 0.2) #No augmentation of validation data\n",
        "\n",
        "train_aug_gen = train_data_augmenter.flow_from_directory(data_dir, shuffle = True, \\\n",
        "                                                         seed = 17, subset = 'training')\n",
        "val_aug_gen = val_data_augmenter.flow_from_directory(data_dir, shuffle = True, \\\n",
        "                                                     seed = 17, subset = 'validation')\n",
        "\n",
        "train_aug_data = tf.data.Dataset.from_generator(\n",
        "                    lambda: train_aug_gen,\n",
        "                    output_types = (tf.float32, tf.float32),\n",
        "                    output_shapes = ([None, 256, 256, 3], [None, 10]))\n",
        "\n",
        "val_aug_data = tf.data.Dataset.from_generator(\n",
        "                  lambda: val_aug_gen,\n",
        "                  output_types = (tf.float32, tf.float32),\n",
        "                  output_shapes = ([None, 256, 256, 3], [None, 10]))\n",
        "\n",
        "# Retaining 25 percent of train and validation data and discarding the rest\n",
        "train_aug_data = train_aug_data.take(int(0.25*len_train))\n",
        "val_aug_data = val_aug_data.take(int(0.25*len_val))"
      ],
      "execution_count": 5,
      "outputs": [
        {
          "output_type": "stream",
          "name": "stdout",
          "text": [
            "Found 8000 images belonging to 10 classes.\n",
            "Found 2000 images belonging to 10 classes.\n"
          ]
        }
      ]
    },
    {
      "cell_type": "code",
      "metadata": {
        "colab": {
          "base_uri": "https://localhost:8080/"
        },
        "id": "nZ4NkZnz9dmN",
        "outputId": "a69d39c5-3bd9-4ac6-ccfd-811bc59d9df8"
      },
      "source": [
        "train_aug_data"
      ],
      "execution_count": 6,
      "outputs": [
        {
          "output_type": "execute_result",
          "data": {
            "text/plain": [
              "<TakeDataset element_spec=(TensorSpec(shape=(None, 256, 256, 3), dtype=tf.float32, name=None), TensorSpec(shape=(None, 10), dtype=tf.float32, name=None))>"
            ]
          },
          "metadata": {},
          "execution_count": 6
        }
      ]
    },
    {
      "cell_type": "code",
      "metadata": {
        "id": "UgP-LJ1mjgUs"
      },
      "source": [
        "###############################################\n",
        "# Listing the hyperparameters in wandb config \n",
        "###############################################\n",
        "sweep_config = {'name': 'Bayesian Sweep', 'method': 'bayes'}\n",
        "sweep_config['metric'] = {'name': 'val_acc', 'goal': 'maximize'}\n",
        "parameters_dict = {\n",
        "                   'first_layer_filters': {'values': [32, 64]},\n",
        "                   'filter_org': {'values': [0.5, 1, 2]}, # Halving, same, doubling in subsequent layers\n",
        "                   'data_aug': {'values': [False, True]},\n",
        "                   'batch_norm': {'values': [False, True]}, \n",
        "                   'dropout': {'values': [0.0, 0.2, 0.3]},\n",
        "                   'kernel_size': {'values': [3, 5, 7]},\n",
        "                   'dense_size': {'values': [64,512,1024]},\n",
        "                   'activation': {'values': ['relu']},\n",
        "                   'num_epochs': {'values': [10,15,20]}, \n",
        "                   'optimizer': {'values': ['adam']},\n",
        "                   'conv_layers': {'values': [5]}\n",
        "                  }\n",
        "sweep_config['parameters'] = parameters_dict\n"
      ],
      "execution_count": 7,
      "outputs": []
    },
    {
      "cell_type": "code",
      "metadata": {
        "id": "LxqYVwhDjrhp"
      },
      "source": [
        "#####################################\n",
        "# Defining the train function\n",
        "#####################################\n",
        "def CNN_train(config=sweep_config):\n",
        "    with wandb.init(config=config):\n",
        "        config = wandb.init().config\n",
        "        wandb.run.name = 'firstLayerFilters_{}_filterOrg_{}_dataAug_{}_batchNorm_{}_dropout_{}_kerSize_{}_denseSize_{}'\\\n",
        "                         .format(config.first_layer_filters, config.filter_org, config.data_aug, config.batch_norm, config.dropout, config.kernel_size, config.dense_size)\n",
        "        \n",
        "        ###########################################\n",
        "        # Initializing the model architecture\n",
        "        ###########################################\n",
        "        inputs = tf.keras.Input(shape = (256, 256, 3))\n",
        "        x = Rescaling(scale = 1.0/255)(inputs)\n",
        "        filter_sizes = [int(config.first_layer_filters*(config.filter_org**layer_num)) for layer_num in range(config.conv_layers)]\n",
        "        ker_size = config.kernel_size\n",
        "\n",
        "        # Apply some convolution and pooling layers\n",
        "        for layer_num in range(config.conv_layers):\n",
        "            x = layers.Conv2D(filters = filter_sizes[layer_num], kernel_size = (ker_size, ker_size))(x)\n",
        "            if config.batch_norm:\n",
        "                x = layers.BatchNormalization(axis = -1)(x)\n",
        "            x = layers.Activation(config.activation)(x)\n",
        "            x = layers.MaxPooling2D(pool_size = (2, 2))(x)            \n",
        "                \n",
        "        # Dense Layer\n",
        "        x = layers.Flatten()(x)\n",
        "        x = layers.Dense(config.dense_size)(x)\n",
        "        if config.batch_norm:\n",
        "            x = layers.BatchNormalization(axis = -1)(x)\n",
        "        x = layers.Activation(config.activation)(x)\n",
        "        if config.dropout > 0:\n",
        "            x = layers.Dropout(rate = config.dropout)(x)        \n",
        "\n",
        "        # Output Layer\n",
        "        outputs = layers.Dense(10, activation ='softmax')(x)\n",
        "        model = tf.keras.Model(inputs = inputs, outputs = outputs)\n",
        "        #print(model.summary())\n",
        "        ####################################\n",
        "        # Training and evaluating the model\n",
        "        ####################################\n",
        "        # Using training data with or without augmentation\n",
        "        sweep_train_data = train_aug_data if config.data_aug else train_data\n",
        "        sweep_val_data = val_aug_data if config.data_aug else val_data # In any case, validation data is not augmented\n",
        "        \n",
        "        model.compile(optimizer=config.optimizer,\n",
        "                      loss = tf.keras.losses.CategoricalCrossentropy(name = 'loss'),\n",
        "                      metrics = [tf.keras.metrics.CategoricalAccuracy(name = 'acc')])\n",
        "        \n",
        "        # Fitting the model and logging metrics (train_loss, train_acc, val_loss, val_acc) after every epoch\n",
        "        model_hist = model.fit(sweep_train_data, epochs = config.num_epochs,\n",
        "                               validation_data = sweep_val_data, \n",
        "                               callbacks = [tf.keras.callbacks.EarlyStopping(monitor = 'val_acc', patience = 5),\n",
        "                                            wandb.keras.WandbCallback()])"
      ],
      "execution_count": 8,
      "outputs": []
    },
    {
      "cell_type": "code",
      "source": [
        "pip install wandb"
      ],
      "metadata": {
        "colab": {
          "base_uri": "https://localhost:8080/"
        },
        "id": "DO49hA_UPWbE",
        "outputId": "d21b2fc2-0fcc-4d63-9fc0-13fcb3792bbd"
      },
      "execution_count": 9,
      "outputs": [
        {
          "output_type": "stream",
          "name": "stdout",
          "text": [
            "Requirement already satisfied: wandb in /usr/local/lib/python3.7/dist-packages (0.12.13)\n",
            "Requirement already satisfied: docker-pycreds>=0.4.0 in /usr/local/lib/python3.7/dist-packages (from wandb) (0.4.0)\n",
            "Requirement already satisfied: promise<3,>=2.0 in /usr/local/lib/python3.7/dist-packages (from wandb) (2.3)\n",
            "Requirement already satisfied: setproctitle in /usr/local/lib/python3.7/dist-packages (from wandb) (1.2.2)\n",
            "Requirement already satisfied: PyYAML in /usr/local/lib/python3.7/dist-packages (from wandb) (3.13)\n",
            "Requirement already satisfied: psutil>=5.0.0 in /usr/local/lib/python3.7/dist-packages (from wandb) (5.4.8)\n",
            "Requirement already satisfied: shortuuid>=0.5.0 in /usr/local/lib/python3.7/dist-packages (from wandb) (1.0.8)\n",
            "Requirement already satisfied: six>=1.13.0 in /usr/local/lib/python3.7/dist-packages (from wandb) (1.15.0)\n",
            "Requirement already satisfied: protobuf>=3.12.0 in /usr/local/lib/python3.7/dist-packages (from wandb) (3.17.3)\n",
            "Requirement already satisfied: pathtools in /usr/local/lib/python3.7/dist-packages (from wandb) (0.1.2)\n",
            "Requirement already satisfied: Click!=8.0.0,>=7.0 in /usr/local/lib/python3.7/dist-packages (from wandb) (7.1.2)\n",
            "Requirement already satisfied: requests<3,>=2.0.0 in /usr/local/lib/python3.7/dist-packages (from wandb) (2.23.0)\n",
            "Requirement already satisfied: sentry-sdk>=1.0.0 in /usr/local/lib/python3.7/dist-packages (from wandb) (1.5.8)\n",
            "Requirement already satisfied: python-dateutil>=2.6.1 in /usr/local/lib/python3.7/dist-packages (from wandb) (2.8.2)\n",
            "Requirement already satisfied: GitPython>=1.0.0 in /usr/local/lib/python3.7/dist-packages (from wandb) (3.1.27)\n",
            "Requirement already satisfied: gitdb<5,>=4.0.1 in /usr/local/lib/python3.7/dist-packages (from GitPython>=1.0.0->wandb) (4.0.9)\n",
            "Requirement already satisfied: typing-extensions>=3.7.4.3 in /usr/local/lib/python3.7/dist-packages (from GitPython>=1.0.0->wandb) (3.10.0.2)\n",
            "Requirement already satisfied: smmap<6,>=3.0.1 in /usr/local/lib/python3.7/dist-packages (from gitdb<5,>=4.0.1->GitPython>=1.0.0->wandb) (5.0.0)\n",
            "Requirement already satisfied: certifi>=2017.4.17 in /usr/local/lib/python3.7/dist-packages (from requests<3,>=2.0.0->wandb) (2021.10.8)\n",
            "Requirement already satisfied: idna<3,>=2.5 in /usr/local/lib/python3.7/dist-packages (from requests<3,>=2.0.0->wandb) (2.10)\n",
            "Requirement already satisfied: urllib3!=1.25.0,!=1.25.1,<1.26,>=1.21.1 in /usr/local/lib/python3.7/dist-packages (from requests<3,>=2.0.0->wandb) (1.24.3)\n",
            "Requirement already satisfied: chardet<4,>=3.0.2 in /usr/local/lib/python3.7/dist-packages (from requests<3,>=2.0.0->wandb) (3.0.4)\n"
          ]
        }
      ]
    },
    {
      "cell_type": "code",
      "source": [
        "wandb.login()\n"
      ],
      "metadata": {
        "colab": {
          "base_uri": "https://localhost:8080/"
        },
        "id": "WyKMXquJRrnw",
        "outputId": "b63c11ff-d628-4059-fa40-9807931a5fcd"
      },
      "execution_count": 10,
      "outputs": [
        {
          "output_type": "stream",
          "name": "stderr",
          "text": [
            "\u001b[34m\u001b[1mwandb\u001b[0m: Currently logged in as: \u001b[33mgo4rav\u001b[0m (use `wandb login --relogin` to force relogin)\n"
          ]
        },
        {
          "output_type": "execute_result",
          "data": {
            "text/plain": [
              "True"
            ]
          },
          "metadata": {},
          "execution_count": 10
        }
      ]
    },
    {
      "cell_type": "code",
      "source": [
        "import wandb\n",
        "from wandb.keras import WandbCallback\n",
        "\n",
        "wandb.init(project=\"CS6910 Assignment2\", entity=\"go4rav\")"
      ],
      "metadata": {
        "colab": {
          "base_uri": "https://localhost:8080/",
          "height": 91
        },
        "id": "EOZshQK3R9_i",
        "outputId": "e7aff649-cc41-41b7-a41c-c592168e85ae"
      },
      "execution_count": 11,
      "outputs": [
        {
          "output_type": "display_data",
          "data": {
            "text/plain": [
              "<IPython.core.display.HTML object>"
            ],
            "text/html": [
              "Tracking run with wandb version 0.12.13"
            ]
          },
          "metadata": {}
        },
        {
          "output_type": "display_data",
          "data": {
            "text/plain": [
              "<IPython.core.display.HTML object>"
            ],
            "text/html": [
              "Run data is saved locally in <code>/content/wandb/run-20220407_214530-1l82umyo</code>"
            ]
          },
          "metadata": {}
        },
        {
          "output_type": "display_data",
          "data": {
            "text/plain": [
              "<IPython.core.display.HTML object>"
            ],
            "text/html": [
              "Syncing run <strong><a href=\"https://wandb.ai/go4rav/CS6910%20Assignment2/runs/1l82umyo\" target=\"_blank\">driven-surf-7</a></strong> to <a href=\"https://wandb.ai/go4rav/CS6910%20Assignment2\" target=\"_blank\">Weights & Biases</a> (<a href=\"https://wandb.me/run\" target=\"_blank\">docs</a>)<br/>"
            ]
          },
          "metadata": {}
        },
        {
          "output_type": "execute_result",
          "data": {
            "text/html": [
              "<button onClick=\"this.nextSibling.style.display='block';this.style.display='none';\">Display W&B run</button><iframe src=\"https://wandb.ai/go4rav/CS6910%20Assignment2/runs/1l82umyo?jupyter=true\" style=\"border:none;width:100%;height:420px;display:none;\"></iframe>"
            ],
            "text/plain": [
              "<wandb.sdk.wandb_run.Run at 0x7f6f9013a9d0>"
            ]
          },
          "metadata": {},
          "execution_count": 11
        }
      ]
    },
    {
      "cell_type": "code",
      "metadata": {
        "colab": {
          "base_uri": "https://localhost:8080/",
          "height": 1000,
          "referenced_widgets": [
            "5c3b87673dd94721a115cdc237a38306",
            "62ee45b3ef87416c880683fad60dc91d",
            "d307c4aa93ff49048e225defcccf3557",
            "8ab79482d88f40d7836a29922ea4c78a",
            "a67cd82a9a084dafa5ac0c0a98588b3f",
            "5596d4dc91af40949cdb8edb8b0305b7",
            "5af467262bdb421aa8372b20e6974148",
            "e5a1e736e004424da2c8e1f4256064a2",
            "5d3b34a04b21461c9395992372bf049b",
            "bd17d0bb89fc477da4cc26aa3c3105e9",
            "df122a32e4984d7d841b5e19578286cd",
            "9a1d4b0c58fc4082ba88164271f6c3c4",
            "d544a1f3ef02487cb0485952224ab695",
            "a27bf21acaa44197a0fbdad84d0a6312",
            "26ffb307a4254c679f8f419089a94019",
            "fc8b6dbd0ce6457497799456319517dd",
            "d8b5dfa4eb644ecd9e569d94f9e46113",
            "d438eda4e9f740629e372b7ef0304773",
            "cb50efb91ed3496a881986b81e31010d",
            "5dd3551652754bec9326b36e0ea676a0",
            "fbcbee0d90ca418c8731e8a254b6cf40",
            "c35ac114028642a7a4a88f72d8129868",
            "36586a62f895459983d01ceebd203805",
            "8d1e5030858f457f8a82d44a9616e6c2",
            "f89be7636cd443f890c1967203d10198",
            "fc8f25657ec8433db957985e8d5fa160",
            "539688a88e2f4f6b9fd6e66df7647699",
            "d1c3faa52ed844998d800a2be7c0f3fa",
            "164446d1dba745dd925a241ed2941c4e",
            "3b4bb15d4904409ab2ff2852c154c181",
            "fb128dc181aa44e7b3bec41d219bdb45",
            "73ecda859694423caf09a707952b0e85",
            "799f7d7adfa04495969a09a693c9ffe1",
            "8e7b99fe43ca43f8a2e34c2753694c2c",
            "af9fc338060746f187edcc0579037d5d",
            "a81e35657d86454e9e9fa74c16f5db9d",
            "7270cc35572f4b11a8d6d78bec98f189",
            "3c29c4334fa840bbaa2fde63df5544a8",
            "d88e6814d9ce4114bb3f74c18f95cd36",
            "7ff9c9b3afbe4ee3a491f94a6df90cf5",
            "f3bc3b8afa004ee284ee447fc86084ac",
            "c13f762ec5b0431d940cab9b6fb27ee4",
            "6ea6c4b933134a89a923becd804ae875",
            "9ae7eaa151444fdc866c7e7aa27c8afd",
            "2bb0e657a49c46d4b57266c5d1107390",
            "d9dd93c75aff4748959ecc3b16b0a148",
            "631027c0ce114042bf510100acadaef1",
            "1e5db4ceb7494035a64b003b5f8614f2",
            "4a20c5bd53fb470e9103028df2f8d284",
            "3d01d631b73d442891e27fa9462be0e7",
            "292f62132e9b42ae85c240199511b743",
            "c181c2a976aa44a7904ce997379a5dc1",
            "c941f1520037469687972af6e5204b79",
            "2723ed57501f4768b6c6f225246cf800",
            "3c7c39cb2b494bfc8f990994ce48f42b",
            "3940f9ba10ee44ae844018e96e13a3ae",
            "b7c5f26548564c61bb37c1802c490f28",
            "fd30e797f465459ca85c30c63c924abd",
            "5d12051e89984e3f9b3934fd04b6f833",
            "8f994957a11a4bb7bb270af56e08ada8",
            "0b46a29e323c4911af1a4ebebc0fb13e",
            "85c9a59e97274c87bb0d9a6fa395c6e5",
            "f41ac8ae9c494202a64e9254b513dd9e",
            "7032709ec80443bda681a5268db5506e",
            "6c0c29a7b89d4478b39cb381accaaa3c",
            "11fc2d2bd65941aaa42139fed4f767c3",
            "9b3e7b157b7a4dc2bcdc285ceec8caf7",
            "36be5ed96dde4a1e893d9fcec3c5031e",
            "13818dfb1c804e8c8b35fdc72c2a361a",
            "eb0dff41b5704fd89a645ec120cc4886",
            "401a36fb63d2493c9be05b88443fc5bc",
            "596dc9f1bdea4423b280e830fd81390c",
            "f2dce3b8280e483995f9dce2ff1a0e94",
            "ae178c03c1a04db0aa03b6e3160e401a",
            "571f645b2873426896c8e0696ad46dc8",
            "36de3fb7990e4fa192369dd12385acc1",
            "68780cdec6de47f78fe9356ab5ad6c94",
            "a7a6758b6d574288a847b3f261c2beb7",
            "e12c5061b24e407f88b6abd99e99d405",
            "58ffbc0f93f64e16ab09694a865102c7",
            "8c1aecb938ca440994ea025cf13c81a5",
            "e1fe490c64974c268bd2a0d51f3dd805",
            "3f9077a7e3d944d69fd348bd40707979",
            "96c2503eed264ab9896caf9880f84459",
            "6fc5f773ea3945809685033239c445d4",
            "ac9d467403cc4a1294742434ec24e67f",
            "0f6bf0acaca24039acb07953793c73af",
            "b55186de79664eaaa617d0c999ed10d7"
          ]
        },
        "id": "Desy3R6gj0LE",
        "outputId": "67e7ea1b-a84f-4c4d-ec80-881bbadf1f30"
      },
      "source": [
        "#################################\n",
        "# Setting up wandb sweeps\n",
        "#################################\n",
        "sweep_id = wandb.sweep(sweep_config, project = 'CS6910 Assignment2')\n",
        "wandb.agent(sweep_id, function=CNN_train,count=40)"
      ],
      "execution_count": null,
      "outputs": [
        {
          "output_type": "stream",
          "name": "stderr",
          "text": [
            "\u001b[34m\u001b[1mwandb\u001b[0m: \u001b[33mWARNING\u001b[0m Calling wandb.login() after wandb.init() has no effect.\n"
          ]
        },
        {
          "output_type": "stream",
          "name": "stdout",
          "text": [
            "Create sweep with ID: 4z474dtx\n",
            "Sweep URL: https://wandb.ai/go4rav/CS6910%20Assignment2/sweeps/4z474dtx\n"
          ]
        },
        {
          "output_type": "stream",
          "name": "stderr",
          "text": [
            "\u001b[34m\u001b[1mwandb\u001b[0m: Agent Starting Run: x0nri6rd with config:\n",
            "\u001b[34m\u001b[1mwandb\u001b[0m: \tactivation: relu\n",
            "\u001b[34m\u001b[1mwandb\u001b[0m: \tbatch_norm: False\n",
            "\u001b[34m\u001b[1mwandb\u001b[0m: \tconv_layers: 5\n",
            "\u001b[34m\u001b[1mwandb\u001b[0m: \tdata_aug: True\n",
            "\u001b[34m\u001b[1mwandb\u001b[0m: \tdense_size: 512\n",
            "\u001b[34m\u001b[1mwandb\u001b[0m: \tdropout: 0.3\n",
            "\u001b[34m\u001b[1mwandb\u001b[0m: \tfilter_org: 1\n",
            "\u001b[34m\u001b[1mwandb\u001b[0m: \tfirst_layer_filters: 32\n",
            "\u001b[34m\u001b[1mwandb\u001b[0m: \tkernel_size: 7\n",
            "\u001b[34m\u001b[1mwandb\u001b[0m: \tnum_epochs: 20\n",
            "\u001b[34m\u001b[1mwandb\u001b[0m: \toptimizer: adam\n"
          ]
        },
        {
          "output_type": "display_data",
          "data": {
            "text/plain": [
              "<IPython.core.display.HTML object>"
            ],
            "text/html": [
              "Tracking run with wandb version 0.12.13"
            ]
          },
          "metadata": {}
        },
        {
          "output_type": "display_data",
          "data": {
            "text/plain": [
              "<IPython.core.display.HTML object>"
            ],
            "text/html": [
              "Run data is saved locally in <code>/content/wandb/run-20220407_214542-x0nri6rd</code>"
            ]
          },
          "metadata": {}
        },
        {
          "output_type": "display_data",
          "data": {
            "text/plain": [
              "<IPython.core.display.HTML object>"
            ],
            "text/html": [
              "Syncing run <strong><a href=\"https://wandb.ai/go4rav/CS6910%20Assignment2/runs/x0nri6rd\" target=\"_blank\">charmed-sweep-1</a></strong> to <a href=\"https://wandb.ai/go4rav/CS6910%20Assignment2\" target=\"_blank\">Weights & Biases</a> (<a href=\"https://wandb.me/run\" target=\"_blank\">docs</a>)<br/>Sweep page:  <a href=\"https://wandb.ai/go4rav/CS6910%20Assignment2/sweeps/4z474dtx\" target=\"_blank\">https://wandb.ai/go4rav/CS6910%20Assignment2/sweeps/4z474dtx</a>"
            ]
          },
          "metadata": {}
        },
        {
          "output_type": "display_data",
          "data": {
            "text/plain": [
              "<IPython.core.display.HTML object>"
            ],
            "text/html": [
              "Finishing last run (ID:x0nri6rd) before initializing another..."
            ]
          },
          "metadata": {}
        },
        {
          "output_type": "stream",
          "name": "stdout",
          "text": [
            "\n"
          ]
        },
        {
          "output_type": "display_data",
          "data": {
            "text/plain": [
              "<IPython.core.display.HTML object>"
            ],
            "text/html": [
              "Waiting for W&B process to finish... <strong style=\"color:green\">(success).</strong>"
            ]
          },
          "metadata": {}
        },
        {
          "output_type": "display_data",
          "data": {
            "text/plain": [
              "VBox(children=(Label(value='0.001 MB of 0.001 MB uploaded (0.000 MB deduped)\\r'), FloatProgress(value=1.0, max…"
            ],
            "application/vnd.jupyter.widget-view+json": {
              "version_major": 2,
              "version_minor": 0,
              "model_id": "5c3b87673dd94721a115cdc237a38306"
            }
          },
          "metadata": {}
        },
        {
          "output_type": "display_data",
          "data": {
            "text/plain": [
              "<IPython.core.display.HTML object>"
            ],
            "text/html": [
              "Synced <strong style=\"color:#cdcd00\">charmed-sweep-1</strong>: <a href=\"https://wandb.ai/go4rav/CS6910%20Assignment2/runs/x0nri6rd\" target=\"_blank\">https://wandb.ai/go4rav/CS6910%20Assignment2/runs/x0nri6rd</a><br/>Synced 4 W&B file(s), 0 media file(s), 0 artifact file(s) and 0 other file(s)"
            ]
          },
          "metadata": {}
        },
        {
          "output_type": "display_data",
          "data": {
            "text/plain": [
              "<IPython.core.display.HTML object>"
            ],
            "text/html": [
              "Find logs at: <code>./wandb/run-20220407_214542-x0nri6rd/logs</code>"
            ]
          },
          "metadata": {}
        },
        {
          "output_type": "display_data",
          "data": {
            "text/plain": [
              "<IPython.core.display.HTML object>"
            ],
            "text/html": [
              "Successfully finished last run (ID:x0nri6rd). Initializing new run:<br/>"
            ]
          },
          "metadata": {}
        },
        {
          "output_type": "display_data",
          "data": {
            "text/plain": [
              "<IPython.core.display.HTML object>"
            ],
            "text/html": [
              "Tracking run with wandb version 0.12.13"
            ]
          },
          "metadata": {}
        },
        {
          "output_type": "display_data",
          "data": {
            "text/plain": [
              "<IPython.core.display.HTML object>"
            ],
            "text/html": [
              "Run data is saved locally in <code>/content/wandb/run-20220407_214546-x0nri6rd</code>"
            ]
          },
          "metadata": {}
        },
        {
          "output_type": "display_data",
          "data": {
            "text/plain": [
              "<IPython.core.display.HTML object>"
            ],
            "text/html": [
              "Syncing run <strong><a href=\"https://wandb.ai/go4rav/CS6910%20Assignment2/runs/x0nri6rd\" target=\"_blank\">charmed-sweep-1</a></strong> to <a href=\"https://wandb.ai/go4rav/CS6910%20Assignment2\" target=\"_blank\">Weights & Biases</a> (<a href=\"https://wandb.me/run\" target=\"_blank\">docs</a>)<br/>Sweep page:  <a href=\"https://wandb.ai/go4rav/CS6910%20Assignment2/sweeps/4z474dtx\" target=\"_blank\">https://wandb.ai/go4rav/CS6910%20Assignment2/sweeps/4z474dtx</a>"
            ]
          },
          "metadata": {}
        },
        {
          "output_type": "stream",
          "name": "stdout",
          "text": [
            "Epoch 1/20\n",
            "62/62 [==============================] - 90s 1s/step - loss: 2.3035 - acc: 0.1003 - val_loss: 2.3032 - val_acc: 0.1021 - _timestamp: 1649368044.0000 - _runtime: 95.0000\n",
            "Epoch 2/20\n",
            "62/62 [==============================] - 440s 7s/step - loss: 2.3027 - acc: 0.1053 - val_loss: 2.2920 - val_acc: 0.1042 - _timestamp: 1649368485.0000 - _runtime: 536.0000\n",
            "Epoch 3/20\n",
            "62/62 [==============================] - 559s 9s/step - loss: 2.2988 - acc: 0.1079 - val_loss: 2.3040 - val_acc: 0.0917 - _timestamp: 1649369044.0000 - _runtime: 1095.0000\n",
            "Epoch 4/20\n",
            "62/62 [==============================] - 541s 9s/step - loss: 2.3042 - acc: 0.0877 - val_loss: 2.3032 - val_acc: 0.0938 - _timestamp: 1649369585.0000 - _runtime: 1636.0000\n",
            "Epoch 5/20\n",
            "62/62 [==============================] - 99s 2s/step - loss: 2.3034 - acc: 0.0932 - val_loss: 2.3020 - val_acc: 0.1207 - _timestamp: 1649369684.0000 - _runtime: 1735.0000\n",
            "Epoch 6/20\n",
            "62/62 [==============================] - 82s 1s/step - loss: 2.3031 - acc: 0.1008 - val_loss: 2.3034 - val_acc: 0.0896 - _timestamp: 1649369767.0000 - _runtime: 1818.0000\n",
            "Epoch 7/20\n",
            "62/62 [==============================] - 84s 1s/step - loss: 2.3030 - acc: 0.1053 - val_loss: 2.3024 - val_acc: 0.0875 - _timestamp: 1649369851.0000 - _runtime: 1902.0000\n",
            "Epoch 8/20\n",
            "62/62 [==============================] - 84s 1s/step - loss: 2.3036 - acc: 0.0953 - val_loss: 2.3031 - val_acc: 0.1021 - _timestamp: 1649369935.0000 - _runtime: 1986.0000\n",
            "Epoch 9/20\n",
            "62/62 [==============================] - 83s 1s/step - loss: 2.3029 - acc: 0.0917 - val_loss: 2.3018 - val_acc: 0.1228 - _timestamp: 1649370018.0000 - _runtime: 2069.0000\n",
            "Epoch 10/20\n",
            "62/62 [==============================] - 83s 1s/step - loss: 2.3029 - acc: 0.0892 - val_loss: 2.3020 - val_acc: 0.1021 - _timestamp: 1649370101.0000 - _runtime: 2152.0000\n",
            "Epoch 11/20\n",
            "62/62 [==============================] - 84s 1s/step - loss: 2.3031 - acc: 0.0948 - val_loss: 2.3037 - val_acc: 0.0812 - _timestamp: 1649370185.0000 - _runtime: 2236.0000\n",
            "Epoch 12/20\n",
            "62/62 [==============================] - 84s 1s/step - loss: 2.3033 - acc: 0.0943 - val_loss: 2.3030 - val_acc: 0.0792 - _timestamp: 1649370269.0000 - _runtime: 2320.0000\n",
            "Epoch 13/20\n",
            "62/62 [==============================] - 83s 1s/step - loss: 2.3029 - acc: 0.0882 - val_loss: 2.3034 - val_acc: 0.1013 - _timestamp: 1649370352.0000 - _runtime: 2403.0000\n",
            "Epoch 14/20\n",
            "62/62 [==============================] - 82s 1s/step - loss: 2.3032 - acc: 0.0938 - val_loss: 2.3035 - val_acc: 0.0708 - _timestamp: 1649370434.0000 - _runtime: 2485.0000\n"
          ]
        },
        {
          "output_type": "stream",
          "name": "stderr",
          "text": [
            "\u001b[34m\u001b[1mwandb\u001b[0m: Agent Starting Run: 06ylt48w with config:\n",
            "\u001b[34m\u001b[1mwandb\u001b[0m: \tactivation: relu\n",
            "\u001b[34m\u001b[1mwandb\u001b[0m: \tbatch_norm: True\n",
            "\u001b[34m\u001b[1mwandb\u001b[0m: \tconv_layers: 5\n",
            "\u001b[34m\u001b[1mwandb\u001b[0m: \tdata_aug: True\n",
            "\u001b[34m\u001b[1mwandb\u001b[0m: \tdense_size: 1024\n",
            "\u001b[34m\u001b[1mwandb\u001b[0m: \tdropout: 0.2\n",
            "\u001b[34m\u001b[1mwandb\u001b[0m: \tfilter_org: 2\n",
            "\u001b[34m\u001b[1mwandb\u001b[0m: \tfirst_layer_filters: 64\n",
            "\u001b[34m\u001b[1mwandb\u001b[0m: \tkernel_size: 7\n",
            "\u001b[34m\u001b[1mwandb\u001b[0m: \tnum_epochs: 10\n",
            "\u001b[34m\u001b[1mwandb\u001b[0m: \toptimizer: adam\n"
          ]
        },
        {
          "output_type": "display_data",
          "data": {
            "text/plain": [
              "<IPython.core.display.HTML object>"
            ],
            "text/html": [
              "Tracking run with wandb version 0.12.13"
            ]
          },
          "metadata": {}
        },
        {
          "output_type": "display_data",
          "data": {
            "text/plain": [
              "<IPython.core.display.HTML object>"
            ],
            "text/html": [
              "Run data is saved locally in <code>/content/wandb/run-20220407_222718-06ylt48w</code>"
            ]
          },
          "metadata": {}
        },
        {
          "output_type": "display_data",
          "data": {
            "text/plain": [
              "<IPython.core.display.HTML object>"
            ],
            "text/html": [
              "Syncing run <strong><a href=\"https://wandb.ai/go4rav/CS6910%20Assignment2/runs/06ylt48w\" target=\"_blank\">volcanic-sweep-2</a></strong> to <a href=\"https://wandb.ai/go4rav/CS6910%20Assignment2\" target=\"_blank\">Weights & Biases</a> (<a href=\"https://wandb.me/run\" target=\"_blank\">docs</a>)<br/>Sweep page:  <a href=\"https://wandb.ai/go4rav/CS6910%20Assignment2/sweeps/4z474dtx\" target=\"_blank\">https://wandb.ai/go4rav/CS6910%20Assignment2/sweeps/4z474dtx</a>"
            ]
          },
          "metadata": {}
        },
        {
          "output_type": "display_data",
          "data": {
            "text/plain": [
              "<IPython.core.display.HTML object>"
            ],
            "text/html": [
              "Finishing last run (ID:06ylt48w) before initializing another..."
            ]
          },
          "metadata": {}
        },
        {
          "output_type": "stream",
          "name": "stdout",
          "text": [
            "\n"
          ]
        },
        {
          "output_type": "display_data",
          "data": {
            "text/plain": [
              "<IPython.core.display.HTML object>"
            ],
            "text/html": [
              "Waiting for W&B process to finish... <strong style=\"color:green\">(success).</strong>"
            ]
          },
          "metadata": {}
        },
        {
          "output_type": "display_data",
          "data": {
            "text/plain": [
              "VBox(children=(Label(value='0.000 MB of 0.000 MB uploaded (0.000 MB deduped)\\r'), FloatProgress(value=1.0, max…"
            ],
            "application/vnd.jupyter.widget-view+json": {
              "version_major": 2,
              "version_minor": 0,
              "model_id": "5d3b34a04b21461c9395992372bf049b"
            }
          },
          "metadata": {}
        },
        {
          "output_type": "display_data",
          "data": {
            "text/plain": [
              "<IPython.core.display.HTML object>"
            ],
            "text/html": [
              "Synced <strong style=\"color:#cdcd00\">volcanic-sweep-2</strong>: <a href=\"https://wandb.ai/go4rav/CS6910%20Assignment2/runs/06ylt48w\" target=\"_blank\">https://wandb.ai/go4rav/CS6910%20Assignment2/runs/06ylt48w</a><br/>Synced 4 W&B file(s), 0 media file(s), 0 artifact file(s) and 0 other file(s)"
            ]
          },
          "metadata": {}
        },
        {
          "output_type": "display_data",
          "data": {
            "text/plain": [
              "<IPython.core.display.HTML object>"
            ],
            "text/html": [
              "Find logs at: <code>./wandb/run-20220407_222718-06ylt48w/logs</code>"
            ]
          },
          "metadata": {}
        },
        {
          "output_type": "display_data",
          "data": {
            "text/plain": [
              "<IPython.core.display.HTML object>"
            ],
            "text/html": [
              "Successfully finished last run (ID:06ylt48w). Initializing new run:<br/>"
            ]
          },
          "metadata": {}
        },
        {
          "output_type": "display_data",
          "data": {
            "text/plain": [
              "<IPython.core.display.HTML object>"
            ],
            "text/html": [
              "Tracking run with wandb version 0.12.13"
            ]
          },
          "metadata": {}
        },
        {
          "output_type": "display_data",
          "data": {
            "text/plain": [
              "<IPython.core.display.HTML object>"
            ],
            "text/html": [
              "Run data is saved locally in <code>/content/wandb/run-20220407_222726-06ylt48w</code>"
            ]
          },
          "metadata": {}
        },
        {
          "output_type": "display_data",
          "data": {
            "text/plain": [
              "<IPython.core.display.HTML object>"
            ],
            "text/html": [
              "Syncing run <strong><a href=\"https://wandb.ai/go4rav/CS6910%20Assignment2/runs/06ylt48w\" target=\"_blank\">volcanic-sweep-2</a></strong> to <a href=\"https://wandb.ai/go4rav/CS6910%20Assignment2\" target=\"_blank\">Weights & Biases</a> (<a href=\"https://wandb.me/run\" target=\"_blank\">docs</a>)<br/>Sweep page:  <a href=\"https://wandb.ai/go4rav/CS6910%20Assignment2/sweeps/4z474dtx\" target=\"_blank\">https://wandb.ai/go4rav/CS6910%20Assignment2/sweeps/4z474dtx</a>"
            ]
          },
          "metadata": {}
        },
        {
          "output_type": "stream",
          "name": "stdout",
          "text": [
            "Epoch 1/10\n",
            "62/62 [==============================] - 129s 2s/step - loss: 2.6447 - acc: 0.1033 - val_loss: 6.3047 - val_acc: 0.0896 - _timestamp: 1649370584.0000 - _runtime: 133.0000\n",
            "Epoch 2/10\n",
            "62/62 [==============================] - 134s 2s/step - loss: 2.4299 - acc: 0.1129 - val_loss: 2.3376 - val_acc: 0.1021 - _timestamp: 1649370718.0000 - _runtime: 267.0000\n",
            "Epoch 3/10\n",
            "62/62 [==============================] - 138s 2s/step - loss: 2.3609 - acc: 0.1522 - val_loss: 2.3462 - val_acc: 0.1034 - _timestamp: 1649370857.0000 - _runtime: 406.0000\n",
            "Epoch 4/10\n",
            "62/62 [==============================] - 131s 2s/step - loss: 2.3813 - acc: 0.1492 - val_loss: 2.8229 - val_acc: 0.1208 - _timestamp: 1649370988.0000 - _runtime: 537.0000\n",
            "Epoch 5/10\n",
            "62/62 [==============================] - 131s 2s/step - loss: 2.3648 - acc: 0.1673 - val_loss: 2.8402 - val_acc: 0.1688 - _timestamp: 1649371119.0000 - _runtime: 668.0000\n",
            "Epoch 6/10\n",
            "62/62 [==============================] - 127s 2s/step - loss: 2.3416 - acc: 0.1699 - val_loss: 2.7000 - val_acc: 0.1333 - _timestamp: 1649371247.0000 - _runtime: 796.0000\n",
            "Epoch 7/10\n",
            "62/62 [==============================] - 126s 2s/step - loss: 2.3670 - acc: 0.1739 - val_loss: 4.1859 - val_acc: 0.1121 - _timestamp: 1649371388.0000 - _runtime: 937.0000\n",
            "Epoch 8/10\n",
            "62/62 [==============================] - 124s 2s/step - loss: 2.3554 - acc: 0.1830 - val_loss: 3.5739 - val_acc: 0.1333 - _timestamp: 1649371511.0000 - _runtime: 1060.0000\n",
            "Epoch 9/10\n",
            "62/62 [==============================] - 125s 2s/step - loss: 2.3478 - acc: 0.1809 - val_loss: 2.6830 - val_acc: 0.1354 - _timestamp: 1649371636.0000 - _runtime: 1185.0000\n",
            "Epoch 10/10\n",
            "62/62 [==============================] - 122s 2s/step - loss: 2.3348 - acc: 0.1673 - val_loss: 2.4433 - val_acc: 0.1375 - _timestamp: 1649371759.0000 - _runtime: 1308.0000\n"
          ]
        },
        {
          "output_type": "stream",
          "name": "stderr",
          "text": [
            "\u001b[34m\u001b[1mwandb\u001b[0m: Agent Starting Run: 4m91jspr with config:\n",
            "\u001b[34m\u001b[1mwandb\u001b[0m: \tactivation: relu\n",
            "\u001b[34m\u001b[1mwandb\u001b[0m: \tbatch_norm: False\n",
            "\u001b[34m\u001b[1mwandb\u001b[0m: \tconv_layers: 5\n",
            "\u001b[34m\u001b[1mwandb\u001b[0m: \tdata_aug: True\n",
            "\u001b[34m\u001b[1mwandb\u001b[0m: \tdense_size: 512\n",
            "\u001b[34m\u001b[1mwandb\u001b[0m: \tdropout: 0.2\n",
            "\u001b[34m\u001b[1mwandb\u001b[0m: \tfilter_org: 0.5\n",
            "\u001b[34m\u001b[1mwandb\u001b[0m: \tfirst_layer_filters: 32\n",
            "\u001b[34m\u001b[1mwandb\u001b[0m: \tkernel_size: 5\n",
            "\u001b[34m\u001b[1mwandb\u001b[0m: \tnum_epochs: 20\n",
            "\u001b[34m\u001b[1mwandb\u001b[0m: \toptimizer: adam\n"
          ]
        },
        {
          "output_type": "display_data",
          "data": {
            "text/plain": [
              "<IPython.core.display.HTML object>"
            ],
            "text/html": [
              "Tracking run with wandb version 0.12.13"
            ]
          },
          "metadata": {}
        },
        {
          "output_type": "display_data",
          "data": {
            "text/plain": [
              "<IPython.core.display.HTML object>"
            ],
            "text/html": [
              "Run data is saved locally in <code>/content/wandb/run-20220407_224939-4m91jspr</code>"
            ]
          },
          "metadata": {}
        },
        {
          "output_type": "display_data",
          "data": {
            "text/plain": [
              "<IPython.core.display.HTML object>"
            ],
            "text/html": [
              "Syncing run <strong><a href=\"https://wandb.ai/go4rav/CS6910%20Assignment2/runs/4m91jspr\" target=\"_blank\">noble-sweep-3</a></strong> to <a href=\"https://wandb.ai/go4rav/CS6910%20Assignment2\" target=\"_blank\">Weights & Biases</a> (<a href=\"https://wandb.me/run\" target=\"_blank\">docs</a>)<br/>Sweep page:  <a href=\"https://wandb.ai/go4rav/CS6910%20Assignment2/sweeps/4z474dtx\" target=\"_blank\">https://wandb.ai/go4rav/CS6910%20Assignment2/sweeps/4z474dtx</a>"
            ]
          },
          "metadata": {}
        },
        {
          "output_type": "display_data",
          "data": {
            "text/plain": [
              "<IPython.core.display.HTML object>"
            ],
            "text/html": [
              "Finishing last run (ID:4m91jspr) before initializing another..."
            ]
          },
          "metadata": {}
        },
        {
          "output_type": "stream",
          "name": "stdout",
          "text": [
            "\n"
          ]
        },
        {
          "output_type": "display_data",
          "data": {
            "text/plain": [
              "<IPython.core.display.HTML object>"
            ],
            "text/html": [
              "Waiting for W&B process to finish... <strong style=\"color:green\">(success).</strong>"
            ]
          },
          "metadata": {}
        },
        {
          "output_type": "display_data",
          "data": {
            "text/plain": [
              "VBox(children=(Label(value='0.001 MB of 0.001 MB uploaded (0.000 MB deduped)\\r'), FloatProgress(value=1.0, max…"
            ],
            "application/vnd.jupyter.widget-view+json": {
              "version_major": 2,
              "version_minor": 0,
              "model_id": "d8b5dfa4eb644ecd9e569d94f9e46113"
            }
          },
          "metadata": {}
        },
        {
          "output_type": "display_data",
          "data": {
            "text/plain": [
              "<IPython.core.display.HTML object>"
            ],
            "text/html": [
              "Synced <strong style=\"color:#cdcd00\">noble-sweep-3</strong>: <a href=\"https://wandb.ai/go4rav/CS6910%20Assignment2/runs/4m91jspr\" target=\"_blank\">https://wandb.ai/go4rav/CS6910%20Assignment2/runs/4m91jspr</a><br/>Synced 4 W&B file(s), 0 media file(s), 0 artifact file(s) and 0 other file(s)"
            ]
          },
          "metadata": {}
        },
        {
          "output_type": "display_data",
          "data": {
            "text/plain": [
              "<IPython.core.display.HTML object>"
            ],
            "text/html": [
              "Find logs at: <code>./wandb/run-20220407_224939-4m91jspr/logs</code>"
            ]
          },
          "metadata": {}
        },
        {
          "output_type": "display_data",
          "data": {
            "text/plain": [
              "<IPython.core.display.HTML object>"
            ],
            "text/html": [
              "Successfully finished last run (ID:4m91jspr). Initializing new run:<br/>"
            ]
          },
          "metadata": {}
        },
        {
          "output_type": "display_data",
          "data": {
            "text/plain": [
              "<IPython.core.display.HTML object>"
            ],
            "text/html": [
              "Tracking run with wandb version 0.12.13"
            ]
          },
          "metadata": {}
        },
        {
          "output_type": "display_data",
          "data": {
            "text/plain": [
              "<IPython.core.display.HTML object>"
            ],
            "text/html": [
              "Run data is saved locally in <code>/content/wandb/run-20220407_224945-4m91jspr</code>"
            ]
          },
          "metadata": {}
        },
        {
          "output_type": "display_data",
          "data": {
            "text/plain": [
              "<IPython.core.display.HTML object>"
            ],
            "text/html": [
              "Syncing run <strong><a href=\"https://wandb.ai/go4rav/CS6910%20Assignment2/runs/4m91jspr\" target=\"_blank\">noble-sweep-3</a></strong> to <a href=\"https://wandb.ai/go4rav/CS6910%20Assignment2\" target=\"_blank\">Weights & Biases</a> (<a href=\"https://wandb.me/run\" target=\"_blank\">docs</a>)<br/>Sweep page:  <a href=\"https://wandb.ai/go4rav/CS6910%20Assignment2/sweeps/4z474dtx\" target=\"_blank\">https://wandb.ai/go4rav/CS6910%20Assignment2/sweeps/4z474dtx</a>"
            ]
          },
          "metadata": {}
        },
        {
          "output_type": "stream",
          "name": "stdout",
          "text": [
            "Epoch 1/20\n",
            "62/62 [==============================] - 85s 1s/step - loss: 2.3031 - acc: 0.0963 - val_loss: 2.3032 - val_acc: 0.0896 - _timestamp: 1649371878.0000 - _runtime: 89.0000\n",
            "Epoch 2/20\n",
            "62/62 [==============================] - 82s 1s/step - loss: 2.3034 - acc: 0.0917 - val_loss: 2.3024 - val_acc: 0.0862 - _timestamp: 1649371961.0000 - _runtime: 172.0000\n",
            "Epoch 3/20\n",
            "62/62 [==============================] - 82s 1s/step - loss: 2.3030 - acc: 0.0973 - val_loss: 2.3027 - val_acc: 0.1083 - _timestamp: 1649372043.0000 - _runtime: 254.0000\n",
            "Epoch 4/20\n",
            "62/62 [==============================] - 82s 1s/step - loss: 2.3033 - acc: 0.0862 - val_loss: 2.3030 - val_acc: 0.1042 - _timestamp: 1649372125.0000 - _runtime: 336.0000\n",
            "Epoch 5/20\n",
            "62/62 [==============================] - 83s 1s/step - loss: 2.3028 - acc: 0.0943 - val_loss: 2.3026 - val_acc: 0.1021 - _timestamp: 1649372208.0000 - _runtime: 419.0000\n",
            "Epoch 6/20\n",
            "62/62 [==============================] - 82s 1s/step - loss: 2.3030 - acc: 0.0983 - val_loss: 2.3027 - val_acc: 0.1034 - _timestamp: 1649372290.0000 - _runtime: 501.0000\n",
            "Epoch 7/20\n",
            "62/62 [==============================] - 83s 1s/step - loss: 2.3032 - acc: 0.0892 - val_loss: 2.3024 - val_acc: 0.0875 - _timestamp: 1649372374.0000 - _runtime: 585.0000\n",
            "Epoch 8/20\n",
            "62/62 [==============================] - 82s 1s/step - loss: 2.3029 - acc: 0.0963 - val_loss: 2.3024 - val_acc: 0.0958 - _timestamp: 1649372456.0000 - _runtime: 667.0000\n"
          ]
        },
        {
          "output_type": "stream",
          "name": "stderr",
          "text": [
            "\u001b[34m\u001b[1mwandb\u001b[0m: Agent Starting Run: vjk1jlsa with config:\n",
            "\u001b[34m\u001b[1mwandb\u001b[0m: \tactivation: relu\n",
            "\u001b[34m\u001b[1mwandb\u001b[0m: \tbatch_norm: False\n",
            "\u001b[34m\u001b[1mwandb\u001b[0m: \tconv_layers: 5\n",
            "\u001b[34m\u001b[1mwandb\u001b[0m: \tdata_aug: False\n",
            "\u001b[34m\u001b[1mwandb\u001b[0m: \tdense_size: 1024\n",
            "\u001b[34m\u001b[1mwandb\u001b[0m: \tdropout: 0.3\n",
            "\u001b[34m\u001b[1mwandb\u001b[0m: \tfilter_org: 0.5\n",
            "\u001b[34m\u001b[1mwandb\u001b[0m: \tfirst_layer_filters: 32\n",
            "\u001b[34m\u001b[1mwandb\u001b[0m: \tkernel_size: 5\n",
            "\u001b[34m\u001b[1mwandb\u001b[0m: \tnum_epochs: 15\n",
            "\u001b[34m\u001b[1mwandb\u001b[0m: \toptimizer: adam\n"
          ]
        },
        {
          "output_type": "display_data",
          "data": {
            "text/plain": [
              "<IPython.core.display.HTML object>"
            ],
            "text/html": [
              "Tracking run with wandb version 0.12.13"
            ]
          },
          "metadata": {}
        },
        {
          "output_type": "display_data",
          "data": {
            "text/plain": [
              "<IPython.core.display.HTML object>"
            ],
            "text/html": [
              "Run data is saved locally in <code>/content/wandb/run-20220407_230157-vjk1jlsa</code>"
            ]
          },
          "metadata": {}
        },
        {
          "output_type": "display_data",
          "data": {
            "text/plain": [
              "<IPython.core.display.HTML object>"
            ],
            "text/html": [
              "Syncing run <strong><a href=\"https://wandb.ai/go4rav/CS6910%20Assignment2/runs/vjk1jlsa\" target=\"_blank\">stoic-sweep-4</a></strong> to <a href=\"https://wandb.ai/go4rav/CS6910%20Assignment2\" target=\"_blank\">Weights & Biases</a> (<a href=\"https://wandb.me/run\" target=\"_blank\">docs</a>)<br/>Sweep page:  <a href=\"https://wandb.ai/go4rav/CS6910%20Assignment2/sweeps/4z474dtx\" target=\"_blank\">https://wandb.ai/go4rav/CS6910%20Assignment2/sweeps/4z474dtx</a>"
            ]
          },
          "metadata": {}
        },
        {
          "output_type": "display_data",
          "data": {
            "text/plain": [
              "<IPython.core.display.HTML object>"
            ],
            "text/html": [
              "Finishing last run (ID:vjk1jlsa) before initializing another..."
            ]
          },
          "metadata": {}
        },
        {
          "output_type": "stream",
          "name": "stdout",
          "text": [
            "\n"
          ]
        },
        {
          "output_type": "display_data",
          "data": {
            "text/plain": [
              "<IPython.core.display.HTML object>"
            ],
            "text/html": [
              "Waiting for W&B process to finish... <strong style=\"color:green\">(success).</strong>"
            ]
          },
          "metadata": {}
        },
        {
          "output_type": "display_data",
          "data": {
            "text/plain": [
              "VBox(children=(Label(value='0.001 MB of 0.001 MB uploaded (0.000 MB deduped)\\r'), FloatProgress(value=1.0, max…"
            ],
            "application/vnd.jupyter.widget-view+json": {
              "version_major": 2,
              "version_minor": 0,
              "model_id": "f89be7636cd443f890c1967203d10198"
            }
          },
          "metadata": {}
        },
        {
          "output_type": "display_data",
          "data": {
            "text/plain": [
              "<IPython.core.display.HTML object>"
            ],
            "text/html": [
              "Synced <strong style=\"color:#cdcd00\">stoic-sweep-4</strong>: <a href=\"https://wandb.ai/go4rav/CS6910%20Assignment2/runs/vjk1jlsa\" target=\"_blank\">https://wandb.ai/go4rav/CS6910%20Assignment2/runs/vjk1jlsa</a><br/>Synced 4 W&B file(s), 0 media file(s), 0 artifact file(s) and 0 other file(s)"
            ]
          },
          "metadata": {}
        },
        {
          "output_type": "display_data",
          "data": {
            "text/plain": [
              "<IPython.core.display.HTML object>"
            ],
            "text/html": [
              "Find logs at: <code>./wandb/run-20220407_230157-vjk1jlsa/logs</code>"
            ]
          },
          "metadata": {}
        },
        {
          "output_type": "display_data",
          "data": {
            "text/plain": [
              "<IPython.core.display.HTML object>"
            ],
            "text/html": [
              "Successfully finished last run (ID:vjk1jlsa). Initializing new run:<br/>"
            ]
          },
          "metadata": {}
        },
        {
          "output_type": "display_data",
          "data": {
            "text/plain": [
              "<IPython.core.display.HTML object>"
            ],
            "text/html": [
              "Tracking run with wandb version 0.12.13"
            ]
          },
          "metadata": {}
        },
        {
          "output_type": "display_data",
          "data": {
            "text/plain": [
              "<IPython.core.display.HTML object>"
            ],
            "text/html": [
              "Run data is saved locally in <code>/content/wandb/run-20220407_230202-vjk1jlsa</code>"
            ]
          },
          "metadata": {}
        },
        {
          "output_type": "display_data",
          "data": {
            "text/plain": [
              "<IPython.core.display.HTML object>"
            ],
            "text/html": [
              "Syncing run <strong><a href=\"https://wandb.ai/go4rav/CS6910%20Assignment2/runs/vjk1jlsa\" target=\"_blank\">stoic-sweep-4</a></strong> to <a href=\"https://wandb.ai/go4rav/CS6910%20Assignment2\" target=\"_blank\">Weights & Biases</a> (<a href=\"https://wandb.me/run\" target=\"_blank\">docs</a>)<br/>Sweep page:  <a href=\"https://wandb.ai/go4rav/CS6910%20Assignment2/sweeps/4z474dtx\" target=\"_blank\">https://wandb.ai/go4rav/CS6910%20Assignment2/sweeps/4z474dtx</a>"
            ]
          },
          "metadata": {}
        },
        {
          "output_type": "stream",
          "name": "stdout",
          "text": [
            "Epoch 1/15\n",
            "62/62 [==============================] - 26s 363ms/step - loss: 2.2999 - acc: 0.1174 - val_loss: 2.3024 - val_acc: 0.0833 - _timestamp: 1649372557.0000 - _runtime: 31.0000\n",
            "Epoch 2/15\n",
            "62/62 [==============================] - 25s 366ms/step - loss: 2.2794 - acc: 0.1421 - val_loss: 2.2983 - val_acc: 0.1250 - _timestamp: 1649372582.0000 - _runtime: 56.0000\n",
            "Epoch 3/15\n",
            "62/62 [==============================] - 25s 365ms/step - loss: 2.2565 - acc: 0.1522 - val_loss: 2.2796 - val_acc: 0.1479 - _timestamp: 1649372623.0000 - _runtime: 97.0000\n",
            "Epoch 4/15\n",
            "62/62 [==============================] - 25s 368ms/step - loss: 2.2251 - acc: 0.1689 - val_loss: 2.3011 - val_acc: 0.1208 - _timestamp: 1649372648.0000 - _runtime: 122.0000\n",
            "Epoch 5/15\n",
            "62/62 [==============================] - 25s 366ms/step - loss: 2.1921 - acc: 0.1820 - val_loss: 2.2904 - val_acc: 0.1437 - _timestamp: 1649372672.0000 - _runtime: 146.0000\n",
            "Epoch 6/15\n",
            "62/62 [==============================] - 24s 359ms/step - loss: 2.1333 - acc: 0.2127 - val_loss: 2.3060 - val_acc: 0.1396 - _timestamp: 1649372696.0000 - _runtime: 170.0000\n",
            "Epoch 7/15\n",
            "62/62 [==============================] - 24s 363ms/step - loss: 2.0825 - acc: 0.2288 - val_loss: 2.3322 - val_acc: 0.1271 - _timestamp: 1649372721.0000 - _runtime: 195.0000\n",
            "Epoch 8/15\n",
            "62/62 [==============================] - 24s 364ms/step - loss: 2.0280 - acc: 0.2626 - val_loss: 2.3578 - val_acc: 0.1229 - _timestamp: 1649372762.0000 - _runtime: 236.0000\n"
          ]
        },
        {
          "output_type": "stream",
          "name": "stderr",
          "text": [
            "\u001b[34m\u001b[1mwandb\u001b[0m: Agent Starting Run: fl4x2l8x with config:\n",
            "\u001b[34m\u001b[1mwandb\u001b[0m: \tactivation: relu\n",
            "\u001b[34m\u001b[1mwandb\u001b[0m: \tbatch_norm: False\n",
            "\u001b[34m\u001b[1mwandb\u001b[0m: \tconv_layers: 5\n",
            "\u001b[34m\u001b[1mwandb\u001b[0m: \tdata_aug: False\n",
            "\u001b[34m\u001b[1mwandb\u001b[0m: \tdense_size: 64\n",
            "\u001b[34m\u001b[1mwandb\u001b[0m: \tdropout: 0.3\n",
            "\u001b[34m\u001b[1mwandb\u001b[0m: \tfilter_org: 1\n",
            "\u001b[34m\u001b[1mwandb\u001b[0m: \tfirst_layer_filters: 64\n",
            "\u001b[34m\u001b[1mwandb\u001b[0m: \tkernel_size: 3\n",
            "\u001b[34m\u001b[1mwandb\u001b[0m: \tnum_epochs: 20\n",
            "\u001b[34m\u001b[1mwandb\u001b[0m: \toptimizer: adam\n"
          ]
        },
        {
          "output_type": "display_data",
          "data": {
            "text/plain": [
              "<IPython.core.display.HTML object>"
            ],
            "text/html": [
              "Tracking run with wandb version 0.12.13"
            ]
          },
          "metadata": {}
        },
        {
          "output_type": "display_data",
          "data": {
            "text/plain": [
              "<IPython.core.display.HTML object>"
            ],
            "text/html": [
              "Run data is saved locally in <code>/content/wandb/run-20220407_230605-fl4x2l8x</code>"
            ]
          },
          "metadata": {}
        },
        {
          "output_type": "display_data",
          "data": {
            "text/plain": [
              "<IPython.core.display.HTML object>"
            ],
            "text/html": [
              "Syncing run <strong><a href=\"https://wandb.ai/go4rav/CS6910%20Assignment2/runs/fl4x2l8x\" target=\"_blank\">zany-sweep-5</a></strong> to <a href=\"https://wandb.ai/go4rav/CS6910%20Assignment2\" target=\"_blank\">Weights & Biases</a> (<a href=\"https://wandb.me/run\" target=\"_blank\">docs</a>)<br/>Sweep page:  <a href=\"https://wandb.ai/go4rav/CS6910%20Assignment2/sweeps/4z474dtx\" target=\"_blank\">https://wandb.ai/go4rav/CS6910%20Assignment2/sweeps/4z474dtx</a>"
            ]
          },
          "metadata": {}
        },
        {
          "output_type": "display_data",
          "data": {
            "text/plain": [
              "<IPython.core.display.HTML object>"
            ],
            "text/html": [
              "Finishing last run (ID:fl4x2l8x) before initializing another..."
            ]
          },
          "metadata": {}
        },
        {
          "output_type": "stream",
          "name": "stdout",
          "text": [
            "\n"
          ]
        },
        {
          "output_type": "display_data",
          "data": {
            "text/plain": [
              "<IPython.core.display.HTML object>"
            ],
            "text/html": [
              "Waiting for W&B process to finish... <strong style=\"color:green\">(success).</strong>"
            ]
          },
          "metadata": {}
        },
        {
          "output_type": "display_data",
          "data": {
            "text/plain": [
              "VBox(children=(Label(value='0.001 MB of 0.001 MB uploaded (0.000 MB deduped)\\r'), FloatProgress(value=1.0, max…"
            ],
            "application/vnd.jupyter.widget-view+json": {
              "version_major": 2,
              "version_minor": 0,
              "model_id": "799f7d7adfa04495969a09a693c9ffe1"
            }
          },
          "metadata": {}
        },
        {
          "output_type": "display_data",
          "data": {
            "text/plain": [
              "<IPython.core.display.HTML object>"
            ],
            "text/html": [
              "Synced <strong style=\"color:#cdcd00\">zany-sweep-5</strong>: <a href=\"https://wandb.ai/go4rav/CS6910%20Assignment2/runs/fl4x2l8x\" target=\"_blank\">https://wandb.ai/go4rav/CS6910%20Assignment2/runs/fl4x2l8x</a><br/>Synced 4 W&B file(s), 0 media file(s), 0 artifact file(s) and 0 other file(s)"
            ]
          },
          "metadata": {}
        },
        {
          "output_type": "display_data",
          "data": {
            "text/plain": [
              "<IPython.core.display.HTML object>"
            ],
            "text/html": [
              "Find logs at: <code>./wandb/run-20220407_230605-fl4x2l8x/logs</code>"
            ]
          },
          "metadata": {}
        },
        {
          "output_type": "display_data",
          "data": {
            "text/plain": [
              "<IPython.core.display.HTML object>"
            ],
            "text/html": [
              "Successfully finished last run (ID:fl4x2l8x). Initializing new run:<br/>"
            ]
          },
          "metadata": {}
        },
        {
          "output_type": "display_data",
          "data": {
            "text/plain": [
              "<IPython.core.display.HTML object>"
            ],
            "text/html": [
              "Tracking run with wandb version 0.12.13"
            ]
          },
          "metadata": {}
        },
        {
          "output_type": "display_data",
          "data": {
            "text/plain": [
              "<IPython.core.display.HTML object>"
            ],
            "text/html": [
              "Run data is saved locally in <code>/content/wandb/run-20220407_230611-fl4x2l8x</code>"
            ]
          },
          "metadata": {}
        },
        {
          "output_type": "display_data",
          "data": {
            "text/plain": [
              "<IPython.core.display.HTML object>"
            ],
            "text/html": [
              "Syncing run <strong><a href=\"https://wandb.ai/go4rav/CS6910%20Assignment2/runs/fl4x2l8x\" target=\"_blank\">zany-sweep-5</a></strong> to <a href=\"https://wandb.ai/go4rav/CS6910%20Assignment2\" target=\"_blank\">Weights & Biases</a> (<a href=\"https://wandb.me/run\" target=\"_blank\">docs</a>)<br/>Sweep page:  <a href=\"https://wandb.ai/go4rav/CS6910%20Assignment2/sweeps/4z474dtx\" target=\"_blank\">https://wandb.ai/go4rav/CS6910%20Assignment2/sweeps/4z474dtx</a>"
            ]
          },
          "metadata": {}
        },
        {
          "output_type": "stream",
          "name": "stdout",
          "text": [
            "Epoch 1/20\n",
            "62/62 [==============================] - 28s 383ms/step - loss: 2.2986 - acc: 0.1119 - val_loss: 2.3035 - val_acc: 0.0833 - _timestamp: 1649372809.0000 - _runtime: 33.0000\n",
            "Epoch 2/20\n",
            "62/62 [==============================] - 25s 378ms/step - loss: 2.3027 - acc: 0.1144 - val_loss: 2.3041 - val_acc: 0.1021 - _timestamp: 1649372848.0000 - _runtime: 72.0000\n",
            "Epoch 3/20\n",
            "62/62 [==============================] - 25s 379ms/step - loss: 2.2956 - acc: 0.1316 - val_loss: 2.3056 - val_acc: 0.0958 - _timestamp: 1649372874.0000 - _runtime: 98.0000\n",
            "Epoch 4/20\n",
            "62/62 [==============================] - 25s 375ms/step - loss: 2.3010 - acc: 0.1169 - val_loss: 2.3074 - val_acc: 0.0875 - _timestamp: 1649372899.0000 - _runtime: 123.0000\n",
            "Epoch 5/20\n",
            "62/62 [==============================] - 25s 377ms/step - loss: 2.3002 - acc: 0.1200 - val_loss: 2.3083 - val_acc: 0.0833 - _timestamp: 1649372924.0000 - _runtime: 148.0000\n",
            "Epoch 6/20\n",
            "62/62 [==============================] - 25s 373ms/step - loss: 2.2997 - acc: 0.1174 - val_loss: 2.3043 - val_acc: 0.0979 - _timestamp: 1649372965.0000 - _runtime: 189.0000\n",
            "Epoch 7/20\n",
            "62/62 [==============================] - 25s 377ms/step - loss: 2.2966 - acc: 0.1245 - val_loss: 2.3203 - val_acc: 0.1042 - _timestamp: 1649372990.0000 - _runtime: 214.0000\n",
            "Epoch 8/20\n",
            "62/62 [==============================] - 25s 378ms/step - loss: 2.2728 - acc: 0.1386 - val_loss: 2.2551 - val_acc: 0.1542 - _timestamp: 1649373015.0000 - _runtime: 239.0000\n",
            "Epoch 9/20\n",
            "62/62 [==============================] - 25s 373ms/step - loss: 2.2478 - acc: 0.1658 - val_loss: 2.2263 - val_acc: 0.1625 - _timestamp: 1649373040.0000 - _runtime: 264.0000\n",
            "Epoch 10/20\n",
            "62/62 [==============================] - 25s 377ms/step - loss: 2.2228 - acc: 0.1699 - val_loss: 2.2243 - val_acc: 0.1688 - _timestamp: 1649373065.0000 - _runtime: 289.0000\n",
            "Epoch 11/20\n",
            "62/62 [==============================] - 25s 376ms/step - loss: 2.2279 - acc: 0.1643 - val_loss: 2.2883 - val_acc: 0.1167 - _timestamp: 1649373090.0000 - _runtime: 314.0000\n",
            "Epoch 12/20\n",
            "62/62 [==============================] - 25s 375ms/step - loss: 2.2192 - acc: 0.1794 - val_loss: 2.2423 - val_acc: 0.1646 - _timestamp: 1649373131.0000 - _runtime: 355.0000\n",
            "Epoch 13/20\n",
            "62/62 [==============================] - 25s 379ms/step - loss: 2.1883 - acc: 0.1946 - val_loss: 2.1971 - val_acc: 0.1937 - _timestamp: 1649373172.0000 - _runtime: 396.0000\n",
            "Epoch 14/20\n",
            "62/62 [==============================] - 25s 378ms/step - loss: 2.1837 - acc: 0.1825 - val_loss: 2.2368 - val_acc: 0.1688 - _timestamp: 1649373198.0000 - _runtime: 422.0000\n",
            "Epoch 15/20\n",
            "62/62 [==============================] - 25s 373ms/step - loss: 2.1442 - acc: 0.2006 - val_loss: 2.2002 - val_acc: 0.1708 - _timestamp: 1649373223.0000 - _runtime: 447.0000\n",
            "Epoch 16/20\n",
            "62/62 [==============================] - 25s 376ms/step - loss: 2.1222 - acc: 0.2167 - val_loss: 2.1982 - val_acc: 0.1604 - _timestamp: 1649373264.0000 - _runtime: 488.0000\n",
            "Epoch 17/20\n",
            "62/62 [==============================] - 25s 378ms/step - loss: 2.0994 - acc: 0.2198 - val_loss: 2.2314 - val_acc: 0.1813 - _timestamp: 1649373305.0000 - _runtime: 529.0000\n",
            "Epoch 18/20\n",
            "62/62 [==============================] - 25s 375ms/step - loss: 2.0616 - acc: 0.2344 - val_loss: 2.2551 - val_acc: 0.1479 - _timestamp: 1649373330.0000 - _runtime: 554.0000\n"
          ]
        },
        {
          "output_type": "stream",
          "name": "stderr",
          "text": [
            "\u001b[34m\u001b[1mwandb\u001b[0m: Agent Starting Run: g8a4zqyu with config:\n",
            "\u001b[34m\u001b[1mwandb\u001b[0m: \tactivation: relu\n",
            "\u001b[34m\u001b[1mwandb\u001b[0m: \tbatch_norm: False\n",
            "\u001b[34m\u001b[1mwandb\u001b[0m: \tconv_layers: 5\n",
            "\u001b[34m\u001b[1mwandb\u001b[0m: \tdata_aug: True\n",
            "\u001b[34m\u001b[1mwandb\u001b[0m: \tdense_size: 512\n",
            "\u001b[34m\u001b[1mwandb\u001b[0m: \tdropout: 0\n",
            "\u001b[34m\u001b[1mwandb\u001b[0m: \tfilter_org: 0.5\n",
            "\u001b[34m\u001b[1mwandb\u001b[0m: \tfirst_layer_filters: 32\n",
            "\u001b[34m\u001b[1mwandb\u001b[0m: \tkernel_size: 3\n",
            "\u001b[34m\u001b[1mwandb\u001b[0m: \tnum_epochs: 15\n",
            "\u001b[34m\u001b[1mwandb\u001b[0m: \toptimizer: adam\n"
          ]
        },
        {
          "output_type": "display_data",
          "data": {
            "text/plain": [
              "<IPython.core.display.HTML object>"
            ],
            "text/html": [
              "Tracking run with wandb version 0.12.13"
            ]
          },
          "metadata": {}
        },
        {
          "output_type": "display_data",
          "data": {
            "text/plain": [
              "<IPython.core.display.HTML object>"
            ],
            "text/html": [
              "Run data is saved locally in <code>/content/wandb/run-20220407_231535-g8a4zqyu</code>"
            ]
          },
          "metadata": {}
        },
        {
          "output_type": "display_data",
          "data": {
            "text/plain": [
              "<IPython.core.display.HTML object>"
            ],
            "text/html": [
              "Syncing run <strong><a href=\"https://wandb.ai/go4rav/CS6910%20Assignment2/runs/g8a4zqyu\" target=\"_blank\">rural-sweep-6</a></strong> to <a href=\"https://wandb.ai/go4rav/CS6910%20Assignment2\" target=\"_blank\">Weights & Biases</a> (<a href=\"https://wandb.me/run\" target=\"_blank\">docs</a>)<br/>Sweep page:  <a href=\"https://wandb.ai/go4rav/CS6910%20Assignment2/sweeps/4z474dtx\" target=\"_blank\">https://wandb.ai/go4rav/CS6910%20Assignment2/sweeps/4z474dtx</a>"
            ]
          },
          "metadata": {}
        },
        {
          "output_type": "display_data",
          "data": {
            "text/plain": [
              "<IPython.core.display.HTML object>"
            ],
            "text/html": [
              "Finishing last run (ID:g8a4zqyu) before initializing another..."
            ]
          },
          "metadata": {}
        },
        {
          "output_type": "stream",
          "name": "stdout",
          "text": [
            "\n"
          ]
        },
        {
          "output_type": "display_data",
          "data": {
            "text/plain": [
              "<IPython.core.display.HTML object>"
            ],
            "text/html": [
              "Waiting for W&B process to finish... <strong style=\"color:green\">(success).</strong>"
            ]
          },
          "metadata": {}
        },
        {
          "output_type": "display_data",
          "data": {
            "text/plain": [
              "VBox(children=(Label(value='0.001 MB of 0.001 MB uploaded (0.000 MB deduped)\\r'), FloatProgress(value=1.0, max…"
            ],
            "application/vnd.jupyter.widget-view+json": {
              "version_major": 2,
              "version_minor": 0,
              "model_id": "f3bc3b8afa004ee284ee447fc86084ac"
            }
          },
          "metadata": {}
        },
        {
          "output_type": "display_data",
          "data": {
            "text/plain": [
              "<IPython.core.display.HTML object>"
            ],
            "text/html": [
              "Synced <strong style=\"color:#cdcd00\">rural-sweep-6</strong>: <a href=\"https://wandb.ai/go4rav/CS6910%20Assignment2/runs/g8a4zqyu\" target=\"_blank\">https://wandb.ai/go4rav/CS6910%20Assignment2/runs/g8a4zqyu</a><br/>Synced 4 W&B file(s), 0 media file(s), 0 artifact file(s) and 0 other file(s)"
            ]
          },
          "metadata": {}
        },
        {
          "output_type": "display_data",
          "data": {
            "text/plain": [
              "<IPython.core.display.HTML object>"
            ],
            "text/html": [
              "Find logs at: <code>./wandb/run-20220407_231535-g8a4zqyu/logs</code>"
            ]
          },
          "metadata": {}
        },
        {
          "output_type": "display_data",
          "data": {
            "text/plain": [
              "<IPython.core.display.HTML object>"
            ],
            "text/html": [
              "Successfully finished last run (ID:g8a4zqyu). Initializing new run:<br/>"
            ]
          },
          "metadata": {}
        },
        {
          "output_type": "display_data",
          "data": {
            "text/plain": [
              "<IPython.core.display.HTML object>"
            ],
            "text/html": [
              "Tracking run with wandb version 0.12.13"
            ]
          },
          "metadata": {}
        },
        {
          "output_type": "display_data",
          "data": {
            "text/plain": [
              "<IPython.core.display.HTML object>"
            ],
            "text/html": [
              "Run data is saved locally in <code>/content/wandb/run-20220407_231542-g8a4zqyu</code>"
            ]
          },
          "metadata": {}
        },
        {
          "output_type": "display_data",
          "data": {
            "text/plain": [
              "<IPython.core.display.HTML object>"
            ],
            "text/html": [
              "Syncing run <strong><a href=\"https://wandb.ai/go4rav/CS6910%20Assignment2/runs/g8a4zqyu\" target=\"_blank\">rural-sweep-6</a></strong> to <a href=\"https://wandb.ai/go4rav/CS6910%20Assignment2\" target=\"_blank\">Weights & Biases</a> (<a href=\"https://wandb.me/run\" target=\"_blank\">docs</a>)<br/>Sweep page:  <a href=\"https://wandb.ai/go4rav/CS6910%20Assignment2/sweeps/4z474dtx\" target=\"_blank\">https://wandb.ai/go4rav/CS6910%20Assignment2/sweeps/4z474dtx</a>"
            ]
          },
          "metadata": {}
        },
        {
          "output_type": "stream",
          "name": "stdout",
          "text": [
            "Epoch 1/15\n",
            "62/62 [==============================] - 85s 1s/step - loss: 2.3022 - acc: 0.0953 - val_loss: 2.3028 - val_acc: 0.1000 - _timestamp: 1649373436.0000 - _runtime: 91.0000\n",
            "Epoch 2/15\n",
            "62/62 [==============================] - 83s 1s/step - loss: 2.3046 - acc: 0.0948 - val_loss: 2.3028 - val_acc: 0.0948 - _timestamp: 1649373519.0000 - _runtime: 174.0000\n",
            "Epoch 3/15\n",
            "62/62 [==============================] - 83s 1s/step - loss: 2.3032 - acc: 0.1028 - val_loss: 2.3027 - val_acc: 0.1104 - _timestamp: 1649373602.0000 - _runtime: 257.0000\n",
            "Epoch 4/15\n",
            "62/62 [==============================] - 83s 1s/step - loss: 2.3023 - acc: 0.0862 - val_loss: 2.3019 - val_acc: 0.0979 - _timestamp: 1649373685.0000 - _runtime: 340.0000\n",
            "Epoch 5/15\n",
            "62/62 [==============================] - 83s 1s/step - loss: 2.3020 - acc: 0.1169 - val_loss: 2.2998 - val_acc: 0.1271 - _timestamp: 1649373768.0000 - _runtime: 423.0000\n",
            "Epoch 6/15\n",
            "62/62 [==============================] - 85s 1s/step - loss: 2.2968 - acc: 0.1401 - val_loss: 2.2996 - val_acc: 0.1121 - _timestamp: 1649373853.0000 - _runtime: 508.0000\n",
            "Epoch 7/15\n",
            "62/62 [==============================] - 84s 1s/step - loss: 2.2992 - acc: 0.1079 - val_loss: 2.2848 - val_acc: 0.1146 - _timestamp: 1649373936.0000 - _runtime: 591.0000\n",
            "Epoch 8/15\n",
            "62/62 [==============================] - 85s 1s/step - loss: 2.2846 - acc: 0.1316 - val_loss: 2.2538 - val_acc: 0.1354 - _timestamp: 1649374021.0000 - _runtime: 676.0000\n",
            "Epoch 9/15\n",
            "62/62 [==============================] - 83s 1s/step - loss: 2.2790 - acc: 0.1154 - val_loss: 2.2968 - val_acc: 0.1229 - _timestamp: 1649374104.0000 - _runtime: 759.0000\n",
            "Epoch 10/15\n",
            "62/62 [==============================] - 84s 1s/step - loss: 2.2631 - acc: 0.1411 - val_loss: 2.2606 - val_acc: 0.1272 - _timestamp: 1649374188.0000 - _runtime: 843.0000\n",
            "Epoch 11/15\n",
            "62/62 [==============================] - 84s 1s/step - loss: 2.2650 - acc: 0.1331 - val_loss: 2.2483 - val_acc: 0.1625 - _timestamp: 1649374272.0000 - _runtime: 927.0000\n",
            "Epoch 12/15\n",
            "62/62 [==============================] - 84s 1s/step - loss: 2.2668 - acc: 0.1396 - val_loss: 2.2524 - val_acc: 0.1312 - _timestamp: 1649374356.0000 - _runtime: 1011.0000\n",
            "Epoch 13/15\n",
            "62/62 [==============================] - 84s 1s/step - loss: 2.2508 - acc: 0.1361 - val_loss: 2.2117 - val_acc: 0.1625 - _timestamp: 1649374439.0000 - _runtime: 1094.0000\n",
            "Epoch 14/15\n",
            "62/62 [==============================] - 84s 1s/step - loss: 2.2372 - acc: 0.1527 - val_loss: 2.2295 - val_acc: 0.1625 - _timestamp: 1649374523.0000 - _runtime: 1178.0000\n",
            "Epoch 15/15\n",
            "62/62 [==============================] - 83s 1s/step - loss: 2.2240 - acc: 0.1668 - val_loss: 2.2207 - val_acc: 0.1595 - _timestamp: 1649374606.0000 - _runtime: 1261.0000\n"
          ]
        },
        {
          "output_type": "stream",
          "name": "stderr",
          "text": [
            "\u001b[34m\u001b[1mwandb\u001b[0m: Agent Starting Run: 7oatkqa4 with config:\n",
            "\u001b[34m\u001b[1mwandb\u001b[0m: \tactivation: relu\n",
            "\u001b[34m\u001b[1mwandb\u001b[0m: \tbatch_norm: True\n",
            "\u001b[34m\u001b[1mwandb\u001b[0m: \tconv_layers: 5\n",
            "\u001b[34m\u001b[1mwandb\u001b[0m: \tdata_aug: True\n",
            "\u001b[34m\u001b[1mwandb\u001b[0m: \tdense_size: 64\n",
            "\u001b[34m\u001b[1mwandb\u001b[0m: \tdropout: 0.3\n",
            "\u001b[34m\u001b[1mwandb\u001b[0m: \tfilter_org: 2\n",
            "\u001b[34m\u001b[1mwandb\u001b[0m: \tfirst_layer_filters: 32\n",
            "\u001b[34m\u001b[1mwandb\u001b[0m: \tkernel_size: 7\n",
            "\u001b[34m\u001b[1mwandb\u001b[0m: \tnum_epochs: 20\n",
            "\u001b[34m\u001b[1mwandb\u001b[0m: \toptimizer: adam\n"
          ]
        },
        {
          "output_type": "display_data",
          "data": {
            "text/plain": [
              "<IPython.core.display.HTML object>"
            ],
            "text/html": [
              "Tracking run with wandb version 0.12.13"
            ]
          },
          "metadata": {}
        },
        {
          "output_type": "display_data",
          "data": {
            "text/plain": [
              "<IPython.core.display.HTML object>"
            ],
            "text/html": [
              "Run data is saved locally in <code>/content/wandb/run-20220407_233652-7oatkqa4</code>"
            ]
          },
          "metadata": {}
        },
        {
          "output_type": "display_data",
          "data": {
            "text/plain": [
              "<IPython.core.display.HTML object>"
            ],
            "text/html": [
              "Syncing run <strong><a href=\"https://wandb.ai/go4rav/CS6910%20Assignment2/runs/7oatkqa4\" target=\"_blank\">wandering-sweep-7</a></strong> to <a href=\"https://wandb.ai/go4rav/CS6910%20Assignment2\" target=\"_blank\">Weights & Biases</a> (<a href=\"https://wandb.me/run\" target=\"_blank\">docs</a>)<br/>Sweep page:  <a href=\"https://wandb.ai/go4rav/CS6910%20Assignment2/sweeps/4z474dtx\" target=\"_blank\">https://wandb.ai/go4rav/CS6910%20Assignment2/sweeps/4z474dtx</a>"
            ]
          },
          "metadata": {}
        },
        {
          "output_type": "display_data",
          "data": {
            "text/plain": [
              "<IPython.core.display.HTML object>"
            ],
            "text/html": [
              "Finishing last run (ID:7oatkqa4) before initializing another..."
            ]
          },
          "metadata": {}
        },
        {
          "output_type": "stream",
          "name": "stdout",
          "text": [
            "\n"
          ]
        },
        {
          "output_type": "display_data",
          "data": {
            "text/plain": [
              "<IPython.core.display.HTML object>"
            ],
            "text/html": [
              "Waiting for W&B process to finish... <strong style=\"color:green\">(success).</strong>"
            ]
          },
          "metadata": {}
        },
        {
          "output_type": "display_data",
          "data": {
            "text/plain": [
              "VBox(children=(Label(value='0.001 MB of 0.001 MB uploaded (0.000 MB deduped)\\r'), FloatProgress(value=1.0, max…"
            ],
            "application/vnd.jupyter.widget-view+json": {
              "version_major": 2,
              "version_minor": 0,
              "model_id": "4a20c5bd53fb470e9103028df2f8d284"
            }
          },
          "metadata": {}
        },
        {
          "output_type": "display_data",
          "data": {
            "text/plain": [
              "<IPython.core.display.HTML object>"
            ],
            "text/html": [
              "Synced <strong style=\"color:#cdcd00\">wandering-sweep-7</strong>: <a href=\"https://wandb.ai/go4rav/CS6910%20Assignment2/runs/7oatkqa4\" target=\"_blank\">https://wandb.ai/go4rav/CS6910%20Assignment2/runs/7oatkqa4</a><br/>Synced 4 W&B file(s), 0 media file(s), 0 artifact file(s) and 0 other file(s)"
            ]
          },
          "metadata": {}
        },
        {
          "output_type": "display_data",
          "data": {
            "text/plain": [
              "<IPython.core.display.HTML object>"
            ],
            "text/html": [
              "Find logs at: <code>./wandb/run-20220407_233652-7oatkqa4/logs</code>"
            ]
          },
          "metadata": {}
        },
        {
          "output_type": "display_data",
          "data": {
            "text/plain": [
              "<IPython.core.display.HTML object>"
            ],
            "text/html": [
              "Successfully finished last run (ID:7oatkqa4). Initializing new run:<br/>"
            ]
          },
          "metadata": {}
        },
        {
          "output_type": "display_data",
          "data": {
            "text/plain": [
              "<IPython.core.display.HTML object>"
            ],
            "text/html": [
              "Tracking run with wandb version 0.12.13"
            ]
          },
          "metadata": {}
        },
        {
          "output_type": "display_data",
          "data": {
            "text/plain": [
              "<IPython.core.display.HTML object>"
            ],
            "text/html": [
              "Run data is saved locally in <code>/content/wandb/run-20220407_233657-7oatkqa4</code>"
            ]
          },
          "metadata": {}
        },
        {
          "output_type": "display_data",
          "data": {
            "text/plain": [
              "<IPython.core.display.HTML object>"
            ],
            "text/html": [
              "Syncing run <strong><a href=\"https://wandb.ai/go4rav/CS6910%20Assignment2/runs/7oatkqa4\" target=\"_blank\">wandering-sweep-7</a></strong> to <a href=\"https://wandb.ai/go4rav/CS6910%20Assignment2\" target=\"_blank\">Weights & Biases</a> (<a href=\"https://wandb.me/run\" target=\"_blank\">docs</a>)<br/>Sweep page:  <a href=\"https://wandb.ai/go4rav/CS6910%20Assignment2/sweeps/4z474dtx\" target=\"_blank\">https://wandb.ai/go4rav/CS6910%20Assignment2/sweeps/4z474dtx</a>"
            ]
          },
          "metadata": {}
        },
        {
          "output_type": "stream",
          "name": "stdout",
          "text": [
            "Epoch 1/20\n",
            "62/62 [==============================] - 99s 2s/step - loss: 2.5026 - acc: 0.1074 - val_loss: 2.3406 - val_acc: 0.1104 - _timestamp: 1649374727.0000 - _runtime: 105.0000\n",
            "Epoch 2/20\n",
            "62/62 [==============================] - 95s 2s/step - loss: 2.3509 - acc: 0.1447 - val_loss: 2.5090 - val_acc: 0.0958 - _timestamp: 1649374822.0000 - _runtime: 200.0000\n",
            "Epoch 3/20\n",
            "62/62 [==============================] - 94s 2s/step - loss: 2.3065 - acc: 0.1547 - val_loss: 2.5275 - val_acc: 0.1125 - _timestamp: 1649374916.0000 - _runtime: 294.0000\n",
            "Epoch 4/20\n",
            "62/62 [==============================] - 94s 2s/step - loss: 2.3024 - acc: 0.1815 - val_loss: 2.2943 - val_acc: 0.1616 - _timestamp: 1649375011.0000 - _runtime: 389.0000\n",
            "Epoch 5/20\n",
            "62/62 [==============================] - 94s 2s/step - loss: 2.2880 - acc: 0.1689 - val_loss: 2.4352 - val_acc: 0.1417 - _timestamp: 1649375153.0000 - _runtime: 531.0000\n",
            "Epoch 6/20\n",
            "62/62 [==============================] - 95s 2s/step - loss: 2.2835 - acc: 0.1678 - val_loss: 2.2000 - val_acc: 0.1958 - _timestamp: 1649375247.0000 - _runtime: 625.0000\n",
            "Epoch 7/20\n",
            "62/62 [==============================] - 91s 1s/step - loss: 2.2555 - acc: 0.1845 - val_loss: 2.2370 - val_acc: 0.1646 - _timestamp: 1649375339.0000 - _runtime: 717.0000\n",
            "Epoch 8/20\n",
            "62/62 [==============================] - 91s 1s/step - loss: 2.2580 - acc: 0.1658 - val_loss: 2.2582 - val_acc: 0.2069 - _timestamp: 1649375430.0000 - _runtime: 808.0000\n",
            "Epoch 9/20\n",
            "62/62 [==============================] - 92s 1s/step - loss: 2.2449 - acc: 0.1739 - val_loss: 2.2354 - val_acc: 0.1479 - _timestamp: 1649375522.0000 - _runtime: 900.0000\n",
            "Epoch 10/20\n",
            "62/62 [==============================] - 92s 1s/step - loss: 2.2493 - acc: 0.1719 - val_loss: 2.2065 - val_acc: 0.1625 - _timestamp: 1649375614.0000 - _runtime: 992.0000\n",
            "Epoch 11/20\n",
            "62/62 [==============================] - 93s 2s/step - loss: 2.2128 - acc: 0.1941 - val_loss: 2.1305 - val_acc: 0.2042 - _timestamp: 1649375707.0000 - _runtime: 1085.0000\n",
            "Epoch 12/20\n",
            "62/62 [==============================] - 92s 1s/step - loss: 2.2080 - acc: 0.2082 - val_loss: 2.3240 - val_acc: 0.1379 - _timestamp: 1649375848.0000 - _runtime: 1226.0000\n",
            "Epoch 13/20\n",
            "62/62 [==============================] - 93s 1s/step - loss: 2.1872 - acc: 0.2067 - val_loss: 2.2912 - val_acc: 0.1833 - _timestamp: 1649375941.0000 - _runtime: 1319.0000\n"
          ]
        },
        {
          "output_type": "stream",
          "name": "stderr",
          "text": [
            "\u001b[34m\u001b[1mwandb\u001b[0m: Agent Starting Run: h67fzudz with config:\n",
            "\u001b[34m\u001b[1mwandb\u001b[0m: \tactivation: relu\n",
            "\u001b[34m\u001b[1mwandb\u001b[0m: \tbatch_norm: False\n",
            "\u001b[34m\u001b[1mwandb\u001b[0m: \tconv_layers: 5\n",
            "\u001b[34m\u001b[1mwandb\u001b[0m: \tdata_aug: True\n",
            "\u001b[34m\u001b[1mwandb\u001b[0m: \tdense_size: 64\n",
            "\u001b[34m\u001b[1mwandb\u001b[0m: \tdropout: 0.2\n",
            "\u001b[34m\u001b[1mwandb\u001b[0m: \tfilter_org: 0.5\n",
            "\u001b[34m\u001b[1mwandb\u001b[0m: \tfirst_layer_filters: 64\n",
            "\u001b[34m\u001b[1mwandb\u001b[0m: \tkernel_size: 5\n",
            "\u001b[34m\u001b[1mwandb\u001b[0m: \tnum_epochs: 15\n",
            "\u001b[34m\u001b[1mwandb\u001b[0m: \toptimizer: adam\n"
          ]
        },
        {
          "output_type": "display_data",
          "data": {
            "text/plain": [
              "<IPython.core.display.HTML object>"
            ],
            "text/html": [
              "Tracking run with wandb version 0.12.13"
            ]
          },
          "metadata": {}
        },
        {
          "output_type": "display_data",
          "data": {
            "text/plain": [
              "<IPython.core.display.HTML object>"
            ],
            "text/html": [
              "Run data is saved locally in <code>/content/wandb/run-20220407_235952-h67fzudz</code>"
            ]
          },
          "metadata": {}
        },
        {
          "output_type": "display_data",
          "data": {
            "text/plain": [
              "<IPython.core.display.HTML object>"
            ],
            "text/html": [
              "Syncing run <strong><a href=\"https://wandb.ai/go4rav/CS6910%20Assignment2/runs/h67fzudz\" target=\"_blank\">fearless-sweep-8</a></strong> to <a href=\"https://wandb.ai/go4rav/CS6910%20Assignment2\" target=\"_blank\">Weights & Biases</a> (<a href=\"https://wandb.me/run\" target=\"_blank\">docs</a>)<br/>Sweep page:  <a href=\"https://wandb.ai/go4rav/CS6910%20Assignment2/sweeps/4z474dtx\" target=\"_blank\">https://wandb.ai/go4rav/CS6910%20Assignment2/sweeps/4z474dtx</a>"
            ]
          },
          "metadata": {}
        },
        {
          "output_type": "display_data",
          "data": {
            "text/plain": [
              "<IPython.core.display.HTML object>"
            ],
            "text/html": [
              "Finishing last run (ID:h67fzudz) before initializing another..."
            ]
          },
          "metadata": {}
        },
        {
          "output_type": "stream",
          "name": "stdout",
          "text": [
            "\n"
          ]
        },
        {
          "output_type": "display_data",
          "data": {
            "text/plain": [
              "<IPython.core.display.HTML object>"
            ],
            "text/html": [
              "Waiting for W&B process to finish... <strong style=\"color:green\">(success).</strong>"
            ]
          },
          "metadata": {}
        },
        {
          "output_type": "display_data",
          "data": {
            "text/plain": [
              "VBox(children=(Label(value='0.001 MB of 0.001 MB uploaded (0.000 MB deduped)\\r'), FloatProgress(value=1.0, max…"
            ],
            "application/vnd.jupyter.widget-view+json": {
              "version_major": 2,
              "version_minor": 0,
              "model_id": "b7c5f26548564c61bb37c1802c490f28"
            }
          },
          "metadata": {}
        },
        {
          "output_type": "display_data",
          "data": {
            "text/plain": [
              "<IPython.core.display.HTML object>"
            ],
            "text/html": [
              "Synced <strong style=\"color:#cdcd00\">fearless-sweep-8</strong>: <a href=\"https://wandb.ai/go4rav/CS6910%20Assignment2/runs/h67fzudz\" target=\"_blank\">https://wandb.ai/go4rav/CS6910%20Assignment2/runs/h67fzudz</a><br/>Synced 4 W&B file(s), 0 media file(s), 0 artifact file(s) and 0 other file(s)"
            ]
          },
          "metadata": {}
        },
        {
          "output_type": "display_data",
          "data": {
            "text/plain": [
              "<IPython.core.display.HTML object>"
            ],
            "text/html": [
              "Find logs at: <code>./wandb/run-20220407_235952-h67fzudz/logs</code>"
            ]
          },
          "metadata": {}
        },
        {
          "output_type": "display_data",
          "data": {
            "text/plain": [
              "<IPython.core.display.HTML object>"
            ],
            "text/html": [
              "Successfully finished last run (ID:h67fzudz). Initializing new run:<br/>"
            ]
          },
          "metadata": {}
        },
        {
          "output_type": "display_data",
          "data": {
            "text/plain": [
              "<IPython.core.display.HTML object>"
            ],
            "text/html": [
              "Tracking run with wandb version 0.12.13"
            ]
          },
          "metadata": {}
        },
        {
          "output_type": "display_data",
          "data": {
            "text/plain": [
              "<IPython.core.display.HTML object>"
            ],
            "text/html": [
              "Run data is saved locally in <code>/content/wandb/run-20220407_235958-h67fzudz</code>"
            ]
          },
          "metadata": {}
        },
        {
          "output_type": "display_data",
          "data": {
            "text/plain": [
              "<IPython.core.display.HTML object>"
            ],
            "text/html": [
              "Syncing run <strong><a href=\"https://wandb.ai/go4rav/CS6910%20Assignment2/runs/h67fzudz\" target=\"_blank\">fearless-sweep-8</a></strong> to <a href=\"https://wandb.ai/go4rav/CS6910%20Assignment2\" target=\"_blank\">Weights & Biases</a> (<a href=\"https://wandb.me/run\" target=\"_blank\">docs</a>)<br/>Sweep page:  <a href=\"https://wandb.ai/go4rav/CS6910%20Assignment2/sweeps/4z474dtx\" target=\"_blank\">https://wandb.ai/go4rav/CS6910%20Assignment2/sweeps/4z474dtx</a>"
            ]
          },
          "metadata": {}
        },
        {
          "output_type": "stream",
          "name": "stdout",
          "text": [
            "Epoch 1/15\n",
            "62/62 [==============================] - 91s 1s/step - loss: 2.3039 - acc: 0.0902 - val_loss: 2.3028 - val_acc: 0.1083 - _timestamp: 1649376098.0000 - _runtime: 96.0000\n",
            "Epoch 2/15\n",
            "62/62 [==============================] - 88s 1s/step - loss: 2.3025 - acc: 0.0862 - val_loss: 2.3027 - val_acc: 0.0896 - _timestamp: 1649376186.0000 - _runtime: 184.0000\n",
            "Epoch 3/15\n",
            "62/62 [==============================] - 88s 1s/step - loss: 2.3025 - acc: 0.0953 - val_loss: 2.2753 - val_acc: 0.1185 - _timestamp: 1649376274.0000 - _runtime: 272.0000\n",
            "Epoch 4/15\n",
            "62/62 [==============================] - 87s 1s/step - loss: 2.2991 - acc: 0.1089 - val_loss: 2.2981 - val_acc: 0.1354 - _timestamp: 1649376361.0000 - _runtime: 359.0000\n",
            "Epoch 5/15\n",
            "62/62 [==============================] - 88s 1s/step - loss: 2.2979 - acc: 0.1074 - val_loss: 2.2889 - val_acc: 0.1458 - _timestamp: 1649376449.0000 - _runtime: 447.0000\n",
            "Epoch 6/15\n",
            "62/62 [==============================] - 88s 1s/step - loss: 2.2965 - acc: 0.1275 - val_loss: 2.2961 - val_acc: 0.1437 - _timestamp: 1649376537.0000 - _runtime: 535.0000\n",
            "Epoch 7/15\n",
            "62/62 [==============================] - 87s 1s/step - loss: 2.2967 - acc: 0.1064 - val_loss: 2.2816 - val_acc: 0.1292 - _timestamp: 1649376624.0000 - _runtime: 622.0000\n",
            "Epoch 8/15\n",
            "62/62 [==============================] - 85s 1s/step - loss: 2.2866 - acc: 0.1341 - val_loss: 2.2873 - val_acc: 0.1250 - _timestamp: 1649376709.0000 - _runtime: 707.0000\n",
            "Epoch 9/15\n",
            "62/62 [==============================] - 86s 1s/step - loss: 2.2833 - acc: 0.1245 - val_loss: 2.2963 - val_acc: 0.1271 - _timestamp: 1649376796.0000 - _runtime: 794.0000\n",
            "Epoch 10/15\n",
            "62/62 [==============================] - 87s 1s/step - loss: 2.2919 - acc: 0.1048 - val_loss: 2.2854 - val_acc: 0.1312 - _timestamp: 1649376883.0000 - _runtime: 881.0000\n"
          ]
        },
        {
          "output_type": "stream",
          "name": "stderr",
          "text": [
            "\u001b[34m\u001b[1mwandb\u001b[0m: Agent Starting Run: 7l20iogj with config:\n",
            "\u001b[34m\u001b[1mwandb\u001b[0m: \tactivation: relu\n",
            "\u001b[34m\u001b[1mwandb\u001b[0m: \tbatch_norm: True\n",
            "\u001b[34m\u001b[1mwandb\u001b[0m: \tconv_layers: 5\n",
            "\u001b[34m\u001b[1mwandb\u001b[0m: \tdata_aug: False\n",
            "\u001b[34m\u001b[1mwandb\u001b[0m: \tdense_size: 1024\n",
            "\u001b[34m\u001b[1mwandb\u001b[0m: \tdropout: 0.3\n",
            "\u001b[34m\u001b[1mwandb\u001b[0m: \tfilter_org: 0.5\n",
            "\u001b[34m\u001b[1mwandb\u001b[0m: \tfirst_layer_filters: 32\n",
            "\u001b[34m\u001b[1mwandb\u001b[0m: \tkernel_size: 5\n",
            "\u001b[34m\u001b[1mwandb\u001b[0m: \tnum_epochs: 10\n",
            "\u001b[34m\u001b[1mwandb\u001b[0m: \toptimizer: adam\n"
          ]
        },
        {
          "output_type": "display_data",
          "data": {
            "text/plain": [
              "<IPython.core.display.HTML object>"
            ],
            "text/html": [
              "Tracking run with wandb version 0.12.13"
            ]
          },
          "metadata": {}
        },
        {
          "output_type": "display_data",
          "data": {
            "text/plain": [
              "<IPython.core.display.HTML object>"
            ],
            "text/html": [
              "Run data is saved locally in <code>/content/wandb/run-20220408_001539-7l20iogj</code>"
            ]
          },
          "metadata": {}
        },
        {
          "output_type": "display_data",
          "data": {
            "text/plain": [
              "<IPython.core.display.HTML object>"
            ],
            "text/html": [
              "Syncing run <strong><a href=\"https://wandb.ai/go4rav/CS6910%20Assignment2/runs/7l20iogj\" target=\"_blank\">lively-sweep-9</a></strong> to <a href=\"https://wandb.ai/go4rav/CS6910%20Assignment2\" target=\"_blank\">Weights & Biases</a> (<a href=\"https://wandb.me/run\" target=\"_blank\">docs</a>)<br/>Sweep page:  <a href=\"https://wandb.ai/go4rav/CS6910%20Assignment2/sweeps/4z474dtx\" target=\"_blank\">https://wandb.ai/go4rav/CS6910%20Assignment2/sweeps/4z474dtx</a>"
            ]
          },
          "metadata": {}
        },
        {
          "output_type": "display_data",
          "data": {
            "text/plain": [
              "<IPython.core.display.HTML object>"
            ],
            "text/html": [
              "Finishing last run (ID:7l20iogj) before initializing another..."
            ]
          },
          "metadata": {}
        },
        {
          "output_type": "stream",
          "name": "stdout",
          "text": [
            "\n"
          ]
        },
        {
          "output_type": "display_data",
          "data": {
            "text/plain": [
              "<IPython.core.display.HTML object>"
            ],
            "text/html": [
              "Waiting for W&B process to finish... <strong style=\"color:green\">(success).</strong>"
            ]
          },
          "metadata": {}
        },
        {
          "output_type": "display_data",
          "data": {
            "text/plain": [
              "VBox(children=(Label(value='0.001 MB of 0.001 MB uploaded (0.000 MB deduped)\\r'), FloatProgress(value=1.0, max…"
            ],
            "application/vnd.jupyter.widget-view+json": {
              "version_major": 2,
              "version_minor": 0,
              "model_id": "6c0c29a7b89d4478b39cb381accaaa3c"
            }
          },
          "metadata": {}
        },
        {
          "output_type": "display_data",
          "data": {
            "text/plain": [
              "<IPython.core.display.HTML object>"
            ],
            "text/html": [
              "Synced <strong style=\"color:#cdcd00\">lively-sweep-9</strong>: <a href=\"https://wandb.ai/go4rav/CS6910%20Assignment2/runs/7l20iogj\" target=\"_blank\">https://wandb.ai/go4rav/CS6910%20Assignment2/runs/7l20iogj</a><br/>Synced 4 W&B file(s), 0 media file(s), 0 artifact file(s) and 0 other file(s)"
            ]
          },
          "metadata": {}
        },
        {
          "output_type": "display_data",
          "data": {
            "text/plain": [
              "<IPython.core.display.HTML object>"
            ],
            "text/html": [
              "Find logs at: <code>./wandb/run-20220408_001539-7l20iogj/logs</code>"
            ]
          },
          "metadata": {}
        },
        {
          "output_type": "display_data",
          "data": {
            "text/plain": [
              "<IPython.core.display.HTML object>"
            ],
            "text/html": [
              "Successfully finished last run (ID:7l20iogj). Initializing new run:<br/>"
            ]
          },
          "metadata": {}
        },
        {
          "output_type": "display_data",
          "data": {
            "text/plain": [
              "<IPython.core.display.HTML object>"
            ],
            "text/html": [
              "Tracking run with wandb version 0.12.13"
            ]
          },
          "metadata": {}
        },
        {
          "output_type": "display_data",
          "data": {
            "text/plain": [
              "<IPython.core.display.HTML object>"
            ],
            "text/html": [
              "Run data is saved locally in <code>/content/wandb/run-20220408_001545-7l20iogj</code>"
            ]
          },
          "metadata": {}
        },
        {
          "output_type": "display_data",
          "data": {
            "text/plain": [
              "<IPython.core.display.HTML object>"
            ],
            "text/html": [
              "Syncing run <strong><a href=\"https://wandb.ai/go4rav/CS6910%20Assignment2/runs/7l20iogj\" target=\"_blank\">lively-sweep-9</a></strong> to <a href=\"https://wandb.ai/go4rav/CS6910%20Assignment2\" target=\"_blank\">Weights & Biases</a> (<a href=\"https://wandb.me/run\" target=\"_blank\">docs</a>)<br/>Sweep page:  <a href=\"https://wandb.ai/go4rav/CS6910%20Assignment2/sweeps/4z474dtx\" target=\"_blank\">https://wandb.ai/go4rav/CS6910%20Assignment2/sweeps/4z474dtx</a>"
            ]
          },
          "metadata": {}
        },
        {
          "output_type": "stream",
          "name": "stdout",
          "text": [
            "Epoch 1/10\n",
            "62/62 [==============================] - 28s 383ms/step - loss: 2.6400 - acc: 0.1305 - val_loss: 2.3084 - val_acc: 0.1021 - _timestamp: 1649376983.0000 - _runtime: 33.0000\n",
            "Epoch 2/10\n",
            "62/62 [==============================] - 25s 370ms/step - loss: 2.4658 - acc: 0.1648 - val_loss: 2.3229 - val_acc: 0.0938 - _timestamp: 1649377023.0000 - _runtime: 73.0000\n",
            "Epoch 3/10\n",
            "62/62 [==============================] - 25s 371ms/step - loss: 2.2961 - acc: 0.2056 - val_loss: 2.3514 - val_acc: 0.1042 - _timestamp: 1649377048.0000 - _runtime: 98.0000\n",
            "Epoch 4/10\n",
            "62/62 [==============================] - 25s 370ms/step - loss: 2.2748 - acc: 0.2061 - val_loss: 2.4032 - val_acc: 0.1125 - _timestamp: 1649377089.0000 - _runtime: 139.0000\n",
            "Epoch 5/10\n",
            "62/62 [==============================] - 25s 373ms/step - loss: 2.1886 - acc: 0.2278 - val_loss: 2.5071 - val_acc: 0.1000 - _timestamp: 1649377130.0000 - _runtime: 180.0000\n",
            "Epoch 6/10\n",
            "62/62 [==============================] - 25s 373ms/step - loss: 2.1162 - acc: 0.2515 - val_loss: 2.3427 - val_acc: 0.1521 - _timestamp: 1649377155.0000 - _runtime: 205.0000\n",
            "Epoch 7/10\n",
            "62/62 [==============================] - 25s 369ms/step - loss: 2.0727 - acc: 0.2782 - val_loss: 2.4343 - val_acc: 0.1312 - _timestamp: 1649377196.0000 - _runtime: 246.0000\n",
            "Epoch 8/10\n",
            "62/62 [==============================] - 25s 373ms/step - loss: 2.0186 - acc: 0.2918 - val_loss: 2.3676 - val_acc: 0.1583 - _timestamp: 1649377221.0000 - _runtime: 271.0000\n",
            "Epoch 9/10\n",
            "62/62 [==============================] - 25s 368ms/step - loss: 1.9435 - acc: 0.3049 - val_loss: 2.3834 - val_acc: 0.2208 - _timestamp: 1649377246.0000 - _runtime: 296.0000\n",
            "Epoch 10/10\n",
            "62/62 [==============================] - 25s 371ms/step - loss: 1.8964 - acc: 0.3246 - val_loss: 2.3672 - val_acc: 0.1688 - _timestamp: 1649377287.0000 - _runtime: 337.0000\n"
          ]
        },
        {
          "output_type": "stream",
          "name": "stderr",
          "text": [
            "\u001b[34m\u001b[1mwandb\u001b[0m: Agent Starting Run: 0e9imlps with config:\n",
            "\u001b[34m\u001b[1mwandb\u001b[0m: \tactivation: relu\n",
            "\u001b[34m\u001b[1mwandb\u001b[0m: \tbatch_norm: True\n",
            "\u001b[34m\u001b[1mwandb\u001b[0m: \tconv_layers: 5\n",
            "\u001b[34m\u001b[1mwandb\u001b[0m: \tdata_aug: False\n",
            "\u001b[34m\u001b[1mwandb\u001b[0m: \tdense_size: 1024\n",
            "\u001b[34m\u001b[1mwandb\u001b[0m: \tdropout: 0\n",
            "\u001b[34m\u001b[1mwandb\u001b[0m: \tfilter_org: 1\n",
            "\u001b[34m\u001b[1mwandb\u001b[0m: \tfirst_layer_filters: 64\n",
            "\u001b[34m\u001b[1mwandb\u001b[0m: \tkernel_size: 7\n",
            "\u001b[34m\u001b[1mwandb\u001b[0m: \tnum_epochs: 20\n",
            "\u001b[34m\u001b[1mwandb\u001b[0m: \toptimizer: adam\n"
          ]
        },
        {
          "output_type": "display_data",
          "data": {
            "text/plain": [
              "<IPython.core.display.HTML object>"
            ],
            "text/html": [
              "Tracking run with wandb version 0.12.13"
            ]
          },
          "metadata": {}
        },
        {
          "output_type": "display_data",
          "data": {
            "text/plain": [
              "<IPython.core.display.HTML object>"
            ],
            "text/html": [
              "Run data is saved locally in <code>/content/wandb/run-20220408_002133-0e9imlps</code>"
            ]
          },
          "metadata": {}
        },
        {
          "output_type": "display_data",
          "data": {
            "text/plain": [
              "<IPython.core.display.HTML object>"
            ],
            "text/html": [
              "Syncing run <strong><a href=\"https://wandb.ai/go4rav/CS6910%20Assignment2/runs/0e9imlps\" target=\"_blank\">copper-sweep-10</a></strong> to <a href=\"https://wandb.ai/go4rav/CS6910%20Assignment2\" target=\"_blank\">Weights & Biases</a> (<a href=\"https://wandb.me/run\" target=\"_blank\">docs</a>)<br/>Sweep page:  <a href=\"https://wandb.ai/go4rav/CS6910%20Assignment2/sweeps/4z474dtx\" target=\"_blank\">https://wandb.ai/go4rav/CS6910%20Assignment2/sweeps/4z474dtx</a>"
            ]
          },
          "metadata": {}
        },
        {
          "output_type": "display_data",
          "data": {
            "text/plain": [
              "<IPython.core.display.HTML object>"
            ],
            "text/html": [
              "Finishing last run (ID:0e9imlps) before initializing another..."
            ]
          },
          "metadata": {}
        },
        {
          "output_type": "stream",
          "name": "stdout",
          "text": [
            "\n"
          ]
        },
        {
          "output_type": "display_data",
          "data": {
            "text/plain": [
              "<IPython.core.display.HTML object>"
            ],
            "text/html": [
              "Waiting for W&B process to finish... <strong style=\"color:green\">(success).</strong>"
            ]
          },
          "metadata": {}
        },
        {
          "output_type": "display_data",
          "data": {
            "text/plain": [
              "VBox(children=(Label(value='0.001 MB of 0.001 MB uploaded (0.000 MB deduped)\\r'), FloatProgress(value=1.0, max…"
            ],
            "application/vnd.jupyter.widget-view+json": {
              "version_major": 2,
              "version_minor": 0,
              "model_id": "f2dce3b8280e483995f9dce2ff1a0e94"
            }
          },
          "metadata": {}
        },
        {
          "output_type": "display_data",
          "data": {
            "text/plain": [
              "<IPython.core.display.HTML object>"
            ],
            "text/html": [
              "Synced <strong style=\"color:#cdcd00\">copper-sweep-10</strong>: <a href=\"https://wandb.ai/go4rav/CS6910%20Assignment2/runs/0e9imlps\" target=\"_blank\">https://wandb.ai/go4rav/CS6910%20Assignment2/runs/0e9imlps</a><br/>Synced 4 W&B file(s), 0 media file(s), 0 artifact file(s) and 0 other file(s)"
            ]
          },
          "metadata": {}
        },
        {
          "output_type": "display_data",
          "data": {
            "text/plain": [
              "<IPython.core.display.HTML object>"
            ],
            "text/html": [
              "Find logs at: <code>./wandb/run-20220408_002133-0e9imlps/logs</code>"
            ]
          },
          "metadata": {}
        },
        {
          "output_type": "display_data",
          "data": {
            "text/plain": [
              "<IPython.core.display.HTML object>"
            ],
            "text/html": [
              "Successfully finished last run (ID:0e9imlps). Initializing new run:<br/>"
            ]
          },
          "metadata": {}
        },
        {
          "output_type": "display_data",
          "data": {
            "text/plain": [
              "<IPython.core.display.HTML object>"
            ],
            "text/html": [
              "Tracking run with wandb version 0.12.13"
            ]
          },
          "metadata": {}
        },
        {
          "output_type": "display_data",
          "data": {
            "text/plain": [
              "<IPython.core.display.HTML object>"
            ],
            "text/html": [
              "Run data is saved locally in <code>/content/wandb/run-20220408_002139-0e9imlps</code>"
            ]
          },
          "metadata": {}
        },
        {
          "output_type": "display_data",
          "data": {
            "text/plain": [
              "<IPython.core.display.HTML object>"
            ],
            "text/html": [
              "Syncing run <strong><a href=\"https://wandb.ai/go4rav/CS6910%20Assignment2/runs/0e9imlps\" target=\"_blank\">copper-sweep-10</a></strong> to <a href=\"https://wandb.ai/go4rav/CS6910%20Assignment2\" target=\"_blank\">Weights & Biases</a> (<a href=\"https://wandb.me/run\" target=\"_blank\">docs</a>)<br/>Sweep page:  <a href=\"https://wandb.ai/go4rav/CS6910%20Assignment2/sweeps/4z474dtx\" target=\"_blank\">https://wandb.ai/go4rav/CS6910%20Assignment2/sweeps/4z474dtx</a>"
            ]
          },
          "metadata": {}
        },
        {
          "output_type": "stream",
          "name": "stdout",
          "text": [
            "Epoch 1/20\n",
            "62/62 [==============================] - 35s 442ms/step - loss: 2.5116 - acc: 0.1628 - val_loss: 2.8296 - val_acc: 0.1063 - _timestamp: 1649377344.0000 - _runtime: 41.0000\n",
            "Epoch 2/20\n",
            "62/62 [==============================] - 29s 433ms/step - loss: 2.2040 - acc: 0.2308 - val_loss: 2.7256 - val_acc: 0.1292 - _timestamp: 1649377380.0000 - _runtime: 77.0000\n",
            "Epoch 3/20\n",
            "62/62 [==============================] - 29s 435ms/step - loss: 2.1343 - acc: 0.2555 - val_loss: 2.4488 - val_acc: 0.1375 - _timestamp: 1649377409.0000 - _runtime: 106.0000\n",
            "Epoch 4/20\n",
            "62/62 [==============================] - 29s 431ms/step - loss: 2.1068 - acc: 0.2631 - val_loss: 2.4667 - val_acc: 0.1688 - _timestamp: 1649377449.0000 - _runtime: 146.0000\n",
            "Epoch 5/20\n",
            "62/62 [==============================] - 29s 429ms/step - loss: 2.0461 - acc: 0.2863 - val_loss: 2.8416 - val_acc: 0.1667 - _timestamp: 1649377478.0000 - _runtime: 175.0000\n",
            "Epoch 6/20\n",
            "62/62 [==============================] - 28s 428ms/step - loss: 1.9829 - acc: 0.3160 - val_loss: 2.4952 - val_acc: 0.1708 - _timestamp: 1649377507.0000 - _runtime: 204.0000\n",
            "Epoch 7/20\n",
            "62/62 [==============================] - 29s 432ms/step - loss: 1.9095 - acc: 0.3392 - val_loss: 3.1050 - val_acc: 0.1417 - _timestamp: 1649377535.0000 - _runtime: 232.0000\n",
            "Epoch 8/20\n",
            "62/62 [==============================] - 28s 428ms/step - loss: 1.8873 - acc: 0.3397 - val_loss: 2.5441 - val_acc: 0.1688 - _timestamp: 1649377564.0000 - _runtime: 261.0000\n",
            "Epoch 9/20\n",
            "62/62 [==============================] - 29s 433ms/step - loss: 1.7215 - acc: 0.4042 - val_loss: 3.3330 - val_acc: 0.1937 - _timestamp: 1649377593.0000 - _runtime: 290.0000\n",
            "Epoch 10/20\n",
            "62/62 [==============================] - 29s 430ms/step - loss: 1.6169 - acc: 0.4425 - val_loss: 3.6792 - val_acc: 0.1312 - _timestamp: 1649377633.0000 - _runtime: 330.0000\n",
            "Epoch 11/20\n",
            "62/62 [==============================] - 29s 431ms/step - loss: 1.5127 - acc: 0.4854 - val_loss: 2.9068 - val_acc: 0.1625 - _timestamp: 1649377662.0000 - _runtime: 359.0000\n",
            "Epoch 12/20\n",
            "62/62 [==============================] - 29s 431ms/step - loss: 1.3876 - acc: 0.5136 - val_loss: 2.9011 - val_acc: 0.2146 - _timestamp: 1649377691.0000 - _runtime: 388.0000\n",
            "Epoch 13/20\n",
            "62/62 [==============================] - 29s 430ms/step - loss: 1.1991 - acc: 0.5953 - val_loss: 3.1769 - val_acc: 0.1833 - _timestamp: 1649377732.0000 - _runtime: 429.0000\n",
            "Epoch 14/20\n",
            "62/62 [==============================] - 29s 433ms/step - loss: 1.0194 - acc: 0.6628 - val_loss: 2.7596 - val_acc: 0.1813 - _timestamp: 1649377773.0000 - _runtime: 470.0000\n",
            "Epoch 15/20\n",
            "62/62 [==============================] - 29s 430ms/step - loss: 0.8596 - acc: 0.7117 - val_loss: 3.1502 - val_acc: 0.1833 - _timestamp: 1649377814.0000 - _runtime: 511.0000\n",
            "Epoch 16/20\n",
            "62/62 [==============================] - 29s 432ms/step - loss: 0.6219 - acc: 0.8160 - val_loss: 3.4204 - val_acc: 0.2208 - _timestamp: 1649377855.0000 - _runtime: 552.0000\n",
            "Epoch 17/20\n",
            "62/62 [==============================] - 29s 431ms/step - loss: 0.4946 - acc: 0.8432 - val_loss: 3.3983 - val_acc: 0.2104 - _timestamp: 1649377896.0000 - _runtime: 593.0000\n",
            "Epoch 18/20\n",
            "62/62 [==============================] - 29s 429ms/step - loss: 0.4386 - acc: 0.8629 - val_loss: 3.6854 - val_acc: 0.1979 - _timestamp: 1649377924.0000 - _runtime: 621.0000\n",
            "Epoch 19/20\n",
            "62/62 [==============================] - 29s 430ms/step - loss: 0.3076 - acc: 0.9123 - val_loss: 3.5818 - val_acc: 0.1917 - _timestamp: 1649377953.0000 - _runtime: 650.0000\n",
            "Epoch 20/20\n",
            "62/62 [==============================] - 29s 431ms/step - loss: 0.2374 - acc: 0.9289 - val_loss: 3.7528 - val_acc: 0.2313 - _timestamp: 1649377994.0000 - _runtime: 691.0000\n"
          ]
        },
        {
          "output_type": "stream",
          "name": "stderr",
          "text": [
            "\u001b[34m\u001b[1mwandb\u001b[0m: Sweep Agent: Waiting for job.\n",
            "\u001b[34m\u001b[1mwandb\u001b[0m: Job received.\n",
            "\u001b[34m\u001b[1mwandb\u001b[0m: Agent Starting Run: o1zg7y0n with config:\n",
            "\u001b[34m\u001b[1mwandb\u001b[0m: \tactivation: relu\n",
            "\u001b[34m\u001b[1mwandb\u001b[0m: \tbatch_norm: False\n",
            "\u001b[34m\u001b[1mwandb\u001b[0m: \tconv_layers: 5\n",
            "\u001b[34m\u001b[1mwandb\u001b[0m: \tdata_aug: True\n",
            "\u001b[34m\u001b[1mwandb\u001b[0m: \tdense_size: 1024\n",
            "\u001b[34m\u001b[1mwandb\u001b[0m: \tdropout: 0\n",
            "\u001b[34m\u001b[1mwandb\u001b[0m: \tfilter_org: 1\n",
            "\u001b[34m\u001b[1mwandb\u001b[0m: \tfirst_layer_filters: 32\n",
            "\u001b[34m\u001b[1mwandb\u001b[0m: \tkernel_size: 3\n",
            "\u001b[34m\u001b[1mwandb\u001b[0m: \tnum_epochs: 20\n",
            "\u001b[34m\u001b[1mwandb\u001b[0m: \toptimizer: adam\n"
          ]
        },
        {
          "output_type": "display_data",
          "data": {
            "text/plain": [
              "<IPython.core.display.HTML object>"
            ],
            "text/html": [
              "Tracking run with wandb version 0.12.13"
            ]
          },
          "metadata": {}
        },
        {
          "output_type": "display_data",
          "data": {
            "text/plain": [
              "<IPython.core.display.HTML object>"
            ],
            "text/html": [
              "Run data is saved locally in <code>/content/wandb/run-20220408_003339-o1zg7y0n</code>"
            ]
          },
          "metadata": {}
        },
        {
          "output_type": "display_data",
          "data": {
            "text/plain": [
              "<IPython.core.display.HTML object>"
            ],
            "text/html": [
              "Syncing run <strong><a href=\"https://wandb.ai/go4rav/CS6910%20Assignment2/runs/o1zg7y0n\" target=\"_blank\">ancient-sweep-11</a></strong> to <a href=\"https://wandb.ai/go4rav/CS6910%20Assignment2\" target=\"_blank\">Weights & Biases</a> (<a href=\"https://wandb.me/run\" target=\"_blank\">docs</a>)<br/>Sweep page:  <a href=\"https://wandb.ai/go4rav/CS6910%20Assignment2/sweeps/4z474dtx\" target=\"_blank\">https://wandb.ai/go4rav/CS6910%20Assignment2/sweeps/4z474dtx</a>"
            ]
          },
          "metadata": {}
        },
        {
          "output_type": "display_data",
          "data": {
            "text/plain": [
              "<IPython.core.display.HTML object>"
            ],
            "text/html": [
              "Finishing last run (ID:o1zg7y0n) before initializing another..."
            ]
          },
          "metadata": {}
        },
        {
          "output_type": "stream",
          "name": "stdout",
          "text": [
            "\n"
          ]
        },
        {
          "output_type": "display_data",
          "data": {
            "text/plain": [
              "<IPython.core.display.HTML object>"
            ],
            "text/html": [
              "Waiting for W&B process to finish... <strong style=\"color:green\">(success).</strong>"
            ]
          },
          "metadata": {}
        },
        {
          "output_type": "display_data",
          "data": {
            "text/plain": [
              "VBox(children=(Label(value='0.001 MB of 0.001 MB uploaded (0.000 MB deduped)\\r'), FloatProgress(value=1.0, max…"
            ],
            "application/vnd.jupyter.widget-view+json": {
              "version_major": 2,
              "version_minor": 0,
              "model_id": "8c1aecb938ca440994ea025cf13c81a5"
            }
          },
          "metadata": {}
        },
        {
          "output_type": "display_data",
          "data": {
            "text/plain": [
              "<IPython.core.display.HTML object>"
            ],
            "text/html": [
              "Synced <strong style=\"color:#cdcd00\">ancient-sweep-11</strong>: <a href=\"https://wandb.ai/go4rav/CS6910%20Assignment2/runs/o1zg7y0n\" target=\"_blank\">https://wandb.ai/go4rav/CS6910%20Assignment2/runs/o1zg7y0n</a><br/>Synced 4 W&B file(s), 0 media file(s), 0 artifact file(s) and 0 other file(s)"
            ]
          },
          "metadata": {}
        },
        {
          "output_type": "display_data",
          "data": {
            "text/plain": [
              "<IPython.core.display.HTML object>"
            ],
            "text/html": [
              "Find logs at: <code>./wandb/run-20220408_003339-o1zg7y0n/logs</code>"
            ]
          },
          "metadata": {}
        },
        {
          "output_type": "display_data",
          "data": {
            "text/plain": [
              "<IPython.core.display.HTML object>"
            ],
            "text/html": [
              "Successfully finished last run (ID:o1zg7y0n). Initializing new run:<br/>"
            ]
          },
          "metadata": {}
        },
        {
          "output_type": "display_data",
          "data": {
            "text/plain": [
              "<IPython.core.display.HTML object>"
            ],
            "text/html": [
              "Tracking run with wandb version 0.12.13"
            ]
          },
          "metadata": {}
        },
        {
          "output_type": "display_data",
          "data": {
            "text/plain": [
              "<IPython.core.display.HTML object>"
            ],
            "text/html": [
              "Run data is saved locally in <code>/content/wandb/run-20220408_003345-o1zg7y0n</code>"
            ]
          },
          "metadata": {}
        },
        {
          "output_type": "display_data",
          "data": {
            "text/plain": [
              "<IPython.core.display.HTML object>"
            ],
            "text/html": [
              "Syncing run <strong><a href=\"https://wandb.ai/go4rav/CS6910%20Assignment2/runs/o1zg7y0n\" target=\"_blank\">ancient-sweep-11</a></strong> to <a href=\"https://wandb.ai/go4rav/CS6910%20Assignment2\" target=\"_blank\">Weights & Biases</a> (<a href=\"https://wandb.me/run\" target=\"_blank\">docs</a>)<br/>Sweep page:  <a href=\"https://wandb.ai/go4rav/CS6910%20Assignment2/sweeps/4z474dtx\" target=\"_blank\">https://wandb.ai/go4rav/CS6910%20Assignment2/sweeps/4z474dtx</a>"
            ]
          },
          "metadata": {}
        },
        {
          "output_type": "stream",
          "name": "stdout",
          "text": [
            "Epoch 1/20\n",
            "62/62 [==============================] - 85s 1s/step - loss: 2.3011 - acc: 0.1134 - val_loss: 2.3038 - val_acc: 0.1208 - _timestamp: 1649378120.0000 - _runtime: 91.0000\n",
            "Epoch 2/20\n",
            "62/62 [==============================] - 83s 1s/step - loss: 2.2861 - acc: 0.1341 - val_loss: 2.2627 - val_acc: 0.1530 - _timestamp: 1649378260.0000 - _runtime: 231.0000\n",
            "Epoch 3/20\n",
            "62/62 [==============================] - 83s 1s/step - loss: 2.2637 - acc: 0.1552 - val_loss: 2.2428 - val_acc: 0.1312 - _timestamp: 1649378343.0000 - _runtime: 314.0000\n",
            "Epoch 4/20\n",
            "62/62 [==============================] - 83s 1s/step - loss: 2.2231 - acc: 0.1779 - val_loss: 2.2163 - val_acc: 0.1729 - _timestamp: 1649378426.0000 - _runtime: 397.0000\n",
            "Epoch 5/20\n",
            "62/62 [==============================] - 82s 1s/step - loss: 2.2035 - acc: 0.1830 - val_loss: 2.1855 - val_acc: 0.2271 - _timestamp: 1649378508.0000 - _runtime: 479.0000\n",
            "Epoch 6/20\n",
            "62/62 [==============================] - 81s 1s/step - loss: 2.1693 - acc: 0.2041 - val_loss: 2.1322 - val_acc: 0.2177 - _timestamp: 1649378589.0000 - _runtime: 560.0000\n",
            "Epoch 7/20\n",
            "62/62 [==============================] - 81s 1s/step - loss: 2.1727 - acc: 0.1895 - val_loss: 2.1236 - val_acc: 0.2313 - _timestamp: 1649378670.0000 - _runtime: 641.0000\n",
            "Epoch 8/20\n",
            "62/62 [==============================] - 80s 1s/step - loss: 2.1801 - acc: 0.1941 - val_loss: 2.1202 - val_acc: 0.2479 - _timestamp: 1649378750.0000 - _runtime: 721.0000\n",
            "Epoch 9/20\n",
            "62/62 [==============================] - 80s 1s/step - loss: 2.1149 - acc: 0.2409 - val_loss: 2.0839 - val_acc: 0.2104 - _timestamp: 1649378830.0000 - _runtime: 801.0000\n",
            "Epoch 10/20\n",
            "62/62 [==============================] - 80s 1s/step - loss: 2.1451 - acc: 0.2198 - val_loss: 2.1677 - val_acc: 0.2026 - _timestamp: 1649378910.0000 - _runtime: 881.0000\n",
            "Epoch 11/20\n",
            "62/62 [==============================] - 81s 1s/step - loss: 2.1099 - acc: 0.2218 - val_loss: 2.0116 - val_acc: 0.2500 - _timestamp: 1649378991.0000 - _runtime: 962.0000\n",
            "Epoch 12/20\n",
            "62/62 [==============================] - 80s 1s/step - loss: 2.1153 - acc: 0.2319 - val_loss: 2.0793 - val_acc: 0.2458 - _timestamp: 1649379072.0000 - _runtime: 1043.0000\n",
            "Epoch 13/20\n",
            "62/62 [==============================] - 81s 1s/step - loss: 2.0899 - acc: 0.2344 - val_loss: 2.1066 - val_acc: 0.2396 - _timestamp: 1649379153.0000 - _runtime: 1124.0000\n",
            "Epoch 14/20\n",
            "62/62 [==============================] - 80s 1s/step - loss: 2.0795 - acc: 0.2455 - val_loss: 1.9959 - val_acc: 0.3190 - _timestamp: 1649379233.0000 - _runtime: 1204.0000\n",
            "Epoch 15/20\n",
            "62/62 [==============================] - 83s 1s/step - loss: 2.0837 - acc: 0.2475 - val_loss: 2.0441 - val_acc: 0.2562 - _timestamp: 1649379316.0000 - _runtime: 1287.0000\n",
            "Epoch 16/20\n",
            "50/62 [=======================>......] - ETA: 13s - loss: 2.0648 - acc: 0.2694"
          ]
        }
      ]
    },
    {
      "cell_type": "code",
      "metadata": {
        "id": "ymMrW8e7cik6"
      },
      "source": [
        ""
      ],
      "execution_count": null,
      "outputs": []
    }
  ]
}