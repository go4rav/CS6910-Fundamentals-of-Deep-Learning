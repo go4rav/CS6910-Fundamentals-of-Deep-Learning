{
  "nbformat": 4,
  "nbformat_minor": 0,
  "metadata": {
    "colab": {
      "name": "Untitled6.ipynb",
      "provenance": []
    },
    "kernelspec": {
      "name": "python3",
      "display_name": "Python 3"
    },
    "language_info": {
      "name": "python"
    }
  },
  "cells": [
    {
      "cell_type": "code",
      "execution_count": null,
      "metadata": {
        "id": "wwKLCyyhfKvw"
      },
      "outputs": [],
      "source": [
        "from tensorflow.keras.preprocessing import image\n",
        "from keras.models import load_model\n",
        "from mpl_toolkits.axisartist.axislines import Subplot\n",
        "from matplotlib import pyplot\n",
        "import tensorflow as tf\n",
        "import numpy as np\n",
        "import os\n",
        "import matplotlib.pyplot as plt\n",
        "import cv2\n",
        "#import wandb\n",
        "import matplotlib.image as mpimg"
      ]
    },
    {
      "cell_type": "code",
      "source": [
        "folder_path = 'inaturalist_12K/val/'"
      ],
      "metadata": {
        "id": "rEkovQQIfUb2"
      },
      "execution_count": null,
      "outputs": []
    },
    {
      "cell_type": "code",
      "source": [
        "loaded_model = tf.keras.models.load_model(\"./model\")"
      ],
      "metadata": {
        "id": "M9SJmGjJfu4Z"
      },
      "execution_count": null,
      "outputs": []
    },
    {
      "cell_type": "code",
      "source": [
        "\n",
        "\n",
        "def guidedRelu(input):\n",
        "  #gradient calculation changes to guided back propagation\n",
        "  def grad(gradient):\n",
        "    return tf.cast(gradient>0,\"float32\") * tf.cast(input>0, \"float32\") * gradient\n",
        "  #forward propagation remains unchanged\n",
        "  return tf.nn.relu(input), grad\n"
      ],
      "metadata": {
        "id": "CNzLmFm4fO_m"
      },
      "execution_count": null,
      "outputs": []
    },
    {
      "cell_type": "code",
      "source": [
        "\n",
        "\n",
        "\n",
        "def guided_relu_gradient():\n",
        "    for layer in loaded_model.layers:\n",
        "        # if layer is activated by relu activation the back propagation of layer is changed to guided relu\n",
        "        if hasattr(layer, 'activation'):\n",
        "            if layer.activation == tf.keras.activations.relu:\n",
        "                layer.activation = guidedRelu\n",
        "    loaded_model.compile()\n",
        "\n"
      ],
      "metadata": {
        "id": "fBWR3LqjfLi4"
      },
      "execution_count": null,
      "outputs": []
    },
    {
      "cell_type": "code",
      "source": [
        "\n",
        "\n",
        "images=[]\n",
        "true_image=[]\n",
        "neuron_no_arr=[50 , 63, 57 , 28,30, 62, 1,6, 8, 43 ]\n",
        "for i in range (10):\n",
        "    \n",
        "# accessing the images of each class \n",
        "    for count, sub_folder in enumerate(os.listdir(folder_path)):\n",
        "        sub_folder_path = folder_path + '/' + sub_folder\n",
        "        \n",
        "        for count_1, filename in enumerate(os.listdir(sub_folder_path)):\n",
        "            name = f\"{sub_folder_path}/{filename}\"\n",
        "            loaded_image = image.load_img(name, target_size=(256, 256))\n",
        "            img_arr = image.img_to_array(loaded_image)\n",
        "            \n",
        "            img_numpy = np.expand_dims(img_arr, axis=0)\n",
        "            \n",
        "            neuron_output = tf.keras.activations.relu(loaded_model.get_layer('conv2d_4').output[:,:,:,neuron_no_arr[i]])\n",
        "            neuron = tf.keras.models.Model(inputs = [loaded_model.inputs],outputs = [neuron_output])\n",
        "            with tf.GradientTape() as tape:\n",
        "                \n",
        "                img_tensor=tf.cast(img_numpy,tf.float32)\n",
        "                \n",
        "                tape.watch(img_tensor)\n",
        "                \n",
        "                output = neuron(img_tensor)\n",
        "            gradient= tape.gradient(output,img_tensor).numpy()[0]\n",
        "            \n",
        "            if np.sum(gradient)>0 :\n",
        "                images.append(gradient)\n",
        "                true_image.append(loaded_image)\n",
        "                break\n",
        "        \n",
        "                    \n",
        "        break \n",
        "    \n",
        "\n",
        "guided_relu_gradient()\n",
        "\n",
        "fig = pyplot.figure(figsize =(15, 15))\n",
        "ax = Subplot(fig, 111)\n",
        "fig.add_subplot(ax)\n",
        "c=1\n",
        "for index_1 in  images:\n",
        "    pyplot.subplot(2,5,c) \n",
        "    pyplot.title('by neuron:'+ str(neuron_no_arr[c-1]))\n",
        "    pyplot.imshow(index_1)\n",
        "    c+=1\n",
        "\n",
        "pyplot.show()\n",
        "c=1\n",
        "for index_2 in  true_image:\n",
        "    pyplot.subplot(2,5, c) \n",
        "    pyplot.title(\"by neuron:\"+ str(neuron_no_arr[c-1]))\n",
        "    pyplot.imshow(index_2)\n",
        "    c+=1\n",
        " \n",
        "pyplot.show()"
      ],
      "metadata": {
        "id": "rvIykluffbXv"
      },
      "execution_count": null,
      "outputs": []
    }
  ]
}
