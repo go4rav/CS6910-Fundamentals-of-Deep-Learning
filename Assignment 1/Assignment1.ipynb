{
 "cells": [
  {
   "cell_type": "code",
   "execution_count": 1,
   "metadata": {
    "id": "G5gA0Y4f8NOG"
   },
   "outputs": [],
   "source": [
    "from keras.datasets import fashion_mnist as data\n",
    "import pandas as pd\n",
    "from PIL import Image\n",
    "import numpy as np\n",
    "import matplotlib.pyplot as plt\n",
    "import math"
   ]
  },
  {
   "cell_type": "code",
   "execution_count": 2,
   "metadata": {
    "id": "Rzk5ZpZqBEir"
   },
   "outputs": [],
   "source": [
    "\n",
    "\n",
    "def sigmoid(z):\n",
    "    a=1/(1+np.exp(-z))\n",
    "    return(a)\n",
    "\n",
    "def relu(Z):\n",
    "\n",
    "    \n",
    "    A = np.maximum(0,Z)\n",
    "    \n",
    "    assert(A.shape == Z.shape)\n",
    "    \n",
    "    return A\n",
    "\n",
    "def reluGradient(z):\n",
    "\n",
    "    \n",
    "    dZ = np.zeros(z.shape) \n",
    "    \n",
    "\n",
    "    dZ[z > 0] = 1\n",
    "    \n",
    "    assert (dZ.shape == z.shape)\n",
    "    \n",
    "    return dZ\n",
    "\n",
    "\n",
    "def softmax(z):\n",
    "    num=np.exp(z)\n",
    "    den=np.sum(np.exp(z),axis=0)\n",
    "    a=num/den\n",
    "    return(a)\n",
    "\n",
    "def feedforward(params,layers,X):\n",
    "    \n",
    "    a=X\n",
    "    n=len(layers)-1\n",
    "    Z=[]\n",
    "    A=[]\n",
    "    A.append(X)\n",
    "    Z.append(X)\n",
    "    for i in range(1,len(layers)-1):\n",
    "        W=params[\"W\"+str(i)]\n",
    "        b=params[\"b\"+str(i)]\n",
    "        z = np.dot(W,a)+b\n",
    "        a = relu(z)\n",
    "        A.append(a)\n",
    "        Z.append(z)\n",
    "    W=params[\"W\"+str(n)]\n",
    "    b=params[\"b\"+str(n)]\n",
    "    z = np.dot(W,a)+b\n",
    "    a = sigmoid(z)\n",
    "    Z.append(z)\n",
    "    A.append(a)\n",
    "    return(A,Z)\n",
    "\n",
    "\n",
    "def sigmoidGradient(z):\n",
    "    a=sigmoid(z)\n",
    "    return(a*(1-a))\n",
    "\n",
    "def backwardPropagate(params, layers,Z,A,alpha,Y):\n",
    "    m=Y.shape[1]\n",
    "    l=len(layers)-1\n",
    "    dz= A[l]-Y\n",
    "    gradients={}\n",
    "    while(l>=0):\n",
    "        dw = np.dot(dz,np.transpose(A[l-1]))/m\n",
    "        db = np.sum(dz,axis=1)/m \n",
    "        db=db.reshape(db.shape[0],1)\n",
    "        gradients[\"dw\"+str(l)]=dw\n",
    "        gradients[\"db\"+str(l)]=db\n",
    "        if(l>=2):\n",
    "            da= np.dot(np.transpose(params[\"W\"+str(l)]), dz)\n",
    "            dz = da*reluGradient(Z[l-1])\n",
    "        l=l-1\n",
    "    return(gradients)\n",
    "        \n",
    "def crossEntropyError(a,Y):\n",
    "    m=a.shape[1]\n",
    "    #error=-(np.sum(np.sum(Y*np.log(a),axis=1),axis=0)/m)\n",
    "    error=-np.sum(Y*np.log(a)+(1-Y)*np.log(1-a))/m\n",
    "    return(error)\n",
    "     \n",
    "def squaredError(a,Y):\n",
    "    m=a.shape[1]\n",
    "    error=np.sum(np.square(a-Y),axis=1)/m\n",
    "    return(error)\n",
    "\n",
    "# m is number of examples\n",
    "def updateWeights(params, gradients, layers, alpha,gamma1,gamma2,eps,t):\n",
    "    M_c={}\n",
    "    R_c={}\n",
    "    for i in range(1,len(layers)):\n",
    "        M[\"W\"+str(i)]=gamma1*M[\"W\"+str(i)]+(1-gamma1)*gradients[\"dw\"+str(i)]\n",
    "        M[\"b\"+str(i)]=gamma1*M[\"b\"+str(i)]+(1-gamma1)*gradients[\"db\"+str(i)]\n",
    "        M_c[\"W\"+str(i)]=M[\"W\"+str(i)]/(1-np.power(gamma1,t))\n",
    "        M_c[\"b\"+str(i)]=M[\"b\"+str(i)]/(1-np.power(gamma1,t))\n",
    "        R[\"W\"+str(i)]=gamma2*R[\"W\"+str(i)]+(1-gamma2)*np.power(gradients[\"dw\"+str(i)],2)\n",
    "        R[\"b\"+str(i)]=gamma2*R[\"b\"+str(i)]+(1-gamma2)*np.power(gradients[\"db\"+str(i)],2)\n",
    "        R_c[\"W\"+str(i)]=R[\"W\"+str(i)]/(1-np.power(gamma2,t))\n",
    "        R_c[\"b\"+str(i)]=R[\"b\"+str(i)]/(1-np.power(gamma2,t))\n",
    "        params[\"W\"+str(i)]-= (alpha*M_c[\"W\"+str(i)])/(np.sqrt(R_c[\"W\"+str(i)])+eps)\n",
    "        params[\"b\"+str(i)]-= (alpha*M_c[\"b\"+str(i)])/(np.sqrt(R_c[\"b\"+str(i)])+eps)\n",
    "\n",
    "\n",
    "\n",
    "\n",
    "\n",
    "\n",
    "\n",
    "def initialize_weights():\n",
    "  seed=3\n",
    "  np.random.seed(seed)\n",
    "  for i in range(1,len(layers)):\n",
    "      params[\"W\"+str(i)]=np.random.randn(layers[i],layers[i-1])*np.sqrt(2 / layers[i-1])\n",
    "      params[\"b\"+str(i)]=np.zeros([layers[i],1])\n",
    "      M[\"W\"+str(i)]=np.zeros([layers[i],layers[i-1]])\n",
    "      M[\"b\"+str(i)]=np.zeros([layers[i],1])\n",
    "      R[\"W\"+str(i)]=np.zeros([layers[i],layers[i-1]])\n",
    "      R[\"b\"+str(i)]=np.zeros([layers[i],1])\n",
    "\n",
    "   \n"
   ]
  },
  {
   "cell_type": "code",
   "execution_count": 3,
   "metadata": {
    "colab": {
     "base_uri": "https://localhost:8080/"
    },
    "id": "-91nnO5y-yUr",
    "outputId": "920d578f-340b-43ae-8a0e-a352a00639f9"
   },
   "outputs": [
    {
     "name": "stdout",
     "output_type": "stream",
     "text": [
      "(60000, 28, 28) (60000,)\n",
      "(784, 60000) (10, 60000) (784, 10000) (10000,)\n"
     ]
    }
   ],
   "source": [
    "(X_train, Y_train), (X_test, Y_test) = data.load_data()\n",
    "print(X_train.shape, Y_train.shape)\n",
    "\n",
    "num_train = X_train.shape[0]\n",
    "num_test = X_test.shape[0]\n",
    "features = X_train.shape[1]*X_train.shape[2]  # 28x28\n",
    "#print(X_train[0,:,:])\n",
    "X_train=X_train.reshape(num_train, features)\n",
    "X_test=X_test.reshape(num_test,features)\n",
    "\n",
    "X_train=np.transpose(X_train)\n",
    "X_test=np.transpose(X_test)\n",
    "\n",
    "\n",
    "X_train = X_train/255  # normalised data\n",
    "X_test = X_test/255\n",
    "\n",
    "Y= Y_train[:]\n",
    "Y = Y.reshape(X_train.shape[1],1)\n",
    "\n",
    "Y_train=np.zeros([10,X_train.shape[1]])\n",
    "\n",
    "for i in range(num_train):\n",
    "  index=Y[i,0]\n",
    "  Y_train[index,i]=1\n",
    "\n",
    "print(X_train.shape,Y_train.shape, X_test.shape, Y_test.shape)"
   ]
  },
  {
   "cell_type": "code",
   "execution_count": null,
   "metadata": {
    "id": "WQx7Bqpv0tsF"
   },
   "outputs": [],
   "source": []
  },
  {
   "cell_type": "code",
   "execution_count": 4,
   "metadata": {
    "id": "sXA8F8b45e-I"
   },
   "outputs": [],
   "source": [
    "\n",
    "layers=[784,64,64,64,10] \n",
    "params={}\n",
    "\n",
    "M={}\n",
    "R={}\n",
    "errors=[]\n",
    "initialize_weights()"
   ]
  },
  {
   "cell_type": "code",
   "execution_count": 5,
   "metadata": {
    "colab": {
     "base_uri": "https://localhost:8080/",
     "height": 547
    },
    "id": "yAuAvnAdi4Hm",
    "outputId": "db5a85f9-f3d3-4ffb-d772-586eeff3d5a5"
   },
   "outputs": [
    {
     "name": "stdout",
     "output_type": "stream",
     "text": [
      "0.017293509878859137 1\n",
      "0.01122385063437751 2\n",
      "0.010093834351488012 3\n",
      "0.009406569908509362 4\n",
      "0.00891375453316801 5\n",
      "0.008541878891691897 6\n"
     ]
    },
    {
     "data": {
      "text/plain": [
       "Text(0, 0.5, 'Loss value')"
      ]
     },
     "execution_count": 5,
     "metadata": {},
     "output_type": "execute_result"
    },
    {
     "data": {
      "image/png": "[encoded data removed]",
      "text/plain": [
       "<Figure size 432x288 with 1 Axes>"
      ]
     },
     "metadata": {
      "needs_background": "light"
     },
     "output_type": "display_data"
    }
   ],
   "source": [
    "\n",
    "# X_train=np.array([[0,0,1,1],[0,1,0,1]])\n",
    "# Y_train=np.array([[0,1,1,0]])\n",
    "\n",
    "m=X_train.shape[1]\n",
    "batch_size=64\n",
    "X_mini_batches=[]\n",
    "Y_mini_batches=[]\n",
    "num_batches=m//batch_size\n",
    "for i in range(num_batches):\n",
    "  x=X_train[:,i*batch_size:(i+1)*(batch_size)]\n",
    "  y=Y_train[:,i*batch_size:(i+1)*(batch_size)]\n",
    "  X_mini_batches.append(x)\n",
    "  Y_mini_batches.append(y)\n",
    "\n",
    "if m%batch_size!=0:\n",
    "  index = num_batches*batch_size\n",
    "  x=X_train[:,index:index+m%batch_size]\n",
    "  y=Y_train[:,index:index+m%batch_size]\n",
    "  X_mini_batches.append(x)\n",
    "  Y_mini_batches.append(y)\n",
    "\n",
    "\n",
    "errors=[]\n",
    "iters= 1\n",
    "gamma1=0.9\n",
    "gamma2=0.999\n",
    "eps=1e-8\n",
    "alpha=0.001\n",
    "seed=10\n",
    "t=0\n",
    "\n",
    "while(iters<=6):\n",
    "    error=0\n",
    "    for i in range(len(X_mini_batches)):\n",
    "      X_train_mini=X_mini_batches[i]\n",
    "      Y_train_mini=Y_mini_batches[i]\n",
    "      A,Z=feedforward(params, layers, X_train_mini)\n",
    "      error+= crossEntropyError(A[-1], Y_train_mini)\n",
    "      #error=squaredError(A[-1],Y_train)\n",
    "      gradients=backwardPropagate(params, layers,Z, A, alpha, Y_train_mini)\n",
    "      t=t+1\n",
    "      updateWeights(params, gradients, layers, alpha,gamma1,gamma2,eps,t)\n",
    "    if(iters<=10):\n",
    "      errors.append(error/m)\n",
    "      print(error/m,iters)\n",
    "    elif(iters%10==0):\n",
    "      errors.append(error/m)\n",
    "      print(error/m,iters)\n",
    "    iters+=1\n",
    "   \n",
    "#A,Z=feedforward(params, layers, X_train)\n",
    "#print(A[-1])\n",
    "\n",
    "plt.plot(errors)\n",
    "plt.xlabel(\"EPOCHS\")\n",
    "plt.ylabel(\"Loss value\")"
   ]
  },
  {
   "cell_type": "code",
   "execution_count": 7,
   "metadata": {
    "colab": {
     "base_uri": "https://localhost:8080/",
     "height": 331
    },
    "id": "OlBuaELrjM_F",
    "outputId": "6a878df4-6130-4b1a-efe7-7b88489678df"
   },
   "outputs": [
    {
     "name": "stdout",
     "output_type": "stream",
     "text": [
      "train accuracy:  89.23\n",
      "test accuracy:  86.94\n"
     ]
    }
   ],
   "source": [
    "\n",
    "\n",
    "A,Z=feedforward(params, layers, X_train)\n",
    "pred=A[-1]\n",
    "max_index = np.argmax(pred, axis=0)\n",
    "count=0\n",
    "for i in range(60000):\n",
    "    if(Y[i,0]==max_index[i]):\n",
    "        count+=1\n",
    "print(\"train accuracy: \",(count/60000)*100)\n",
    "        \n",
    "    \n",
    "A,Z=feedforward(params, layers, X_test)\n",
    "pred=A[-1]\n",
    "max_index = np.argmax(pred, axis=0)\n",
    "count=0\n",
    "for i in range(10000):\n",
    "    if(Y_test[i]==max_index[i]):\n",
    "        count+=1\n",
    "print(\"test accuracy: \",(count/10000)*100)\n"
   ]
  },
  {
   "cell_type": "code",
   "execution_count": null,
   "metadata": {
    "id": "xw3lZ7AcjQwE"
   },
   "outputs": [],
   "source": []
  }
 ],
 "metadata": {
  "colab": {
   "name": "Apply adam mnist",
   "provenance": []
  },
  "kernelspec": {
   "display_name": "Python 3",
   "language": "python",
   "name": "python3"
  },
  "language_info": {
   "codemirror_mode": {
    "name": "ipython",
    "version": 3
   },
   "file_extension": ".py",
   "mimetype": "text/x-python",
   "name": "python",
   "nbconvert_exporter": "python",
   "pygments_lexer": "ipython3",
   "version": "3.8.8"
  }
 },
 "nbformat": 4,
 "nbformat_minor": 1
}
