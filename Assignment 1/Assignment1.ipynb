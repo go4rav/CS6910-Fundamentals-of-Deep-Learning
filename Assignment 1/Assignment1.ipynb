{
  "nbformat": 4,
  "nbformat_minor": 0,
  "metadata": {
    "colab": {
      "name": " Structure Adam mnist2",
      "provenance": [],
      "collapsed_sections": []
    },
    "kernelspec": {
      "name": "python3",
      "display_name": "Python 3"
    },
    "language_info": {
      "name": "python"
    },
    "widgets": {
      "application/vnd.jupyter.widget-state+json": {
        "6b87343f0ec5405b99df8a66ebe061a3": {
          "model_module": "@jupyter-widgets/controls",
          "model_name": "VBoxModel",
          "model_module_version": "1.5.0",
          "state": {
            "_view_name": "VBoxView",
            "_dom_classes": [],
            "_model_name": "VBoxModel",
            "_view_module": "@jupyter-widgets/controls",
            "_model_module_version": "1.5.0",
            "_view_count": null,
            "_view_module_version": "1.5.0",
            "box_style": "",
            "layout": "IPY_MODEL_cf4e83acb2d2408ab4b7a0c24555d908",
            "_model_module": "@jupyter-widgets/controls",
            "children": [
              "IPY_MODEL_6fc8a9d9ec544567aff789e456f7fd5e",
              "IPY_MODEL_3347b6c4bdc748ca909d24eab8b1445d"
            ]
          }
        },
        "cf4e83acb2d2408ab4b7a0c24555d908": {
          "model_module": "@jupyter-widgets/base",
          "model_name": "LayoutModel",
          "model_module_version": "1.2.0",
          "state": {
            "_view_name": "LayoutView",
            "grid_template_rows": null,
            "right": null,
            "justify_content": null,
            "_view_module": "@jupyter-widgets/base",
            "overflow": null,
            "_model_module_version": "1.2.0",
            "_view_count": null,
            "flex_flow": null,
            "width": null,
            "min_width": null,
            "border": null,
            "align_items": null,
            "bottom": null,
            "_model_module": "@jupyter-widgets/base",
            "top": null,
            "grid_column": null,
            "overflow_y": null,
            "overflow_x": null,
            "grid_auto_flow": null,
            "grid_area": null,
            "grid_template_columns": null,
            "flex": null,
            "_model_name": "LayoutModel",
            "justify_items": null,
            "grid_row": null,
            "max_height": null,
            "align_content": null,
            "visibility": null,
            "align_self": null,
            "height": null,
            "min_height": null,
            "padding": null,
            "grid_auto_rows": null,
            "grid_gap": null,
            "max_width": null,
            "order": null,
            "_view_module_version": "1.2.0",
            "grid_template_areas": null,
            "object_position": null,
            "object_fit": null,
            "grid_auto_columns": null,
            "margin": null,
            "display": null,
            "left": null
          }
        },
        "6fc8a9d9ec544567aff789e456f7fd5e": {
          "model_module": "@jupyter-widgets/controls",
          "model_name": "LabelModel",
          "model_module_version": "1.5.0",
          "state": {
            "_view_name": "LabelView",
            "style": "IPY_MODEL_525f930eca8d46d8bddaed5d403e73be",
            "_dom_classes": [],
            "description": "",
            "_model_name": "LabelModel",
            "placeholder": "​",
            "_view_module": "@jupyter-widgets/controls",
            "_model_module_version": "1.5.0",
            "value": " 0.01MB of 0.01MB uploaded (0.00MB deduped)\r",
            "_view_count": null,
            "_view_module_version": "1.5.0",
            "description_tooltip": null,
            "_model_module": "@jupyter-widgets/controls",
            "layout": "IPY_MODEL_49268fe2531b4f03b2f78e9cac148fc2"
          }
        },
        "3347b6c4bdc748ca909d24eab8b1445d": {
          "model_module": "@jupyter-widgets/controls",
          "model_name": "FloatProgressModel",
          "model_module_version": "1.5.0",
          "state": {
            "_view_name": "ProgressView",
            "style": "IPY_MODEL_e48b5cb9ef204d05adb3c9ebae10d723",
            "_dom_classes": [],
            "description": "",
            "_model_name": "FloatProgressModel",
            "bar_style": "",
            "max": 1,
            "_view_module": "@jupyter-widgets/controls",
            "_model_module_version": "1.5.0",
            "value": 1,
            "_view_count": null,
            "_view_module_version": "1.5.0",
            "orientation": "horizontal",
            "min": 0,
            "description_tooltip": null,
            "_model_module": "@jupyter-widgets/controls",
            "layout": "IPY_MODEL_430fc65510764cedb458757179a69013"
          }
        },
        "525f930eca8d46d8bddaed5d403e73be": {
          "model_module": "@jupyter-widgets/controls",
          "model_name": "DescriptionStyleModel",
          "model_module_version": "1.5.0",
          "state": {
            "_view_name": "StyleView",
            "_model_name": "DescriptionStyleModel",
            "description_width": "",
            "_view_module": "@jupyter-widgets/base",
            "_model_module_version": "1.5.0",
            "_view_count": null,
            "_view_module_version": "1.2.0",
            "_model_module": "@jupyter-widgets/controls"
          }
        },
        "49268fe2531b4f03b2f78e9cac148fc2": {
          "model_module": "@jupyter-widgets/base",
          "model_name": "LayoutModel",
          "model_module_version": "1.2.0",
          "state": {
            "_view_name": "LayoutView",
            "grid_template_rows": null,
            "right": null,
            "justify_content": null,
            "_view_module": "@jupyter-widgets/base",
            "overflow": null,
            "_model_module_version": "1.2.0",
            "_view_count": null,
            "flex_flow": null,
            "width": null,
            "min_width": null,
            "border": null,
            "align_items": null,
            "bottom": null,
            "_model_module": "@jupyter-widgets/base",
            "top": null,
            "grid_column": null,
            "overflow_y": null,
            "overflow_x": null,
            "grid_auto_flow": null,
            "grid_area": null,
            "grid_template_columns": null,
            "flex": null,
            "_model_name": "LayoutModel",
            "justify_items": null,
            "grid_row": null,
            "max_height": null,
            "align_content": null,
            "visibility": null,
            "align_self": null,
            "height": null,
            "min_height": null,
            "padding": null,
            "grid_auto_rows": null,
            "grid_gap": null,
            "max_width": null,
            "order": null,
            "_view_module_version": "1.2.0",
            "grid_template_areas": null,
            "object_position": null,
            "object_fit": null,
            "grid_auto_columns": null,
            "margin": null,
            "display": null,
            "left": null
          }
        },
        "e48b5cb9ef204d05adb3c9ebae10d723": {
          "model_module": "@jupyter-widgets/controls",
          "model_name": "ProgressStyleModel",
          "model_module_version": "1.5.0",
          "state": {
            "_view_name": "StyleView",
            "_model_name": "ProgressStyleModel",
            "description_width": "",
            "_view_module": "@jupyter-widgets/base",
            "_model_module_version": "1.5.0",
            "_view_count": null,
            "_view_module_version": "1.2.0",
            "bar_color": null,
            "_model_module": "@jupyter-widgets/controls"
          }
        },
        "430fc65510764cedb458757179a69013": {
          "model_module": "@jupyter-widgets/base",
          "model_name": "LayoutModel",
          "model_module_version": "1.2.0",
          "state": {
            "_view_name": "LayoutView",
            "grid_template_rows": null,
            "right": null,
            "justify_content": null,
            "_view_module": "@jupyter-widgets/base",
            "overflow": null,
            "_model_module_version": "1.2.0",
            "_view_count": null,
            "flex_flow": null,
            "width": null,
            "min_width": null,
            "border": null,
            "align_items": null,
            "bottom": null,
            "_model_module": "@jupyter-widgets/base",
            "top": null,
            "grid_column": null,
            "overflow_y": null,
            "overflow_x": null,
            "grid_auto_flow": null,
            "grid_area": null,
            "grid_template_columns": null,
            "flex": null,
            "_model_name": "LayoutModel",
            "justify_items": null,
            "grid_row": null,
            "max_height": null,
            "align_content": null,
            "visibility": null,
            "align_self": null,
            "height": null,
            "min_height": null,
            "padding": null,
            "grid_auto_rows": null,
            "grid_gap": null,
            "max_width": null,
            "order": null,
            "_view_module_version": "1.2.0",
            "grid_template_areas": null,
            "object_position": null,
            "object_fit": null,
            "grid_auto_columns": null,
            "margin": null,
            "display": null,
            "left": null
          }
        }
      }
    }
  },
  "cells": [
    {
      "cell_type": "code",
      "source": [
        "from keras.datasets import fashion_mnist as data\n",
        "import pandas as pd\n",
        "from PIL import Image\n",
        "import numpy as np\n",
        "import matplotlib.pyplot as plt\n",
        "import math"
      ],
      "metadata": {
        "id": "G5gA0Y4f8NOG"
      },
      "execution_count": 1,
      "outputs": []
    },
    {
      "cell_type": "code",
      "source": [
        "!pip install wandb\n",
        "import wandb\n",
        "wandb.login()"
      ],
      "metadata": {
        "colab": {
          "base_uri": "https://localhost:8080/",
          "height": 815
        },
        "id": "Hsi1qyMmwwJj",
        "outputId": "0aaffaec-cc77-4119-879c-0d3d6b4d8db0"
      },
      "execution_count": 2,
      "outputs": [
        {
          "output_type": "stream",
          "name": "stdout",
          "text": [
            "Collecting wandb\n",
            "  Downloading wandb-0.12.10-py2.py3-none-any.whl (1.7 MB)\n",
            "\u001b[?25l\r\u001b[K     |▏                               | 10 kB 27.4 MB/s eta 0:00:01\r\u001b[K     |▍                               | 20 kB 34.0 MB/s eta 0:00:01\r\u001b[K     |▋                               | 30 kB 37.9 MB/s eta 0:00:01\r\u001b[K     |▊                               | 40 kB 14.0 MB/s eta 0:00:01\r\u001b[K     |█                               | 51 kB 13.8 MB/s eta 0:00:01\r\u001b[K     |█▏                              | 61 kB 16.0 MB/s eta 0:00:01\r\u001b[K     |█▍                              | 71 kB 12.7 MB/s eta 0:00:01\r\u001b[K     |█▌                              | 81 kB 14.1 MB/s eta 0:00:01\r\u001b[K     |█▊                              | 92 kB 15.6 MB/s eta 0:00:01\r\u001b[K     |██                              | 102 kB 14.1 MB/s eta 0:00:01\r\u001b[K     |██                              | 112 kB 14.1 MB/s eta 0:00:01\r\u001b[K     |██▎                             | 122 kB 14.1 MB/s eta 0:00:01\r\u001b[K     |██▌                             | 133 kB 14.1 MB/s eta 0:00:01\r\u001b[K     |██▊                             | 143 kB 14.1 MB/s eta 0:00:01\r\u001b[K     |██▉                             | 153 kB 14.1 MB/s eta 0:00:01\r\u001b[K     |███                             | 163 kB 14.1 MB/s eta 0:00:01\r\u001b[K     |███▎                            | 174 kB 14.1 MB/s eta 0:00:01\r\u001b[K     |███▍                            | 184 kB 14.1 MB/s eta 0:00:01\r\u001b[K     |███▋                            | 194 kB 14.1 MB/s eta 0:00:01\r\u001b[K     |███▉                            | 204 kB 14.1 MB/s eta 0:00:01\r\u001b[K     |████                            | 215 kB 14.1 MB/s eta 0:00:01\r\u001b[K     |████▏                           | 225 kB 14.1 MB/s eta 0:00:01\r\u001b[K     |████▍                           | 235 kB 14.1 MB/s eta 0:00:01\r\u001b[K     |████▋                           | 245 kB 14.1 MB/s eta 0:00:01\r\u001b[K     |████▊                           | 256 kB 14.1 MB/s eta 0:00:01\r\u001b[K     |█████                           | 266 kB 14.1 MB/s eta 0:00:01\r\u001b[K     |█████▏                          | 276 kB 14.1 MB/s eta 0:00:01\r\u001b[K     |█████▍                          | 286 kB 14.1 MB/s eta 0:00:01\r\u001b[K     |█████▌                          | 296 kB 14.1 MB/s eta 0:00:01\r\u001b[K     |█████▊                          | 307 kB 14.1 MB/s eta 0:00:01\r\u001b[K     |██████                          | 317 kB 14.1 MB/s eta 0:00:01\r\u001b[K     |██████                          | 327 kB 14.1 MB/s eta 0:00:01\r\u001b[K     |██████▎                         | 337 kB 14.1 MB/s eta 0:00:01\r\u001b[K     |██████▌                         | 348 kB 14.1 MB/s eta 0:00:01\r\u001b[K     |██████▊                         | 358 kB 14.1 MB/s eta 0:00:01\r\u001b[K     |██████▉                         | 368 kB 14.1 MB/s eta 0:00:01\r\u001b[K     |███████                         | 378 kB 14.1 MB/s eta 0:00:01\r\u001b[K     |███████▎                        | 389 kB 14.1 MB/s eta 0:00:01\r\u001b[K     |███████▍                        | 399 kB 14.1 MB/s eta 0:00:01\r\u001b[K     |███████▋                        | 409 kB 14.1 MB/s eta 0:00:01\r\u001b[K     |███████▉                        | 419 kB 14.1 MB/s eta 0:00:01\r\u001b[K     |████████                        | 430 kB 14.1 MB/s eta 0:00:01\r\u001b[K     |████████▏                       | 440 kB 14.1 MB/s eta 0:00:01\r\u001b[K     |████████▍                       | 450 kB 14.1 MB/s eta 0:00:01\r\u001b[K     |████████▋                       | 460 kB 14.1 MB/s eta 0:00:01\r\u001b[K     |████████▊                       | 471 kB 14.1 MB/s eta 0:00:01\r\u001b[K     |█████████                       | 481 kB 14.1 MB/s eta 0:00:01\r\u001b[K     |█████████▏                      | 491 kB 14.1 MB/s eta 0:00:01\r\u001b[K     |█████████▍                      | 501 kB 14.1 MB/s eta 0:00:01\r\u001b[K     |█████████▌                      | 512 kB 14.1 MB/s eta 0:00:01\r\u001b[K     |█████████▊                      | 522 kB 14.1 MB/s eta 0:00:01\r\u001b[K     |██████████                      | 532 kB 14.1 MB/s eta 0:00:01\r\u001b[K     |██████████                      | 542 kB 14.1 MB/s eta 0:00:01\r\u001b[K     |██████████▎                     | 552 kB 14.1 MB/s eta 0:00:01\r\u001b[K     |██████████▌                     | 563 kB 14.1 MB/s eta 0:00:01\r\u001b[K     |██████████▊                     | 573 kB 14.1 MB/s eta 0:00:01\r\u001b[K     |██████████▉                     | 583 kB 14.1 MB/s eta 0:00:01\r\u001b[K     |███████████                     | 593 kB 14.1 MB/s eta 0:00:01\r\u001b[K     |███████████▎                    | 604 kB 14.1 MB/s eta 0:00:01\r\u001b[K     |███████████▍                    | 614 kB 14.1 MB/s eta 0:00:01\r\u001b[K     |███████████▋                    | 624 kB 14.1 MB/s eta 0:00:01\r\u001b[K     |███████████▉                    | 634 kB 14.1 MB/s eta 0:00:01\r\u001b[K     |████████████                    | 645 kB 14.1 MB/s eta 0:00:01\r\u001b[K     |████████████▏                   | 655 kB 14.1 MB/s eta 0:00:01\r\u001b[K     |████████████▍                   | 665 kB 14.1 MB/s eta 0:00:01\r\u001b[K     |████████████▋                   | 675 kB 14.1 MB/s eta 0:00:01\r\u001b[K     |████████████▊                   | 686 kB 14.1 MB/s eta 0:00:01\r\u001b[K     |█████████████                   | 696 kB 14.1 MB/s eta 0:00:01\r\u001b[K     |█████████████▏                  | 706 kB 14.1 MB/s eta 0:00:01\r\u001b[K     |█████████████▍                  | 716 kB 14.1 MB/s eta 0:00:01\r\u001b[K     |█████████████▌                  | 727 kB 14.1 MB/s eta 0:00:01\r\u001b[K     |█████████████▊                  | 737 kB 14.1 MB/s eta 0:00:01\r\u001b[K     |██████████████                  | 747 kB 14.1 MB/s eta 0:00:01\r\u001b[K     |██████████████                  | 757 kB 14.1 MB/s eta 0:00:01\r\u001b[K     |██████████████▎                 | 768 kB 14.1 MB/s eta 0:00:01\r\u001b[K     |██████████████▌                 | 778 kB 14.1 MB/s eta 0:00:01\r\u001b[K     |██████████████▊                 | 788 kB 14.1 MB/s eta 0:00:01\r\u001b[K     |██████████████▉                 | 798 kB 14.1 MB/s eta 0:00:01\r\u001b[K     |███████████████                 | 808 kB 14.1 MB/s eta 0:00:01\r\u001b[K     |███████████████▎                | 819 kB 14.1 MB/s eta 0:00:01\r\u001b[K     |███████████████▍                | 829 kB 14.1 MB/s eta 0:00:01\r\u001b[K     |███████████████▋                | 839 kB 14.1 MB/s eta 0:00:01\r\u001b[K     |███████████████▉                | 849 kB 14.1 MB/s eta 0:00:01\r\u001b[K     |████████████████                | 860 kB 14.1 MB/s eta 0:00:01\r\u001b[K     |████████████████▏               | 870 kB 14.1 MB/s eta 0:00:01\r\u001b[K     |████████████████▍               | 880 kB 14.1 MB/s eta 0:00:01\r\u001b[K     |████████████████▋               | 890 kB 14.1 MB/s eta 0:00:01\r\u001b[K     |████████████████▊               | 901 kB 14.1 MB/s eta 0:00:01\r\u001b[K     |█████████████████               | 911 kB 14.1 MB/s eta 0:00:01\r\u001b[K     |█████████████████▏              | 921 kB 14.1 MB/s eta 0:00:01\r\u001b[K     |█████████████████▍              | 931 kB 14.1 MB/s eta 0:00:01\r\u001b[K     |█████████████████▌              | 942 kB 14.1 MB/s eta 0:00:01\r\u001b[K     |█████████████████▊              | 952 kB 14.1 MB/s eta 0:00:01\r\u001b[K     |██████████████████              | 962 kB 14.1 MB/s eta 0:00:01\r\u001b[K     |██████████████████              | 972 kB 14.1 MB/s eta 0:00:01\r\u001b[K     |██████████████████▎             | 983 kB 14.1 MB/s eta 0:00:01\r\u001b[K     |██████████████████▌             | 993 kB 14.1 MB/s eta 0:00:01\r\u001b[K     |██████████████████▊             | 1.0 MB 14.1 MB/s eta 0:00:01\r\u001b[K     |██████████████████▉             | 1.0 MB 14.1 MB/s eta 0:00:01\r\u001b[K     |███████████████████             | 1.0 MB 14.1 MB/s eta 0:00:01\r\u001b[K     |███████████████████▎            | 1.0 MB 14.1 MB/s eta 0:00:01\r\u001b[K     |███████████████████▍            | 1.0 MB 14.1 MB/s eta 0:00:01\r\u001b[K     |███████████████████▋            | 1.1 MB 14.1 MB/s eta 0:00:01\r\u001b[K     |███████████████████▉            | 1.1 MB 14.1 MB/s eta 0:00:01\r\u001b[K     |████████████████████            | 1.1 MB 14.1 MB/s eta 0:00:01\r\u001b[K     |████████████████████▏           | 1.1 MB 14.1 MB/s eta 0:00:01\r\u001b[K     |████████████████████▍           | 1.1 MB 14.1 MB/s eta 0:00:01\r\u001b[K     |████████████████████▋           | 1.1 MB 14.1 MB/s eta 0:00:01\r\u001b[K     |████████████████████▊           | 1.1 MB 14.1 MB/s eta 0:00:01\r\u001b[K     |█████████████████████           | 1.1 MB 14.1 MB/s eta 0:00:01\r\u001b[K     |█████████████████████▏          | 1.1 MB 14.1 MB/s eta 0:00:01\r\u001b[K     |█████████████████████▍          | 1.1 MB 14.1 MB/s eta 0:00:01\r\u001b[K     |█████████████████████▌          | 1.2 MB 14.1 MB/s eta 0:00:01\r\u001b[K     |█████████████████████▊          | 1.2 MB 14.1 MB/s eta 0:00:01\r\u001b[K     |██████████████████████          | 1.2 MB 14.1 MB/s eta 0:00:01\r\u001b[K     |██████████████████████          | 1.2 MB 14.1 MB/s eta 0:00:01\r\u001b[K     |██████████████████████▎         | 1.2 MB 14.1 MB/s eta 0:00:01\r\u001b[K     |██████████████████████▌         | 1.2 MB 14.1 MB/s eta 0:00:01\r\u001b[K     |██████████████████████▊         | 1.2 MB 14.1 MB/s eta 0:00:01\r\u001b[K     |██████████████████████▉         | 1.2 MB 14.1 MB/s eta 0:00:01\r\u001b[K     |███████████████████████         | 1.2 MB 14.1 MB/s eta 0:00:01\r\u001b[K     |███████████████████████▎        | 1.2 MB 14.1 MB/s eta 0:00:01\r\u001b[K     |███████████████████████▍        | 1.3 MB 14.1 MB/s eta 0:00:01\r\u001b[K     |███████████████████████▋        | 1.3 MB 14.1 MB/s eta 0:00:01\r\u001b[K     |███████████████████████▉        | 1.3 MB 14.1 MB/s eta 0:00:01\r\u001b[K     |████████████████████████        | 1.3 MB 14.1 MB/s eta 0:00:01\r\u001b[K     |████████████████████████▏       | 1.3 MB 14.1 MB/s eta 0:00:01\r\u001b[K     |████████████████████████▍       | 1.3 MB 14.1 MB/s eta 0:00:01\r\u001b[K     |████████████████████████▋       | 1.3 MB 14.1 MB/s eta 0:00:01\r\u001b[K     |████████████████████████▊       | 1.3 MB 14.1 MB/s eta 0:00:01\r\u001b[K     |█████████████████████████       | 1.3 MB 14.1 MB/s eta 0:00:01\r\u001b[K     |█████████████████████████▏      | 1.4 MB 14.1 MB/s eta 0:00:01\r\u001b[K     |█████████████████████████▍      | 1.4 MB 14.1 MB/s eta 0:00:01\r\u001b[K     |█████████████████████████▌      | 1.4 MB 14.1 MB/s eta 0:00:01\r\u001b[K     |█████████████████████████▊      | 1.4 MB 14.1 MB/s eta 0:00:01\r\u001b[K     |██████████████████████████      | 1.4 MB 14.1 MB/s eta 0:00:01\r\u001b[K     |██████████████████████████▏     | 1.4 MB 14.1 MB/s eta 0:00:01\r\u001b[K     |██████████████████████████▎     | 1.4 MB 14.1 MB/s eta 0:00:01\r\u001b[K     |██████████████████████████▌     | 1.4 MB 14.1 MB/s eta 0:00:01\r\u001b[K     |██████████████████████████▊     | 1.4 MB 14.1 MB/s eta 0:00:01\r\u001b[K     |██████████████████████████▉     | 1.4 MB 14.1 MB/s eta 0:00:01\r\u001b[K     |███████████████████████████     | 1.5 MB 14.1 MB/s eta 0:00:01\r\u001b[K     |███████████████████████████▎    | 1.5 MB 14.1 MB/s eta 0:00:01\r\u001b[K     |███████████████████████████▌    | 1.5 MB 14.1 MB/s eta 0:00:01\r\u001b[K     |███████████████████████████▋    | 1.5 MB 14.1 MB/s eta 0:00:01\r\u001b[K     |███████████████████████████▉    | 1.5 MB 14.1 MB/s eta 0:00:01\r\u001b[K     |████████████████████████████    | 1.5 MB 14.1 MB/s eta 0:00:01\r\u001b[K     |████████████████████████████▏   | 1.5 MB 14.1 MB/s eta 0:00:01\r\u001b[K     |████████████████████████████▍   | 1.5 MB 14.1 MB/s eta 0:00:01\r\u001b[K     |████████████████████████████▋   | 1.5 MB 14.1 MB/s eta 0:00:01\r\u001b[K     |████████████████████████████▉   | 1.5 MB 14.1 MB/s eta 0:00:01\r\u001b[K     |█████████████████████████████   | 1.6 MB 14.1 MB/s eta 0:00:01\r\u001b[K     |█████████████████████████████▏  | 1.6 MB 14.1 MB/s eta 0:00:01\r\u001b[K     |█████████████████████████████▍  | 1.6 MB 14.1 MB/s eta 0:00:01\r\u001b[K     |█████████████████████████████▌  | 1.6 MB 14.1 MB/s eta 0:00:01\r\u001b[K     |█████████████████████████████▊  | 1.6 MB 14.1 MB/s eta 0:00:01\r\u001b[K     |██████████████████████████████  | 1.6 MB 14.1 MB/s eta 0:00:01\r\u001b[K     |██████████████████████████████▏ | 1.6 MB 14.1 MB/s eta 0:00:01\r\u001b[K     |██████████████████████████████▎ | 1.6 MB 14.1 MB/s eta 0:00:01\r\u001b[K     |██████████████████████████████▌ | 1.6 MB 14.1 MB/s eta 0:00:01\r\u001b[K     |██████████████████████████████▊ | 1.6 MB 14.1 MB/s eta 0:00:01\r\u001b[K     |██████████████████████████████▉ | 1.7 MB 14.1 MB/s eta 0:00:01\r\u001b[K     |███████████████████████████████ | 1.7 MB 14.1 MB/s eta 0:00:01\r\u001b[K     |███████████████████████████████▎| 1.7 MB 14.1 MB/s eta 0:00:01\r\u001b[K     |███████████████████████████████▌| 1.7 MB 14.1 MB/s eta 0:00:01\r\u001b[K     |███████████████████████████████▋| 1.7 MB 14.1 MB/s eta 0:00:01\r\u001b[K     |███████████████████████████████▉| 1.7 MB 14.1 MB/s eta 0:00:01\r\u001b[K     |████████████████████████████████| 1.7 MB 14.1 MB/s \n",
            "\u001b[?25hRequirement already satisfied: python-dateutil>=2.6.1 in /usr/local/lib/python3.7/dist-packages (from wandb) (2.8.2)\n",
            "Collecting yaspin>=1.0.0\n",
            "  Downloading yaspin-2.1.0-py3-none-any.whl (18 kB)\n",
            "Collecting sentry-sdk>=1.0.0\n",
            "  Downloading sentry_sdk-1.5.6-py2.py3-none-any.whl (144 kB)\n",
            "\u001b[K     |████████████████████████████████| 144 kB 64.9 MB/s \n",
            "\u001b[?25hCollecting shortuuid>=0.5.0\n",
            "  Downloading shortuuid-1.0.8-py3-none-any.whl (9.5 kB)\n",
            "Requirement already satisfied: six>=1.13.0 in /usr/local/lib/python3.7/dist-packages (from wandb) (1.15.0)\n",
            "Requirement already satisfied: PyYAML in /usr/local/lib/python3.7/dist-packages (from wandb) (3.13)\n",
            "Requirement already satisfied: psutil>=5.0.0 in /usr/local/lib/python3.7/dist-packages (from wandb) (5.4.8)\n",
            "Requirement already satisfied: promise<3,>=2.0 in /usr/local/lib/python3.7/dist-packages (from wandb) (2.3)\n",
            "Requirement already satisfied: protobuf>=3.12.0 in /usr/local/lib/python3.7/dist-packages (from wandb) (3.17.3)\n",
            "Requirement already satisfied: Click!=8.0.0,>=7.0 in /usr/local/lib/python3.7/dist-packages (from wandb) (7.1.2)\n",
            "Collecting docker-pycreds>=0.4.0\n",
            "  Downloading docker_pycreds-0.4.0-py2.py3-none-any.whl (9.0 kB)\n",
            "Collecting GitPython>=1.0.0\n",
            "  Downloading GitPython-3.1.27-py3-none-any.whl (181 kB)\n",
            "\u001b[K     |████████████████████████████████| 181 kB 49.8 MB/s \n",
            "\u001b[?25hRequirement already satisfied: requests<3,>=2.0.0 in /usr/local/lib/python3.7/dist-packages (from wandb) (2.23.0)\n",
            "Collecting pathtools\n",
            "  Downloading pathtools-0.1.2.tar.gz (11 kB)\n",
            "Requirement already satisfied: typing-extensions>=3.7.4.3 in /usr/local/lib/python3.7/dist-packages (from GitPython>=1.0.0->wandb) (3.10.0.2)\n",
            "Collecting gitdb<5,>=4.0.1\n",
            "  Downloading gitdb-4.0.9-py3-none-any.whl (63 kB)\n",
            "\u001b[K     |████████████████████████████████| 63 kB 1.4 MB/s \n",
            "\u001b[?25hCollecting smmap<6,>=3.0.1\n",
            "  Downloading smmap-5.0.0-py3-none-any.whl (24 kB)\n",
            "Requirement already satisfied: certifi>=2017.4.17 in /usr/local/lib/python3.7/dist-packages (from requests<3,>=2.0.0->wandb) (2021.10.8)\n",
            "Requirement already satisfied: urllib3!=1.25.0,!=1.25.1,<1.26,>=1.21.1 in /usr/local/lib/python3.7/dist-packages (from requests<3,>=2.0.0->wandb) (1.24.3)\n",
            "Requirement already satisfied: chardet<4,>=3.0.2 in /usr/local/lib/python3.7/dist-packages (from requests<3,>=2.0.0->wandb) (3.0.4)\n",
            "Requirement already satisfied: idna<3,>=2.5 in /usr/local/lib/python3.7/dist-packages (from requests<3,>=2.0.0->wandb) (2.10)\n",
            "Requirement already satisfied: termcolor<2.0.0,>=1.1.0 in /usr/local/lib/python3.7/dist-packages (from yaspin>=1.0.0->wandb) (1.1.0)\n",
            "Building wheels for collected packages: pathtools\n",
            "  Building wheel for pathtools (setup.py) ... \u001b[?25l\u001b[?25hdone\n",
            "  Created wheel for pathtools: filename=pathtools-0.1.2-py3-none-any.whl size=8806 sha256=eae70759879a982cafbe7cc8c56382524dd1a959480ea6a6f4cfb57f7153988e\n",
            "  Stored in directory: /root/.cache/pip/wheels/3e/31/09/fa59cef12cdcfecc627b3d24273699f390e71828921b2cbba2\n",
            "Successfully built pathtools\n",
            "Installing collected packages: smmap, gitdb, yaspin, shortuuid, sentry-sdk, pathtools, GitPython, docker-pycreds, wandb\n",
            "Successfully installed GitPython-3.1.27 docker-pycreds-0.4.0 gitdb-4.0.9 pathtools-0.1.2 sentry-sdk-1.5.6 shortuuid-1.0.8 smmap-5.0.0 wandb-0.12.10 yaspin-2.1.0\n"
          ]
        },
        {
          "output_type": "display_data",
          "data": {
            "application/javascript": [
              "\n",
              "        window._wandbApiKey = new Promise((resolve, reject) => {\n",
              "            function loadScript(url) {\n",
              "            return new Promise(function(resolve, reject) {\n",
              "                let newScript = document.createElement(\"script\");\n",
              "                newScript.onerror = reject;\n",
              "                newScript.onload = resolve;\n",
              "                document.body.appendChild(newScript);\n",
              "                newScript.src = url;\n",
              "            });\n",
              "            }\n",
              "            loadScript(\"https://cdn.jsdelivr.net/npm/postmate/build/postmate.min.js\").then(() => {\n",
              "            const iframe = document.createElement('iframe')\n",
              "            iframe.style.cssText = \"width:0;height:0;border:none\"\n",
              "            document.body.appendChild(iframe)\n",
              "            const handshake = new Postmate({\n",
              "                container: iframe,\n",
              "                url: 'https://wandb.ai/authorize'\n",
              "            });\n",
              "            const timeout = setTimeout(() => reject(\"Couldn't auto authenticate\"), 5000)\n",
              "            handshake.then(function(child) {\n",
              "                child.on('authorize', data => {\n",
              "                    clearTimeout(timeout)\n",
              "                    resolve(data)\n",
              "                });\n",
              "            });\n",
              "            })\n",
              "        });\n",
              "    "
            ],
            "text/plain": [
              "<IPython.core.display.Javascript object>"
            ]
          },
          "metadata": {}
        },
        {
          "output_type": "stream",
          "name": "stderr",
          "text": [
            "\u001b[34m\u001b[1mwandb\u001b[0m: Appending key for api.wandb.ai to your netrc file: /root/.netrc\n"
          ]
        },
        {
          "output_type": "execute_result",
          "data": {
            "text/plain": [
              "True"
            ]
          },
          "metadata": {},
          "execution_count": 2
        }
      ]
    },
    {
      "cell_type": "code",
      "source": [
        "def flatten_input(X_train, X_test):\n",
        "  num_train = X_train.shape[0]\n",
        "  num_test = X_test.shape[0]\n",
        "  features = X_train.shape[1]*X_train.shape[2]  # 28x28 = 784\n",
        "  X_train=X_train.reshape(num_train, features)\n",
        "  X_test=X_test.reshape(num_test,features)\n",
        "\n",
        "\n",
        "  X_train=np.transpose(X_train)\n",
        "  X_test = np.transpose(X_test)\n",
        "\n",
        "  X_train = X_train/255  # normalised data\n",
        "  X_test = X_test/255\n",
        "\n",
        "  return(X_train, X_test)\n",
        "\n",
        "def OneHotEncoding(Y_train,num_train):\n",
        "  Y= Y_train[:]\n",
        "  Y = Y.reshape(num_train,1)\n",
        "\n",
        "  Y_train=np.zeros([10,num_train])\n",
        "\n",
        "  for i in range(num_train):\n",
        "    index=Y[i,0]\n",
        "    Y_train[index,i]=1\n",
        "  return(Y_train, Y)\n",
        "\n"
      ],
      "metadata": {
        "id": "bNwTSrbL1NL4"
      },
      "execution_count": 3,
      "outputs": []
    },
    {
      "cell_type": "code",
      "source": [
        "\n",
        "def shuffle_data(X_train, Y_train):\n",
        "  m=X_train.shape[1]\n",
        "  permutation = list(np.random.permutation(m))\n",
        "  X_train = X_train[:, permutation]\n",
        "  Y_train = Y_train[:, permutation]\n",
        "  return(X_train,Y_train)\n",
        "\n",
        "\n",
        "\n",
        "\n",
        "\n",
        "def get_mini_batches(X_train, Y_train,mini_batch_size):\n",
        "    m=X_train.shape[1]  \n",
        "    num_batches = m//mini_batch_size\n",
        "    X_mini_batches = []\n",
        "    Y_mini_batches = []\n",
        "\n",
        "    X_train, Y_train = shuffle_data(X_train, Y_train)\n",
        "\n",
        "    for i in range(num_batches):\n",
        "      x=X_train[:,i*mini_batch_size:(i+1)*(mini_batch_size)]\n",
        "      y=Y_train[:,i*mini_batch_size:(i+1)*(mini_batch_size)]\n",
        "      X_mini_batches.append(x)\n",
        "      Y_mini_batches.append(y)\n",
        "\n",
        "    if m%mini_batch_size!=0:\n",
        "      index = num_batches*mini_batch_size\n",
        "      x=X_train[:,index:index+m%mini_batch_size]\n",
        "      y=Y_train[:,index:index+m%mini_batch_size]\n",
        "      X_mini_batches.append(x)\n",
        "      Y_mini_batches.append(y)\n",
        "    \n",
        "    \n",
        "    return(X_mini_batches, Y_mini_batches)     "
      ],
      "metadata": {
        "id": "3kcmg2eahorl"
      },
      "execution_count": 4,
      "outputs": []
    },
    {
      "cell_type": "code",
      "source": [
        "# Activations and their gradients\n",
        "\n",
        "\n",
        "def relu(Z):\n",
        "\n",
        "    A = np.maximum(0,Z)\n",
        "    \n",
        "    assert(A.shape == Z.shape)\n",
        "    \n",
        "    return A\n",
        "\n",
        "def reluGradient(z):\n",
        "    dZ = np.zeros(z.shape) \n",
        "    dZ[z > 0] = 1\n",
        "    assert (dZ.shape == z.shape)\n",
        "    return dZ\n",
        "\n",
        "def sigmoid(z):\n",
        "    a=1/(1+np.exp(-z))\n",
        "    return(a)\n",
        "\n",
        "\n",
        "def sigmoidGradient(z):\n",
        "    a=sigmoid(z)\n",
        "    return(a*(1-a))\n",
        "\n",
        "\n",
        "def tanh(z):\n",
        "  a=np.tanh(z)\n",
        "  return(a)\n",
        "\n",
        "def tanhGradient(z):\n",
        "  a=tanh(z)\n",
        "  return(1-a**2)\n",
        "\n",
        "def softmax(z):\n",
        "    num=np.exp(z)\n",
        "    den=np.sum(np.exp(z),axis=0)\n",
        "    a=num/den\n",
        "    return(a)\n",
        "\n"
      ],
      "metadata": {
        "id": "d5qjwu7m0NTt"
      },
      "execution_count": 5,
      "outputs": []
    },
    {
      "cell_type": "code",
      "source": [
        "\n",
        "\n",
        "def initialize_weights(layers, params, M, R, initialiser):\n",
        "  # seed=3\n",
        "  # np.random.seed(seed)\n",
        "  for i in range(1,len(layers)):\n",
        "      if(initialiser==\"xavier\"):\n",
        "        params[\"W\"+str(i)]=np.random.randn(layers[i],layers[i-1])*np.sqrt(2 / (layers[i]+layers[i-1]))\n",
        "      elif(initialiser==\"random\"):\n",
        "        params[\"W\"+str(i)]=np.random.randn(layers[i],layers[i-1])*0.01\n",
        "\n",
        "      params[\"b\"+str(i)]=np.zeros([layers[i],1])\n",
        "      M[\"W\"+str(i)]=np.zeros([layers[i],layers[i-1]])\n",
        "      M[\"b\"+str(i)]=np.zeros([layers[i],1])\n",
        "      R[\"W\"+str(i)]=np.zeros([layers[i],layers[i-1]])\n",
        "      R[\"b\"+str(i)]=np.zeros([layers[i],1])\n",
        "  return(params, M, R)\n",
        "\n",
        "\n",
        "def feedforward(params,layers,X,activation):\n",
        "    \n",
        "    a=X\n",
        "    n=len(layers)-1\n",
        "    Z=[]\n",
        "    A=[]\n",
        "    A.append(X)\n",
        "    Z.append(X)\n",
        "    for i in range(1,len(layers)-1):\n",
        "        W=params[\"W\"+str(i)]\n",
        "        b=params[\"b\"+str(i)]\n",
        "        z = np.dot(W,a)+b\n",
        "        if(activation==\"relu\"):\n",
        "          a = relu(z)\n",
        "        elif(activation==\"sigmoid\"):\n",
        "          a = sigmoid(z)\n",
        "        elif(activation==\"tanh\"):\n",
        "          a = tanh(z)\n",
        "        A.append(a)\n",
        "        Z.append(z)\n",
        "    W=params[\"W\"+str(n)]\n",
        "    b=params[\"b\"+str(n)]\n",
        "    z = np.dot(W,a)+b\n",
        "    a = softmax(z)\n",
        "    Z.append(z)\n",
        "    A.append(a)\n",
        "    return(A,Z)\n",
        "\n",
        "\n",
        "\n",
        "def backwardPropagate(params, layers, Z, A, learning_rate, Y, activation):\n",
        "    m=Y.shape[1]\n",
        "    l=len(layers)-1\n",
        "    dz= A[l]-Y\n",
        "    gradients={}\n",
        "    while(l>=0):\n",
        "        dw = np.dot(dz,np.transpose(A[l-1]))/m\n",
        "        db = np.sum(dz,axis=1)/m \n",
        "        db=db.reshape(db.shape[0],1)\n",
        "        gradients[\"dw\"+str(l)]=dw\n",
        "        gradients[\"db\"+str(l)]=db\n",
        "        if(l>=2):\n",
        "            da= np.dot(np.transpose(params[\"W\"+str(l)]), dz)\n",
        "            if(activation==\"relu\"):\n",
        "              dz = da*reluGradient(Z[l-1])\n",
        "            elif(activation==\"sigmoid\"):\n",
        "              dz = da*sigmoidGradient(Z[l-1])\n",
        "            elif(activation==\"tanh\"):\n",
        "              dz = da*tanhGradient(Z[l-1])\n",
        "        l=l-1\n",
        "    return(gradients)\n",
        "\n",
        "        \n",
        "def crossEntropyError(a,Y,params,layers,weight_decay):\n",
        "    m=a.shape[1]\n",
        "    error=-(np.sum(np.sum(Y*np.log(a),axis=1),axis=0))\n",
        "    #error=-np.sum(Y*np.log(a)+(1-Y)*np.log(1-a))/m\n",
        "    for i in range(1,len(layers)):\n",
        "      regu_cost = (weight_decay/2)*np.sum(np.sum(np.square(params[\"W\"+str(i)]),axis=1),axis=0)\n",
        "    error+=regu_cost\n",
        "    return(error)\n",
        "     \n",
        "def squaredError(a,Y,params,layers,weight_decay):\n",
        "    m=a.shape[1]\n",
        "    error=np.sum(np.square(a-Y),axis=1)\n",
        "    for i in range(1,len(layers)):\n",
        "      regu_cost = (weight_decay/2)*np.sum(np.sum(np.square(params[\"W\"+str(i)]),axis=1),axis=0)\n",
        "    error+=regu_cost\n",
        "    return(error)\n",
        "\n",
        "# m is number of examples\n",
        "\n"
      ],
      "metadata": {
        "id": "Rzk5ZpZqBEir"
      },
      "execution_count": 17,
      "outputs": []
    },
    {
      "cell_type": "code",
      "source": [
        "def updateWeightsSGD(m, params,gradients,layers, learning_rate, weight_decay):\n",
        "    for i in range(1,len(layers)):\n",
        "        params[\"W\"+str(i)]-= learning_rate*gradients[\"dw\"+str(i)]\n",
        "        params[\"b\"+str(i)]-= learning_rate*gradients[\"db\"+str(i)]\n",
        "        params[\"W\"+str(i)]-= learning_rate*(weight_decay/m)*params[\"W\"+str(i)]\n",
        "        params[\"b\"+str(i)]-= learning_rate*(weight_decay/m)*params[\"b\"+str(i)]\n",
        "    return(params)\n",
        "\n",
        "\n",
        "def updateWeightsMomentum(m, params, gradients, M, layers, learning_rate,weight_decay, beta):\n",
        "    for i in range(1,len(layers)):\n",
        "        M[\"W\"+str(i)]=beta*M[\"W\"+str(i)]+(1-beta)*gradients[\"dw\"+str(i)]\n",
        "        M[\"b\"+str(i)]=beta*M[\"b\"+str(i)]+(1-beta)*gradients[\"db\"+str(i)]\n",
        "        params[\"W\"+str(i)]-= learning_rate* M[\"W\"+str(i)]\n",
        "        params[\"b\"+str(i)]-= learning_rate*M[\"b\"+str(i)]\n",
        "        params[\"W\"+str(i)]-= learning_rate*(weight_decay/m)*params[\"W\"+str(i)]\n",
        "        params[\"b\"+str(i)]-= learning_rate*(weight_decay/m)*params[\"b\"+str(i)]\n",
        "    return(params,M)\n",
        "\n",
        "\n",
        "def updateWeightsRMS(m, params, gradients,R, layers, learning_rate, weight_decay, beta ,eps):\n",
        "\n",
        "    for i in range(1,len(layers)):\n",
        "        R[\"W\"+str(i)]=beta*R[\"W\"+str(i)]+(1-beta)*np.power(gradients[\"dw\"+str(i)],2)\n",
        "        R[\"b\"+str(i)]=beta*R[\"b\"+str(i)]+(1-beta)*np.power(gradients[\"db\"+str(i)],2)\n",
        "        params[\"W\"+str(i)]-= (learning_rate*gradients[\"dw\"+str(i)])/(np.sqrt(R[\"W\"+str(i)])+eps)\n",
        "        params[\"b\"+str(i)]-= (learning_rate*gradients[\"db\"+str(i)])/(np.sqrt(R[\"b\"+str(i)])+eps)\n",
        "        params[\"W\"+str(i)]-= learning_rate*(weight_decay/m)*params[\"W\"+str(i)]\n",
        "        params[\"b\"+str(i)]-= learning_rate*(weight_decay/m)*params[\"b\"+str(i)]\n",
        "    return(params,R)\n",
        "\n",
        "\n",
        "def updateWeightsNesterov(m, params, lookahead_grads, M, layers, learning_rate, weight_decay, beta):\n",
        "    \n",
        "    for i in range(1,len(layers)):\n",
        "        M[\"W\"+str(i)]=beta*M[\"W\"+str(i)]+(1-beta)*lookahead_grads[\"dw\"+str(i)]\n",
        "        M[\"b\"+str(i)]=beta*M[\"b\"+str(i)]+(1-beta)*lookahead_grads[\"db\"+str(i)]\n",
        "        params[\"W\"+str(i)]-= learning_rate* M[\"W\"+str(i)]\n",
        "        params[\"b\"+str(i)]-= learning_rate*M[\"b\"+str(i)]\n",
        "        params[\"W\"+str(i)]-= learning_rate*(weight_decay/m)*params[\"W\"+str(i)]\n",
        "        params[\"b\"+str(i)]-= learning_rate*(weight_decay/m)*params[\"b\"+str(i)]\n",
        "    return(params,M)\n",
        "\n",
        "def updateWeightsNAdam(m, params, lookahead_grads, layers, M, R, learning_rate, weight_decay, gamma1, gamma2, eps, t):\n",
        "    M_c={}\n",
        "    R_c={}\n",
        "    for i in range(1,len(layers)):\n",
        "        M[\"W\"+str(i)]=gamma1*M[\"W\"+str(i)]+(1-gamma1)*lookahead_grads[\"dw\"+str(i)]\n",
        "        M[\"b\"+str(i)]=gamma1*M[\"b\"+str(i)]+(1-gamma1)*lookahead_grads[\"db\"+str(i)]\n",
        "        M_c[\"W\"+str(i)]=M[\"W\"+str(i)]/(1-np.power(gamma1,t))\n",
        "        M_c[\"b\"+str(i)]=M[\"b\"+str(i)]/(1-np.power(gamma1,t))\n",
        "        R[\"W\"+str(i)]=gamma2*R[\"W\"+str(i)]+(1-gamma2)*np.power(lookahead_grads[\"dw\"+str(i)],2)\n",
        "        R[\"b\"+str(i)]=gamma2*R[\"b\"+str(i)]+(1-gamma2)*np.power(lookahead_grads[\"db\"+str(i)],2)\n",
        "        R_c[\"W\"+str(i)]=R[\"W\"+str(i)]/(1-np.power(gamma2,t))\n",
        "        R_c[\"b\"+str(i)]=R[\"b\"+str(i)]/(1-np.power(gamma2,t))\n",
        "        params[\"W\"+str(i)]-= (learning_rate*M_c[\"W\"+str(i)])/(np.sqrt(R_c[\"W\"+str(i)])+eps)\n",
        "        params[\"b\"+str(i)]-= (learning_rate*M_c[\"b\"+str(i)])/(np.sqrt(R_c[\"b\"+str(i)])+eps)\n",
        "        params[\"W\"+str(i)]-= learning_rate*(weight_decay/m)*params[\"W\"+str(i)]\n",
        "        params[\"b\"+str(i)]-= learning_rate*(weight_decay/m)*params[\"b\"+str(i)]\n",
        "        \n",
        "    return(params,M,R)\n",
        "\n",
        "def updateWeightsAdam(m, params, gradients, layers, M, R, learning_rate, weight_decay, gamma1, gamma2, eps, t):\n",
        "    M_c={}\n",
        "    R_c={}\n",
        "    for i in range(1,len(layers)):\n",
        "        M[\"W\"+str(i)]=gamma1*M[\"W\"+str(i)]+(1-gamma1)*gradients[\"dw\"+str(i)]\n",
        "        M[\"b\"+str(i)]=gamma1*M[\"b\"+str(i)]+(1-gamma1)*gradients[\"db\"+str(i)]\n",
        "        M_c[\"W\"+str(i)]=M[\"W\"+str(i)]/(1-np.power(gamma1,t))\n",
        "        M_c[\"b\"+str(i)]=M[\"b\"+str(i)]/(1-np.power(gamma1,t))\n",
        "        R[\"W\"+str(i)]=gamma2*R[\"W\"+str(i)]+(1-gamma2)*np.power(gradients[\"dw\"+str(i)],2)\n",
        "        R[\"b\"+str(i)]=gamma2*R[\"b\"+str(i)]+(1-gamma2)*np.power(gradients[\"db\"+str(i)],2)\n",
        "        R_c[\"W\"+str(i)]=R[\"W\"+str(i)]/(1-np.power(gamma2,t))\n",
        "        R_c[\"b\"+str(i)]=R[\"b\"+str(i)]/(1-np.power(gamma2,t))\n",
        "        params[\"W\"+str(i)]-= (learning_rate*M_c[\"W\"+str(i)])/(np.sqrt(R_c[\"W\"+str(i)])+eps)\n",
        "        params[\"b\"+str(i)]-= (learning_rate*M_c[\"b\"+str(i)])/(np.sqrt(R_c[\"b\"+str(i)])+eps)\n",
        "        params[\"W\"+str(i)]-= learning_rate*(weight_decay/m)*params[\"W\"+str(i)]\n",
        "        params[\"b\"+str(i)]-= learning_rate*(weight_decay/m)*params[\"b\"+str(i)]\n",
        "    return(params,M,R)"
      ],
      "metadata": {
        "id": "y9EruJ95G0-E"
      },
      "execution_count": 18,
      "outputs": []
    },
    {
      "cell_type": "code",
      "source": [
        "\n",
        "def predict(params, layers, X_train, X_test, Y_train_orig, Y_test,activation):\n",
        "  num_train = X_train.shape[1]\n",
        "  num_test = X_test.shape[1]\n",
        "  \n",
        "\n",
        "  A,Z=feedforward(params, layers, X_train,activation)\n",
        "  pred=A[-1]\n",
        "  max_index = np.argmax(pred, axis=0)\n",
        "  count=0\n",
        "  for i in range(num_train):\n",
        "      if(Y_train_orig[0,i]==max_index[i]):\n",
        "          count+=1\n",
        "  \n",
        "  print(\"train accuracy: \",(count/num_train)*100)\n",
        "  validationaccuracy = (count/num_train)*100\n",
        "\n",
        "  A,Z=feedforward(params, layers, X_test,activation)\n",
        "  pred=A[-1]\n",
        "  max_index = np.argmax(pred, axis=0)\n",
        "  count=0\n",
        "  for i in range(num_test):\n",
        "      if(Y_test[0,i]==max_index[i]):\n",
        "          count+=1\n",
        "  print(\"test accuracy: \",(count/num_test)*100)\n",
        "\n",
        "  return((count/num_train)*100)\n",
        "          \n",
        "      \n",
        "  \n",
        "\n"
      ],
      "metadata": {
        "id": "Sms3y9Ma0LoE"
      },
      "execution_count": 19,
      "outputs": []
    },
    {
      "cell_type": "code",
      "source": [
        "(X_train, Y_train), (X_test, Y_test) = data.load_data()\n",
        "(X_train, X_test) = flatten_input(X_train,X_test)\n",
        "\n",
        "\n",
        "num_train= X_train.shape[1]\n",
        "num_test=X_test.shape[1]\n",
        "\n",
        "\n",
        "(Y_train,Y_train_orig)= OneHotEncoding(Y_train,num_train)\n",
        "\n",
        "Y_train_orig= Y_train_orig.reshape(1,num_train)\n",
        "Y_test= Y_test.reshape(1,num_test)\n",
        "\n",
        "\n",
        "print(X_train.shape,Y_train.shape, X_test.shape, Y_test.shape)"
      ],
      "metadata": {
        "colab": {
          "base_uri": "https://localhost:8080/"
        },
        "id": "zsaDS2Ala_k9",
        "outputId": "87877617-b1cd-456a-baeb-fadfd07fa786"
      },
      "execution_count": 20,
      "outputs": [
        {
          "output_type": "stream",
          "name": "stdout",
          "text": [
            "(784, 60000) (10, 60000) (784, 10000) (1, 10000)\n"
          ]
        }
      ]
    },
    {
      "cell_type": "code",
      "source": [
        "\n",
        "sweep_config = {\n",
        "  \"name\": \"Random Sweep\",\n",
        "  \"method\": \"random\",\n",
        "  \"metric\":{\n",
        "  \"name\": \"validationaccuracy\",\n",
        "  \"goal\": \"maximize\"\n",
        "  },\n",
        "  \"parameters\": {\n",
        "        \"epochs\": {\n",
        "            #\"values\": [5, 10]\n",
        "            \"values\": [10]\n",
        "        },\n",
        "\n",
        "        \"initialiser\": {\n",
        "            #\"values\": [\"random\", \"xavier\"]\n",
        "            \"values\": [\"random\"]\n",
        "        },\n",
        "\n",
        "        \"hidden_layers\": {\n",
        "            #\"values\": [3,4,5]\n",
        "            \"values\": [3]\n",
        "        },\n",
        "        \n",
        "        \n",
        "        \"size_hidden_layer\": {\n",
        "             #\"values\": [32, 64, 128]\n",
        "             \"values\": [64]\n",
        "\n",
        "        },\n",
        "        \n",
        "        \"activation\": {\n",
        "            #\"values\": [ 'sigmoid', 'tanh','relu']\n",
        "            \"values\": [ 'relu']\n",
        "        },\n",
        "        \n",
        "        \"learning_rate\": {\n",
        "             #\"values\": [0.001, 0.0001]\n",
        "            \"values\": [0.001]\n",
        "        },\n",
        "        \n",
        "        \n",
        "        \"weight_decay\": {\n",
        "            #\"values\": [0, 0.0005,0.5]\n",
        "            \"values\": [0]\n",
        "        },\n",
        "        \n",
        "        \"optimiser\": {\n",
        "             #\"values\": [\"sgd\", \"momentum\", \"nesterov\", \"rmsprop\", \"adam\", \"nadam\"]\n",
        "             \"values\": [ \"adam\"]\n",
        "        },\n",
        "                    \n",
        "        \"mini_batch_size\": {\n",
        "             \"values\": [32]\n",
        "             #\"values\": [32,64]\n",
        "        }\n",
        "        \n",
        "        \n",
        "    }\n",
        "}\n",
        "\n",
        "sweep_id = wandb.sweep(sweep_config,project='Assignment 1', entity='go4rav')\n"
      ],
      "metadata": {
        "colab": {
          "base_uri": "https://localhost:8080/"
        },
        "id": "-91nnO5y-yUr",
        "outputId": "191aa1de-5285-4e0f-f695-1371c693e2b3"
      },
      "execution_count": 21,
      "outputs": [
        {
          "output_type": "stream",
          "name": "stdout",
          "text": [
            "Create sweep with ID: 89m0ezxg\n",
            "Sweep URL: https://wandb.ai/go4rav/Assignment%201/sweeps/89m0ezxg\n"
          ]
        }
      ]
    },
    {
      "cell_type": "code",
      "source": [
        "def train_model():\n",
        "    wandb.init(project=\"assignment_1_\",entity='go4rav')\n",
        "    CONFIG=wandb.config\n",
        "    print(\"Testing\",CONFIG)\n",
        "    hidden_layers=CONFIG.hidden_layers\n",
        "    size_hidden_layer=CONFIG.size_hidden_layer\n",
        "    learning_rate=CONFIG.learning_rate\n",
        "    weight_decay=CONFIG.weight_decay\n",
        "    optimiser=CONFIG.optimiser\n",
        "    activation=CONFIG.activation\n",
        "    epochs=CONFIG.epochs\n",
        "    mini_batch_size=CONFIG.mini_batch_size\n",
        "    initialiser=CONFIG.initialiser\n",
        "    \n",
        "    layers=[X_train.shape[0]]\n",
        "    for i in range(hidden_layers):\n",
        "      layers.append(size_hidden_layer)\n",
        "    layers.append(Y_train.shape[0])\n",
        "    params={}\n",
        "    M={}\n",
        "    R={}\n",
        "    lookahead_params={}\n",
        "    errors=[]\n",
        "    \n",
        "    params, M, R = initialize_weights(layers, params, M, R,initialiser)\n",
        "    (X_mini_batches, Y_mini_batches) = get_mini_batches(X_train, Y_train,mini_batch_size)\n",
        "    errors=[]\n",
        "    epoch=1\n",
        "    gamma1=0.9\n",
        "    gamma2=0.999\n",
        "    eps=1e-8\n",
        "    seed=10\n",
        "    beta=0.9\n",
        "    m=X_train.shape[1]\n",
        "    \n",
        "    t=0\n",
        "\n",
        "    while(epoch<=epochs):\n",
        "        error=0\n",
        "        for i in range(len(X_mini_batches)):\n",
        "          X_train_mini=X_mini_batches[i]\n",
        "          Y_train_mini=Y_mini_batches[i]\n",
        "          A,Z=feedforward(params, layers, X_train_mini,activation)\n",
        "          error+= crossEntropyError(A[-1], Y_train_mini,params,layers,weight_decay)\n",
        "          #error=squaredError(A[-1],Y_train)\n",
        "          if(optimiser==\"nadam\" or optimiser==\"nesterov\"):\n",
        "              for i in range(1,len(layers)):\n",
        "                lookahead_params[\"W\"+str(i)]=params[\"W\"+str(i)]-M[\"W\"+str(i)]\n",
        "                lookahead_params[\"b\"+str(i)]=params[\"b\"+str(i)]-M[\"b\"+str(i)]\n",
        "              lookahead_grads=backwardPropagate(lookahead_params, layers,Z, A, learning_rate, Y_train_mini,activation)\n",
        "              if(optimiser==\"nesterov\"):\n",
        "                params, M = updateWeightsNesterov(num_train, params, lookahead_grads, M, layers, learning_rate, weight_decay, beta)\n",
        "              elif(optimiser==\"nadam\"):\n",
        "                t=t+1\n",
        "                params,M,R = updateWeightsNAdam(num_train, params, lookahead_grads, layers, M, R, learning_rate, weight_decay, gamma1,gamma2,eps,t)\n",
        "\n",
        "          else:\n",
        "              gradients=backwardPropagate(params, layers,Z, A, learning_rate, Y_train_mini, activation)\n",
        "              if(optimiser==\"sgd\"):\n",
        "                params = updateWeightsSGD(num_train, params,gradients,layers, learning_rate, weight_decay)\n",
        "              elif(optimiser==\"momentum\"):\n",
        "                params,M = updateWeightsMomentum(num_train, params, gradients, M, layers, learning_rate,weight_decay, beta)\n",
        "              elif(optimiser==\"rmsprop\"):\n",
        "                params, R = updateWeightsRMS(num_train, params, gradients, R, layers, learning_rate, weight_decay, beta ,eps)\n",
        "              elif(optimiser==\"adam\"):\n",
        "                t=t+1\n",
        "                params, M, R = updateWeightsAdam(num_train,params, gradients, layers, M, R, learning_rate, weight_decay, gamma1, gamma2, eps, t)\n",
        "        error=error/m\n",
        "        if(epoch<=10):\n",
        "          errors.append(error)\n",
        "          print(error,epoch)\n",
        "\n",
        "        elif(epoch%10==0):\n",
        "          errors.append(error)\n",
        "          print(error,epoch)\n",
        "        epoch+=1\n",
        "      \n",
        "    #A,Z=feedforward(params, layers, X_train)\n",
        "    #print(A[-1])\n",
        "\n",
        "    plt.plot(errors)\n",
        "    plt.xlabel(\"EPOCHS\")\n",
        "    plt.ylabel(\"Loss value\")\n",
        "\n",
        "    validationaccuracy=predict(params, layers, X_train, X_test, Y_train_orig, Y_test,activation)"
      ],
      "metadata": {
        "id": "yAuAvnAdi4Hm"
      },
      "execution_count": 22,
      "outputs": []
    },
    {
      "cell_type": "code",
      "source": [
        ""
      ],
      "metadata": {
        "id": "u0TgTG9ZM9CI"
      },
      "execution_count": 22,
      "outputs": []
    },
    {
      "cell_type": "code",
      "source": [
        "#train_model(X_train, Y_train,X_test, Y_test, Y_train_orig)\n",
        "wandb.agent(sweep_id, train_model,count = 1)"
      ],
      "metadata": {
        "colab": {
          "base_uri": "https://localhost:8080/",
          "height": 874,
          "referenced_widgets": [
            "6b87343f0ec5405b99df8a66ebe061a3",
            "cf4e83acb2d2408ab4b7a0c24555d908",
            "6fc8a9d9ec544567aff789e456f7fd5e",
            "3347b6c4bdc748ca909d24eab8b1445d",
            "525f930eca8d46d8bddaed5d403e73be",
            "49268fe2531b4f03b2f78e9cac148fc2",
            "e48b5cb9ef204d05adb3c9ebae10d723",
            "430fc65510764cedb458757179a69013"
          ]
        },
        "id": "OlBuaELrjM_F",
        "outputId": "56c18d0f-6a96-43cf-d46a-bf9f83a17651"
      },
      "execution_count": 23,
      "outputs": [
        {
          "output_type": "stream",
          "name": "stderr",
          "text": [
            "\u001b[34m\u001b[1mwandb\u001b[0m: Agent Starting Run: 1v1gkfct with config:\n",
            "\u001b[34m\u001b[1mwandb\u001b[0m: \tactivation: relu\n",
            "\u001b[34m\u001b[1mwandb\u001b[0m: \tepochs: 10\n",
            "\u001b[34m\u001b[1mwandb\u001b[0m: \thidden_layers: 3\n",
            "\u001b[34m\u001b[1mwandb\u001b[0m: \tinitialiser: random\n",
            "\u001b[34m\u001b[1mwandb\u001b[0m: \tlearning_rate: 0.001\n",
            "\u001b[34m\u001b[1mwandb\u001b[0m: \tmini_batch_size: 32\n",
            "\u001b[34m\u001b[1mwandb\u001b[0m: \toptimiser: adam\n",
            "\u001b[34m\u001b[1mwandb\u001b[0m: \tsize_hidden_layer: 64\n",
            "\u001b[34m\u001b[1mwandb\u001b[0m: \tweight_decay: 0\n",
            "\u001b[34m\u001b[1mwandb\u001b[0m: \u001b[33mWARNING\u001b[0m Ignored wandb.init() arg project when running a sweep.\n",
            "\u001b[34m\u001b[1mwandb\u001b[0m: \u001b[33mWARNING\u001b[0m Ignored wandb.init() arg entity when running a sweep.\n"
          ]
        },
        {
          "output_type": "display_data",
          "data": {
            "text/html": [
              "\n",
              "                    Syncing run <strong><a href=\"https://wandb.ai/go4rav/Assignment%201/runs/1v1gkfct\" target=\"_blank\">driven-sweep-1</a></strong> to <a href=\"https://wandb.ai/go4rav/Assignment%201\" target=\"_blank\">Weights & Biases</a> (<a href=\"https://docs.wandb.com/integrations/jupyter.html\" target=\"_blank\">docs</a>).<br/>\n",
              "Sweep page: <a href=\"https://wandb.ai/go4rav/Assignment%201/sweeps/89m0ezxg\" target=\"_blank\">https://wandb.ai/go4rav/Assignment%201/sweeps/89m0ezxg</a><br/>\n",
              "\n",
              "                "
            ],
            "text/plain": [
              "<IPython.core.display.HTML object>"
            ]
          },
          "metadata": {}
        },
        {
          "output_type": "stream",
          "name": "stdout",
          "text": [
            "Testing {'activation': 'relu', 'epochs': 10, 'hidden_layers': 3, 'initialiser': 'random', 'learning_rate': 0.001, 'mini_batch_size': 32, 'optimiser': 'adam', 'size_hidden_layer': 64, 'weight_decay': 0}\n",
            "0.9488768299393197 1\n",
            "0.6156172437194671 2\n",
            "0.5035053944601432 3\n",
            "0.4458615618776235 4\n",
            "0.40706628142651746 5\n",
            "0.378090605897087 6\n",
            "0.35626426473647965 7\n",
            "0.3373357324970534 8\n",
            "0.32197322773457593 9\n",
            "0.3106407224828778 10\n",
            "train accuracy:  89.29\n",
            "test accuracy:  86.53\n"
          ]
        },
        {
          "output_type": "display_data",
          "data": {
            "text/html": [
              "<br/>Waiting for W&B process to finish, PID 310... <strong style=\"color:green\">(success).</strong>"
            ],
            "text/plain": [
              "<IPython.core.display.HTML object>"
            ]
          },
          "metadata": {}
        },
        {
          "output_type": "display_data",
          "data": {
            "application/vnd.jupyter.widget-view+json": {
              "model_id": "6b87343f0ec5405b99df8a66ebe061a3",
              "version_minor": 0,
              "version_major": 2
            },
            "text/plain": [
              "VBox(children=(Label(value=' 0.00MB of 0.00MB uploaded (0.00MB deduped)\\r'), FloatProgress(value=1.0, max=1.0)…"
            ]
          },
          "metadata": {}
        },
        {
          "output_type": "display_data",
          "data": {
            "text/html": [
              "<style>\n",
              "    table.wandb td:nth-child(1) { padding: 0 10px; text-align: right }\n",
              "    .wandb-row { display: flex; flex-direction: row; flex-wrap: wrap; width: 100% }\n",
              "    .wandb-col { display: flex; flex-direction: column; flex-basis: 100%; flex: 1; padding: 10px; }\n",
              "    </style>\n",
              "<div class=\"wandb-row\"><div class=\"wandb-col\">\n",
              "</div><div class=\"wandb-col\">\n",
              "</div></div>\n",
              "Synced 5 W&B file(s), 0 media file(s), 0 artifact file(s) and 0 other file(s)\n",
              "<br/>Synced <strong style=\"color:#cdcd00\">driven-sweep-1</strong>: <a href=\"https://wandb.ai/go4rav/Assignment%201/runs/1v1gkfct\" target=\"_blank\">https://wandb.ai/go4rav/Assignment%201/runs/1v1gkfct</a><br/>\n",
              "Find logs at: <code>./wandb/run-20220224_080525-1v1gkfct/logs</code><br/>\n"
            ],
            "text/plain": [
              "<IPython.core.display.HTML object>"
            ]
          },
          "metadata": {}
        },
        {
          "output_type": "display_data",
          "data": {
            "image/png": "[encoded data removed]",
            "text/plain": [
              "<Figure size 432x288 with 1 Axes>"
            ]
          },
          "metadata": {
            "needs_background": "light"
          }
        }
      ]
    },
    {
      "cell_type": "code",
      "source": [
        "\n"
      ],
      "metadata": {
        "id": "7QFV8rEO4ywb"
      },
      "execution_count": null,
      "outputs": []
    },
    {
      "cell_type": "code",
      "source": [
        ""
      ],
      "metadata": {
        "id": "AvvVS1PdplzT"
      },
      "execution_count": null,
      "outputs": []
    }
  ]
}
