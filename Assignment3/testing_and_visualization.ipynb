{
  "nbformat": 4,
  "nbformat_minor": 0,
  "metadata": {
    "colab": {
      "name": "testing_and_visualization",
      "provenance": [],
      "collapsed_sections": []
    },
    "kernelspec": {
      "display_name": "Python 3",
      "name": "python3"
    },
    "language_info": {
      "name": "python"
    },
    "accelerator": "GPU"
  },
  "cells": [
    {
      "cell_type": "markdown",
      "metadata": {
        "id": "view-in-github"
      },
      "source": [
        "<a href=\"https://colab.research.google.com/github/ManideepLadi/cs6910_assignment3/blob/manideep/with_embedding_.ipynb\" target=\"_parent\"><img src=\"https://colab.research.google.com/assets/colab-badge.svg\" alt=\"Open In Colab\"/></a>"
      ]
    },
    {
      "cell_type": "code",
      "metadata": {
        "colab": {
          "resources": {
            "http://localhost:8080/nbextensions/google.colab/files.js": {
              "data": "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",
              "ok": true,
              "headers": [
                [
                  "content-type",
                  "application/javascript"
                ]
              ],
              "status": 200,
              "status_text": ""
            }
          },
          "base_uri": "https://localhost:8080/",
          "height": 74
        },
        "id": "MfG5NYUnl1lp",
        "outputId": "62dca05a-6cc8-43a0-fb1d-f4bffbb1e8aa"
      },
      "source": [
        "import numpy as np\n",
        "import tensorflow as tf\n",
        "from tensorflow import keras\n",
        "from tensorflow.keras import layers\n",
        "\n",
        "from keras.layers import Input,Dense,LSTM,GRU,RNN,SimpleRNN,Softmax,Dropout,Concatenate\n",
        "from keras.layers import TimeDistributed\n",
        "import matplotlib.pyplot as plt\n",
        "\n",
        "\n",
        "from google.colab import files\n",
        "uploaded = files.upload()\n",
        "\n",
        "from attention import AttentionLayer\n",
        "\n",
        "\n",
        "\n",
        "import pandas as pd"
      ],
      "execution_count": null,
      "outputs": [
        {
          "output_type": "display_data",
          "data": {
            "text/plain": [
              "<IPython.core.display.HTML object>"
            ],
            "text/html": [
              "\n",
              "     <input type=\"file\" id=\"files-fd64fdb8-0dde-48ad-ab99-2ae22a5b51ae\" name=\"files[]\" multiple disabled\n",
              "        style=\"border:none\" />\n",
              "     <output id=\"result-fd64fdb8-0dde-48ad-ab99-2ae22a5b51ae\">\n",
              "      Upload widget is only available when the cell has been executed in the\n",
              "      current browser session. Please rerun this cell to enable.\n",
              "      </output>\n",
              "      <script src=\"/nbextensions/google.colab/files.js\"></script> "
            ]
          },
          "metadata": {}
        },
        {
          "output_type": "stream",
          "name": "stdout",
          "text": [
            "Saving attention.py to attention (1).py\n"
          ]
        }
      ]
    },
    {
      "cell_type": "code",
      "source": [
        "pip install tensorflow==2.4.0"
      ],
      "metadata": {
        "colab": {
          "base_uri": "https://localhost:8080/",
          "height": 1000
        },
        "id": "LCuZDppuk1wA",
        "outputId": "2a5d0ddf-c79d-4d85-ba84-8ce6d27f659e"
      },
      "execution_count": null,
      "outputs": [
        {
          "output_type": "stream",
          "name": "stdout",
          "text": [
            "Collecting tensorflow==2.4.0\n",
            "  Downloading tensorflow-2.4.0-cp37-cp37m-manylinux2010_x86_64.whl (394.7 MB)\n",
            "\u001b[K     |████████████████████████████████| 394.7 MB 17 kB/s \n",
            "\u001b[?25hRequirement already satisfied: six~=1.15.0 in /usr/local/lib/python3.7/dist-packages (from tensorflow==2.4.0) (1.15.0)\n",
            "Collecting gast==0.3.3\n",
            "  Downloading gast-0.3.3-py2.py3-none-any.whl (9.7 kB)\n",
            "Collecting numpy~=1.19.2\n",
            "  Downloading numpy-1.19.5-cp37-cp37m-manylinux2010_x86_64.whl (14.8 MB)\n",
            "\u001b[K     |████████████████████████████████| 14.8 MB 63.8 MB/s \n",
            "\u001b[?25hCollecting grpcio~=1.32.0\n",
            "  Downloading grpcio-1.32.0-cp37-cp37m-manylinux2014_x86_64.whl (3.8 MB)\n",
            "\u001b[K     |████████████████████████████████| 3.8 MB 23.8 MB/s \n",
            "\u001b[?25hRequirement already satisfied: google-pasta~=0.2 in /usr/local/lib/python3.7/dist-packages (from tensorflow==2.4.0) (0.2.0)\n",
            "Requirement already satisfied: protobuf>=3.9.2 in /usr/local/lib/python3.7/dist-packages (from tensorflow==2.4.0) (3.17.3)\n",
            "Collecting wrapt~=1.12.1\n",
            "  Downloading wrapt-1.12.1.tar.gz (27 kB)\n",
            "Requirement already satisfied: opt-einsum~=3.3.0 in /usr/local/lib/python3.7/dist-packages (from tensorflow==2.4.0) (3.3.0)\n",
            "Collecting tensorflow-estimator<2.5.0,>=2.4.0rc0\n",
            "  Downloading tensorflow_estimator-2.4.0-py2.py3-none-any.whl (462 kB)\n",
            "\u001b[K     |████████████████████████████████| 462 kB 67.3 MB/s \n",
            "\u001b[?25hRequirement already satisfied: astunparse~=1.6.3 in /usr/local/lib/python3.7/dist-packages (from tensorflow==2.4.0) (1.6.3)\n",
            "Requirement already satisfied: termcolor~=1.1.0 in /usr/local/lib/python3.7/dist-packages (from tensorflow==2.4.0) (1.1.0)\n",
            "Collecting typing-extensions~=3.7.4\n",
            "  Downloading typing_extensions-3.7.4.3-py3-none-any.whl (22 kB)\n",
            "Requirement already satisfied: tensorboard~=2.4 in /usr/local/lib/python3.7/dist-packages (from tensorflow==2.4.0) (2.8.0)\n",
            "Requirement already satisfied: wheel~=0.35 in /usr/local/lib/python3.7/dist-packages (from tensorflow==2.4.0) (0.37.1)\n",
            "Collecting flatbuffers~=1.12.0\n",
            "  Downloading flatbuffers-1.12-py2.py3-none-any.whl (15 kB)\n",
            "Collecting absl-py~=0.10\n",
            "  Downloading absl_py-0.15.0-py3-none-any.whl (132 kB)\n",
            "\u001b[K     |████████████████████████████████| 132 kB 77.3 MB/s \n",
            "\u001b[?25hCollecting h5py~=2.10.0\n",
            "  Downloading h5py-2.10.0-cp37-cp37m-manylinux1_x86_64.whl (2.9 MB)\n",
            "\u001b[K     |████████████████████████████████| 2.9 MB 65.5 MB/s \n",
            "\u001b[?25hRequirement already satisfied: keras-preprocessing~=1.1.2 in /usr/local/lib/python3.7/dist-packages (from tensorflow==2.4.0) (1.1.2)\n",
            "Requirement already satisfied: google-auth-oauthlib<0.5,>=0.4.1 in /usr/local/lib/python3.7/dist-packages (from tensorboard~=2.4->tensorflow==2.4.0) (0.4.6)\n",
            "Requirement already satisfied: google-auth<3,>=1.6.3 in /usr/local/lib/python3.7/dist-packages (from tensorboard~=2.4->tensorflow==2.4.0) (1.35.0)\n",
            "Requirement already satisfied: setuptools>=41.0.0 in /usr/local/lib/python3.7/dist-packages (from tensorboard~=2.4->tensorflow==2.4.0) (57.4.0)\n",
            "Requirement already satisfied: markdown>=2.6.8 in /usr/local/lib/python3.7/dist-packages (from tensorboard~=2.4->tensorflow==2.4.0) (3.3.6)\n",
            "Requirement already satisfied: requests<3,>=2.21.0 in /usr/local/lib/python3.7/dist-packages (from tensorboard~=2.4->tensorflow==2.4.0) (2.23.0)\n",
            "Requirement already satisfied: werkzeug>=0.11.15 in /usr/local/lib/python3.7/dist-packages (from tensorboard~=2.4->tensorflow==2.4.0) (1.0.1)\n",
            "Requirement already satisfied: tensorboard-data-server<0.7.0,>=0.6.0 in /usr/local/lib/python3.7/dist-packages (from tensorboard~=2.4->tensorflow==2.4.0) (0.6.1)\n",
            "Requirement already satisfied: tensorboard-plugin-wit>=1.6.0 in /usr/local/lib/python3.7/dist-packages (from tensorboard~=2.4->tensorflow==2.4.0) (1.8.1)\n",
            "Requirement already satisfied: cachetools<5.0,>=2.0.0 in /usr/local/lib/python3.7/dist-packages (from google-auth<3,>=1.6.3->tensorboard~=2.4->tensorflow==2.4.0) (4.2.4)\n",
            "Requirement already satisfied: rsa<5,>=3.1.4 in /usr/local/lib/python3.7/dist-packages (from google-auth<3,>=1.6.3->tensorboard~=2.4->tensorflow==2.4.0) (4.8)\n",
            "Requirement already satisfied: pyasn1-modules>=0.2.1 in /usr/local/lib/python3.7/dist-packages (from google-auth<3,>=1.6.3->tensorboard~=2.4->tensorflow==2.4.0) (0.2.8)\n",
            "Requirement already satisfied: requests-oauthlib>=0.7.0 in /usr/local/lib/python3.7/dist-packages (from google-auth-oauthlib<0.5,>=0.4.1->tensorboard~=2.4->tensorflow==2.4.0) (1.3.1)\n",
            "Requirement already satisfied: importlib-metadata>=4.4 in /usr/local/lib/python3.7/dist-packages (from markdown>=2.6.8->tensorboard~=2.4->tensorflow==2.4.0) (4.11.3)\n",
            "Requirement already satisfied: zipp>=0.5 in /usr/local/lib/python3.7/dist-packages (from importlib-metadata>=4.4->markdown>=2.6.8->tensorboard~=2.4->tensorflow==2.4.0) (3.8.0)\n",
            "Requirement already satisfied: pyasn1<0.5.0,>=0.4.6 in /usr/local/lib/python3.7/dist-packages (from pyasn1-modules>=0.2.1->google-auth<3,>=1.6.3->tensorboard~=2.4->tensorflow==2.4.0) (0.4.8)\n",
            "Requirement already satisfied: certifi>=2017.4.17 in /usr/local/lib/python3.7/dist-packages (from requests<3,>=2.21.0->tensorboard~=2.4->tensorflow==2.4.0) (2021.10.8)\n",
            "Requirement already satisfied: chardet<4,>=3.0.2 in /usr/local/lib/python3.7/dist-packages (from requests<3,>=2.21.0->tensorboard~=2.4->tensorflow==2.4.0) (3.0.4)\n",
            "Requirement already satisfied: idna<3,>=2.5 in /usr/local/lib/python3.7/dist-packages (from requests<3,>=2.21.0->tensorboard~=2.4->tensorflow==2.4.0) (2.10)\n",
            "Requirement already satisfied: urllib3!=1.25.0,!=1.25.1,<1.26,>=1.21.1 in /usr/local/lib/python3.7/dist-packages (from requests<3,>=2.21.0->tensorboard~=2.4->tensorflow==2.4.0) (1.24.3)\n",
            "Requirement already satisfied: oauthlib>=3.0.0 in /usr/local/lib/python3.7/dist-packages (from requests-oauthlib>=0.7.0->google-auth-oauthlib<0.5,>=0.4.1->tensorboard~=2.4->tensorflow==2.4.0) (3.2.0)\n",
            "Building wheels for collected packages: wrapt\n",
            "  Building wheel for wrapt (setup.py) ... \u001b[?25l\u001b[?25hdone\n",
            "  Created wheel for wrapt: filename=wrapt-1.12.1-cp37-cp37m-linux_x86_64.whl size=68717 sha256=f2454b5ee8f7c83fd3543adcd0233361ab30fc3df198b1f92d9658c69a4f6db5\n",
            "  Stored in directory: /root/.cache/pip/wheels/62/76/4c/aa25851149f3f6d9785f6c869387ad82b3fd37582fa8147ac6\n",
            "Successfully built wrapt\n",
            "Installing collected packages: typing-extensions, numpy, grpcio, absl-py, wrapt, tensorflow-estimator, h5py, gast, flatbuffers, tensorflow\n",
            "  Attempting uninstall: typing-extensions\n",
            "    Found existing installation: typing-extensions 4.2.0\n",
            "    Uninstalling typing-extensions-4.2.0:\n",
            "      Successfully uninstalled typing-extensions-4.2.0\n",
            "  Attempting uninstall: numpy\n",
            "    Found existing installation: numpy 1.21.6\n",
            "    Uninstalling numpy-1.21.6:\n",
            "      Successfully uninstalled numpy-1.21.6\n",
            "  Attempting uninstall: grpcio\n",
            "    Found existing installation: grpcio 1.44.0\n",
            "    Uninstalling grpcio-1.44.0:\n",
            "      Successfully uninstalled grpcio-1.44.0\n",
            "  Attempting uninstall: absl-py\n",
            "    Found existing installation: absl-py 1.0.0\n",
            "    Uninstalling absl-py-1.0.0:\n",
            "      Successfully uninstalled absl-py-1.0.0\n",
            "  Attempting uninstall: wrapt\n",
            "    Found existing installation: wrapt 1.14.0\n",
            "    Uninstalling wrapt-1.14.0:\n",
            "      Successfully uninstalled wrapt-1.14.0\n",
            "  Attempting uninstall: tensorflow-estimator\n",
            "    Found existing installation: tensorflow-estimator 2.8.0\n",
            "    Uninstalling tensorflow-estimator-2.8.0:\n",
            "      Successfully uninstalled tensorflow-estimator-2.8.0\n",
            "  Attempting uninstall: h5py\n",
            "    Found existing installation: h5py 3.1.0\n",
            "    Uninstalling h5py-3.1.0:\n",
            "      Successfully uninstalled h5py-3.1.0\n",
            "  Attempting uninstall: gast\n",
            "    Found existing installation: gast 0.5.3\n",
            "    Uninstalling gast-0.5.3:\n",
            "      Successfully uninstalled gast-0.5.3\n",
            "  Attempting uninstall: flatbuffers\n",
            "    Found existing installation: flatbuffers 2.0\n",
            "    Uninstalling flatbuffers-2.0:\n",
            "      Successfully uninstalled flatbuffers-2.0\n",
            "  Attempting uninstall: tensorflow\n",
            "    Found existing installation: tensorflow 2.8.0\n",
            "    Uninstalling tensorflow-2.8.0:\n",
            "      Successfully uninstalled tensorflow-2.8.0\n",
            "\u001b[31mERROR: pip's dependency resolver does not currently take into account all the packages that are installed. This behaviour is the source of the following dependency conflicts.\n",
            "datascience 0.10.6 requires folium==0.2.1, but you have folium 0.8.3 which is incompatible.\n",
            "albumentations 0.1.12 requires imgaug<0.2.7,>=0.2.5, but you have imgaug 0.2.9 which is incompatible.\u001b[0m\n",
            "Successfully installed absl-py-0.15.0 flatbuffers-1.12 gast-0.3.3 grpcio-1.32.0 h5py-2.10.0 numpy-1.19.5 tensorflow-2.4.0 tensorflow-estimator-2.4.0 typing-extensions-3.7.4.3 wrapt-1.12.1\n"
          ]
        },
        {
          "output_type": "display_data",
          "data": {
            "application/vnd.colab-display-data+json": {
              "pip_warning": {
                "packages": [
                  "numpy"
                ]
              }
            }
          },
          "metadata": {}
        }
      ]
    },
    {
      "cell_type": "code",
      "source": [
        "pip install keras==2.4.0"
      ],
      "metadata": {
        "colab": {
          "base_uri": "https://localhost:8080/"
        },
        "id": "Yr_iAd5HlNM9",
        "outputId": "cf0ee6e4-564e-424c-d88e-a90f4b428fd8"
      },
      "execution_count": null,
      "outputs": [
        {
          "output_type": "stream",
          "name": "stdout",
          "text": [
            "Collecting keras==2.4.0\n",
            "  Downloading Keras-2.4.0-py2.py3-none-any.whl (170 kB)\n",
            "\u001b[?25l\r\u001b[K     |██                              | 10 kB 28.0 MB/s eta 0:00:01\r\u001b[K     |███▉                            | 20 kB 27.9 MB/s eta 0:00:01\r\u001b[K     |█████▊                          | 30 kB 30.9 MB/s eta 0:00:01\r\u001b[K     |███████▊                        | 40 kB 19.0 MB/s eta 0:00:01\r\u001b[K     |█████████▋                      | 51 kB 15.9 MB/s eta 0:00:01\r\u001b[K     |███████████▌                    | 61 kB 18.1 MB/s eta 0:00:01\r\u001b[K     |█████████████▌                  | 71 kB 18.6 MB/s eta 0:00:01\r\u001b[K     |███████████████▍                | 81 kB 20.0 MB/s eta 0:00:01\r\u001b[K     |█████████████████▎              | 92 kB 21.7 MB/s eta 0:00:01\r\u001b[K     |███████████████████▎            | 102 kB 19.4 MB/s eta 0:00:01\r\u001b[K     |█████████████████████▏          | 112 kB 19.4 MB/s eta 0:00:01\r\u001b[K     |███████████████████████         | 122 kB 19.4 MB/s eta 0:00:01\r\u001b[K     |█████████████████████████       | 133 kB 19.4 MB/s eta 0:00:01\r\u001b[K     |███████████████████████████     | 143 kB 19.4 MB/s eta 0:00:01\r\u001b[K     |████████████████████████████▉   | 153 kB 19.4 MB/s eta 0:00:01\r\u001b[K     |██████████████████████████████▉ | 163 kB 19.4 MB/s eta 0:00:01\r\u001b[K     |████████████████████████████████| 170 kB 19.4 MB/s \n",
            "\u001b[?25hRequirement already satisfied: scipy>=0.14 in /usr/local/lib/python3.7/dist-packages (from keras==2.4.0) (1.4.1)\n",
            "Requirement already satisfied: h5py in /usr/local/lib/python3.7/dist-packages (from keras==2.4.0) (2.10.0)\n",
            "Requirement already satisfied: numpy>=1.9.1 in /usr/local/lib/python3.7/dist-packages (from keras==2.4.0) (1.19.5)\n",
            "Requirement already satisfied: pyyaml in /usr/local/lib/python3.7/dist-packages (from keras==2.4.0) (3.13)\n",
            "Requirement already satisfied: tensorflow>=2.2.0 in /usr/local/lib/python3.7/dist-packages (from keras==2.4.0) (2.4.0)\n",
            "Requirement already satisfied: flatbuffers~=1.12.0 in /usr/local/lib/python3.7/dist-packages (from tensorflow>=2.2.0->keras==2.4.0) (1.12)\n",
            "Requirement already satisfied: typing-extensions~=3.7.4 in /usr/local/lib/python3.7/dist-packages (from tensorflow>=2.2.0->keras==2.4.0) (3.7.4.3)\n",
            "Requirement already satisfied: six~=1.15.0 in /usr/local/lib/python3.7/dist-packages (from tensorflow>=2.2.0->keras==2.4.0) (1.15.0)\n",
            "Requirement already satisfied: wheel~=0.35 in /usr/local/lib/python3.7/dist-packages (from tensorflow>=2.2.0->keras==2.4.0) (0.37.1)\n",
            "Requirement already satisfied: gast==0.3.3 in /usr/local/lib/python3.7/dist-packages (from tensorflow>=2.2.0->keras==2.4.0) (0.3.3)\n",
            "Requirement already satisfied: grpcio~=1.32.0 in /usr/local/lib/python3.7/dist-packages (from tensorflow>=2.2.0->keras==2.4.0) (1.32.0)\n",
            "Requirement already satisfied: absl-py~=0.10 in /usr/local/lib/python3.7/dist-packages (from tensorflow>=2.2.0->keras==2.4.0) (0.15.0)\n",
            "Requirement already satisfied: tensorflow-estimator<2.5.0,>=2.4.0rc0 in /usr/local/lib/python3.7/dist-packages (from tensorflow>=2.2.0->keras==2.4.0) (2.4.0)\n",
            "Requirement already satisfied: astunparse~=1.6.3 in /usr/local/lib/python3.7/dist-packages (from tensorflow>=2.2.0->keras==2.4.0) (1.6.3)\n",
            "Requirement already satisfied: keras-preprocessing~=1.1.2 in /usr/local/lib/python3.7/dist-packages (from tensorflow>=2.2.0->keras==2.4.0) (1.1.2)\n",
            "Requirement already satisfied: termcolor~=1.1.0 in /usr/local/lib/python3.7/dist-packages (from tensorflow>=2.2.0->keras==2.4.0) (1.1.0)\n",
            "Requirement already satisfied: tensorboard~=2.4 in /usr/local/lib/python3.7/dist-packages (from tensorflow>=2.2.0->keras==2.4.0) (2.8.0)\n",
            "Requirement already satisfied: google-pasta~=0.2 in /usr/local/lib/python3.7/dist-packages (from tensorflow>=2.2.0->keras==2.4.0) (0.2.0)\n",
            "Requirement already satisfied: protobuf>=3.9.2 in /usr/local/lib/python3.7/dist-packages (from tensorflow>=2.2.0->keras==2.4.0) (3.17.3)\n",
            "Requirement already satisfied: wrapt~=1.12.1 in /usr/local/lib/python3.7/dist-packages (from tensorflow>=2.2.0->keras==2.4.0) (1.12.1)\n",
            "Requirement already satisfied: opt-einsum~=3.3.0 in /usr/local/lib/python3.7/dist-packages (from tensorflow>=2.2.0->keras==2.4.0) (3.3.0)\n",
            "Requirement already satisfied: google-auth<3,>=1.6.3 in /usr/local/lib/python3.7/dist-packages (from tensorboard~=2.4->tensorflow>=2.2.0->keras==2.4.0) (1.35.0)\n",
            "Requirement already satisfied: werkzeug>=0.11.15 in /usr/local/lib/python3.7/dist-packages (from tensorboard~=2.4->tensorflow>=2.2.0->keras==2.4.0) (1.0.1)\n",
            "Requirement already satisfied: requests<3,>=2.21.0 in /usr/local/lib/python3.7/dist-packages (from tensorboard~=2.4->tensorflow>=2.2.0->keras==2.4.0) (2.23.0)\n",
            "Requirement already satisfied: setuptools>=41.0.0 in /usr/local/lib/python3.7/dist-packages (from tensorboard~=2.4->tensorflow>=2.2.0->keras==2.4.0) (57.4.0)\n",
            "Requirement already satisfied: google-auth-oauthlib<0.5,>=0.4.1 in /usr/local/lib/python3.7/dist-packages (from tensorboard~=2.4->tensorflow>=2.2.0->keras==2.4.0) (0.4.6)\n",
            "Requirement already satisfied: markdown>=2.6.8 in /usr/local/lib/python3.7/dist-packages (from tensorboard~=2.4->tensorflow>=2.2.0->keras==2.4.0) (3.3.6)\n",
            "Requirement already satisfied: tensorboard-plugin-wit>=1.6.0 in /usr/local/lib/python3.7/dist-packages (from tensorboard~=2.4->tensorflow>=2.2.0->keras==2.4.0) (1.8.1)\n",
            "Requirement already satisfied: tensorboard-data-server<0.7.0,>=0.6.0 in /usr/local/lib/python3.7/dist-packages (from tensorboard~=2.4->tensorflow>=2.2.0->keras==2.4.0) (0.6.1)\n",
            "Requirement already satisfied: rsa<5,>=3.1.4 in /usr/local/lib/python3.7/dist-packages (from google-auth<3,>=1.6.3->tensorboard~=2.4->tensorflow>=2.2.0->keras==2.4.0) (4.8)\n",
            "Requirement already satisfied: pyasn1-modules>=0.2.1 in /usr/local/lib/python3.7/dist-packages (from google-auth<3,>=1.6.3->tensorboard~=2.4->tensorflow>=2.2.0->keras==2.4.0) (0.2.8)\n",
            "Requirement already satisfied: cachetools<5.0,>=2.0.0 in /usr/local/lib/python3.7/dist-packages (from google-auth<3,>=1.6.3->tensorboard~=2.4->tensorflow>=2.2.0->keras==2.4.0) (4.2.4)\n",
            "Requirement already satisfied: requests-oauthlib>=0.7.0 in /usr/local/lib/python3.7/dist-packages (from google-auth-oauthlib<0.5,>=0.4.1->tensorboard~=2.4->tensorflow>=2.2.0->keras==2.4.0) (1.3.1)\n",
            "Requirement already satisfied: importlib-metadata>=4.4 in /usr/local/lib/python3.7/dist-packages (from markdown>=2.6.8->tensorboard~=2.4->tensorflow>=2.2.0->keras==2.4.0) (4.11.3)\n",
            "Requirement already satisfied: zipp>=0.5 in /usr/local/lib/python3.7/dist-packages (from importlib-metadata>=4.4->markdown>=2.6.8->tensorboard~=2.4->tensorflow>=2.2.0->keras==2.4.0) (3.8.0)\n",
            "Requirement already satisfied: pyasn1<0.5.0,>=0.4.6 in /usr/local/lib/python3.7/dist-packages (from pyasn1-modules>=0.2.1->google-auth<3,>=1.6.3->tensorboard~=2.4->tensorflow>=2.2.0->keras==2.4.0) (0.4.8)\n",
            "Requirement already satisfied: idna<3,>=2.5 in /usr/local/lib/python3.7/dist-packages (from requests<3,>=2.21.0->tensorboard~=2.4->tensorflow>=2.2.0->keras==2.4.0) (2.10)\n",
            "Requirement already satisfied: chardet<4,>=3.0.2 in /usr/local/lib/python3.7/dist-packages (from requests<3,>=2.21.0->tensorboard~=2.4->tensorflow>=2.2.0->keras==2.4.0) (3.0.4)\n",
            "Requirement already satisfied: certifi>=2017.4.17 in /usr/local/lib/python3.7/dist-packages (from requests<3,>=2.21.0->tensorboard~=2.4->tensorflow>=2.2.0->keras==2.4.0) (2021.10.8)\n",
            "Requirement already satisfied: urllib3!=1.25.0,!=1.25.1,<1.26,>=1.21.1 in /usr/local/lib/python3.7/dist-packages (from requests<3,>=2.21.0->tensorboard~=2.4->tensorflow>=2.2.0->keras==2.4.0) (1.24.3)\n",
            "Requirement already satisfied: oauthlib>=3.0.0 in /usr/local/lib/python3.7/dist-packages (from requests-oauthlib>=0.7.0->google-auth-oauthlib<0.5,>=0.4.1->tensorboard~=2.4->tensorflow>=2.2.0->keras==2.4.0) (3.2.0)\n",
            "Installing collected packages: keras\n",
            "  Attempting uninstall: keras\n",
            "    Found existing installation: keras 2.8.0\n",
            "    Uninstalling keras-2.8.0:\n",
            "      Successfully uninstalled keras-2.8.0\n",
            "Successfully installed keras-2.4.0\n"
          ]
        }
      ]
    },
    {
      "cell_type": "code",
      "metadata": {
        "colab": {
          "base_uri": "https://localhost:8080/"
        },
        "id": "qOZ5OOFJ7Klg",
        "outputId": "012343eb-c48d-48d3-834d-818d8b69504b"
      },
      "source": [
        "import numpy as np\n",
        "import tensorflow as tf\n",
        "from tensorflow import keras\n",
        "from tensorflow.keras import layers\n",
        "\n",
        "from keras.layers import Input,Dense,LSTM,GRU,RNN,SimpleRNN,Softmax,Dropout,Concatenate\n",
        "from keras.layers import TimeDistributed\n",
        "import matplotlib.pyplot as plt\n",
        "from attention import AttentionLayer\n",
        "import pandas as pd"
      ],
      "execution_count": null,
      "outputs": [
        {
          "output_type": "stream",
          "name": "stdout",
          "text": [
            "Collecting rich\n",
            "  Downloading rich-12.4.1-py3-none-any.whl (231 kB)\n",
            "\u001b[?25l\r\u001b[K     |█▍                              | 10 kB 25.9 MB/s eta 0:00:01\r\u001b[K     |██▉                             | 20 kB 27.8 MB/s eta 0:00:01\r\u001b[K     |████▎                           | 30 kB 12.6 MB/s eta 0:00:01\r\u001b[K     |█████▋                          | 40 kB 13.8 MB/s eta 0:00:01\r\u001b[K     |███████                         | 51 kB 9.5 MB/s eta 0:00:01\r\u001b[K     |████████▌                       | 61 kB 11.1 MB/s eta 0:00:01\r\u001b[K     |██████████                      | 71 kB 12.5 MB/s eta 0:00:01\r\u001b[K     |███████████▎                    | 81 kB 11.2 MB/s eta 0:00:01\r\u001b[K     |████████████▊                   | 92 kB 12.3 MB/s eta 0:00:01\r\u001b[K     |██████████████▏                 | 102 kB 12.6 MB/s eta 0:00:01\r\u001b[K     |███████████████▌                | 112 kB 12.6 MB/s eta 0:00:01\r\u001b[K     |█████████████████               | 122 kB 12.6 MB/s eta 0:00:01\r\u001b[K     |██████████████████▍             | 133 kB 12.6 MB/s eta 0:00:01\r\u001b[K     |███████████████████▉            | 143 kB 12.6 MB/s eta 0:00:01\r\u001b[K     |█████████████████████▏          | 153 kB 12.6 MB/s eta 0:00:01\r\u001b[K     |██████████████████████▋         | 163 kB 12.6 MB/s eta 0:00:01\r\u001b[K     |████████████████████████        | 174 kB 12.6 MB/s eta 0:00:01\r\u001b[K     |█████████████████████████▌      | 184 kB 12.6 MB/s eta 0:00:01\r\u001b[K     |██████████████████████████▉     | 194 kB 12.6 MB/s eta 0:00:01\r\u001b[K     |████████████████████████████▎   | 204 kB 12.6 MB/s eta 0:00:01\r\u001b[K     |█████████████████████████████▊  | 215 kB 12.6 MB/s eta 0:00:01\r\u001b[K     |███████████████████████████████ | 225 kB 12.6 MB/s eta 0:00:01\r\u001b[K     |████████████████████████████████| 231 kB 12.6 MB/s \n",
            "\u001b[?25hRequirement already satisfied: pygments<3.0.0,>=2.6.0 in /usr/local/lib/python3.7/dist-packages (from rich) (2.6.1)\n",
            "Collecting typing-extensions<5.0,>=4.0.0\n",
            "  Downloading typing_extensions-4.2.0-py3-none-any.whl (24 kB)\n",
            "Collecting commonmark<0.10.0,>=0.9.0\n",
            "  Downloading commonmark-0.9.1-py2.py3-none-any.whl (51 kB)\n",
            "\u001b[K     |████████████████████████████████| 51 kB 7.9 MB/s \n",
            "\u001b[?25hInstalling collected packages: typing-extensions, commonmark, rich\n",
            "  Attempting uninstall: typing-extensions\n",
            "    Found existing installation: typing-extensions 3.7.4.3\n",
            "    Uninstalling typing-extensions-3.7.4.3:\n",
            "      Successfully uninstalled typing-extensions-3.7.4.3\n",
            "\u001b[31mERROR: pip's dependency resolver does not currently take into account all the packages that are installed. This behaviour is the source of the following dependency conflicts.\n",
            "tensorflow 2.4.0 requires typing-extensions~=3.7.4, but you have typing-extensions 4.2.0 which is incompatible.\u001b[0m\n",
            "Successfully installed commonmark-0.9.1 rich-12.4.1 typing-extensions-4.2.0\n"
          ]
        }
      ]
    },
    {
      "cell_type": "code",
      "source": [
        "!pip install colorama"
      ],
      "metadata": {
        "colab": {
          "base_uri": "https://localhost:8080/"
        },
        "id": "a7zSSyl-lsK_",
        "outputId": "28dde3ac-be9e-4f0c-bac0-83398b15d01e"
      },
      "execution_count": null,
      "outputs": [
        {
          "output_type": "stream",
          "name": "stdout",
          "text": [
            "Collecting colorama\n",
            "  Downloading colorama-0.4.4-py2.py3-none-any.whl (16 kB)\n",
            "Installing collected packages: colorama\n",
            "Successfully installed colorama-0.4.4\n"
          ]
        }
      ]
    },
    {
      "cell_type": "code",
      "metadata": {
        "id": "InjFPGG_tDXl",
        "colab": {
          "base_uri": "https://localhost:8080/"
        },
        "outputId": "36327f46-67c4-4dc5-e5e1-488532a40149"
      },
      "source": [
        "def preprocess_data(file_name):\n",
        "    \n",
        "    input_texts = []\n",
        "    target_texts = []\n",
        "    inputdata=[]\n",
        "    with open(file_name, \"r\", encoding=\"utf-8\") as f:\n",
        "        lines = f.read().split(\"\\n\")\n",
        "    for line in lines[: len(lines) - 1]:\n",
        "        inputdata.append(line)\n",
        "   \n",
        "    for line in inputdata:\n",
        "        target_text,input_text, attestation = line.split(\"\\t\")\n",
        "        \n",
        "        target_text = \"\\t\" + target_text + \"\\n\"\n",
        "        input_texts.append(input_text)\n",
        "        target_texts.append(target_text)\n",
        "        \n",
        "    return(input_texts,target_texts)\n",
        "\n",
        "\n",
        "\n"
      ],
      "execution_count": null,
      "outputs": [
        {
          "output_type": "stream",
          "name": "stderr",
          "text": [
            "Using TensorFlow backend.\n"
          ]
        }
      ]
    },
    {
      "cell_type": "code",
      "metadata": {
        "id": "8-BgaYRumCPd",
        "colab": {
          "base_uri": "https://localhost:8080/"
        },
        "outputId": "54466128-cdec-4f01-849b-75ab96a8161d"
      },
      "source": [
        "!wget https://storage.googleapis.com/gresearch/dakshina/dakshina_dataset_v1.0.tar\n",
        "!tar -xvf '/content/dakshina_dataset_v1.0.tar'"
      ],
      "execution_count": null,
      "outputs": [
        {
          "output_type": "stream",
          "name": "stdout",
          "text": [
            "--2022-05-14 08:02:27--  https://storage.googleapis.com/gresearch/dakshina/dakshina_dataset_v1.0.tar\n",
            "Resolving storage.googleapis.com (storage.googleapis.com)... 172.253.115.128, 172.253.122.128, 172.253.63.128, ...\n",
            "Connecting to storage.googleapis.com (storage.googleapis.com)|172.253.115.128|:443... connected.\n",
            "HTTP request sent, awaiting response... 200 OK\n",
            "Length: 2008340480 (1.9G) [application/x-tar]\n",
            "Saving to: ‘dakshina_dataset_v1.0.tar’\n",
            "\n",
            "dakshina_dataset_v1 100%[===================>]   1.87G   182MB/s    in 11s     \n",
            "\n",
            "2022-05-14 08:02:38 (181 MB/s) - ‘dakshina_dataset_v1.0.tar’ saved [2008340480/2008340480]\n",
            "\n",
            "dakshina_dataset_v1.0/bn/\n",
            "dakshina_dataset_v1.0/bn/lexicons/\n",
            "dakshina_dataset_v1.0/bn/lexicons/bn.translit.sampled.test.tsv\n",
            "dakshina_dataset_v1.0/bn/lexicons/bn.translit.sampled.train.tsv\n",
            "dakshina_dataset_v1.0/bn/lexicons/bn.translit.sampled.dev.tsv\n",
            "dakshina_dataset_v1.0/bn/native_script_wikipedia/\n",
            "dakshina_dataset_v1.0/bn/native_script_wikipedia/bn.wiki-filt.valid.text.shuf.txt.gz\n",
            "dakshina_dataset_v1.0/bn/native_script_wikipedia/bn.wiki-full.info.sorted.tsv.gz\n",
            "dakshina_dataset_v1.0/bn/native_script_wikipedia/bn.wiki-filt.train.info.sorted.tsv.gz\n",
            "dakshina_dataset_v1.0/bn/native_script_wikipedia/bn.wiki-filt.train.text.sorted.tsv.gz\n",
            "dakshina_dataset_v1.0/bn/native_script_wikipedia/bn.wiki-filt.train.text.shuf.txt.gz\n",
            "dakshina_dataset_v1.0/bn/native_script_wikipedia/bn.wiki-full.nonblock.sections.tsv.gz\n",
            "dakshina_dataset_v1.0/bn/native_script_wikipedia/bn.wiki-full.omit_pages.txt.gz\n",
            "dakshina_dataset_v1.0/bn/native_script_wikipedia/bn.wiki-full.text.sorted.tsv.gz\n",
            "dakshina_dataset_v1.0/bn/native_script_wikipedia/bn.wiki-full.nonblock.sections.list.txt.gz\n",
            "dakshina_dataset_v1.0/bn/native_script_wikipedia/bn.wiki-full.urls.tsv.gz\n",
            "dakshina_dataset_v1.0/bn/native_script_wikipedia/bn.wiki-filt.valid.text.sorted.tsv.gz\n",
            "dakshina_dataset_v1.0/bn/native_script_wikipedia/bn.wiki-filt.valid.info.sorted.tsv.gz\n",
            "dakshina_dataset_v1.0/bn/romanized/\n",
            "dakshina_dataset_v1.0/bn/romanized/bn.romanized.rejoined.tsv\n",
            "dakshina_dataset_v1.0/bn/romanized/bn.romanized.rejoined.dev.native.txt\n",
            "dakshina_dataset_v1.0/bn/romanized/bn.romanized.split.tsv\n",
            "dakshina_dataset_v1.0/bn/romanized/bn.romanized.rejoined.dev.roman.txt\n",
            "dakshina_dataset_v1.0/bn/romanized/bn.romanized.rejoined.aligned.tsv\n",
            "dakshina_dataset_v1.0/bn/romanized/bn.romanized.split.validation.native.txt\n",
            "dakshina_dataset_v1.0/bn/romanized/bn.romanized.split.validation.edits.txt\n",
            "dakshina_dataset_v1.0/bn/romanized/bn.romanized.rejoined.aligned.cased_nopunct.tsv\n",
            "dakshina_dataset_v1.0/bn/romanized/bn.romanized.rejoined.test.roman.txt\n",
            "dakshina_dataset_v1.0/bn/romanized/bn.romanized.rejoined.test.native.txt\n",
            "dakshina_dataset_v1.0/gu/\n",
            "dakshina_dataset_v1.0/gu/lexicons/\n",
            "dakshina_dataset_v1.0/gu/lexicons/gu.translit.sampled.train.tsv\n",
            "dakshina_dataset_v1.0/gu/lexicons/gu.translit.sampled.test.tsv\n",
            "dakshina_dataset_v1.0/gu/lexicons/gu.translit.sampled.dev.tsv\n",
            "dakshina_dataset_v1.0/gu/native_script_wikipedia/\n",
            "dakshina_dataset_v1.0/gu/native_script_wikipedia/gu.wiki-filt.train.text.shuf.txt.gz\n",
            "dakshina_dataset_v1.0/gu/native_script_wikipedia/gu.wiki-full.nonblock.sections.list.txt.gz\n",
            "dakshina_dataset_v1.0/gu/native_script_wikipedia/gu.wiki-full.info.sorted.tsv.gz\n",
            "dakshina_dataset_v1.0/gu/native_script_wikipedia/gu.wiki-filt.valid.text.shuf.txt.gz\n",
            "dakshina_dataset_v1.0/gu/native_script_wikipedia/gu.wiki-filt.train.text.sorted.tsv.gz\n",
            "dakshina_dataset_v1.0/gu/native_script_wikipedia/gu.wiki-full.text.sorted.tsv.gz\n",
            "dakshina_dataset_v1.0/gu/native_script_wikipedia/gu.wiki-filt.train.info.sorted.tsv.gz\n",
            "dakshina_dataset_v1.0/gu/native_script_wikipedia/gu.wiki-full.nonblock.sections.tsv.gz\n",
            "dakshina_dataset_v1.0/gu/native_script_wikipedia/gu.wiki-full.omit_pages.txt.gz\n",
            "dakshina_dataset_v1.0/gu/native_script_wikipedia/gu.wiki-full.urls.tsv.gz\n",
            "dakshina_dataset_v1.0/gu/native_script_wikipedia/gu.wiki-filt.valid.text.sorted.tsv.gz\n",
            "dakshina_dataset_v1.0/gu/native_script_wikipedia/gu.wiki-filt.valid.info.sorted.tsv.gz\n",
            "dakshina_dataset_v1.0/gu/romanized/\n",
            "dakshina_dataset_v1.0/gu/romanized/gu.romanized.split.validation.edits.txt\n",
            "dakshina_dataset_v1.0/gu/romanized/gu.romanized.split.tsv\n",
            "dakshina_dataset_v1.0/gu/romanized/gu.romanized.rejoined.aligned.cased_nopunct.tsv\n",
            "dakshina_dataset_v1.0/gu/romanized/gu.romanized.rejoined.dev.roman.txt\n",
            "dakshina_dataset_v1.0/gu/romanized/gu.romanized.rejoined.aligned.tsv\n",
            "dakshina_dataset_v1.0/gu/romanized/gu.romanized.rejoined.test.native.txt\n",
            "dakshina_dataset_v1.0/gu/romanized/gu.romanized.rejoined.tsv\n",
            "dakshina_dataset_v1.0/gu/romanized/gu.romanized.rejoined.dev.native.txt\n",
            "dakshina_dataset_v1.0/gu/romanized/gu.romanized.rejoined.test.roman.txt\n",
            "dakshina_dataset_v1.0/gu/romanized/gu.romanized.split.validation.native.txt\n",
            "dakshina_dataset_v1.0/hi/\n",
            "dakshina_dataset_v1.0/hi/lexicons/\n",
            "dakshina_dataset_v1.0/hi/lexicons/hi.translit.sampled.dev.tsv\n",
            "dakshina_dataset_v1.0/hi/lexicons/hi.translit.sampled.train.tsv\n",
            "dakshina_dataset_v1.0/hi/lexicons/hi.translit.sampled.test.tsv\n",
            "dakshina_dataset_v1.0/hi/native_script_wikipedia/\n",
            "dakshina_dataset_v1.0/hi/native_script_wikipedia/hi.wiki-full.info.sorted.tsv.gz\n",
            "dakshina_dataset_v1.0/hi/native_script_wikipedia/hi.wiki-filt.valid.text.sorted.tsv.gz\n",
            "dakshina_dataset_v1.0/hi/native_script_wikipedia/hi.wiki-filt.train.text.sorted.tsv.gz\n",
            "dakshina_dataset_v1.0/hi/native_script_wikipedia/hi.wiki-full.urls.tsv.gz\n",
            "dakshina_dataset_v1.0/hi/native_script_wikipedia/hi.wiki-filt.valid.info.sorted.tsv.gz\n",
            "dakshina_dataset_v1.0/hi/native_script_wikipedia/hi.wiki-full.text.sorted.tsv.gz\n",
            "dakshina_dataset_v1.0/hi/native_script_wikipedia/hi.wiki-full.omit_pages.txt.gz\n",
            "dakshina_dataset_v1.0/hi/native_script_wikipedia/hi.wiki-filt.valid.text.shuf.txt.gz\n",
            "dakshina_dataset_v1.0/hi/native_script_wikipedia/hi.wiki-full.nonblock.sections.list.txt.gz\n",
            "dakshina_dataset_v1.0/hi/native_script_wikipedia/hi.wiki-filt.train.info.sorted.tsv.gz\n",
            "dakshina_dataset_v1.0/hi/native_script_wikipedia/hi.wiki-full.nonblock.sections.tsv.gz\n",
            "dakshina_dataset_v1.0/hi/native_script_wikipedia/hi.wiki-filt.train.text.shuf.txt.gz\n",
            "dakshina_dataset_v1.0/hi/romanized/\n",
            "dakshina_dataset_v1.0/hi/romanized/hi.romanized.rejoined.aligned.tsv\n",
            "dakshina_dataset_v1.0/hi/romanized/hi.romanized.split.validation.native.txt\n",
            "dakshina_dataset_v1.0/hi/romanized/hi.romanized.rejoined.tsv\n",
            "dakshina_dataset_v1.0/hi/romanized/hi.romanized.rejoined.dev.roman.txt\n",
            "dakshina_dataset_v1.0/hi/romanized/hi.romanized.rejoined.dev.native.txt\n",
            "dakshina_dataset_v1.0/hi/romanized/hi.romanized.rejoined.test.native.txt\n",
            "dakshina_dataset_v1.0/hi/romanized/hi.romanized.split.validation.edits.txt\n",
            "dakshina_dataset_v1.0/hi/romanized/hi.romanized.rejoined.test.roman.txt\n",
            "dakshina_dataset_v1.0/hi/romanized/hi.romanized.split.tsv\n",
            "dakshina_dataset_v1.0/hi/romanized/hi.romanized.rejoined.aligned.cased_nopunct.tsv\n",
            "dakshina_dataset_v1.0/kn/\n",
            "dakshina_dataset_v1.0/kn/lexicons/\n",
            "dakshina_dataset_v1.0/kn/lexicons/kn.translit.sampled.train.tsv\n",
            "dakshina_dataset_v1.0/kn/lexicons/kn.translit.sampled.dev.tsv\n",
            "dakshina_dataset_v1.0/kn/lexicons/kn.translit.sampled.test.tsv\n",
            "dakshina_dataset_v1.0/kn/native_script_wikipedia/\n",
            "dakshina_dataset_v1.0/kn/native_script_wikipedia/kn.wiki-full.text.sorted.tsv.gz\n",
            "dakshina_dataset_v1.0/kn/native_script_wikipedia/kn.wiki-filt.valid.text.shuf.txt.gz\n",
            "dakshina_dataset_v1.0/kn/native_script_wikipedia/kn.wiki-filt.valid.info.sorted.tsv.gz\n",
            "dakshina_dataset_v1.0/kn/native_script_wikipedia/kn.wiki-filt.train.text.shuf.txt.gz\n",
            "dakshina_dataset_v1.0/kn/native_script_wikipedia/kn.wiki-full.info.sorted.tsv.gz\n",
            "dakshina_dataset_v1.0/kn/native_script_wikipedia/kn.wiki-full.nonblock.sections.list.txt.gz\n",
            "dakshina_dataset_v1.0/kn/native_script_wikipedia/kn.wiki-full.urls.tsv.gz\n",
            "dakshina_dataset_v1.0/kn/native_script_wikipedia/kn.wiki-full.nonblock.sections.tsv.gz\n",
            "dakshina_dataset_v1.0/kn/native_script_wikipedia/kn.wiki-filt.valid.text.sorted.tsv.gz\n",
            "dakshina_dataset_v1.0/kn/native_script_wikipedia/kn.wiki-filt.train.text.sorted.tsv.gz\n",
            "dakshina_dataset_v1.0/kn/native_script_wikipedia/kn.wiki-filt.train.info.sorted.tsv.gz\n",
            "dakshina_dataset_v1.0/kn/native_script_wikipedia/kn.wiki-full.omit_pages.txt.gz\n",
            "dakshina_dataset_v1.0/kn/romanized/\n",
            "dakshina_dataset_v1.0/kn/romanized/kn.romanized.split.validation.edits.txt\n",
            "dakshina_dataset_v1.0/kn/romanized/kn.romanized.rejoined.dev.native.txt\n",
            "dakshina_dataset_v1.0/kn/romanized/kn.romanized.rejoined.test.roman.txt\n",
            "dakshina_dataset_v1.0/kn/romanized/kn.romanized.split.validation.native.txt\n",
            "dakshina_dataset_v1.0/kn/romanized/kn.romanized.rejoined.tsv\n",
            "dakshina_dataset_v1.0/kn/romanized/kn.romanized.rejoined.test.native.txt\n",
            "dakshina_dataset_v1.0/kn/romanized/kn.romanized.rejoined.dev.roman.txt\n",
            "dakshina_dataset_v1.0/kn/romanized/kn.romanized.rejoined.aligned.cased_nopunct.tsv\n",
            "dakshina_dataset_v1.0/kn/romanized/kn.romanized.split.tsv\n",
            "dakshina_dataset_v1.0/kn/romanized/kn.romanized.rejoined.aligned.tsv\n",
            "dakshina_dataset_v1.0/ml/\n",
            "dakshina_dataset_v1.0/ml/lexicons/\n",
            "dakshina_dataset_v1.0/ml/lexicons/ml.translit.sampled.train.tsv\n",
            "dakshina_dataset_v1.0/ml/lexicons/tmp.rom.txt\n",
            "dakshina_dataset_v1.0/ml/lexicons/tmp.tsv\n",
            "dakshina_dataset_v1.0/ml/lexicons/ml.translit.sampled.dev.tsv\n",
            "dakshina_dataset_v1.0/ml/lexicons/ml.translit.sampled.test.tsv\n",
            "dakshina_dataset_v1.0/ml/native_script_wikipedia/\n",
            "dakshina_dataset_v1.0/ml/native_script_wikipedia/ml.wiki-full.omit_pages.txt.gz\n",
            "dakshina_dataset_v1.0/ml/native_script_wikipedia/ml.wiki-filt.valid.info.sorted.tsv.gz\n",
            "dakshina_dataset_v1.0/ml/native_script_wikipedia/ml.wiki-full.info.sorted.tsv.gz\n",
            "dakshina_dataset_v1.0/ml/native_script_wikipedia/ml.wiki-filt.train.text.shuf.txt.gz\n",
            "dakshina_dataset_v1.0/ml/native_script_wikipedia/ml.wiki-full.text.sorted.tsv.gz\n",
            "dakshina_dataset_v1.0/ml/native_script_wikipedia/ml.wiki-filt.valid.text.sorted.tsv.gz\n",
            "dakshina_dataset_v1.0/ml/native_script_wikipedia/ml.wiki-full.nonblock.sections.list.txt.gz\n",
            "dakshina_dataset_v1.0/ml/native_script_wikipedia/ml.wiki-full.nonblock.sections.tsv.gz\n",
            "dakshina_dataset_v1.0/ml/native_script_wikipedia/ml.wiki-filt.train.text.sorted.tsv.gz\n",
            "dakshina_dataset_v1.0/ml/native_script_wikipedia/ml.wiki-full.urls.tsv.gz\n",
            "dakshina_dataset_v1.0/ml/native_script_wikipedia/ml.wiki-filt.valid.text.shuf.txt.gz\n",
            "dakshina_dataset_v1.0/ml/native_script_wikipedia/ml.wiki-filt.train.info.sorted.tsv.gz\n",
            "dakshina_dataset_v1.0/ml/romanized/\n",
            "dakshina_dataset_v1.0/ml/romanized/ml.romanized.rejoined.tsv\n",
            "dakshina_dataset_v1.0/ml/romanized/ml.romanized.rejoined.test.roman.txt\n",
            "dakshina_dataset_v1.0/ml/romanized/ml.romanized.split.validation.edits.txt\n",
            "dakshina_dataset_v1.0/ml/romanized/ml.romanized.rejoined.dev.roman.txt\n",
            "dakshina_dataset_v1.0/ml/romanized/ml.romanized.rejoined.test.native.txt\n",
            "dakshina_dataset_v1.0/ml/romanized/ml.romanized.rejoined.dev.native.txt\n",
            "dakshina_dataset_v1.0/ml/romanized/ml.romanized.rejoined.aligned.cased_nopunct.tsv\n",
            "dakshina_dataset_v1.0/ml/romanized/ml.romanized.split.tsv\n",
            "dakshina_dataset_v1.0/ml/romanized/ml.romanized.rejoined.aligned.tsv\n",
            "dakshina_dataset_v1.0/ml/romanized/ml.romanized.split.validation.native.txt\n",
            "dakshina_dataset_v1.0/mr/\n",
            "dakshina_dataset_v1.0/mr/lexicons/\n",
            "dakshina_dataset_v1.0/mr/lexicons/mr.translit.sampled.test.tsv\n",
            "dakshina_dataset_v1.0/mr/lexicons/mr.translit.sampled.train.tsv\n",
            "dakshina_dataset_v1.0/mr/lexicons/mr.translit.sampled.dev.tsv\n",
            "dakshina_dataset_v1.0/mr/native_script_wikipedia/\n",
            "dakshina_dataset_v1.0/mr/native_script_wikipedia/mr.wiki-full.omit_pages.txt.gz\n",
            "dakshina_dataset_v1.0/mr/native_script_wikipedia/mr.wiki-filt.train.text.sorted.tsv.gz\n",
            "dakshina_dataset_v1.0/mr/native_script_wikipedia/mr.wiki-full.nonblock.sections.list.txt.gz\n",
            "dakshina_dataset_v1.0/mr/native_script_wikipedia/mr.wiki-full.text.sorted.tsv.gz\n",
            "dakshina_dataset_v1.0/mr/native_script_wikipedia/mr.wiki-filt.valid.info.sorted.tsv.gz\n",
            "dakshina_dataset_v1.0/mr/native_script_wikipedia/mr.wiki-filt.train.text.shuf.txt.gz\n",
            "dakshina_dataset_v1.0/mr/native_script_wikipedia/mr.wiki-full.info.sorted.tsv.gz\n",
            "dakshina_dataset_v1.0/mr/native_script_wikipedia/mr.wiki-filt.valid.text.shuf.txt.gz\n",
            "dakshina_dataset_v1.0/mr/native_script_wikipedia/mr.wiki-full.urls.tsv.gz\n",
            "dakshina_dataset_v1.0/mr/native_script_wikipedia/mr.wiki-filt.valid.text.sorted.tsv.gz\n",
            "dakshina_dataset_v1.0/mr/native_script_wikipedia/mr.wiki-filt.train.info.sorted.tsv.gz\n",
            "dakshina_dataset_v1.0/mr/native_script_wikipedia/mr.wiki-full.nonblock.sections.tsv.gz\n",
            "dakshina_dataset_v1.0/mr/romanized/\n",
            "dakshina_dataset_v1.0/mr/romanized/mr.romanized.split.tsv\n",
            "dakshina_dataset_v1.0/mr/romanized/mr.romanized.rejoined.dev.roman.txt\n",
            "dakshina_dataset_v1.0/mr/romanized/mr.romanized.split.validation.native.txt\n",
            "dakshina_dataset_v1.0/mr/romanized/mr.romanized.rejoined.test.roman.txt\n",
            "dakshina_dataset_v1.0/mr/romanized/mr.romanized.rejoined.test.native.txt\n",
            "dakshina_dataset_v1.0/mr/romanized/mr.romanized.rejoined.dev.native.txt\n",
            "dakshina_dataset_v1.0/mr/romanized/mr.romanized.rejoined.tsv\n",
            "dakshina_dataset_v1.0/mr/romanized/mr.romanized.rejoined.aligned.tsv\n",
            "dakshina_dataset_v1.0/mr/romanized/mr.romanized.split.validation.edits.txt\n",
            "dakshina_dataset_v1.0/mr/romanized/mr.romanized.rejoined.aligned.cased_nopunct.tsv\n",
            "dakshina_dataset_v1.0/pa/\n",
            "dakshina_dataset_v1.0/pa/lexicons/\n",
            "dakshina_dataset_v1.0/pa/lexicons/pa.translit.sampled.dev.tsv\n",
            "dakshina_dataset_v1.0/pa/lexicons/pa.translit.sampled.test.tsv\n",
            "dakshina_dataset_v1.0/pa/lexicons/pa.translit.sampled.train.tsv\n",
            "dakshina_dataset_v1.0/pa/native_script_wikipedia/\n",
            "dakshina_dataset_v1.0/pa/native_script_wikipedia/pa.wiki-full.omit_pages.txt.gz\n",
            "dakshina_dataset_v1.0/pa/native_script_wikipedia/pa.wiki-full.text.sorted.tsv.gz\n",
            "dakshina_dataset_v1.0/pa/native_script_wikipedia/pa.wiki-filt.train.text.shuf.txt.gz\n",
            "dakshina_dataset_v1.0/pa/native_script_wikipedia/pa.wiki-filt.train.text.sorted.tsv.gz\n",
            "dakshina_dataset_v1.0/pa/native_script_wikipedia/pa.wiki-full.urls.tsv.gz\n",
            "dakshina_dataset_v1.0/pa/native_script_wikipedia/pa.wiki-full.info.sorted.tsv.gz\n",
            "dakshina_dataset_v1.0/pa/native_script_wikipedia/pa.wiki-filt.valid.info.sorted.tsv.gz\n",
            "dakshina_dataset_v1.0/pa/native_script_wikipedia/pa.wiki-filt.train.info.sorted.tsv.gz\n",
            "dakshina_dataset_v1.0/pa/native_script_wikipedia/pa.wiki-full.nonblock.sections.tsv.gz\n",
            "dakshina_dataset_v1.0/pa/native_script_wikipedia/pa.wiki-filt.valid.text.sorted.tsv.gz\n",
            "dakshina_dataset_v1.0/pa/native_script_wikipedia/pa.wiki-filt.valid.text.shuf.txt.gz\n",
            "dakshina_dataset_v1.0/pa/native_script_wikipedia/pa.wiki-full.nonblock.sections.list.txt.gz\n",
            "dakshina_dataset_v1.0/pa/romanized/\n",
            "dakshina_dataset_v1.0/pa/romanized/pa.romanized.rejoined.aligned.tsv\n",
            "dakshina_dataset_v1.0/pa/romanized/pa.romanized.rejoined.dev.roman.txt\n",
            "dakshina_dataset_v1.0/pa/romanized/pa.romanized.rejoined.test.roman.txt\n",
            "dakshina_dataset_v1.0/pa/romanized/pa.romanized.split.tsv\n",
            "dakshina_dataset_v1.0/pa/romanized/pa.romanized.rejoined.dev.native.txt\n",
            "dakshina_dataset_v1.0/pa/romanized/pa.romanized.split.validation.native.txt\n",
            "dakshina_dataset_v1.0/pa/romanized/pa.romanized.rejoined.aligned.cased_nopunct.tsv\n",
            "dakshina_dataset_v1.0/pa/romanized/pa.romanized.rejoined.tsv\n",
            "dakshina_dataset_v1.0/pa/romanized/pa.romanized.split.validation.edits.txt\n",
            "dakshina_dataset_v1.0/pa/romanized/pa.romanized.rejoined.test.native.txt\n",
            "dakshina_dataset_v1.0/sd/\n",
            "dakshina_dataset_v1.0/sd/lexicons/\n",
            "dakshina_dataset_v1.0/sd/lexicons/sd.translit.sampled.train.tsv\n",
            "dakshina_dataset_v1.0/sd/lexicons/sd.translit.sampled.test.tsv\n",
            "dakshina_dataset_v1.0/sd/lexicons/sd.translit.sampled.dev.tsv\n",
            "dakshina_dataset_v1.0/sd/native_script_wikipedia/\n",
            "dakshina_dataset_v1.0/sd/native_script_wikipedia/sd.wiki-full.nonblock.sections.tsv.gz\n",
            "dakshina_dataset_v1.0/sd/native_script_wikipedia/sd.wiki-filt.valid.text.shuf.txt.gz\n",
            "dakshina_dataset_v1.0/sd/native_script_wikipedia/sd.wiki-full.omit_pages.txt.gz\n",
            "dakshina_dataset_v1.0/sd/native_script_wikipedia/sd.wiki-filt.train.info.sorted.tsv.gz\n",
            "dakshina_dataset_v1.0/sd/native_script_wikipedia/sd.wiki-full.urls.tsv.gz\n",
            "dakshina_dataset_v1.0/sd/native_script_wikipedia/sd.wiki-filt.valid.info.sorted.tsv.gz\n",
            "dakshina_dataset_v1.0/sd/native_script_wikipedia/sd.wiki-filt.train.text.sorted.tsv.gz\n",
            "dakshina_dataset_v1.0/sd/native_script_wikipedia/sd.wiki-full.text.sorted.tsv.gz\n",
            "dakshina_dataset_v1.0/sd/native_script_wikipedia/sd.wiki-filt.train.text.shuf.txt.gz\n",
            "dakshina_dataset_v1.0/sd/native_script_wikipedia/sd.wiki-filt.valid.text.sorted.tsv.gz\n",
            "dakshina_dataset_v1.0/sd/native_script_wikipedia/sd.wiki-full.info.sorted.tsv.gz\n",
            "dakshina_dataset_v1.0/sd/native_script_wikipedia/sd.wiki-full.nonblock.sections.list.txt.gz\n",
            "dakshina_dataset_v1.0/sd/romanized/\n",
            "dakshina_dataset_v1.0/sd/romanized/sd.romanized.rejoined.dev.roman.txt\n",
            "dakshina_dataset_v1.0/sd/romanized/sd.romanized.split.tsv\n",
            "dakshina_dataset_v1.0/sd/romanized/sd.romanized.split.validation.native.txt\n",
            "dakshina_dataset_v1.0/sd/romanized/sd.romanized.rejoined.dev.native.txt\n",
            "dakshina_dataset_v1.0/sd/romanized/sd.romanized.rejoined.aligned.cased_nopunct.tsv\n",
            "dakshina_dataset_v1.0/sd/romanized/sd.romanized.rejoined.test.native.txt\n",
            "dakshina_dataset_v1.0/sd/romanized/sd.romanized.split.validation.edits.txt\n",
            "dakshina_dataset_v1.0/sd/romanized/sd.romanized.rejoined.aligned.tsv\n",
            "dakshina_dataset_v1.0/sd/romanized/sd.romanized.rejoined.test.roman.txt\n",
            "dakshina_dataset_v1.0/sd/romanized/sd.romanized.rejoined.tsv\n",
            "dakshina_dataset_v1.0/si/\n",
            "dakshina_dataset_v1.0/si/lexicons/\n",
            "dakshina_dataset_v1.0/si/lexicons/si.translit.sampled.test.tsv\n",
            "dakshina_dataset_v1.0/si/lexicons/si.translit.sampled.train.tsv\n",
            "dakshina_dataset_v1.0/si/lexicons/si.translit.sampled.dev.tsv\n",
            "dakshina_dataset_v1.0/si/native_script_wikipedia/\n",
            "dakshina_dataset_v1.0/si/native_script_wikipedia/si.wiki-full.urls.tsv.gz\n",
            "dakshina_dataset_v1.0/si/native_script_wikipedia/si.wiki-full.text.sorted.tsv.gz\n",
            "dakshina_dataset_v1.0/si/native_script_wikipedia/si.wiki-filt.train.info.sorted.tsv.gz\n",
            "dakshina_dataset_v1.0/si/native_script_wikipedia/si.wiki-full.omit_pages.txt.gz\n",
            "dakshina_dataset_v1.0/si/native_script_wikipedia/si.wiki-filt.train.text.shuf.txt.gz\n",
            "dakshina_dataset_v1.0/si/native_script_wikipedia/si.wiki-full.nonblock.sections.list.txt.gz\n",
            "dakshina_dataset_v1.0/si/native_script_wikipedia/si.wiki-filt.valid.info.sorted.tsv.gz\n",
            "dakshina_dataset_v1.0/si/native_script_wikipedia/si.wiki-full.nonblock.sections.tsv.gz\n",
            "dakshina_dataset_v1.0/si/native_script_wikipedia/si.wiki-filt.valid.text.shuf.txt.gz\n",
            "dakshina_dataset_v1.0/si/native_script_wikipedia/si.wiki-full.info.sorted.tsv.gz\n",
            "dakshina_dataset_v1.0/si/native_script_wikipedia/si.wiki-filt.train.text.sorted.tsv.gz\n",
            "dakshina_dataset_v1.0/si/native_script_wikipedia/si.wiki-filt.valid.text.sorted.tsv.gz\n",
            "dakshina_dataset_v1.0/si/romanized/\n",
            "dakshina_dataset_v1.0/si/romanized/si.romanized.split.tsv\n",
            "dakshina_dataset_v1.0/si/romanized/si.romanized.rejoined.test.native.txt\n",
            "dakshina_dataset_v1.0/si/romanized/si.romanized.rejoined.aligned.tsv\n",
            "dakshina_dataset_v1.0/si/romanized/si.romanized.rejoined.dev.native.txt\n",
            "dakshina_dataset_v1.0/si/romanized/si.romanized.rejoined.dev.roman.txt\n",
            "dakshina_dataset_v1.0/si/romanized/si.romanized.rejoined.test.roman.txt\n",
            "dakshina_dataset_v1.0/si/romanized/si.romanized.rejoined.aligned.cased_nopunct.tsv\n",
            "dakshina_dataset_v1.0/si/romanized/si.romanized.split.validation.edits.txt\n",
            "dakshina_dataset_v1.0/si/romanized/si.romanized.rejoined.tsv\n",
            "dakshina_dataset_v1.0/si/romanized/si.romanized.split.validation.native.txt\n",
            "dakshina_dataset_v1.0/ta/\n",
            "dakshina_dataset_v1.0/ta/lexicons/\n",
            "dakshina_dataset_v1.0/ta/lexicons/ta.translit.sampled.train.tsv\n",
            "dakshina_dataset_v1.0/ta/lexicons/ta.translit.sampled.dev.tsv\n",
            "dakshina_dataset_v1.0/ta/lexicons/ta.translit.sampled.test.tsv\n",
            "dakshina_dataset_v1.0/ta/native_script_wikipedia/\n",
            "dakshina_dataset_v1.0/ta/native_script_wikipedia/ta.wiki-filt.valid.text.shuf.txt.gz\n",
            "dakshina_dataset_v1.0/ta/native_script_wikipedia/ta.wiki-full.nonblock.sections.list.txt.gz\n",
            "dakshina_dataset_v1.0/ta/native_script_wikipedia/ta.wiki-filt.train.text.sorted.tsv.gz\n",
            "dakshina_dataset_v1.0/ta/native_script_wikipedia/ta.wiki-full.nonblock.sections.tsv.gz\n",
            "dakshina_dataset_v1.0/ta/native_script_wikipedia/ta.wiki-filt.valid.info.sorted.tsv.gz\n",
            "dakshina_dataset_v1.0/ta/native_script_wikipedia/ta.wiki-full.text.sorted.tsv.gz\n",
            "dakshina_dataset_v1.0/ta/native_script_wikipedia/ta.wiki-full.urls.tsv.gz\n",
            "dakshina_dataset_v1.0/ta/native_script_wikipedia/ta.wiki-filt.train.text.shuf.txt.gz\n",
            "dakshina_dataset_v1.0/ta/native_script_wikipedia/ta.wiki-filt.valid.text.sorted.tsv.gz\n",
            "dakshina_dataset_v1.0/ta/native_script_wikipedia/ta.wiki-full.info.sorted.tsv.gz\n",
            "dakshina_dataset_v1.0/ta/native_script_wikipedia/ta.wiki-full.omit_pages.txt.gz\n",
            "dakshina_dataset_v1.0/ta/native_script_wikipedia/ta.wiki-filt.train.info.sorted.tsv.gz\n",
            "dakshina_dataset_v1.0/ta/romanized/\n",
            "dakshina_dataset_v1.0/ta/romanized/ta.romanized.rejoined.aligned.tsv\n",
            "dakshina_dataset_v1.0/ta/romanized/ta.romanized.rejoined.dev.roman.txt\n",
            "dakshina_dataset_v1.0/ta/romanized/ta.romanized.rejoined.aligned.cased_nopunct.tsv\n",
            "dakshina_dataset_v1.0/ta/romanized/ta.romanized.rejoined.tsv\n",
            "dakshina_dataset_v1.0/ta/romanized/ta.romanized.split.validation.native.txt\n",
            "dakshina_dataset_v1.0/ta/romanized/ta.romanized.rejoined.test.roman.txt\n",
            "dakshina_dataset_v1.0/ta/romanized/ta.romanized.split.tsv\n",
            "dakshina_dataset_v1.0/ta/romanized/ta.romanized.rejoined.dev.native.txt\n",
            "dakshina_dataset_v1.0/ta/romanized/ta.romanized.split.validation.edits.txt\n",
            "dakshina_dataset_v1.0/ta/romanized/ta.romanized.rejoined.test.native.txt\n",
            "dakshina_dataset_v1.0/te/\n",
            "dakshina_dataset_v1.0/te/lexicons/\n",
            "dakshina_dataset_v1.0/te/lexicons/te.translit.sampled.dev.tsv\n",
            "dakshina_dataset_v1.0/te/lexicons/te.translit.sampled.test.tsv\n",
            "dakshina_dataset_v1.0/te/lexicons/te.translit.sampled.train.tsv\n",
            "dakshina_dataset_v1.0/te/native_script_wikipedia/\n",
            "dakshina_dataset_v1.0/te/native_script_wikipedia/te.wiki-full.info.sorted.tsv.gz\n",
            "dakshina_dataset_v1.0/te/native_script_wikipedia/te.wiki-filt.valid.info.sorted.tsv.gz\n",
            "dakshina_dataset_v1.0/te/native_script_wikipedia/te.wiki-full.text.sorted.tsv.gz\n",
            "dakshina_dataset_v1.0/te/native_script_wikipedia/te.wiki-filt.train.text.shuf.txt.gz\n",
            "dakshina_dataset_v1.0/te/native_script_wikipedia/te.wiki-filt.valid.text.shuf.txt.gz\n",
            "dakshina_dataset_v1.0/te/native_script_wikipedia/te.wiki-filt.train.text.sorted.tsv.gz\n",
            "dakshina_dataset_v1.0/te/native_script_wikipedia/te.wiki-full.omit_pages.txt.gz\n",
            "dakshina_dataset_v1.0/te/native_script_wikipedia/te.wiki-full.urls.tsv.gz\n",
            "dakshina_dataset_v1.0/te/native_script_wikipedia/te.wiki-full.nonblock.sections.tsv.gz\n",
            "dakshina_dataset_v1.0/te/native_script_wikipedia/te.wiki-full.nonblock.sections.list.txt.gz\n",
            "dakshina_dataset_v1.0/te/native_script_wikipedia/te.wiki-filt.train.info.sorted.tsv.gz\n",
            "dakshina_dataset_v1.0/te/native_script_wikipedia/te.wiki-filt.valid.text.sorted.tsv.gz\n",
            "dakshina_dataset_v1.0/te/romanized/\n",
            "dakshina_dataset_v1.0/te/romanized/te.romanized.rejoined.tsv\n",
            "dakshina_dataset_v1.0/te/romanized/te.romanized.rejoined.aligned.cased_nopunct.tsv\n",
            "dakshina_dataset_v1.0/te/romanized/te.romanized.rejoined.dev.roman.txt\n",
            "dakshina_dataset_v1.0/te/romanized/te.romanized.rejoined.dev.native.txt\n",
            "dakshina_dataset_v1.0/te/romanized/te.romanized.split.validation.native.txt\n",
            "dakshina_dataset_v1.0/te/romanized/te.romanized.rejoined.test.native.txt\n",
            "dakshina_dataset_v1.0/te/romanized/te.romanized.split.validation.edits.txt\n",
            "dakshina_dataset_v1.0/te/romanized/te.romanized.rejoined.aligned.tsv\n",
            "dakshina_dataset_v1.0/te/romanized/te.romanized.split.tsv\n",
            "dakshina_dataset_v1.0/te/romanized/te.romanized.rejoined.test.roman.txt\n",
            "dakshina_dataset_v1.0/ur/\n",
            "dakshina_dataset_v1.0/ur/lexicons/\n",
            "dakshina_dataset_v1.0/ur/lexicons/ur.translit.sampled.train.tsv\n",
            "dakshina_dataset_v1.0/ur/lexicons/ur.translit.sampled.test.tsv\n",
            "dakshina_dataset_v1.0/ur/lexicons/ur.translit.sampled.dev.tsv\n",
            "dakshina_dataset_v1.0/ur/native_script_wikipedia/\n",
            "dakshina_dataset_v1.0/ur/native_script_wikipedia/ur.wiki-filt.valid.text.sorted.tsv.gz\n",
            "dakshina_dataset_v1.0/ur/native_script_wikipedia/ur.wiki-full.nonblock.sections.tsv.gz\n",
            "dakshina_dataset_v1.0/ur/native_script_wikipedia/ur.wiki-full.info.sorted.tsv.gz\n",
            "dakshina_dataset_v1.0/ur/native_script_wikipedia/ur.wiki-full.text.sorted.tsv.gz\n",
            "dakshina_dataset_v1.0/ur/native_script_wikipedia/ur.wiki-full.omit_pages.txt.gz\n",
            "dakshina_dataset_v1.0/ur/native_script_wikipedia/ur.wiki-filt.train.text.sorted.tsv.gz\n",
            "dakshina_dataset_v1.0/ur/native_script_wikipedia/ur.wiki-full.urls.tsv.gz\n",
            "dakshina_dataset_v1.0/ur/native_script_wikipedia/ur.wiki-filt.train.text.shuf.txt.gz\n",
            "dakshina_dataset_v1.0/ur/native_script_wikipedia/ur.wiki-full.nonblock.sections.list.txt.gz\n",
            "dakshina_dataset_v1.0/ur/native_script_wikipedia/ur.wiki-filt.valid.info.sorted.tsv.gz\n",
            "dakshina_dataset_v1.0/ur/native_script_wikipedia/ur.wiki-filt.valid.text.shuf.txt.gz\n",
            "dakshina_dataset_v1.0/ur/native_script_wikipedia/ur.wiki-filt.train.info.sorted.tsv.gz\n",
            "dakshina_dataset_v1.0/ur/romanized/\n",
            "dakshina_dataset_v1.0/ur/romanized/ur.romanized.rejoined.tsv\n",
            "dakshina_dataset_v1.0/ur/romanized/ur.romanized.rejoined.dev.roman.txt\n",
            "dakshina_dataset_v1.0/ur/romanized/ur.romanized.split.validation.native.txt\n",
            "dakshina_dataset_v1.0/ur/romanized/ur.romanized.rejoined.aligned.cased_nopunct.tsv\n",
            "dakshina_dataset_v1.0/ur/romanized/ur.romanized.rejoined.dev.native.txt\n",
            "dakshina_dataset_v1.0/ur/romanized/ur.romanized.rejoined.test.native.txt\n",
            "dakshina_dataset_v1.0/ur/romanized/ur.romanized.split.validation.edits.txt\n",
            "dakshina_dataset_v1.0/ur/romanized/ur.romanized.rejoined.aligned.tsv\n",
            "dakshina_dataset_v1.0/ur/romanized/ur.romanized.split.tsv\n",
            "dakshina_dataset_v1.0/ur/romanized/ur.romanized.rejoined.test.roman.txt\n",
            "dakshina_dataset_v1.0/README.md\n"
          ]
        }
      ]
    },
    {
      "cell_type": "code",
      "source": [
        "def preprocess_data(file_name):\n",
        "    \n",
        "    input_texts = []\n",
        "    target_texts = []\n",
        "    inputdata=[]\n",
        "    with open(file_name, \"r\", encoding=\"utf-8\") as f:\n",
        "        lines = f.read().split(\"\\n\")\n",
        "    for line in lines[: len(lines) - 1]:\n",
        "        inputdata.append(line)\n",
        "   \n",
        "    for line in inputdata:\n",
        "        target_text,input_text, attestation = line.split(\"\\t\")\n",
        "        \n",
        "        target_text = \"\\t\" + target_text + \"\\n\"\n",
        "        input_texts.append(input_text)\n",
        "        target_texts.append(target_text)\n",
        "        \n",
        "    return(input_texts,target_texts)\n",
        "\n",
        "\n",
        "\n"
      ],
      "metadata": {
        "id": "YgZnyl9gzMv9"
      },
      "execution_count": null,
      "outputs": []
    },
    {
      "cell_type": "code",
      "source": [
        ""
      ],
      "metadata": {
        "id": "c09d5rZPzPts"
      },
      "execution_count": null,
      "outputs": []
    },
    {
      "cell_type": "code",
      "metadata": {
        "id": "9KYbt3TLswFi"
      },
      "source": [
        "input_words, target_words = preprocess_data(\"dakshina_dataset_v1.0/hi/lexicons/hi.translit.sampled.train.tsv\")\n",
        "\n",
        "\n",
        "max_encoder_seq_length = max([len(txt) for txt in input_words])\n",
        "max_decoder_seq_length = max([len(txt) for txt in target_words])\n",
        "\n",
        "input_characters = set()\n",
        "target_characters = set()\n",
        "\n",
        "for input_word in input_words:  \n",
        "  for char in input_word:\n",
        "        if char not in input_characters:\n",
        "            input_characters.add(char)\n",
        "for target_word in target_words:\n",
        "    for char in target_word:\n",
        "        if char not in target_characters:\n",
        "            target_characters.add(char)\n",
        "input_characters = sorted(list(input_characters))\n",
        "target_characters = sorted(list(target_characters))\n",
        "\n",
        "num_input_tokens = len(input_characters)\n",
        "num_target_tokens = len(target_characters)\n",
        "\n",
        "\n",
        "\n",
        "print(len(input_characters), len(target_characters))\n",
        "input_char_map = dict([(char, i+1) for i, char in enumerate(input_characters)])\n",
        "target_char_map = dict([(char, i+1) for i, char in enumerate(target_characters)])\n",
        "print(len(input_words), len(target_words))\n",
        "print(input_char_map)\n",
        "\n",
        "\n",
        "val_input_words, val_target_words = preprocess_data(\"dakshina_dataset_v1.0/hi/lexicons/hi.translit.sampled.dev.tsv\")\n",
        "\n",
        "test_input_words, test_target_words = preprocess_data(\"dakshina_dataset_v1.0/hi/lexicons/hi.translit.sampled.test.tsv\")\n",
        "\n"
      ],
      "execution_count": null,
      "outputs": []
    },
    {
      "cell_type": "code",
      "source": [
        "\n",
        "\n",
        "def one_hot_encoding(input_words, target_words):\n",
        "\n",
        "    length = len(input_words)\n",
        "    encoder_input_array = np.zeros(\n",
        "        (length, max_encoder_seq_length, num_input_tokens+1), dtype=\"float32\"\n",
        "    )\n",
        "    decoder_input_array = np.zeros(\n",
        "        (length, max_decoder_seq_length, num_target_tokens+1), dtype=\"float32\"\n",
        "    )\n",
        "    decoder_output_array = np.zeros(\n",
        "        (length, max_decoder_seq_length, num_target_tokens+1), dtype=\"float32\"\n",
        "    )\n",
        "\n",
        "\n",
        "    for i, (input_text, target_text) in enumerate(zip(input_words, target_words)):\n",
        "        for t, char in enumerate(input_text):\n",
        "            encoder_input_array[i, t, input_char_map[char]] = 1.0\n",
        "        \n",
        "        for t, char in enumerate(target_text):\n",
        "            \n",
        "            decoder_input_array[i, t, target_char_map[char]] = 1.0\n",
        "            if t >=1 :\n",
        "                \n",
        "                decoder_output_array[i, t - 1, target_char_map[char]] = 1.0\n",
        "        \n",
        "    return(encoder_input_array,decoder_input_array,decoder_output_array)\n",
        "\n",
        "encoder_input_array, decoder_input_array, decoder_output_array = one_hot_encoding(input_words,target_words)\n",
        "val_encoder_input_array, val_decoder_input_array, val_decoder_output_array = one_hot_encoding(val_input_words,val_target_words)\n",
        "test_encoder_input_array, test_decoder_input_array, test_decoder_output_array = one_hot_encoding(test_input_words,test_target_words)\n",
        "\n",
        "print(decoder_input_array.shape)\n",
        "encoder_input_array = np.argmax(encoder_input_array, axis=2)\n",
        "decoder_input_array = np.argmax(decoder_input_array, axis=2)\n",
        "\n",
        "val_encoder_input_array = np.argmax(val_encoder_input_array, axis=2)\n",
        "test_encoder_input_array = np.argmax(test_encoder_input_array, axis=2)\n",
        "\n",
        "val_decoder_input_array = np.argmax(val_decoder_input_array, axis=2)\n",
        "test_decoder_input_array = np.argmax(test_decoder_input_array, axis=2)\n",
        "\n",
        "reverse_input_char_map = dict((i, char) for char, i in input_char_map.items())\n",
        "print(reverse_input_char_map)\n",
        "reverse_target_char_map = dict((i, char) for char, i in target_char_map.items())\n",
        "print(reverse_target_char_map)\n",
        "reverse_target_char_map[0] = \"\\n\""
      ],
      "metadata": {
        "id": "Yk_fHo3hzS_U"
      },
      "execution_count": null,
      "outputs": []
    },
    {
      "cell_type": "code",
      "metadata": {
        "id": "eGwsbgrntHlV"
      },
      "source": [
        "def define_model(num_cells, cell_type, num_encoder_layers, num_decoder_layers, input_embedding_size, dropout_fraction, beam_size):\n",
        "   \n",
        "    encoder_input = keras.Input(shape=(None, ), name=\"enc_input\")\n",
        "    encoder_embedding = keras.layers.Embedding(num_input_tokens + 1, input_embedding_size, name=\"enc_embedding\", mask_zero=True)(encoder_input)\n",
        "\n",
        "    \n",
        "    states = {}\n",
        "    for i in range(0, num_encoder_layers):\n",
        "        if cell_type==\"LSTM\":\n",
        "\n",
        "            encoder = keras.layers.LSTM(num_cells, return_state=True, return_sequences=True, name=\"enc_\"+str(i+1), dropout=dropout_fraction, recurrent_dropout=dropout_fraction)\n",
        "\n",
        "            if i==0:\n",
        "                encoder_outputs, encoder_state_h, encoder_state_c = encoder(encoder_embedding)\n",
        "            else:\n",
        "                encoder_outputs, encoder_state_h, encoder_state_c = encoder(encoder_outputs)\n",
        "\n",
        "            states['encoder_state_h_'+str(i+1)] =  encoder_state_h\n",
        "            states['encoder_state_c_'+str(i+1)] =  encoder_state_c\n",
        "              \n",
        "\n",
        "        if cell_type==\"RNN\":\n",
        "  \n",
        "            encoder = keras.layers.SimpleRNN(num_cells, return_state=True, return_sequences=True, name=\"enc_\"+str(i+1), dropout=dropout_fraction, recurrent_dropout=dropout_fraction)\n",
        "            \n",
        "            if i==0:\n",
        "                whole_sequence_output, rnn_final_state = encoder(encoder_embedding)\n",
        "            else:\n",
        "                whole_sequence_output, rnn_final_state = encoder(whole_sequence_output)\n",
        "\n",
        "            states['rnn_final_state_'+str(i+1)] =  rnn_final_state\n",
        "            \n",
        "\n",
        "        if cell_type==\"GRU\":\n",
        "            \n",
        "            encoder = keras.layers.GRU(num_cells, return_state=True, return_sequences=True, name=\"enc_\"+str(i+1), dropout=dropout_fraction, recurrent_dropout=dropout_fraction)\n",
        "            \n",
        "            if i==0:\n",
        "                whole_sequence_output, gru_final_state = encoder(encoder_embedding)\n",
        "            else:\n",
        "                whole_sequence_output, gru_final_state = encoder(whole_sequence_output)\n",
        "\n",
        "            states['gru_final_state_'+str(i+1)] =  gru_final_state\n",
        "            \n",
        "\n",
        "    ## DECODER\n",
        "    decoder_input = keras.Input(shape=(None, ), name=\"dec_input\")\n",
        "    decoder_embedding = keras.layers.Embedding(num_target_tokens + 1, 64, name=\"dec_embedding\", mask_zero=True)(decoder_input)\n",
        "\n",
        "\n",
        "    for i in range(0, num_decoder_layers):\n",
        "        if cell_type==\"LSTM\":\n",
        "            decoder_lstm = keras.layers.LSTM(num_cells, return_sequences=True, return_state=True, name=\"dec_\"+str(i+1), dropout=dropout_fraction, recurrent_dropout=dropout_fraction)\n",
        "            \n",
        "            if i==0:\n",
        "                decoder_outputs, decoder_state_h, decoder_state_c = decoder_lstm(decoder_embedding, initial_state = [states['encoder_state_h_'+str(i+1)], states['encoder_state_c_'+str(i+1)]])\n",
        "            else:\n",
        "                decoder_outputs, decoder_state_h, decoder_state_c = decoder_lstm(decoder_outputs, initial_state = [states['encoder_state_h_'+str(i+1)],states['encoder_state_c_'+str(i+1)]])\n",
        "            \n",
        "\n",
        "        if cell_type==\"RNN\":\n",
        "            decoder_rnn = keras.layers.SimpleRNN(num_cells, return_sequences=True, return_state=True, name=\"dec_\"+str(i+1), dropout=dropout_fraction, recurrent_dropout=dropout_fraction)\n",
        "            if i==0:\n",
        "                decoder_outputs, rnn_decoder_final_state = decoder_rnn(decoder_embedding, initial_state = states['rnn_final_state_'+str(i+1)])\n",
        "            else:\n",
        "                decoder_outputs, rnn_decoder_final_state = decoder_rnn(decoder_outputs, initial_state = states['rnn_final_state_'+str(i+1)])\n",
        "            \n",
        "        if cell_type==\"GRU\":\n",
        "            decoder_gru = keras.layers.GRU(num_cells, return_sequences=True, return_state=True, name=\"dec_\"+str(i+1), dropout=dropout_fraction, recurrent_dropout=dropout_fraction)\n",
        "            if i==0:\n",
        "                decoder_outputs, gru_decoder_final_state = decoder_gru(decoder_embedding, initial_state = states['gru_final_state_'+str(i+1)])\n",
        "            else:\n",
        "                decoder_outputs, gru_decoder_final_state = decoder_gru(decoder_outputs, initial_state = states['gru_final_state_'+str(i+1)])\n",
        "\n",
        "\n",
        "\n",
        "    attention_layer = AttentionLayer(name='attention_layer')\n",
        "    attention_out, attention_states = attention_layer([encoder_outputs,decoder_outputs])\n",
        "\n",
        "    decoder_concat_input = Concatenate(axis=-1, name='concat_layer')([decoder_outputs, attention_out])\n",
        "    dense = Dense(num_target_tokens, activation='softmax', name='dec_dense')\n",
        "\n",
        "    time_dense = TimeDistributed(dense, name='time_distributed_layer')\n",
        "    decoder_outputs = time_dense(decoder_concat_input)\n",
        "      \n",
        "\n",
        "   \n",
        "    model = keras.Model([encoder_input, decoder_input], decoder_outputs)\n",
        "\n",
        "    return model"
      ],
      "execution_count": null,
      "outputs": []
    },
    {
      "cell_type": "code",
      "metadata": {
        "id": "JzyEUtjmzhLr"
      },
      "source": [
        "def inferenceLSTM(model, num_cells):\n",
        "   \n",
        "    \n",
        "    states={}\n",
        "    enc_states=[]\n",
        "    enc_inputs = model.input[0]\n",
        "    dec_inputs = model.input[1]\n",
        "\n",
        "    \n",
        "    for layer in model.layers:\n",
        "        string = layer.name\n",
        "        i= string[-1]\n",
        "        if(i.isnumeric() and string[0]=='e'):\n",
        "          _, enc_h_state, enc_c_state= layer.output\n",
        "          states['enc_h_state_'+i]=enc_h_state\n",
        "          states['enc_c_state_'+i]=enc_c_state\n",
        "          enc_states.append(states['enc_h_state_'+ i])\n",
        "          enc_states.append(states['enc_c_state_'+ i])\n",
        "  \n",
        "\n",
        "    \n",
        "    enc_model = keras.Model(enc_inputs, enc_states)\n",
        "\n",
        "    \n",
        "\n",
        "    \n",
        "    decoders={}\n",
        "    count=0\n",
        "    for layer in model.layers:\n",
        "        if layer.name==\"dec_dense\":\n",
        "            dec_dense = layer\n",
        "        if layer.name == \"dec_embedding\":\n",
        "            dec_embedding = layer\n",
        "        if layer.name==\"attention_layer\":\n",
        "            attention_layer = layer\n",
        "        if layer.name==\"concat_layer\":\n",
        "            concat = layer\n",
        "        string = layer.name\n",
        "        i= string[-1]\n",
        "        if(i.isnumeric() and string[0]=='d'):\n",
        "          count+=1\n",
        "          decoders['decoder_'+i]=layer\n",
        "        \n",
        " \n",
        "\n",
        "    for i in range(1,count+1):\n",
        "      input_dec_h_state = keras.Input(shape=(num_cells,))\n",
        "      input_dec_c_state = keras.Input(shape=(num_cells,))\n",
        "      states['input_dec_h_state_'+str(i)]=input_dec_h_state\n",
        "      states['input_dec_c_state_'+str(i)]=input_dec_c_state\n",
        "\n",
        "\n",
        "\n",
        "    dec_states_inputs=[]\n",
        "    for i in range(1,count+1):\n",
        "      states['input_dec_states_'+str(i)]=[]\n",
        "      states['input_dec_states_'+str(i)].append(states['input_dec_h_state_'+str(i)])\n",
        "      states['input_dec_states_'+str(i)].append(states['input_dec_c_state_'+str(i)])\n",
        "      dec_states_inputs= dec_states_inputs+states['input_dec_states_'+str(i)]\n",
        "\n",
        "\n",
        "    \n",
        "\n",
        "    dec_states=[]\n",
        "    for i in range(1,count+1):\n",
        "      if(i==1):\n",
        "        dec_outputs, dec_h_state, dec_c_state = decoders['decoder_'+str(i)](dec_embedding(dec_inputs), states['input_dec_states_'+str(i)])\n",
        "      else:\n",
        "        dec_outputs, dec_h_state, dec_c_state = decoders['decoder_'+str(i)](dec_outputs, states['input_dec_states_'+str(i)])\n",
        "      \n",
        "      states['dec_h_state_'+str(i)]= dec_h_state\n",
        "      states['dec_c_state_'+str(i)]= dec_c_state\n",
        "\n",
        "      dec_states.append(states['dec_h_state_'+str(i)])\n",
        "      dec_states.append(states['dec_c_state_'+str(i)])\n",
        "\n",
        "\n",
        "\n",
        "    attention_out, attention_states = attention_layer([dec_states_inputs,dec_outputs])\n",
        "\n",
        "    dec_concat = concate([dec_outputs,attention_out])\n",
        "\n",
        "   \n",
        "\n",
        "    dec_outputs = dec_dense(dec_concat)\n",
        "\n",
        " \n",
        "    dec_model = keras.Model([dec_inputs] + dec_states_inputs , [dec_outputs] + dec_states +[attention_states])\n",
        "\n",
        "\n",
        "   \n",
        "    return enc_model, dec_model\n"
      ],
      "execution_count": null,
      "outputs": []
    },
    {
      "cell_type": "code",
      "metadata": {
        "id": "JS6uguS5zuY4"
      },
      "source": [
        "def inferenceOther(model, num_cells):\n",
        "    \n",
        "    \n",
        "    states={}\n",
        "    enc_states=[]\n",
        "    enc_inputs = model.input[0]\n",
        "    dec_inputs = model.input[1]\n",
        "\n",
        "    \n",
        "    for layer in model.layers:\n",
        "        string = layer.name\n",
        "        i= string[-1]\n",
        "        if(i.isnumeric() and string[0]=='e'):\n",
        "          _, enc_state= layer.output\n",
        "          states['enc_state_'+i]= enc_state\n",
        "          enc_states.append(states['enc_state_'+ i])\n",
        "          \n",
        "  \n",
        "\n",
        "    \n",
        "    enc_model = keras.Model(enc_inputs, enc_states)\n",
        "\n",
        "   \n",
        "\n",
        "    \n",
        "    decoders={}\n",
        "    count=0\n",
        "    for layer in model.layers:\n",
        "        if layer.name==\"dec_dense\":\n",
        "            dec_dense = layer\n",
        "        if layer.name == \"dec_embedding\":\n",
        "            dec_embedding = layer\n",
        "        if layer.name==\"attention_layer\":\n",
        "            attention_layer = layer\n",
        "        if layer.name==\"concat_layer\":\n",
        "            concat = layer\n",
        "        string = layer.name\n",
        "        i= string[-1]\n",
        "        if(i.isnumeric() and string[0]=='d'):\n",
        "          count+=1\n",
        "          decoders['decoder_'+i]=layer\n",
        "        \n",
        "    \n",
        "\n",
        "    for i in range(1,count+1):\n",
        "      input_dec_state = keras.Input(shape=(num_cells,))\n",
        "      states['input_dec_state_'+str(i)]=input_dec_state\n",
        "      \n",
        "\n",
        "    \n",
        "\n",
        "    dec_states_inputs=[]\n",
        "    for i in range(1,count+1):\n",
        "      states['input_dec_states_'+str(i)]=[]\n",
        "      states['input_dec_states_'+str(i)].append(states['input_dec_state_'+str(i)])\n",
        "      dec_states_inputs= dec_states_inputs+states['input_dec_states_'+str(i)]\n",
        "\n",
        "\n",
        "    \n",
        "\n",
        "    dec_states=[]\n",
        "    for i in range(1,count+1):\n",
        "      if(i==1):\n",
        "        dec_outputs, dec_state = decoders['decoder_'+str(i)](dec_embedding(dec_inputs), states['input_dec_states_'+str(i)])\n",
        "      else:\n",
        "        dec_outputs, dec_state = decoders['decoder_'+str(i)](dec_outputs, states['input_dec_states_'+str(i)])\n",
        "      \n",
        "      states['dec_state_'+str(i)]= dec_state\n",
        "      \n",
        "\n",
        "      dec_states.append(states['dec_state_'+str(i)])\n",
        " \n",
        "\n",
        "  \n",
        "    \n",
        "    \n",
        "    attention_out, attention_states = attention_layer([dec_states_inputs,dec_outputs])\n",
        "\n",
        "    dec_concat = concate([dec_outputs,attention_out])\n",
        "\n",
        "   \n",
        "\n",
        "    dec_outputs = dec_dense(dec_concat)\n",
        "\n",
        " \n",
        "    dec_model = keras.Model([dec_inputs] + dec_states_inputs , [dec_outputs] + dec_states +[attention_states])\n",
        "\n",
        "    \n",
        "    return enc_model, dec_model\n"
      ],
      "execution_count": null,
      "outputs": []
    },
    {
      "cell_type": "code",
      "metadata": {
        "id": "qswkbjR9EAWC"
      },
      "source": [
        "def decode_words(input_words, enc_model, dec_model):\n",
        "    \n",
        "    batch_size = input_words.shape[0]\n",
        "    \n",
        "    enc_hidden_states = enc_model.predict(input_words)\n",
        "\n",
        "    target_sequence = np.zeros((batch_size, 1, num_target_tokens+1))\n",
        "    \n",
        "    target_sequence[:, 0, target_char_map[\"\\t\"]] = 1.0\n",
        "    target_sequence = np.argmax(target_sequence, axis=2)\n",
        "\n",
        "    dec_words=[]\n",
        "    for i in range(batch_size):\n",
        "      dec_words.append(\"\")\n",
        "\n",
        "   \n",
        "\n",
        "    for i in range(max_decoder_seq_length):\n",
        "\n",
        "        outputs = dec_model.predict([target_sequence] + enc_hidden_states)\n",
        "\n",
        "        outputs = list(outputs)\n",
        "\n",
        "        output_tokens = outputs[0]\n",
        "\n",
        "\n",
        "        sampled_char_indices = np.argmax(output_tokens[:, -1, :], axis=1)\n",
        "\n",
        "        enc_hidden_states=[]\n",
        "        \n",
        "        target_sequence = np.zeros((batch_size, 1, num_target_tokens+1))\n",
        "\n",
        "        for j, ch_index in enumerate(sampled_char_indices):\n",
        "            dec_words[j] += reverse_target_char_map[ch_index]\n",
        "            target_sequence[j, 0, ch_index] = 1.0\n",
        "\n",
        "        target_sequence = np.argmax(target_sequence, axis=2)\n",
        "\n",
        "        \n",
        "        \n",
        "        for i in range(1,len(outputs)):\n",
        "          enc_hidden_states.append(outputs[i]) \n",
        "\n",
        "    i=0\n",
        "    for word in dec_words:\n",
        "      dec_words[i] = word[:word.find(\"\\n\")]\n",
        "      i=i+1\n",
        "    \n",
        "    \n",
        "   \n",
        "    return dec_words"
      ],
      "execution_count": null,
      "outputs": []
    },
    {
      "cell_type": "code",
      "metadata": {
        "id": "h2ACygftUizI"
      },
      "source": [
        "def train(num_cells, cell_type, num_layers, input_embedding_size, dropout_fraction, beam_size, recurrent_dropout):\n",
        "   \n",
        "\n",
        "    model = define_model(num_cells, cell_type, num_layers, num_layers, input_embedding_size, dropout_fraction, beam_size)\n",
        "    print(model.summary())\n",
        "\n",
        "   \n",
        "    model.compile(optimizer=\"adam\", loss=\"categorical_crossentropy\", metrics=[\"accuracy\"])\n",
        "\n",
        "    \n",
        "    history = model.fit(\n",
        "            [encoder_input_array, decoder_input_array],\n",
        "            decoder_output_array,\n",
        "            batch_size = 64,\n",
        "            epochs = 1,\n",
        "            verbose = 1,\n",
        "            validation_data = ([val_encoder_input_array, val_decoder_input_array], val_decoder_output_array)\n",
        "            )\n",
        "    \n",
        "    \n",
        "    model.save(\"best_model_without_attention.h5\")\n",
        "\n",
        "    \n",
        "    \n",
        "\n",
        "    if cell_type == \"LSTM\":\n",
        "        encoder_model, decoder_model = InferenceLSTM(model, num_cells)\n",
        "    else:\n",
        "        encoder_model, decoder_model = InferenceOther(model, num_cells)\n",
        "\n",
        "    \n",
        "\n",
        "  \n",
        "\n",
        "\n",
        "    outputs = []\n",
        "    n = encoder_input_array.shape[0]\n",
        "    batch_size = 1000\n",
        "    for i in range(0, n, batch_size):\n",
        "        \n",
        "        query = encoder_input_array[i:i+batch_size]\n",
        "        \n",
        "        decoded_words = decode_words(query, encoder_model, decoder_model)\n",
        "        outputs = outputs + decoded_words\n",
        "\n",
        "   \n",
        "    ground_truths = [word[1:-1] for word in target_words]\n",
        "    \n",
        "    training_inference_accuracy = np.mean(np.array(outputs) == np.array(ground_truths))\n",
        "    \n",
        "\n",
        "    outputs = []\n",
        "    n = val_encoder_input_array.shape[0]\n",
        "    batch_size = 1000\n",
        "    for i in range(0, n, batch_size):\n",
        "       \n",
        "        query = val_encoder_input_array[i:i+batch_size]\n",
        "       \n",
        "        decoded_words = decode_words(query, encoder_model, decoder_model)\n",
        "        outputs = outputs + decoded_words\n",
        "\n",
        "  \n",
        "    ground_truths = [word[1:-1] for word in val_target_words]\n",
        "    \n",
        "    validation_inference_accuracy = np.mean(np.array(outputs) == np.array(ground_truths))\n",
        "   \n",
        "    \n",
        "\n",
        "    return model, history"
      ],
      "execution_count": null,
      "outputs": []
    },
    {
      "cell_type": "code",
      "metadata": {
        "id": "xw5WEHx-205k"
      },
      "source": [
        "\n",
        "num_cells = 256\n",
        "cell_type = \"LSTM\"\n",
        "num_layers = 3\n",
        "num_encoder_layers = num_layers\n",
        "num_decoder_layers = num_layers\n",
        "input_embedding_size = 64\n",
        "dropout_fraction = 0.1\n",
        "recurrent_dropout = 0\n",
        "beam_size = 1\n",
        "\n",
        "model,history = train(num_cells, cell_type, num_layers, input_embedding_size, dropout_fraction, beam_size,recurrent_dropout)"
      ],
      "execution_count": null,
      "outputs": []
    },
    {
      "cell_type": "code",
      "metadata": {
        "id": "k0gmXaaqXMxv"
      },
      "source": [
        "io = Inference(parent_model = parent.model,\n",
        "               max_encoder_seq_length = pr_obj.max_encoder_seq_length ,\n",
        "               max_decoder_seq_length = pr_obj.max_decoder_seq_length,\n",
        "               target_token_index = pr_obj.target_token_index,\n",
        "               reverse_target_char_index = pr_obj.reverse_target_char_index,\n",
        "               latent_dimension = parent.latent_dimension,\n",
        "               input_layers = parent.input_layers,\n",
        "               output_layers = parent.output_layers,\n",
        "               cell_type = parent.cell_type,\n",
        "               num_layers = parent.no_of_encoder_layers\n",
        "               )\n",
        "io.build_inference_model()"
      ],
      "execution_count": null,
      "outputs": []
    },
    {
      "cell_type": "code",
      "metadata": {
        "id": "RALxe482iYc1",
        "colab": {
          "base_uri": "https://localhost:8080/"
        },
        "outputId": "4495406e-5079-4713-84ce-080e1758e3d8"
      },
      "source": [
        "ridx = np.random.choice(len(en_ip_ts_text),100,replace=False)\n",
        "\n",
        "for seq_index in ridx:\n",
        "    st=seq_index\n",
        "    en=st+1\n",
        "    input_seq = en_ip_ts_data[st:en]\n",
        "    decoded_sentence,char_by_char,att_mtx = decode_words(input_seq,, encoder_model, decoder_model)\n",
        "\n",
        "    print(st)\n",
        "\n",
        "    print( en_ip_ts_text[st])\n",
        "\n",
        "    print( decoded_sentence)\n",
        "\n",
        "    print(Style.BRIGHT + Fore.BLACK +'--'*10)\n",
        "    \n",
        "    print( de_ip_ts_text[st])\n",
        "    "
      ],
      "execution_count": null,
      "outputs": [
        {
          "output_type": "stream",
          "name": "stdout",
          "text": [
            "\u001b[1m\u001b[31mindex_no : 1691\n",
            "\u001b[1m\u001b[30mInput word: tambe\n",
            "\u001b[1m\u001b[34mDecoded word: तांबे\n",
            "\n",
            "\u001b[1m\u001b[32mTrue word: \tतांबे\n",
            "\n",
            "\u001b[1m\u001b[30m--------------------\n",
            "\u001b[1m\u001b[31mindex_no : 3330\n",
            "\u001b[1m\u001b[30mInput word: yatnaon\n",
            "\u001b[1m\u001b[34mDecoded word: यातनाओं\n",
            "\n",
            "\u001b[1m\u001b[32mTrue word: \tयातनाओं\n",
            "\n",
            "\u001b[1m\u001b[30m--------------------\n",
            "\u001b[1m\u001b[31mindex_no : 530\n",
            "\u001b[1m\u001b[30mInput word: enzyme\n",
            "\u001b[1m\u001b[34mDecoded word: एंजीम\n",
            "\n",
            "\u001b[1m\u001b[32mTrue word: \tएंजाइम\n",
            "\n",
            "\u001b[1m\u001b[30m--------------------\n",
            "\u001b[1m\u001b[31mindex_no : 2120\n",
            "\u001b[1m\u001b[30mInput word: nishpaap\n",
            "\u001b[1m\u001b[34mDecoded word: निष्पाप\n",
            "\n",
            "\u001b[1m\u001b[32mTrue word: \tनिष्पाप\n",
            "\n",
            "\u001b[1m\u001b[30m--------------------\n",
            "\u001b[1m\u001b[31mindex_no : 716\n",
            "\u001b[1m\u001b[30mInput word: kamaate\n",
            "\u001b[1m\u001b[34mDecoded word: कमाते\n",
            "\n",
            "\u001b[1m\u001b[32mTrue word: \tकमाते\n",
            "\n",
            "\u001b[1m\u001b[30m--------------------\n",
            "\u001b[1m\u001b[31mindex_no : 38\n",
            "\u001b[1m\u001b[30mInput word: agra\n",
            "\u001b[1m\u001b[34mDecoded word: अग्र\n",
            "\n",
            "\u001b[1m\u001b[32mTrue word: \tअग्र\n",
            "\n",
            "\u001b[1m\u001b[30m--------------------\n",
            "\u001b[1m\u001b[31mindex_no : 1174\n",
            "\u001b[1m\u001b[30mInput word: chauki\n",
            "\u001b[1m\u001b[34mDecoded word: चौकी\n",
            "\n",
            "\u001b[1m\u001b[32mTrue word: \tचौकी\n",
            "\n",
            "\u001b[1m\u001b[30m--------------------\n",
            "\u001b[1m\u001b[31mindex_no : 1012\n",
            "\u001b[1m\u001b[30mInput word: gujara\n",
            "\u001b[1m\u001b[34mDecoded word: गुजर\n",
            "\n",
            "\u001b[1m\u001b[32mTrue word: \tगुजारा\n",
            "\n",
            "\u001b[1m\u001b[30m--------------------\n",
            "\u001b[1m\u001b[31mindex_no : 664\n",
            "\u001b[1m\u001b[30mInput word: kacche\n",
            "\u001b[1m\u001b[34mDecoded word: कच्चे\n",
            "\n",
            "\u001b[1m\u001b[32mTrue word: \tकच्चे\n",
            "\n",
            "\u001b[1m\u001b[30m--------------------\n",
            "\u001b[1m\u001b[31mindex_no : 3417\n",
            "\u001b[1m\u001b[30mInput word: rabha\n",
            "\u001b[1m\u001b[34mDecoded word: राभ\n",
            "\n",
            "\u001b[1m\u001b[32mTrue word: \tराभा\n",
            "\n",
            "\u001b[1m\u001b[30m--------------------\n",
            "\u001b[1m\u001b[31mindex_no : 3961\n",
            "\u001b[1m\u001b[30mInput word: shrankhalaaon\n",
            "\u001b[1m\u001b[34mDecoded word: श्रृंखलाओं\n",
            "\n",
            "\u001b[1m\u001b[32mTrue word: \tश्रंखलाओं\n",
            "\n",
            "\u001b[1m\u001b[30m--------------------\n",
            "\u001b[1m\u001b[31mindex_no : 2566\n",
            "\u001b[1m\u001b[30mInput word: falibhoot\n",
            "\u001b[1m\u001b[34mDecoded word: फलीभूत\n",
            "\n",
            "\u001b[1m\u001b[32mTrue word: \tफलीभूत\n",
            "\n",
            "\u001b[1m\u001b[30m--------------------\n",
            "\u001b[1m\u001b[31mindex_no : 3923\n",
            "\u001b[1m\u001b[30mInput word: shavakon\n",
            "\u001b[1m\u001b[34mDecoded word: शवकों\n",
            "\n",
            "\u001b[1m\u001b[32mTrue word: \tशावकों\n",
            "\n",
            "\u001b[1m\u001b[30m--------------------\n",
            "\u001b[1m\u001b[31mindex_no : 4262\n",
            "\u001b[1m\u001b[30mInput word: suljhai\n",
            "\u001b[1m\u001b[34mDecoded word: सुलझाई\n",
            "\n",
            "\u001b[1m\u001b[32mTrue word: \tसुलझाई\n",
            "\n",
            "\u001b[1m\u001b[30m--------------------\n",
            "\u001b[1m\u001b[31mindex_no : 3449\n",
            "\u001b[1m\u001b[30mInput word: rihanna\n",
            "\u001b[1m\u001b[34mDecoded word: रिहन्न\n",
            "\n",
            "\u001b[1m\u001b[32mTrue word: \tरिहाना\n",
            "\n",
            "\u001b[1m\u001b[30m--------------------\n",
            "\u001b[1m\u001b[31mindex_no : 241\n",
            "\u001b[1m\u001b[30mInput word: asamanjasya\n",
            "\u001b[1m\u001b[34mDecoded word: असमंजस्य\n",
            "\n",
            "\u001b[1m\u001b[32mTrue word: \tअसामंजस्य\n",
            "\n",
            "\u001b[1m\u001b[30m--------------------\n",
            "\u001b[1m\u001b[31mindex_no : 3859\n",
            "\u001b[1m\u001b[30mInput word: vaigyanik\n",
            "\u001b[1m\u001b[34mDecoded word: वैग्ञानिक\n",
            "\n",
            "\u001b[1m\u001b[32mTrue word: \tवैज्ञानिक\n",
            "\n",
            "\u001b[1m\u001b[30m--------------------\n",
            "\u001b[1m\u001b[31mindex_no : 198\n",
            "\u001b[1m\u001b[30mInput word: avantipur\n",
            "\u001b[1m\u001b[34mDecoded word: अवंतीपुर\n",
            "\n",
            "\u001b[1m\u001b[32mTrue word: \tअवंतिपुर\n",
            "\n",
            "\u001b[1m\u001b[30m--------------------\n",
            "\u001b[1m\u001b[31mindex_no : 1245\n",
            "\u001b[1m\u001b[30mInput word: jajon\n",
            "\u001b[1m\u001b[34mDecoded word: जजों\n",
            "\n",
            "\u001b[1m\u001b[32mTrue word: \tजजों\n",
            "\n",
            "\u001b[1m\u001b[30m--------------------\n",
            "\u001b[1m\u001b[31mindex_no : 2041\n",
            "\u001b[1m\u001b[30mInput word: naseem\n",
            "\u001b[1m\u001b[34mDecoded word: नसीम\n",
            "\n",
            "\u001b[1m\u001b[32mTrue word: \tनसीम\n",
            "\n",
            "\u001b[1m\u001b[30m--------------------\n",
            "\u001b[1m\u001b[31mindex_no : 2726\n",
            "\u001b[1m\u001b[30mInput word: bramad\n",
            "\u001b[1m\u001b[34mDecoded word: ब्रमद\n",
            "\n",
            "\u001b[1m\u001b[32mTrue word: \tबरामद\n",
            "\n",
            "\u001b[1m\u001b[30m--------------------\n",
            "\u001b[1m\u001b[31mindex_no : 4280\n",
            "\u001b[1m\u001b[30mInput word: suba\n",
            "\u001b[1m\u001b[34mDecoded word: सब\n",
            "\n",
            "\u001b[1m\u001b[32mTrue word: \tसूबा\n",
            "\n",
            "\u001b[1m\u001b[30m--------------------\n",
            "\u001b[1m\u001b[31mindex_no : 4457\n",
            "\u001b[1m\u001b[30mInput word: halchal\n",
            "\u001b[1m\u001b[34mDecoded word: हलचल\n",
            "\n",
            "\u001b[1m\u001b[32mTrue word: \tहालचाल\n",
            "\n",
            "\u001b[1m\u001b[30m--------------------\n",
            "\u001b[1m\u001b[31mindex_no : 4137\n",
            "\u001b[1m\u001b[30mInput word: sanketik\n",
            "\u001b[1m\u001b[34mDecoded word: संकेतिक\n",
            "\n",
            "\u001b[1m\u001b[32mTrue word: \tसांकेतिक\n",
            "\n",
            "\u001b[1m\u001b[30m--------------------\n",
            "\u001b[1m\u001b[31mindex_no : 3593\n",
            "\u001b[1m\u001b[30mInput word: lahrai\n",
            "\u001b[1m\u001b[34mDecoded word: लहराई\n",
            "\n",
            "\u001b[1m\u001b[32mTrue word: \tलहराई\n",
            "\n",
            "\u001b[1m\u001b[30m--------------------\n",
            "\u001b[1m\u001b[31mindex_no : 3642\n",
            "\u001b[1m\u001b[30mInput word: lootmar\n",
            "\u001b[1m\u001b[34mDecoded word: लूटमर\n",
            "\n",
            "\u001b[1m\u001b[32mTrue word: \tलूटमार\n",
            "\n",
            "\u001b[1m\u001b[30m--------------------\n",
            "\u001b[1m\u001b[31mindex_no : 1907\n",
            "\u001b[1m\u001b[30mInput word: desai\n",
            "\u001b[1m\u001b[34mDecoded word: देसाई\n",
            "\n",
            "\u001b[1m\u001b[32mTrue word: \tदेसाई\n",
            "\n",
            "\u001b[1m\u001b[30m--------------------\n",
            "\u001b[1m\u001b[31mindex_no : 1402\n",
            "\u001b[1m\u001b[30mInput word: jutee\n",
            "\u001b[1m\u001b[34mDecoded word: जुटी\n",
            "\n",
            "\u001b[1m\u001b[32mTrue word: \tजुटी\n",
            "\n",
            "\u001b[1m\u001b[30m--------------------\n",
            "\u001b[1m\u001b[31mindex_no : 1598\n",
            "\u001b[1m\u001b[30mInput word: dubana\n",
            "\u001b[1m\u001b[34mDecoded word: दूबन\n",
            "\n",
            "\u001b[1m\u001b[32mTrue word: \tडुबाना\n",
            "\n",
            "\u001b[1m\u001b[30m--------------------\n",
            "\u001b[1m\u001b[31mindex_no : 3781\n",
            "\u001b[1m\u001b[30mInput word: vidhansabhaein\n",
            "\u001b[1m\u001b[34mDecoded word: विधानसभाएं\n",
            "\n",
            "\u001b[1m\u001b[32mTrue word: \tविधानसभाएं\n",
            "\n",
            "\u001b[1m\u001b[30m--------------------\n",
            "\u001b[1m\u001b[31mindex_no : 4044\n",
            "\u001b[1m\u001b[30mInput word: sataane\n",
            "\u001b[1m\u001b[34mDecoded word: सताने\n",
            "\n",
            "\u001b[1m\u001b[32mTrue word: \tसताने\n",
            "\n",
            "\u001b[1m\u001b[30m--------------------\n",
            "\u001b[1m\u001b[31mindex_no : 2586\n",
            "\u001b[1m\u001b[30mInput word: farm\n",
            "\u001b[1m\u001b[34mDecoded word: फर्म\n",
            "\n",
            "\u001b[1m\u001b[32mTrue word: \tफार्म\n",
            "\n",
            "\u001b[1m\u001b[30m--------------------\n",
            "\u001b[1m\u001b[31mindex_no : 2024\n",
            "\u001b[1m\u001b[30mInput word: narm\n",
            "\u001b[1m\u001b[34mDecoded word: नर्म\n",
            "\n",
            "\u001b[1m\u001b[32mTrue word: \tनरम\n",
            "\n",
            "\u001b[1m\u001b[30m--------------------\n",
            "\u001b[1m\u001b[31mindex_no : 3516\n",
            "\u001b[1m\u001b[30mInput word: wrapping\n",
            "\u001b[1m\u001b[34mDecoded word: राप्पिंग\n",
            "\n",
            "\u001b[1m\u001b[32mTrue word: \tरैपिंग\n",
            "\n",
            "\u001b[1m\u001b[30m--------------------\n",
            "\u001b[1m\u001b[31mindex_no : 150\n",
            "\u001b[1m\u001b[30mInput word: amitao\n",
            "\u001b[1m\u001b[34mDecoded word: अमिताओ\n",
            "\n",
            "\u001b[1m\u001b[32mTrue word: \tअमिताव\n",
            "\n",
            "\u001b[1m\u001b[30m--------------------\n",
            "\u001b[1m\u001b[31mindex_no : 3472\n",
            "\u001b[1m\u001b[30mInput word: rupesh\n",
            "\u001b[1m\u001b[34mDecoded word: रूपेश\n",
            "\n",
            "\u001b[1m\u001b[32mTrue word: \tरुपेश\n",
            "\n",
            "\u001b[1m\u001b[30m--------------------\n",
            "\u001b[1m\u001b[31mindex_no : 1384\n",
            "\u001b[1m\u001b[30mInput word: jira\n",
            "\u001b[1m\u001b[34mDecoded word: जीरा\n",
            "\n",
            "\u001b[1m\u001b[32mTrue word: \tजीरा\n",
            "\n",
            "\u001b[1m\u001b[30m--------------------\n",
            "\u001b[1m\u001b[31mindex_no : 2254\n",
            "\u001b[1m\u001b[30mInput word: parosne\n",
            "\u001b[1m\u001b[34mDecoded word: परोसने\n",
            "\n",
            "\u001b[1m\u001b[32mTrue word: \tपरोसने\n",
            "\n",
            "\u001b[1m\u001b[30m--------------------\n",
            "\u001b[1m\u001b[31mindex_no : 4462\n",
            "\u001b[1m\u001b[30mInput word: hindan\n",
            "\u001b[1m\u001b[34mDecoded word: हिंदन\n",
            "\n",
            "\u001b[1m\u001b[32mTrue word: \tहिंडन\n",
            "\n",
            "\u001b[1m\u001b[30m--------------------\n",
            "\u001b[1m\u001b[31mindex_no : 129\n",
            "\u001b[1m\u001b[30mInput word: abbasi\n",
            "\u001b[1m\u001b[34mDecoded word: अब्बासी\n",
            "\n",
            "\u001b[1m\u001b[32mTrue word: \tअब्बासी\n",
            "\n",
            "\u001b[1m\u001b[30m--------------------\n",
            "\u001b[1m\u001b[31mindex_no : 364\n",
            "\u001b[1m\u001b[30mInput word: aasan\n",
            "\u001b[1m\u001b[34mDecoded word: आसन\n",
            "\n",
            "\u001b[1m\u001b[32mTrue word: \tआसान\n",
            "\n",
            "\u001b[1m\u001b[30m--------------------\n",
            "\u001b[1m\u001b[31mindex_no : 1909\n",
            "\u001b[1m\u001b[30mInput word: dvadash\n",
            "\u001b[1m\u001b[34mDecoded word: द्वादशा\n",
            "\n",
            "\u001b[1m\u001b[32mTrue word: \tद्वादश\n",
            "\n",
            "\u001b[1m\u001b[30m--------------------\n",
            "\u001b[1m\u001b[31mindex_no : 3605\n",
            "\u001b[1m\u001b[30mInput word: live\n",
            "\u001b[1m\u001b[34mDecoded word: लाइव\n",
            "\n",
            "\u001b[1m\u001b[32mTrue word: \tलाईव\n",
            "\n",
            "\u001b[1m\u001b[30m--------------------\n",
            "\u001b[1m\u001b[31mindex_no : 577\n",
            "\u001b[1m\u001b[30mInput word: error\n",
            "\u001b[1m\u001b[34mDecoded word: एरर\n",
            "\n",
            "\u001b[1m\u001b[32mTrue word: \tएरर\n",
            "\n",
            "\u001b[1m\u001b[30m--------------------\n",
            "\u001b[1m\u001b[31mindex_no : 1332\n",
            "\u001b[1m\u001b[30mInput word: jajmau\n",
            "\u001b[1m\u001b[34mDecoded word: जजमू\n",
            "\n",
            "\u001b[1m\u001b[32mTrue word: \tजाजमऊ\n",
            "\n",
            "\u001b[1m\u001b[30m--------------------\n",
            "\u001b[1m\u001b[31mindex_no : 3988\n",
            "\u001b[1m\u001b[30mInput word: sandarbha\n",
            "\u001b[1m\u001b[34mDecoded word: संदर्भ\n",
            "\n",
            "\u001b[1m\u001b[32mTrue word: \tसंदर्भ\n",
            "\n",
            "\u001b[1m\u001b[30m--------------------\n",
            "\u001b[1m\u001b[31mindex_no : 1515\n",
            "\u001b[1m\u001b[30mInput word: tivoli\n",
            "\u001b[1m\u001b[34mDecoded word: तिवोली\n",
            "\n",
            "\u001b[1m\u001b[32mTrue word: \tटिवोली\n",
            "\n",
            "\u001b[1m\u001b[30m--------------------\n",
            "\u001b[1m\u001b[31mindex_no : 3349\n",
            "\u001b[1m\u001b[30mInput word: rangate\n",
            "\u001b[1m\u001b[34mDecoded word: रंगते\n",
            "\n",
            "\u001b[1m\u001b[32mTrue word: \tरंगते\n",
            "\n",
            "\u001b[1m\u001b[30m--------------------\n",
            "\u001b[1m\u001b[31mindex_no : 4366\n",
            "\u001b[1m\u001b[30mInput word: sthulata\n",
            "\u001b[1m\u001b[34mDecoded word: स्थूलता\n",
            "\n",
            "\u001b[1m\u001b[32mTrue word: \tस्थूलता\n",
            "\n",
            "\u001b[1m\u001b[30m--------------------\n",
            "\u001b[1m\u001b[31mindex_no : 1906\n",
            "\u001b[1m\u001b[30mInput word: deshke\n",
            "\u001b[1m\u001b[34mDecoded word: देशके\n",
            "\n",
            "\u001b[1m\u001b[32mTrue word: \tदेशके\n",
            "\n",
            "\u001b[1m\u001b[30m--------------------\n",
            "\u001b[1m\u001b[31mindex_no : 2992\n",
            "\u001b[1m\u001b[30mInput word: bhumika\n",
            "\u001b[1m\u001b[34mDecoded word: भूमिका\n",
            "\n",
            "\u001b[1m\u001b[32mTrue word: \tभूमी\n",
            "\n",
            "\u001b[1m\u001b[30m--------------------\n",
            "\u001b[1m\u001b[31mindex_no : 56\n",
            "\u001b[1m\u001b[30mInput word: atakta\n",
            "\u001b[1m\u001b[34mDecoded word: अतक्त\n",
            "\n",
            "\u001b[1m\u001b[32mTrue word: \tअटकता\n",
            "\n",
            "\u001b[1m\u001b[30m--------------------\n",
            "\u001b[1m\u001b[31mindex_no : 3968\n",
            "\u001b[1m\u001b[30mInput word: shriram\n",
            "\u001b[1m\u001b[34mDecoded word: श्रीराम\n",
            "\n",
            "\u001b[1m\u001b[32mTrue word: \tश्रीराम\n",
            "\n",
            "\u001b[1m\u001b[30m--------------------\n",
            "\u001b[1m\u001b[31mindex_no : 3895\n",
            "\u001b[1m\u001b[30mInput word: shabana\n",
            "\u001b[1m\u001b[34mDecoded word: शबन\n",
            "\n",
            "\u001b[1m\u001b[32mTrue word: \tशबाना\n",
            "\n",
            "\u001b[1m\u001b[30m--------------------\n",
            "\u001b[1m\u001b[31mindex_no : 724\n",
            "\u001b[1m\u001b[30mInput word: karghe\n",
            "\u001b[1m\u001b[34mDecoded word: कर्घे\n",
            "\n",
            "\u001b[1m\u001b[32mTrue word: \tकरघे\n",
            "\n",
            "\u001b[1m\u001b[30m--------------------\n",
            "\u001b[1m\u001b[31mindex_no : 3279\n",
            "\u001b[1m\u001b[30mInput word: maisachusets\n",
            "\u001b[1m\u001b[34mDecoded word: मैसचूसेट्स\n",
            "\n",
            "\u001b[1m\u001b[32mTrue word: \tमैसाचुसेट्स\n",
            "\n",
            "\u001b[1m\u001b[30m--------------------\n",
            "\u001b[1m\u001b[31mindex_no : 1440\n",
            "\u001b[1m\u001b[30mInput word: jeremy\n",
            "\u001b[1m\u001b[34mDecoded word: जेरेमी\n",
            "\n",
            "\u001b[1m\u001b[32mTrue word: \tजेरेमी\n",
            "\n",
            "\u001b[1m\u001b[30m--------------------\n",
            "\u001b[1m\u001b[31mindex_no : 1764\n",
            "\u001b[1m\u001b[30mInput word: thiyeters\n",
            "\u001b[1m\u001b[34mDecoded word: थियटर्स\n",
            "\n",
            "\u001b[1m\u001b[32mTrue word: \tथियेटर्स\n",
            "\n",
            "\u001b[1m\u001b[30m--------------------\n",
            "\u001b[1m\u001b[31mindex_no : 3075\n",
            "\u001b[1m\u001b[30mInput word: marmar\n",
            "\u001b[1m\u001b[34mDecoded word: मरमार\n",
            "\n",
            "\u001b[1m\u001b[32mTrue word: \tमरमर\n",
            "\n",
            "\u001b[1m\u001b[30m--------------------\n",
            "\u001b[1m\u001b[31mindex_no : 2211\n",
            "\u001b[1m\u001b[30mInput word: patiyaa\n",
            "\u001b[1m\u001b[34mDecoded word: पटिया\n",
            "\n",
            "\u001b[1m\u001b[32mTrue word: \tपटिया\n",
            "\n",
            "\u001b[1m\u001b[30m--------------------\n",
            "\u001b[1m\u001b[31mindex_no : 1725\n",
            "\u001b[1m\u001b[30mInput word: tugalki\n",
            "\u001b[1m\u001b[34mDecoded word: तुगलकी\n",
            "\n",
            "\u001b[1m\u001b[32mTrue word: \tतुगलकी\n",
            "\n",
            "\u001b[1m\u001b[30m--------------------\n",
            "\u001b[1m\u001b[31mindex_no : 25\n",
            "\u001b[1m\u001b[30mInput word: akram\n",
            "\u001b[1m\u001b[34mDecoded word: अक्रम\n",
            "\n",
            "\u001b[1m\u001b[32mTrue word: \tअकरम\n",
            "\n",
            "\u001b[1m\u001b[30m--------------------\n",
            "\u001b[1m\u001b[31mindex_no : 1244\n",
            "\u001b[1m\u001b[30mInput word: jajaon\n",
            "\u001b[1m\u001b[34mDecoded word: जजाओं\n",
            "\n",
            "\u001b[1m\u001b[32mTrue word: \tजजों\n",
            "\n",
            "\u001b[1m\u001b[30m--------------------\n",
            "\u001b[1m\u001b[31mindex_no : 49\n",
            "\u001b[1m\u001b[30mInput word: ajmeedh\n",
            "\u001b[1m\u001b[34mDecoded word: अजमीध\n",
            "\n",
            "\u001b[1m\u001b[32mTrue word: \tअजमीढ़\n",
            "\n",
            "\u001b[1m\u001b[30m--------------------\n",
            "\u001b[1m\u001b[31mindex_no : 4412\n",
            "\u001b[1m\u001b[30mInput word: haqeeqat\n",
            "\u001b[1m\u001b[34mDecoded word: हकीकता\n",
            "\n",
            "\u001b[1m\u001b[32mTrue word: \tहकीकत\n",
            "\n",
            "\u001b[1m\u001b[30m--------------------\n",
            "\u001b[1m\u001b[31mindex_no : 4494\n",
            "\u001b[1m\u001b[30mInput word: half\n",
            "\u001b[1m\u001b[34mDecoded word: हल्फ\n",
            "\n",
            "\u001b[1m\u001b[32mTrue word: \tहॉफ\n",
            "\n",
            "\u001b[1m\u001b[30m--------------------\n",
            "\u001b[1m\u001b[31mindex_no : 2773\n",
            "\u001b[1m\u001b[30mInput word: bajuon\n",
            "\u001b[1m\u001b[34mDecoded word: बाजुओं\n",
            "\n",
            "\u001b[1m\u001b[32mTrue word: \tबाजुओं\n",
            "\n",
            "\u001b[1m\u001b[30m--------------------\n",
            "\u001b[1m\u001b[31mindex_no : 2471\n",
            "\u001b[1m\u001b[30mInput word: prardashan\n",
            "\u001b[1m\u001b[34mDecoded word: प्रर्दाशन\n",
            "\n",
            "\u001b[1m\u001b[32mTrue word: \tप्रर्दशन\n",
            "\n",
            "\u001b[1m\u001b[30m--------------------\n",
            "\u001b[1m\u001b[31mindex_no : 3566\n",
            "\u001b[1m\u001b[30mInput word: lajjalu\n",
            "\u001b[1m\u001b[34mDecoded word: लजजलू\n",
            "\n",
            "\u001b[1m\u001b[32mTrue word: \tलज्जालु\n",
            "\n",
            "\u001b[1m\u001b[30m--------------------\n",
            "\u001b[1m\u001b[31mindex_no : 1260\n",
            "\u001b[1m\u001b[30mInput word: janaganna\n",
            "\u001b[1m\u001b[34mDecoded word: जनगन्न\n",
            "\n",
            "\u001b[1m\u001b[32mTrue word: \tजनगणना\n",
            "\n",
            "\u001b[1m\u001b[30m--------------------\n",
            "\u001b[1m\u001b[31mindex_no : 749\n",
            "\u001b[1m\u001b[30mInput word: kasida\n",
            "\u001b[1m\u001b[34mDecoded word: कसीदा\n",
            "\n",
            "\u001b[1m\u001b[32mTrue word: \tकसीदा\n",
            "\n",
            "\u001b[1m\u001b[30m--------------------\n",
            "\u001b[1m\u001b[31mindex_no : 3653\n",
            "\u001b[1m\u001b[30mInput word: labelling\n",
            "\u001b[1m\u001b[34mDecoded word: लैबलिंग\n",
            "\n",
            "\u001b[1m\u001b[32mTrue word: \tलेबलिंग\n",
            "\n",
            "\u001b[1m\u001b[30m--------------------\n",
            "\u001b[1m\u001b[31mindex_no : 1379\n",
            "\u001b[1m\u001b[30mInput word: jipani\n",
            "\u001b[1m\u001b[34mDecoded word: जीपानी\n",
            "\n",
            "\u001b[1m\u001b[32mTrue word: \tजीपनी\n",
            "\n",
            "\u001b[1m\u001b[30m--------------------\n",
            "\u001b[1m\u001b[31mindex_no : 2690\n",
            "\u001b[1m\u001b[30mInput word: badhata\n",
            "\u001b[1m\u001b[34mDecoded word: बढ़ता\n",
            "\n",
            "\u001b[1m\u001b[32mTrue word: \tबढ़ाता\n",
            "\n",
            "\u001b[1m\u001b[30m--------------------\n",
            "\u001b[1m\u001b[31mindex_no : 2651\n",
            "\u001b[1m\u001b[30mInput word: flynn\n",
            "\u001b[1m\u001b[34mDecoded word: फ्लाइन\n",
            "\n",
            "\u001b[1m\u001b[32mTrue word: \tफ्लिन\n",
            "\n",
            "\u001b[1m\u001b[30m--------------------\n",
            "\u001b[1m\u001b[31mindex_no : 3519\n",
            "\u001b[1m\u001b[30mInput word: robinson\n",
            "\u001b[1m\u001b[34mDecoded word: रॉबिंसन\n",
            "\n",
            "\u001b[1m\u001b[32mTrue word: \tरॉबिंसन\n",
            "\n",
            "\u001b[1m\u001b[30m--------------------\n",
            "\u001b[1m\u001b[31mindex_no : 41\n",
            "\u001b[1m\u001b[30mInput word: achievement\n",
            "\u001b[1m\u001b[34mDecoded word: अचिवमेंट\n",
            "\n",
            "\u001b[1m\u001b[32mTrue word: \tअचीवमेंट\n",
            "\n",
            "\u001b[1m\u001b[30m--------------------\n",
            "\u001b[1m\u001b[31mindex_no : 1653\n",
            "\u001b[1m\u001b[30mInput word: tantrikaon\n",
            "\u001b[1m\u001b[34mDecoded word: तंत्रिकाओं\n",
            "\n",
            "\u001b[1m\u001b[32mTrue word: \tतंत्रिकाओं\n",
            "\n",
            "\u001b[1m\u001b[30m--------------------\n",
            "\u001b[1m\u001b[31mindex_no : 3914\n",
            "\u001b[1m\u001b[30mInput word: shaao\n",
            "\u001b[1m\u001b[34mDecoded word: शाओ\n",
            "\n",
            "\u001b[1m\u001b[32mTrue word: \tशाओ\n",
            "\n",
            "\u001b[1m\u001b[30m--------------------\n",
            "\u001b[1m\u001b[31mindex_no : 2283\n",
            "\u001b[1m\u001b[30mInput word: pahani\n",
            "\u001b[1m\u001b[34mDecoded word: पहनी\n",
            "\n",
            "\u001b[1m\u001b[32mTrue word: \tपहनी\n",
            "\n",
            "\u001b[1m\u001b[30m--------------------\n",
            "\u001b[1m\u001b[31mindex_no : 1446\n",
            "\u001b[1m\u001b[30mInput word: jaine\n",
            "\u001b[1m\u001b[34mDecoded word: जैने\n",
            "\n",
            "\u001b[1m\u001b[32mTrue word: \tजैने\n",
            "\n",
            "\u001b[1m\u001b[30m--------------------\n",
            "\u001b[1m\u001b[31mindex_no : 1852\n",
            "\u001b[1m\u001b[30mInput word: dilaye\n",
            "\u001b[1m\u001b[34mDecoded word: दिलाए\n",
            "\n",
            "\u001b[1m\u001b[32mTrue word: \tदिलाये\n",
            "\n",
            "\u001b[1m\u001b[30m--------------------\n",
            "\u001b[1m\u001b[31mindex_no : 4014\n",
            "\u001b[1m\u001b[30mInput word: samvedikaran\n",
            "\u001b[1m\u001b[34mDecoded word: संवेदिकरण\n",
            "\n",
            "\u001b[1m\u001b[32mTrue word: \tसंवेदीकरण\n",
            "\n",
            "\u001b[1m\u001b[30m--------------------\n",
            "\u001b[1m\u001b[31mindex_no : 2541\n",
            "\u001b[1m\u001b[30mInput word: phabti\n",
            "\u001b[1m\u001b[34mDecoded word: फबती\n",
            "\n",
            "\u001b[1m\u001b[32mTrue word: \tफब्ती\n",
            "\n",
            "\u001b[1m\u001b[30m--------------------\n",
            "\u001b[1m\u001b[31mindex_no : 2658\n",
            "\u001b[1m\u001b[30mInput word: bangsh\n",
            "\u001b[1m\u001b[34mDecoded word: बंगश\n",
            "\n",
            "\u001b[1m\u001b[32mTrue word: \tबंगश\n",
            "\n",
            "\u001b[1m\u001b[30m--------------------\n",
            "\u001b[1m\u001b[31mindex_no : 78\n",
            "\u001b[1m\u001b[30mInput word: advivas\n",
            "\u001b[1m\u001b[34mDecoded word: आद्विवस\n",
            "\n",
            "\u001b[1m\u001b[32mTrue word: \tअधिवास\n",
            "\n",
            "\u001b[1m\u001b[30m--------------------\n",
            "\u001b[1m\u001b[31mindex_no : 2232\n",
            "\u001b[1m\u001b[30mInput word: pummi\n",
            "\u001b[1m\u001b[34mDecoded word: पुम्मी\n",
            "\n",
            "\u001b[1m\u001b[32mTrue word: \tपम्मी\n",
            "\n",
            "\u001b[1m\u001b[30m--------------------\n",
            "\u001b[1m\u001b[31mindex_no : 1257\n",
            "\u001b[1m\u001b[30mInput word: jatatee\n",
            "\u001b[1m\u001b[34mDecoded word: जटती\n",
            "\n",
            "\u001b[1m\u001b[32mTrue word: \tजताती\n",
            "\n",
            "\u001b[1m\u001b[30m--------------------\n",
            "\u001b[1m\u001b[31mindex_no : 203\n",
            "\u001b[1m\u001b[30mInput word: avarodhak\n",
            "\u001b[1m\u001b[34mDecoded word: आवरोधक\n",
            "\n",
            "\u001b[1m\u001b[32mTrue word: \tअवरोधक\n",
            "\n",
            "\u001b[1m\u001b[30m--------------------\n",
            "\u001b[1m\u001b[31mindex_no : 1418\n",
            "\u001b[1m\u001b[30mInput word: julaahon\n",
            "\u001b[1m\u001b[34mDecoded word: जुलाहों\n",
            "\n",
            "\u001b[1m\u001b[32mTrue word: \tजुलाहों\n",
            "\n",
            "\u001b[1m\u001b[30m--------------------\n",
            "\u001b[1m\u001b[31mindex_no : 1375\n",
            "\u001b[1m\u001b[30mInput word: jin\n",
            "\u001b[1m\u001b[34mDecoded word: जिन\n",
            "\n",
            "\u001b[1m\u001b[32mTrue word: \tजीन\n",
            "\n",
            "\u001b[1m\u001b[30m--------------------\n",
            "\u001b[1m\u001b[31mindex_no : 37\n",
            "\u001b[1m\u001b[30mInput word: agr\n",
            "\u001b[1m\u001b[34mDecoded word: अग्र\n",
            "\n",
            "\u001b[1m\u001b[32mTrue word: \tअग्र\n",
            "\n",
            "\u001b[1m\u001b[30m--------------------\n",
            "\u001b[1m\u001b[31mindex_no : 3047\n",
            "\u001b[1m\u001b[30mInput word: machae\n",
            "\u001b[1m\u001b[34mDecoded word: मचाए\n",
            "\n",
            "\u001b[1m\u001b[32mTrue word: \tमचाए\n",
            "\n",
            "\u001b[1m\u001b[30m--------------------\n",
            "\u001b[1m\u001b[31mindex_no : 1038\n",
            "\u001b[1m\u001b[30mInput word: gaumukh\n",
            "\u001b[1m\u001b[34mDecoded word: गौमुख\n",
            "\n",
            "\u001b[1m\u001b[32mTrue word: \tगौमुख\n",
            "\n",
            "\u001b[1m\u001b[30m--------------------\n",
            "\u001b[1m\u001b[31mindex_no : 2583\n",
            "\u001b[1m\u001b[30mInput word: phaaph\n",
            "\u001b[1m\u001b[34mDecoded word: फाफ\n",
            "\n",
            "\u001b[1m\u001b[32mTrue word: \tफाफ\n",
            "\n",
            "\u001b[1m\u001b[30m--------------------\n",
            "\u001b[1m\u001b[31mindex_no : 2629\n",
            "\u001b[1m\u001b[30mInput word: foda\n",
            "\u001b[1m\u001b[34mDecoded word: फॉड\n",
            "\n",
            "\u001b[1m\u001b[32mTrue word: \tफोड़ा\n",
            "\n",
            "\u001b[1m\u001b[30m--------------------\n",
            "\u001b[1m\u001b[31mindex_no : 2961\n",
            "\u001b[1m\u001b[30mInput word: bhate\n",
            "\u001b[1m\u001b[34mDecoded word: भाते\n",
            "\n",
            "\u001b[1m\u001b[32mTrue word: \tभाते\n",
            "\n",
            "\u001b[1m\u001b[30m--------------------\n",
            "\u001b[1m\u001b[31mindex_no : 4340\n",
            "\u001b[1m\u001b[30mInput word: skhalan\n",
            "\u001b[1m\u001b[34mDecoded word: स्खलन\n",
            "\n",
            "\u001b[1m\u001b[32mTrue word: \tस्खलन\n",
            "\n",
            "\u001b[1m\u001b[30m--------------------\n",
            "\u001b[1m\u001b[31mindex_no : 676\n",
            "\u001b[1m\u001b[30mInput word: kanika\n",
            "\u001b[1m\u001b[34mDecoded word: कानिका\n",
            "\n",
            "\u001b[1m\u001b[32mTrue word: \tकणिका\n",
            "\n",
            "\u001b[1m\u001b[30m--------------------\n",
            "\u001b[1m\u001b[31mindex_no : 1237\n",
            "\u001b[1m\u001b[30mInput word: chhai\n",
            "\u001b[1m\u001b[34mDecoded word: छाई\n",
            "\n",
            "\u001b[1m\u001b[32mTrue word: \tछै\n",
            "\n",
            "\u001b[1m\u001b[30m--------------------\n"
          ]
        }
      ]
    },
    {
      "cell_type": "code",
      "metadata": {
        "id": "OAMQqJm_Hkqy"
      },
      "source": [
        "from google.colab import files\n",
        "uploaded = files.upload()"
      ],
      "execution_count": null,
      "outputs": []
    },
    {
      "cell_type": "code",
      "metadata": {
        "id": "ujbbVYrh71DU"
      },
      "source": [
        "def Plot_Words(index_list,predictions,ip_text,true_text,title):\n",
        "\n",
        "\n",
        "  fig, axs = plt.subplots(1, len(index_list),figsize=(14,3))\n",
        "\n",
        "  font_prop = FontProperties(fname = '/content/gourav.ttf',size=15)\n",
        "\n",
        "  \n",
        "  \n",
        " \n",
        "  \n",
        "  for i in range(len(index_list)):\n",
        "\n",
        "    axs[i].get_yaxis().set_visible(False)\n",
        "\n",
        "    axs[i].get_xaxis().set_visible(False)\n",
        "\n",
        "    \n",
        "\n",
        "    axs[i].text(0.2,0.2,true_text[index_list[i]][1:-1],\n",
        "                fontproperties = font_prop,bbox={'facecolor': 'olive', 'alpha': 0.5})\n",
        "    \n",
        "    axs[i].text(0.2,0.5,ip_text[index_list[i]])\n",
        "    \n",
        "    axs[i].text(0.2,0.7,predictions[i],\n",
        "                fontproperties = font_prop,bbox={'facecolor': 'orange', 'alpha': 0.5})\n",
        "    \n",
        "\n",
        "  plt.suptitle(title)\n",
        "  \n",
        "  plt.show()"
      ],
      "execution_count": null,
      "outputs": []
    },
    {
      "cell_type": "code",
      "metadata": {
        "colab": {
          "base_uri": "https://localhost:8080/",
          "height": 219
        },
        "id": "Z6LOcZSaFpOC",
        "outputId": "72c01eda-2d4e-4de6-fe7f-0dba4dd7a7d7"
      },
      "source": [
        "long_index_nos= [4123,1234,2112,2404,1244,1319]\n",
        "\n",
        "long_index_predictions = []\n",
        "for i in long_index_nos:\n",
        "  dec_seq =  decode_words(input_seq,, encoder_model, decoder_model)\n",
        "\n",
        "  if dec_seq[-1]=='\\n':\n",
        "\n",
        "    dec_seq = dec_seq[:-1]\n",
        "    \n",
        "  long_index_predictions.append(dec_seq)\n",
        "\n",
        "Plot_Words(long_index_nos ,long_index_predictions,en_ip_ts_text,de_ip_ts_text,'large sequences')"
      ],
      "execution_count": null,
      "outputs": [
        {
          "output_type": "display_data",
          "data": {
            "text/plain": [
              "<Figure size 1008x216 with 6 Axes>"
            ],
            "image/png": "[encoded data removed]"
          },
          "metadata": {
            "needs_background": "light"
          }
        }
      ]
    },
    {
      "cell_type": "code",
      "metadata": {
        "colab": {
          "base_uri": "https://localhost:8080/",
          "height": 219
        },
        "id": "5y1W58-5FuNU",
        "outputId": "46b11ac8-0ae5-473e-decf-e89ea85c87e3"
      },
      "source": [
        "vowel_conf_idx = [903,26,2234,1456,1456,2355]\n",
        "vowel_conf_predictions = []\n",
        "for i in vowel_conf_idx:\n",
        "  dec_seq =  decode_words(input_seq, encoder_model, decoder_model)\n",
        "  if dec_seq[-1]=='\\n':\n",
        "    dec_seq = dec_seq[:-1]\n",
        "  vowel_conf_predictions.append(dec_seq)\n",
        "Plot_Words(vowel_conf_idx,vowel_conf_predictions,en_ip_ts_text,de_ip_ts_text,'vowels_confusion')"
      ],
      "execution_count": null,
      "outputs": [
        {
          "output_type": "display_data",
          "data": {
            "text/plain": [
              "<Figure size 1008x216 with 6 Axes>"
            ],
            "image/png": "[encoded data removed]"
          },
          "metadata": {
            "needs_background": "light"
          }
        }
      ]
    },
    {
      "cell_type": "code",
      "metadata": {
        "id": "mdVfzZQheOz8"
      },
      "source": [
        ""
      ],
      "execution_count": null,
      "outputs": []
    },
    {
      "cell_type": "code",
      "metadata": {
        "id": "m-l1nROYF1pc"
      },
      "source": [
        "ground_truth = []\n",
        "queries = []\n",
        "outputs = []\n",
        "\n",
        "random_indices = [np.random.randint(0, M_test) for i in range(9)]\n",
        "\n",
        "fig = plt.figure(figsize=(10,10))\n",
        "\n",
        "index=1\n",
        "for i in random_indices:\n",
        "\n",
        "    query = test_encoder_input_array[i:i+1]\n",
        "\n",
        "    decoded_word,attention = inferenceLSTM(query,encoder_model,decoder_model)\n",
        "\n",
        "    attention = np.array(attention)\n",
        "    plt.subplot(3,3,index)\n",
        "    plt.imshow(attention.reshape(attention.shape[0],attention.shape[-1])[:,:attention.shape[0]],cmap=\"Blues\")\n",
        "\n",
        "    plt.xticks(range(attention.shape[0]),decoded_word,fontproperties=FontProperties(fname = 'gourav.ttf'))\n",
        "\n",
        "    plt.yticks(range(attention.shape[0]),test_input_words[i])\n",
        "\n",
        "    queries.append(test_input_words[i])\n",
        "    \n",
        "    outputs.append(decoded_word.strip(\"\\n\"))\n",
        "\n",
        "    ground_truth.append(test_target_words[i][1:-1]) \n",
        "    index+=1\n",
        "plt.show()\n",
        "\n",
        "df_train = pd.DataFrame({\"Input\": queries, \"Ground Truth\" : ground_truth, \"Model output\":outputs})\n",
        "df_train"
      ],
      "execution_count": null,
      "outputs": []
    },
    {
      "cell_type": "code",
      "metadata": {
        "colab": {
          "base_uri": "https://localhost:8080/",
          "height": 935
        },
        "id": "wyhi8rEToZKY",
        "outputId": "12cda27f-6372-4cd6-d84d-4bbea359728a"
      },
      "source": [
        ""
      ],
      "execution_count": null,
      "outputs": [
        {
          "output_type": "display_data",
          "data": {
            "text/plain": [
              "<Figure size 1440x1080 with 9 Axes>"
            ],
            "image/png": "[encoded data removed]"
          },
          "metadata": {
            "needs_background": "light"
          }
        }
      ]
    },
    {
      "cell_type": "markdown",
      "metadata": {
        "id": "AdPxRIL3Jvv_"
      },
      "source": [
        "<h2>Visualization</h2>"
      ]
    },
    {
      "cell_type": "code",
      "metadata": {
        "colab": {
          "base_uri": "https://localhost:8080/",
          "height": 1000
        },
        "id": "VXnLCIT9J9U0",
        "outputId": "d3736b83-5b26-44ea-d14c-7562aa6cb564"
      },
      "source": [
        "import warnings\n",
        "import cv2 as cv\n",
        "#!pip install moviepy\n",
        "from moviepy.editor import ImageSequenceClip\n",
        "\n",
        "\n",
        "\n",
        "for num in range(9):\n",
        "  word = df_train.iloc[num,2]\n",
        "  print(word)\n",
        "  frames =[]\n",
        "\n",
        "  org = df_train.iloc[num,0]\n",
        "  \n",
        "  warnings.filterwarnings('ignore')\n",
        "\n",
        "  for i in range(len(word)):\n",
        "    plt.text(0,0.9,word,fontproperties=FontProperties(fname = 'gourav.ttf'),fontsize = 30)\n",
        "\n",
        "    plt.text(0.9,0.9,word[i],fontproperties=FontProperties(fname = 'gourav.ttf'),fontsize = 30)\n",
        "\n",
        "    plt.axis('off')\n",
        "\n",
        "    alphas = attentions[num][i]\n",
        "\n",
        "    for j in range(len(org)):\n",
        "      t=plt.text(0.5*(j/6),0.5,org[j],fontsize=30)\n",
        "\n",
        "      t.set_bbox(dict(facecolor='blue', alpha=alphas[j], edgecolor='blue'))\n",
        "\n",
        "    plt.savefig('save.png')\n",
        "\n",
        "    plt.show()\n",
        "\n",
        "    frames.append(cv.cvtColor(cv.imread('save.png'), cv.COLOR_BGR2RGB ))  \n",
        "\n",
        "  clip = ImageSequenceClip(frames, fps=5)\n",
        "\n",
        "  clip.write_gif('save' + str(num)+'.gif', fps=5)"
      ],
      "execution_count": null,
      "outputs": [
        {
          "output_type": "stream",
          "name": "stdout",
          "text": [
            "ठ\n"
          ]
        },
        {
          "output_type": "display_data",
          "data": {
            "text/plain": [
              "<IPython.core.display.HTML object>"
            ],
            "text/html": [
              "<text style=color:#000;background-color:#f9d4d4>t </text><text style=color:#000;background-color:#f9d4d4>h </text><text style=color:#000;background-color:#f47676>u </text><text style=color:#000;background-color:#f9d4d4>m </text><text style=color:#000;background-color:#f9d4d4>r </text><text style=color:#000;background-color:#f9d4d4>i </text>"
            ]
          },
          "metadata": {}
        },
        {
          "output_type": "stream",
          "name": "stdout",
          "text": [
            "म\n"
          ]
        },
        {
          "output_type": "display_data",
          "data": {
            "text/plain": [
              "<IPython.core.display.HTML object>"
            ],
            "text/html": [
              "<text style=color:#000;background-color:#f9d4d4>t </text><text style=color:#000;background-color:#f9d4d4>h </text><text style=color:#000;background-color:#f9d4d4>u </text><text style=color:#000;background-color:#f9d4d4>m </text><text style=color:#000;background-color:#f68f8f>r </text><text style=color:#000;background-color:#f9d4d4>i </text>"
            ]
          },
          "metadata": {}
        },
        {
          "output_type": "stream",
          "name": "stdout",
          "text": [
            "र\n"
          ]
        },
        {
          "output_type": "display_data",
          "data": {
            "text/plain": [
              "<IPython.core.display.HTML object>"
            ],
            "text/html": [
              "<text style=color:#000;background-color:#f9d4d4>t </text><text style=color:#000;background-color:#f9d4d4>h </text><text style=color:#000;background-color:#f9d4d4>u </text><text style=color:#000;background-color:#f9d4d4>m </text><text style=color:#000;background-color:#f9d4d4>r </text><text style=color:#000;background-color:#f47676>i </text>"
            ]
          },
          "metadata": {}
        },
        {
          "output_type": "stream",
          "name": "stdout",
          "text": [
            "ी\n"
          ]
        },
        {
          "output_type": "display_data",
          "data": {
            "text/plain": [
              "<IPython.core.display.HTML object>"
            ],
            "text/html": [
              "<text style=color:#000;background-color:#f9d4d4>t </text><text style=color:#000;background-color:#f9d4d4>h </text><text style=color:#000;background-color:#f9d4d4>u </text><text style=color:#000;background-color:#f9d4d4>m </text><text style=color:#000;background-color:#f9d4d4>r </text><text style=color:#000;background-color:#f9d4d4>i </text>"
            ]
          },
          "metadata": {}
        },
        {
          "output_type": "stream",
          "name": "stdout",
          "text": [
            "--------------------\n",
            "द\n"
          ]
        },
        {
          "output_type": "display_data",
          "data": {
            "text/plain": [
              "<IPython.core.display.HTML object>"
            ],
            "text/html": [
              "<text style=color:#000;background-color:#f9d4d4>d </text><text style=color:#000;background-color:#f47676>a </text><text style=color:#000;background-color:#f9d4d4>n </text><text style=color:#000;background-color:#f9d4d4>p </text><text style=color:#000;background-color:#f9d4d4>a </text><text style=color:#000;background-color:#f9d4d4>t </text><text style=color:#000;background-color:#f9d4d4>i </text>"
            ]
          },
          "metadata": {}
        },
        {
          "output_type": "stream",
          "name": "stdout",
          "text": [
            "न\n"
          ]
        },
        {
          "output_type": "display_data",
          "data": {
            "text/plain": [
              "<IPython.core.display.HTML object>"
            ],
            "text/html": [
              "<text style=color:#000;background-color:#f9d4d4>d </text><text style=color:#000;background-color:#f9d4d4>a </text><text style=color:#000;background-color:#f9d4d4>n </text><text style=color:#000;background-color:#f47676>p </text><text style=color:#000;background-color:#f9d4d4>a </text><text style=color:#000;background-color:#f9d4d4>t </text><text style=color:#000;background-color:#f9d4d4>i </text>"
            ]
          },
          "metadata": {}
        },
        {
          "output_type": "stream",
          "name": "stdout",
          "text": [
            "प\n"
          ]
        },
        {
          "output_type": "display_data",
          "data": {
            "text/plain": [
              "<IPython.core.display.HTML object>"
            ],
            "text/html": [
              "<text style=color:#000;background-color:#f9d4d4>d </text><text style=color:#000;background-color:#f9d4d4>a </text><text style=color:#000;background-color:#f9d4d4>n </text><text style=color:#000;background-color:#f9d4d4>p </text><text style=color:#000;background-color:#f47676>a </text><text style=color:#000;background-color:#f9d4d4>t </text><text style=color:#000;background-color:#f9d4d4>i </text>"
            ]
          },
          "metadata": {}
        },
        {
          "output_type": "stream",
          "name": "stdout",
          "text": [
            "त\n"
          ]
        },
        {
          "output_type": "display_data",
          "data": {
            "text/plain": [
              "<IPython.core.display.HTML object>"
            ],
            "text/html": [
              "<text style=color:#000;background-color:#f9d4d4>d </text><text style=color:#000;background-color:#f9d4d4>a </text><text style=color:#000;background-color:#f9d4d4>n </text><text style=color:#000;background-color:#f9d4d4>p </text><text style=color:#000;background-color:#f9d4d4>a </text><text style=color:#000;background-color:#f9d4d4>t </text><text style=color:#000;background-color:#f47676>i </text>"
            ]
          },
          "metadata": {}
        },
        {
          "output_type": "stream",
          "name": "stdout",
          "text": [
            "ी\n"
          ]
        },
        {
          "output_type": "display_data",
          "data": {
            "text/plain": [
              "<IPython.core.display.HTML object>"
            ],
            "text/html": [
              "<text style=color:#000;background-color:#f9d4d4>d </text><text style=color:#000;background-color:#f9d4d4>a </text><text style=color:#000;background-color:#f9d4d4>n </text><text style=color:#000;background-color:#f9d4d4>p </text><text style=color:#000;background-color:#f9d4d4>a </text><text style=color:#000;background-color:#f9d4d4>t </text><text style=color:#000;background-color:#f9d4d4>i </text>"
            ]
          },
          "metadata": {}
        },
        {
          "output_type": "stream",
          "name": "stdout",
          "text": [
            "--------------------\n",
            "द\n"
          ]
        },
        {
          "output_type": "display_data",
          "data": {
            "text/plain": [
              "<IPython.core.display.HTML object>"
            ],
            "text/html": [
              "<text style=color:#000;background-color:#f9d4d4>d </text><text style=color:#000;background-color:#f47676>a </text><text style=color:#000;background-color:#f9d4d4>t </text><text style=color:#000;background-color:#f9d4d4>a </text>"
            ]
          },
          "metadata": {}
        },
        {
          "output_type": "stream",
          "name": "stdout",
          "text": [
            "ा\n"
          ]
        },
        {
          "output_type": "display_data",
          "data": {
            "text/plain": [
              "<IPython.core.display.HTML object>"
            ],
            "text/html": [
              "<text style=color:#000;background-color:#f9d4d4>d </text><text style=color:#000;background-color:#f9d4d4>a </text><text style=color:#000;background-color:#f9d4d4>t </text><text style=color:#000;background-color:#f68f8f>a </text>"
            ]
          },
          "metadata": {}
        },
        {
          "output_type": "stream",
          "name": "stdout",
          "text": [
            "त\n"
          ]
        },
        {
          "output_type": "display_data",
          "data": {
            "text/plain": [
              "<IPython.core.display.HTML object>"
            ],
            "text/html": [
              "<text style=color:#000;background-color:#f9d4d4>d </text><text style=color:#000;background-color:#f9d4d4>a </text><text style=color:#000;background-color:#f9d4d4>t </text><text style=color:#000;background-color:#f47676>a </text>"
            ]
          },
          "metadata": {}
        },
        {
          "output_type": "stream",
          "name": "stdout",
          "text": [
            "ा\n"
          ]
        },
        {
          "output_type": "display_data",
          "data": {
            "text/plain": [
              "<IPython.core.display.HTML object>"
            ],
            "text/html": [
              "<text style=color:#000;background-color:#f9d4d4>d </text><text style=color:#000;background-color:#f9d4d4>a </text><text style=color:#000;background-color:#f9d4d4>t </text><text style=color:#000;background-color:#f9d4d4>a </text>"
            ]
          },
          "metadata": {}
        },
        {
          "output_type": "stream",
          "name": "stdout",
          "text": [
            "--------------------\n",
            "क\n"
          ]
        },
        {
          "output_type": "display_data",
          "data": {
            "text/plain": [
              "<IPython.core.display.HTML object>"
            ],
            "text/html": [
              "<text style=color:#000;background-color:#f9d4d4>k </text><text style=color:#000;background-color:#f47676>a </text><text style=color:#000;background-color:#f9d4d4>u </text><text style=color:#000;background-color:#f9d4d4>s </text><text style=color:#000;background-color:#f9d4d4>h </text><text style=color:#000;background-color:#f9d4d4>a </text><text style=color:#000;background-color:#f9d4d4>l </text><text style=color:#000;background-color:#f9d4d4>a </text><text style=color:#000;background-color:#f9d4d4>t </text><text style=color:#000;background-color:#f9d4d4>a </text>"
            ]
          },
          "metadata": {}
        },
        {
          "output_type": "stream",
          "name": "stdout",
          "text": [
            "ौ\n"
          ]
        },
        {
          "output_type": "display_data",
          "data": {
            "text/plain": [
              "<IPython.core.display.HTML object>"
            ],
            "text/html": [
              "<text style=color:#000;background-color:#f9d4d4>k </text><text style=color:#000;background-color:#f9d4d4>a </text><text style=color:#000;background-color:#f9d4d4>u </text><text style=color:#000;background-color:#f47676>s </text><text style=color:#000;background-color:#f9d4d4>h </text><text style=color:#000;background-color:#f9d4d4>a </text><text style=color:#000;background-color:#f9d4d4>l </text><text style=color:#000;background-color:#f9d4d4>a </text><text style=color:#000;background-color:#f9d4d4>t </text><text style=color:#000;background-color:#f9d4d4>a </text>"
            ]
          },
          "metadata": {}
        },
        {
          "output_type": "stream",
          "name": "stdout",
          "text": [
            "श\n"
          ]
        },
        {
          "output_type": "display_data",
          "data": {
            "text/plain": [
              "<IPython.core.display.HTML object>"
            ],
            "text/html": [
              "<text style=color:#000;background-color:#f9d4d4>k </text><text style=color:#000;background-color:#f9d4d4>a </text><text style=color:#000;background-color:#f9d4d4>u </text><text style=color:#000;background-color:#f9d4d4>s </text><text style=color:#000;background-color:#f8a8a8>h </text><text style=color:#000;background-color:#f8a8a8>a </text><text style=color:#000;background-color:#f9d4d4>l </text><text style=color:#000;background-color:#f9d4d4>a </text><text style=color:#000;background-color:#f9d4d4>t </text><text style=color:#000;background-color:#f9d4d4>a </text>"
            ]
          },
          "metadata": {}
        },
        {
          "output_type": "stream",
          "name": "stdout",
          "text": [
            "ल\n"
          ]
        },
        {
          "output_type": "display_data",
          "data": {
            "text/plain": [
              "<IPython.core.display.HTML object>"
            ],
            "text/html": [
              "<text style=color:#000;background-color:#f9d4d4>k </text><text style=color:#000;background-color:#f9d4d4>a </text><text style=color:#000;background-color:#f9d4d4>u </text><text style=color:#000;background-color:#f9d4d4>s </text><text style=color:#000;background-color:#f9d4d4>h </text><text style=color:#000;background-color:#f9d4d4>a </text><text style=color:#000;background-color:#f9d4d4>l </text><text style=color:#000;background-color:#f47676>a </text><text style=color:#000;background-color:#f9d4d4>t </text><text style=color:#000;background-color:#f9d4d4>a </text>"
            ]
          },
          "metadata": {}
        },
        {
          "output_type": "stream",
          "name": "stdout",
          "text": [
            "त\n"
          ]
        },
        {
          "output_type": "display_data",
          "data": {
            "text/plain": [
              "<IPython.core.display.HTML object>"
            ],
            "text/html": [
              "<text style=color:#000;background-color:#f9d4d4>k </text><text style=color:#000;background-color:#f9d4d4>a </text><text style=color:#000;background-color:#f9d4d4>u </text><text style=color:#000;background-color:#f9d4d4>s </text><text style=color:#000;background-color:#f9d4d4>h </text><text style=color:#000;background-color:#f9d4d4>a </text><text style=color:#000;background-color:#f9d4d4>l </text><text style=color:#000;background-color:#f9d4d4>a </text><text style=color:#000;background-color:#f9d4d4>t </text><text style=color:#000;background-color:#f68f8f>a </text>"
            ]
          },
          "metadata": {}
        },
        {
          "output_type": "stream",
          "name": "stdout",
          "text": [
            "ा\n"
          ]
        },
        {
          "output_type": "display_data",
          "data": {
            "text/plain": [
              "<IPython.core.display.HTML object>"
            ],
            "text/html": [
              "<text style=color:#000;background-color:#f9d4d4>k </text><text style=color:#000;background-color:#f9d4d4>a </text><text style=color:#000;background-color:#f9d4d4>u </text><text style=color:#000;background-color:#f9d4d4>s </text><text style=color:#000;background-color:#f9d4d4>h </text><text style=color:#000;background-color:#f9d4d4>a </text><text style=color:#000;background-color:#f9d4d4>l </text><text style=color:#000;background-color:#f9d4d4>a </text><text style=color:#000;background-color:#f9d4d4>t </text><text style=color:#000;background-color:#f9d4d4>a </text>"
            ]
          },
          "metadata": {}
        },
        {
          "output_type": "stream",
          "name": "stdout",
          "text": [
            "--------------------\n",
            "न\n"
          ]
        },
        {
          "output_type": "display_data",
          "data": {
            "text/plain": [
              "<IPython.core.display.HTML object>"
            ],
            "text/html": [
              "<text style=color:#000;background-color:#f9d4d4>n </text><text style=color:#000;background-color:#f47676>i </text><text style=color:#000;background-color:#f9d4d4>l </text><text style=color:#000;background-color:#f9d4d4>a </text><text style=color:#000;background-color:#f9d4d4>a </text><text style=color:#000;background-color:#f9d4d4>b </text><text style=color:#000;background-color:#f9d4d4>h </text>"
            ]
          },
          "metadata": {}
        },
        {
          "output_type": "stream",
          "name": "stdout",
          "text": [
            "ि\n"
          ]
        },
        {
          "output_type": "display_data",
          "data": {
            "text/plain": [
              "<IPython.core.display.HTML object>"
            ],
            "text/html": [
              "<text style=color:#000;background-color:#f9d4d4>n </text><text style=color:#000;background-color:#f9d4d4>i </text><text style=color:#000;background-color:#f8a8a8>l </text><text style=color:#000;background-color:#f8a8a8>a </text><text style=color:#000;background-color:#f9d4d4>a </text><text style=color:#000;background-color:#f9d4d4>b </text><text style=color:#000;background-color:#f9d4d4>h </text>"
            ]
          },
          "metadata": {}
        },
        {
          "output_type": "stream",
          "name": "stdout",
          "text": [
            "ल\n"
          ]
        },
        {
          "output_type": "display_data",
          "data": {
            "text/plain": [
              "<IPython.core.display.HTML object>"
            ],
            "text/html": [
              "<text style=color:#000;background-color:#f9d4d4>n </text><text style=color:#000;background-color:#f9d4d4>i </text><text style=color:#000;background-color:#f9d4d4>l </text><text style=color:#000;background-color:#f47676>a </text><text style=color:#000;background-color:#f9d4d4>a </text><text style=color:#000;background-color:#f9d4d4>b </text><text style=color:#000;background-color:#f9d4d4>h </text>"
            ]
          },
          "metadata": {}
        },
        {
          "output_type": "stream",
          "name": "stdout",
          "text": [
            "ा\n"
          ]
        },
        {
          "output_type": "display_data",
          "data": {
            "text/plain": [
              "<IPython.core.display.HTML object>"
            ],
            "text/html": [
              "<text style=color:#000;background-color:#f9d4d4>n </text><text style=color:#000;background-color:#f9d4d4>i </text><text style=color:#000;background-color:#f9d4d4>l </text><text style=color:#000;background-color:#f9d4d4>a </text><text style=color:#000;background-color:#f9d4d4>a </text><text style=color:#000;background-color:#f68f8f>b </text><text style=color:#000;background-color:#f9d4d4>h </text>"
            ]
          },
          "metadata": {}
        },
        {
          "output_type": "stream",
          "name": "stdout",
          "text": [
            "भ\n"
          ]
        },
        {
          "output_type": "display_data",
          "data": {
            "text/plain": [
              "<IPython.core.display.HTML object>"
            ],
            "text/html": [
              "<text style=color:#000;background-color:#f9d4d4>n </text><text style=color:#000;background-color:#f9d4d4>i </text><text style=color:#000;background-color:#f9d4d4>l </text><text style=color:#000;background-color:#f9d4d4>a </text><text style=color:#000;background-color:#f9d4d4>a </text><text style=color:#000;background-color:#f9d4d4>b </text><text style=color:#000;background-color:#f47676>h </text>"
            ]
          },
          "metadata": {}
        },
        {
          "output_type": "stream",
          "name": "stdout",
          "text": [
            "--------------------\n",
            "ग\n"
          ]
        },
        {
          "output_type": "display_data",
          "data": {
            "text/plain": [
              "<IPython.core.display.HTML object>"
            ],
            "text/html": [
              "<text style=color:#000;background-color:#f9d4d4>g </text><text style=color:#000;background-color:#f47676>o </text><text style=color:#000;background-color:#f9d4d4>y </text><text style=color:#000;background-color:#f9d4d4>a </text><text style=color:#000;background-color:#f9d4d4>l </text>"
            ]
          },
          "metadata": {}
        },
        {
          "output_type": "stream",
          "name": "stdout",
          "text": [
            "ो\n"
          ]
        },
        {
          "output_type": "display_data",
          "data": {
            "text/plain": [
              "<IPython.core.display.HTML object>"
            ],
            "text/html": [
              "<text style=color:#000;background-color:#f9d4d4>g </text><text style=color:#000;background-color:#f9d4d4>o </text><text style=color:#000;background-color:#f9d4d4>y </text><text style=color:#000;background-color:#f47676>a </text><text style=color:#000;background-color:#f9d4d4>l </text>"
            ]
          },
          "metadata": {}
        },
        {
          "output_type": "stream",
          "name": "stdout",
          "text": [
            "य\n"
          ]
        },
        {
          "output_type": "display_data",
          "data": {
            "text/plain": [
              "<IPython.core.display.HTML object>"
            ],
            "text/html": [
              "<text style=color:#000;background-color:#f9d4d4>g </text><text style=color:#000;background-color:#f9d4d4>o </text><text style=color:#000;background-color:#f9d4d4>y </text><text style=color:#000;background-color:#f68f8f>a </text><text style=color:#000;background-color:#f9bdbd>l </text>"
            ]
          },
          "metadata": {}
        },
        {
          "output_type": "stream",
          "name": "stdout",
          "text": [
            "ल\n"
          ]
        },
        {
          "output_type": "display_data",
          "data": {
            "text/plain": [
              "<IPython.core.display.HTML object>"
            ],
            "text/html": [
              "<text style=color:#000;background-color:#f9d4d4>g </text><text style=color:#000;background-color:#f9d4d4>o </text><text style=color:#000;background-color:#f9d4d4>y </text><text style=color:#000;background-color:#f9d4d4>a </text><text style=color:#000;background-color:#f9d4d4>l </text>"
            ]
          },
          "metadata": {}
        },
        {
          "output_type": "stream",
          "name": "stdout",
          "text": [
            "--------------------\n",
            "र\n"
          ]
        },
        {
          "output_type": "display_data",
          "data": {
            "text/plain": [
              "<IPython.core.display.HTML object>"
            ],
            "text/html": [
              "<text style=color:#000;background-color:#f9d4d4>r </text><text style=color:#000;background-color:#f47676>o </text><text style=color:#000;background-color:#f9d4d4>u </text><text style=color:#000;background-color:#f9d4d4>n </text><text style=color:#000;background-color:#f9d4d4>d </text><text style=color:#000;background-color:#f9d4d4>e </text><text style=color:#000;background-color:#f9d4d4>r </text>"
            ]
          },
          "metadata": {}
        },
        {
          "output_type": "stream",
          "name": "stdout",
          "text": [
            "ा\n"
          ]
        },
        {
          "output_type": "display_data",
          "data": {
            "text/plain": [
              "<IPython.core.display.HTML object>"
            ],
            "text/html": [
              "<text style=color:#000;background-color:#f9d4d4>r </text><text style=color:#000;background-color:#f9d4d4>o </text><text style=color:#000;background-color:#f9d4d4>u </text><text style=color:#000;background-color:#f9d4d4>n </text><text style=color:#000;background-color:#f47676>d </text><text style=color:#000;background-color:#f9d4d4>e </text><text style=color:#000;background-color:#f9d4d4>r </text>"
            ]
          },
          "metadata": {}
        },
        {
          "output_type": "stream",
          "name": "stdout",
          "text": [
            "उ\n"
          ]
        },
        {
          "output_type": "display_data",
          "data": {
            "text/plain": [
              "<IPython.core.display.HTML object>"
            ],
            "text/html": [
              "<text style=color:#000;background-color:#f9d4d4>r </text><text style=color:#000;background-color:#f9d4d4>o </text><text style=color:#000;background-color:#f9d4d4>u </text><text style=color:#000;background-color:#f9bdbd>n </text><text style=color:#000;background-color:#f68f8f>d </text><text style=color:#000;background-color:#f9d4d4>e </text><text style=color:#000;background-color:#f9d4d4>r </text>"
            ]
          },
          "metadata": {}
        },
        {
          "output_type": "stream",
          "name": "stdout",
          "text": [
            "ं\n"
          ]
        },
        {
          "output_type": "display_data",
          "data": {
            "text/plain": [
              "<IPython.core.display.HTML object>"
            ],
            "text/html": [
              "<text style=color:#000;background-color:#f9d4d4>r </text><text style=color:#000;background-color:#f9d4d4>o </text><text style=color:#000;background-color:#f9d4d4>u </text><text style=color:#000;background-color:#f9d4d4>n </text><text style=color:#000;background-color:#f47676>d </text><text style=color:#000;background-color:#f9d4d4>e </text><text style=color:#000;background-color:#f9d4d4>r </text>"
            ]
          },
          "metadata": {}
        },
        {
          "output_type": "stream",
          "name": "stdout",
          "text": [
            "ड\n"
          ]
        },
        {
          "output_type": "display_data",
          "data": {
            "text/plain": [
              "<IPython.core.display.HTML object>"
            ],
            "text/html": [
              "<text style=color:#000;background-color:#f9d4d4>r </text><text style=color:#000;background-color:#f9d4d4>o </text><text style=color:#000;background-color:#f9d4d4>u </text><text style=color:#000;background-color:#f9d4d4>n </text><text style=color:#000;background-color:#f9d4d4>d </text><text style=color:#000;background-color:#f47676>e </text><text style=color:#000;background-color:#f9d4d4>r </text>"
            ]
          },
          "metadata": {}
        },
        {
          "output_type": "stream",
          "name": "stdout",
          "text": [
            "र\n"
          ]
        },
        {
          "output_type": "display_data",
          "data": {
            "text/plain": [
              "<IPython.core.display.HTML object>"
            ],
            "text/html": [
              "<text style=color:#000;background-color:#f9d4d4>r </text><text style=color:#000;background-color:#f9d4d4>o </text><text style=color:#000;background-color:#f9d4d4>u </text><text style=color:#000;background-color:#f9d4d4>n </text><text style=color:#000;background-color:#f9d4d4>d </text><text style=color:#000;background-color:#f9d4d4>e </text><text style=color:#000;background-color:#f9d4d4>r </text>"
            ]
          },
          "metadata": {}
        },
        {
          "output_type": "stream",
          "name": "stdout",
          "text": [
            "--------------------\n",
            "य\n"
          ]
        },
        {
          "output_type": "display_data",
          "data": {
            "text/plain": [
              "<IPython.core.display.HTML object>"
            ],
            "text/html": [
              "<text style=color:#000;background-color:#f9d4d4>y </text><text style=color:#000;background-color:#f47676>a </text><text style=color:#000;background-color:#f9d4d4>a </text><text style=color:#000;background-color:#f9d4d4>r </text><text style=color:#000;background-color:#f9d4d4>i </text><text style=color:#000;background-color:#f9d4d4>y </text><text style=color:#000;background-color:#f9d4d4>a </text><text style=color:#000;background-color:#f9d4d4>n </text>"
            ]
          },
          "metadata": {}
        },
        {
          "output_type": "stream",
          "name": "stdout",
          "text": [
            "ा\n"
          ]
        },
        {
          "output_type": "display_data",
          "data": {
            "text/plain": [
              "<IPython.core.display.HTML object>"
            ],
            "text/html": [
              "<text style=color:#000;background-color:#f9d4d4>y </text><text style=color:#000;background-color:#f9d4d4>a </text><text style=color:#000;background-color:#f9d4d4>a </text><text style=color:#000;background-color:#f9bdbd>r </text><text style=color:#000;background-color:#f8a8a8>i </text><text style=color:#000;background-color:#f9d4d4>y </text><text style=color:#000;background-color:#f9d4d4>a </text><text style=color:#000;background-color:#f9d4d4>n </text>"
            ]
          },
          "metadata": {}
        },
        {
          "output_type": "stream",
          "name": "stdout",
          "text": [
            "र\n"
          ]
        },
        {
          "output_type": "display_data",
          "data": {
            "text/plain": [
              "<IPython.core.display.HTML object>"
            ],
            "text/html": [
              "<text style=color:#000;background-color:#f9d4d4>y </text><text style=color:#000;background-color:#f9d4d4>a </text><text style=color:#000;background-color:#f9d4d4>a </text><text style=color:#000;background-color:#f9d4d4>r </text><text style=color:#000;background-color:#f47676>i </text><text style=color:#000;background-color:#f9d4d4>y </text><text style=color:#000;background-color:#f9d4d4>a </text><text style=color:#000;background-color:#f9d4d4>n </text>"
            ]
          },
          "metadata": {}
        },
        {
          "output_type": "stream",
          "name": "stdout",
          "text": [
            "ि\n"
          ]
        },
        {
          "output_type": "display_data",
          "data": {
            "text/plain": [
              "<IPython.core.display.HTML object>"
            ],
            "text/html": [
              "<text style=color:#000;background-color:#f9d4d4>y </text><text style=color:#000;background-color:#f9d4d4>a </text><text style=color:#000;background-color:#f9d4d4>a </text><text style=color:#000;background-color:#f9d4d4>r </text><text style=color:#000;background-color:#f9d4d4>i </text><text style=color:#000;background-color:#f8a8a8>y </text><text style=color:#000;background-color:#f8a8a8>a </text><text style=color:#000;background-color:#f9d4d4>n </text>"
            ]
          },
          "metadata": {}
        },
        {
          "output_type": "stream",
          "name": "stdout",
          "text": [
            "य\n"
          ]
        },
        {
          "output_type": "display_data",
          "data": {
            "text/plain": [
              "<IPython.core.display.HTML object>"
            ],
            "text/html": [
              "<text style=color:#000;background-color:#f9d4d4>y </text><text style=color:#000;background-color:#f9d4d4>a </text><text style=color:#000;background-color:#f9d4d4>a </text><text style=color:#000;background-color:#f9d4d4>r </text><text style=color:#000;background-color:#f9d4d4>i </text><text style=color:#000;background-color:#f9d4d4>y </text><text style=color:#000;background-color:#f9bdbd>a </text><text style=color:#000;background-color:#f8a8a8>n </text>"
            ]
          },
          "metadata": {}
        },
        {
          "output_type": "stream",
          "name": "stdout",
          "text": [
            "ा\n"
          ]
        },
        {
          "output_type": "display_data",
          "data": {
            "text/plain": [
              "<IPython.core.display.HTML object>"
            ],
            "text/html": [
              "<text style=color:#000;background-color:#f9d4d4>y </text><text style=color:#000;background-color:#f9d4d4>a </text><text style=color:#000;background-color:#f9d4d4>a </text><text style=color:#000;background-color:#f9d4d4>r </text><text style=color:#000;background-color:#f9d4d4>i </text><text style=color:#000;background-color:#f9d4d4>y </text><text style=color:#000;background-color:#f9d4d4>a </text><text style=color:#000;background-color:#f9d4d4>n </text>"
            ]
          },
          "metadata": {}
        },
        {
          "output_type": "stream",
          "name": "stdout",
          "text": [
            "ं\n"
          ]
        },
        {
          "output_type": "display_data",
          "data": {
            "text/plain": [
              "<IPython.core.display.HTML object>"
            ],
            "text/html": [
              "<text style=color:#000;background-color:#f9d4d4>y </text><text style=color:#000;background-color:#f9d4d4>a </text><text style=color:#000;background-color:#f9d4d4>a </text><text style=color:#000;background-color:#f9d4d4>r </text><text style=color:#000;background-color:#f9d4d4>i </text><text style=color:#000;background-color:#f9d4d4>y </text><text style=color:#000;background-color:#f9d4d4>a </text><text style=color:#000;background-color:#f9d4d4>n </text>"
            ]
          },
          "metadata": {}
        },
        {
          "output_type": "stream",
          "name": "stdout",
          "text": [
            "--------------------\n",
            "इ\n"
          ]
        },
        {
          "output_type": "display_data",
          "data": {
            "text/plain": [
              "<IPython.core.display.HTML object>"
            ],
            "text/html": [
              "<text style=color:#000;background-color:#f9d4d4>e </text><text style=color:#000;background-color:#f47676>n </text><text style=color:#000;background-color:#f9d4d4>d </text><text style=color:#000;background-color:#f9d4d4>o </text><text style=color:#000;background-color:#f9d4d4>m </text><text style=color:#000;background-color:#f9d4d4>e </text><text style=color:#000;background-color:#f9d4d4>t </text><text style=color:#000;background-color:#f9d4d4>r </text><text style=color:#000;background-color:#f9d4d4>i </text><text style=color:#000;background-color:#f9d4d4>a </text><text style=color:#000;background-color:#f9d4d4>l </text>"
            ]
          },
          "metadata": {}
        },
        {
          "output_type": "stream",
          "name": "stdout",
          "text": [
            "ं\n"
          ]
        },
        {
          "output_type": "display_data",
          "data": {
            "text/plain": [
              "<IPython.core.display.HTML object>"
            ],
            "text/html": [
              "<text style=color:#000;background-color:#f9d4d4>e </text><text style=color:#000;background-color:#f9d4d4>n </text><text style=color:#000;background-color:#f47676>d </text><text style=color:#000;background-color:#f9d4d4>o </text><text style=color:#000;background-color:#f9d4d4>m </text><text style=color:#000;background-color:#f9d4d4>e </text><text style=color:#000;background-color:#f9d4d4>t </text><text style=color:#000;background-color:#f9d4d4>r </text><text style=color:#000;background-color:#f9d4d4>i </text><text style=color:#000;background-color:#f9d4d4>a </text><text style=color:#000;background-color:#f9d4d4>l </text>"
            ]
          },
          "metadata": {}
        },
        {
          "output_type": "stream",
          "name": "stdout",
          "text": [
            "ड\n"
          ]
        },
        {
          "output_type": "display_data",
          "data": {
            "text/plain": [
              "<IPython.core.display.HTML object>"
            ],
            "text/html": [
              "<text style=color:#000;background-color:#f9d4d4>e </text><text style=color:#000;background-color:#f9d4d4>n </text><text style=color:#000;background-color:#f9d4d4>d </text><text style=color:#000;background-color:#f47676>o </text><text style=color:#000;background-color:#f9d4d4>m </text><text style=color:#000;background-color:#f9d4d4>e </text><text style=color:#000;background-color:#f9d4d4>t </text><text style=color:#000;background-color:#f9d4d4>r </text><text style=color:#000;background-color:#f9d4d4>i </text><text style=color:#000;background-color:#f9d4d4>a </text><text style=color:#000;background-color:#f9d4d4>l </text>"
            ]
          },
          "metadata": {}
        },
        {
          "output_type": "stream",
          "name": "stdout",
          "text": [
            "ो\n"
          ]
        },
        {
          "output_type": "display_data",
          "data": {
            "text/plain": [
              "<IPython.core.display.HTML object>"
            ],
            "text/html": [
              "<text style=color:#000;background-color:#f9d4d4>e </text><text style=color:#000;background-color:#f9d4d4>n </text><text style=color:#000;background-color:#f9d4d4>d </text><text style=color:#000;background-color:#f9d4d4>o </text><text style=color:#000;background-color:#f8a8a8>m </text><text style=color:#000;background-color:#f8a8a8>e </text><text style=color:#000;background-color:#f9d4d4>t </text><text style=color:#000;background-color:#f9d4d4>r </text><text style=color:#000;background-color:#f9d4d4>i </text><text style=color:#000;background-color:#f9d4d4>a </text><text style=color:#000;background-color:#f9d4d4>l </text>"
            ]
          },
          "metadata": {}
        },
        {
          "output_type": "stream",
          "name": "stdout",
          "text": [
            "म\n"
          ]
        },
        {
          "output_type": "display_data",
          "data": {
            "text/plain": [
              "<IPython.core.display.HTML object>"
            ],
            "text/html": [
              "<text style=color:#000;background-color:#f9d4d4>e </text><text style=color:#000;background-color:#f9d4d4>n </text><text style=color:#000;background-color:#f9d4d4>d </text><text style=color:#000;background-color:#f9d4d4>o </text><text style=color:#000;background-color:#f9d4d4>m </text><text style=color:#000;background-color:#f47676>e </text><text style=color:#000;background-color:#f9d4d4>t </text><text style=color:#000;background-color:#f9d4d4>r </text><text style=color:#000;background-color:#f9d4d4>i </text><text style=color:#000;background-color:#f9d4d4>a </text><text style=color:#000;background-color:#f9d4d4>l </text>"
            ]
          },
          "metadata": {}
        },
        {
          "output_type": "stream",
          "name": "stdout",
          "text": [
            "े\n"
          ]
        },
        {
          "output_type": "display_data",
          "data": {
            "text/plain": [
              "<IPython.core.display.HTML object>"
            ],
            "text/html": [
              "<text style=color:#000;background-color:#f9d4d4>e </text><text style=color:#000;background-color:#f9d4d4>n </text><text style=color:#000;background-color:#f9d4d4>d </text><text style=color:#000;background-color:#f9d4d4>o </text><text style=color:#000;background-color:#f9d4d4>m </text><text style=color:#000;background-color:#f9d4d4>e </text><text style=color:#000;background-color:#f9bdbd>t </text><text style=color:#000;background-color:#f8a8a8>r </text><text style=color:#000;background-color:#f9d4d4>i </text><text style=color:#000;background-color:#f9d4d4>a </text><text style=color:#000;background-color:#f9d4d4>l </text>"
            ]
          },
          "metadata": {}
        },
        {
          "output_type": "stream",
          "name": "stdout",
          "text": [
            "ट\n"
          ]
        },
        {
          "output_type": "display_data",
          "data": {
            "text/plain": [
              "<IPython.core.display.HTML object>"
            ],
            "text/html": [
              "<text style=color:#000;background-color:#f9d4d4>e </text><text style=color:#000;background-color:#f9d4d4>n </text><text style=color:#000;background-color:#f9d4d4>d </text><text style=color:#000;background-color:#f9d4d4>o </text><text style=color:#000;background-color:#f9d4d4>m </text><text style=color:#000;background-color:#f9d4d4>e </text><text style=color:#000;background-color:#f9d4d4>t </text><text style=color:#000;background-color:#f47676>r </text><text style=color:#000;background-color:#f9d4d4>i </text><text style=color:#000;background-color:#f9d4d4>a </text><text style=color:#000;background-color:#f9d4d4>l </text>"
            ]
          },
          "metadata": {}
        },
        {
          "output_type": "stream",
          "name": "stdout",
          "text": [
            "्\n"
          ]
        },
        {
          "output_type": "display_data",
          "data": {
            "text/plain": [
              "<IPython.core.display.HTML object>"
            ],
            "text/html": [
              "<text style=color:#000;background-color:#f9d4d4>e </text><text style=color:#000;background-color:#f9d4d4>n </text><text style=color:#000;background-color:#f9d4d4>d </text><text style=color:#000;background-color:#f9d4d4>o </text><text style=color:#000;background-color:#f9d4d4>m </text><text style=color:#000;background-color:#f9d4d4>e </text><text style=color:#000;background-color:#f9d4d4>t </text><text style=color:#000;background-color:#f9d4d4>r </text><text style=color:#000;background-color:#f68f8f>i </text><text style=color:#000;background-color:#f9d4d4>a </text><text style=color:#000;background-color:#f9d4d4>l </text>"
            ]
          },
          "metadata": {}
        },
        {
          "output_type": "stream",
          "name": "stdout",
          "text": [
            "र\n"
          ]
        },
        {
          "output_type": "display_data",
          "data": {
            "text/plain": [
              "<IPython.core.display.HTML object>"
            ],
            "text/html": [
              "<text style=color:#000;background-color:#f9d4d4>e </text><text style=color:#000;background-color:#f9d4d4>n </text><text style=color:#000;background-color:#f9d4d4>d </text><text style=color:#000;background-color:#f9d4d4>o </text><text style=color:#000;background-color:#f9d4d4>m </text><text style=color:#000;background-color:#f9d4d4>e </text><text style=color:#000;background-color:#f9d4d4>t </text><text style=color:#000;background-color:#f9d4d4>r </text><text style=color:#000;background-color:#f47676>i </text><text style=color:#000;background-color:#f9d4d4>a </text><text style=color:#000;background-color:#f9d4d4>l </text>"
            ]
          },
          "metadata": {}
        },
        {
          "output_type": "stream",
          "name": "stdout",
          "text": [
            "ि\n"
          ]
        },
        {
          "output_type": "display_data",
          "data": {
            "text/plain": [
              "<IPython.core.display.HTML object>"
            ],
            "text/html": [
              "<text style=color:#000;background-color:#f9d4d4>e </text><text style=color:#000;background-color:#f9d4d4>n </text><text style=color:#000;background-color:#f9d4d4>d </text><text style=color:#000;background-color:#f9d4d4>o </text><text style=color:#000;background-color:#f9d4d4>m </text><text style=color:#000;background-color:#f9d4d4>e </text><text style=color:#000;background-color:#f9d4d4>t </text><text style=color:#000;background-color:#f9d4d4>r </text><text style=color:#000;background-color:#f9d4d4>i </text><text style=color:#000;background-color:#f9d4d4>a </text><text style=color:#000;background-color:#f9bdbd>l </text>"
            ]
          },
          "metadata": {}
        },
        {
          "output_type": "stream",
          "name": "stdout",
          "text": [
            "य\n"
          ]
        },
        {
          "output_type": "display_data",
          "data": {
            "text/plain": [
              "<IPython.core.display.HTML object>"
            ],
            "text/html": [
              "<text style=color:#000;background-color:#f9d4d4>e </text><text style=color:#000;background-color:#f9d4d4>n </text><text style=color:#000;background-color:#f9d4d4>d </text><text style=color:#000;background-color:#f9d4d4>o </text><text style=color:#000;background-color:#f9d4d4>m </text><text style=color:#000;background-color:#f9d4d4>e </text><text style=color:#000;background-color:#f9d4d4>t </text><text style=color:#000;background-color:#f9d4d4>r </text><text style=color:#000;background-color:#f9d4d4>i </text><text style=color:#000;background-color:#f9d4d4>a </text><text style=color:#000;background-color:#f8a8a8>l </text>"
            ]
          },
          "metadata": {}
        },
        {
          "output_type": "stream",
          "name": "stdout",
          "text": [
            "ल\n"
          ]
        },
        {
          "output_type": "display_data",
          "data": {
            "text/plain": [
              "<IPython.core.display.HTML object>"
            ],
            "text/html": [
              "<text style=color:#000;background-color:#f9d4d4>e </text><text style=color:#000;background-color:#f9d4d4>n </text><text style=color:#000;background-color:#f9d4d4>d </text><text style=color:#000;background-color:#f9d4d4>o </text><text style=color:#000;background-color:#f9d4d4>m </text><text style=color:#000;background-color:#f9d4d4>e </text><text style=color:#000;background-color:#f9d4d4>t </text><text style=color:#000;background-color:#f9d4d4>r </text><text style=color:#000;background-color:#f9d4d4>i </text><text style=color:#000;background-color:#f9d4d4>a </text><text style=color:#000;background-color:#f9d4d4>l </text>"
            ]
          },
          "metadata": {}
        },
        {
          "output_type": "stream",
          "name": "stdout",
          "text": [
            "--------------------\n"
          ]
        }
      ]
    },
    {
      "cell_type": "code",
      "source": [
        ""
      ],
      "metadata": {
        "id": "VrTHcZ473B2f"
      },
      "execution_count": null,
      "outputs": []
    }
  ]
}