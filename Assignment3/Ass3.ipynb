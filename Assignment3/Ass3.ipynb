{
 "cells": [
  {
   "cell_type": "code",
   "execution_count": 60,
   "id": "ec0eb2e9",
   "metadata": {},
   "outputs": [],
   "source": [
    "import numpy as np\n",
    "import tensorflow as tf\n",
    "from tensorflow import keras\n",
    "from tensorflow.keras import layers\n",
    "import pandas as pd"
   ]
  },
  {
   "cell_type": "code",
   "execution_count": 61,
   "id": "2ddb9bd1",
   "metadata": {},
   "outputs": [
    {
     "data": {
      "text/html": [
       "<div>\n",
       "<style scoped>\n",
       "    .dataframe tbody tr th:only-of-type {\n",
       "        vertical-align: middle;\n",
       "    }\n",
       "\n",
       "    .dataframe tbody tr th {\n",
       "        vertical-align: top;\n",
       "    }\n",
       "\n",
       "    .dataframe thead th {\n",
       "        text-align: right;\n",
       "    }\n",
       "</style>\n",
       "<table border=\"1\" class=\"dataframe\">\n",
       "  <thead>\n",
       "    <tr style=\"text-align: right;\">\n",
       "      <th></th>\n",
       "      <th>अं</th>\n",
       "      <th>an</th>\n",
       "      <th>3</th>\n",
       "    </tr>\n",
       "  </thead>\n",
       "  <tbody>\n",
       "    <tr>\n",
       "      <th>0</th>\n",
       "      <td>अंकगणित</td>\n",
       "      <td>ankganit</td>\n",
       "      <td>3</td>\n",
       "    </tr>\n",
       "    <tr>\n",
       "      <th>1</th>\n",
       "      <td>अंकल</td>\n",
       "      <td>uncle</td>\n",
       "      <td>4</td>\n",
       "    </tr>\n",
       "    <tr>\n",
       "      <th>2</th>\n",
       "      <td>अंकुर</td>\n",
       "      <td>ankur</td>\n",
       "      <td>4</td>\n",
       "    </tr>\n",
       "    <tr>\n",
       "      <th>3</th>\n",
       "      <td>अंकुरण</td>\n",
       "      <td>ankuran</td>\n",
       "      <td>3</td>\n",
       "    </tr>\n",
       "    <tr>\n",
       "      <th>4</th>\n",
       "      <td>अंकुरित</td>\n",
       "      <td>ankurit</td>\n",
       "      <td>3</td>\n",
       "    </tr>\n",
       "    <tr>\n",
       "      <th>...</th>\n",
       "      <td>...</td>\n",
       "      <td>...</td>\n",
       "      <td>...</td>\n",
       "    </tr>\n",
       "    <tr>\n",
       "      <th>44197</th>\n",
       "      <td>ह्वेनसांग</td>\n",
       "      <td>hiuentsang</td>\n",
       "      <td>1</td>\n",
       "    </tr>\n",
       "    <tr>\n",
       "      <th>44198</th>\n",
       "      <td>ह्वेनसांग</td>\n",
       "      <td>hsuantsang</td>\n",
       "      <td>1</td>\n",
       "    </tr>\n",
       "    <tr>\n",
       "      <th>44199</th>\n",
       "      <td>ह्वेनसांग</td>\n",
       "      <td>hyensang</td>\n",
       "      <td>1</td>\n",
       "    </tr>\n",
       "    <tr>\n",
       "      <th>44200</th>\n",
       "      <td>ह्वेनसांग</td>\n",
       "      <td>xuanzang</td>\n",
       "      <td>1</td>\n",
       "    </tr>\n",
       "    <tr>\n",
       "      <th>44201</th>\n",
       "      <td>ॐ</td>\n",
       "      <td>om</td>\n",
       "      <td>3</td>\n",
       "    </tr>\n",
       "  </tbody>\n",
       "</table>\n",
       "<p>44202 rows × 3 columns</p>\n",
       "</div>"
      ],
      "text/plain": [
       "              अं          an  3\n",
       "0        अंकगणित    ankganit  3\n",
       "1           अंकल       uncle  4\n",
       "2          अंकुर       ankur  4\n",
       "3         अंकुरण     ankuran  3\n",
       "4        अंकुरित     ankurit  3\n",
       "...          ...         ... ..\n",
       "44197  ह्वेनसांग  hiuentsang  1\n",
       "44198  ह्वेनसांग  hsuantsang  1\n",
       "44199  ह्वेनसांग    hyensang  1\n",
       "44200  ह्वेनसांग    xuanzang  1\n",
       "44201          ॐ          om  3\n",
       "\n",
       "[44202 rows x 3 columns]"
      ]
     },
     "execution_count": 61,
     "metadata": {},
     "output_type": "execute_result"
    }
   ],
   "source": [
    "train_data = pd.read_csv('./dakshina_dataset_v1.0/hi/lexicons/hi.translit.sampled.train.tsv', sep='\\t')\n",
    "train_data"
   ]
  },
  {
   "cell_type": "code",
   "execution_count": 62,
   "id": "4cd90717",
   "metadata": {},
   "outputs": [
    {
     "data": {
      "text/html": [
       "<div>\n",
       "<style scoped>\n",
       "    .dataframe tbody tr th:only-of-type {\n",
       "        vertical-align: middle;\n",
       "    }\n",
       "\n",
       "    .dataframe tbody tr th {\n",
       "        vertical-align: top;\n",
       "    }\n",
       "\n",
       "    .dataframe thead th {\n",
       "        text-align: right;\n",
       "    }\n",
       "</style>\n",
       "<table border=\"1\" class=\"dataframe\">\n",
       "  <thead>\n",
       "    <tr style=\"text-align: right;\">\n",
       "      <th></th>\n",
       "      <th>native_word</th>\n",
       "      <th>latin_word</th>\n",
       "    </tr>\n",
       "  </thead>\n",
       "  <tbody>\n",
       "    <tr>\n",
       "      <th>0</th>\n",
       "      <td>अंकगणित</td>\n",
       "      <td>ankganit</td>\n",
       "    </tr>\n",
       "    <tr>\n",
       "      <th>1</th>\n",
       "      <td>अंकल</td>\n",
       "      <td>uncle</td>\n",
       "    </tr>\n",
       "    <tr>\n",
       "      <th>2</th>\n",
       "      <td>अंकुर</td>\n",
       "      <td>ankur</td>\n",
       "    </tr>\n",
       "    <tr>\n",
       "      <th>3</th>\n",
       "      <td>अंकुरण</td>\n",
       "      <td>ankuran</td>\n",
       "    </tr>\n",
       "    <tr>\n",
       "      <th>4</th>\n",
       "      <td>अंकुरित</td>\n",
       "      <td>ankurit</td>\n",
       "    </tr>\n",
       "    <tr>\n",
       "      <th>...</th>\n",
       "      <td>...</td>\n",
       "      <td>...</td>\n",
       "    </tr>\n",
       "    <tr>\n",
       "      <th>44197</th>\n",
       "      <td>ह्वेनसांग</td>\n",
       "      <td>hiuentsang</td>\n",
       "    </tr>\n",
       "    <tr>\n",
       "      <th>44198</th>\n",
       "      <td>ह्वेनसांग</td>\n",
       "      <td>hsuantsang</td>\n",
       "    </tr>\n",
       "    <tr>\n",
       "      <th>44199</th>\n",
       "      <td>ह्वेनसांग</td>\n",
       "      <td>hyensang</td>\n",
       "    </tr>\n",
       "    <tr>\n",
       "      <th>44200</th>\n",
       "      <td>ह्वेनसांग</td>\n",
       "      <td>xuanzang</td>\n",
       "    </tr>\n",
       "    <tr>\n",
       "      <th>44201</th>\n",
       "      <td>ॐ</td>\n",
       "      <td>om</td>\n",
       "    </tr>\n",
       "  </tbody>\n",
       "</table>\n",
       "<p>44202 rows × 2 columns</p>\n",
       "</div>"
      ],
      "text/plain": [
       "      native_word  latin_word\n",
       "0         अंकगणित    ankganit\n",
       "1            अंकल       uncle\n",
       "2           अंकुर       ankur\n",
       "3          अंकुरण     ankuran\n",
       "4         अंकुरित     ankurit\n",
       "...           ...         ...\n",
       "44197   ह्वेनसांग  hiuentsang\n",
       "44198   ह्वेनसांग  hsuantsang\n",
       "44199   ह्वेनसांग    hyensang\n",
       "44200   ह्वेनसांग    xuanzang\n",
       "44201           ॐ          om\n",
       "\n",
       "[44202 rows x 2 columns]"
      ]
     },
     "execution_count": 62,
     "metadata": {},
     "output_type": "execute_result"
    }
   ],
   "source": [
    "train_data.columns = ['native_word','latin_word','-']\n",
    "train_data = train_data[['native_word','latin_word']]\n",
    "train_data"
   ]
  },
  {
   "cell_type": "code",
   "execution_count": 63,
   "id": "738d3004",
   "metadata": {},
   "outputs": [],
   "source": [
    "input_words = train_data['native_word'].to_list()\n",
    "target_words = train_data['latin_word'].to_list()"
   ]
  },
  {
   "cell_type": "code",
   "execution_count": 64,
   "id": "7bf7b460",
   "metadata": {},
   "outputs": [],
   "source": [
    "i=0\n",
    "for word in target_words:\n",
    "    target_words[i]='\\t'+word+'\\n'\n",
    "    "
   ]
  },
  {
   "cell_type": "code",
   "execution_count": null,
   "id": "1b60629a",
   "metadata": {},
   "outputs": [],
   "source": []
  },
  {
   "cell_type": "code",
   "execution_count": 65,
   "id": "7c1cc57d",
   "metadata": {},
   "outputs": [],
   "source": [
    "input_characters=set()\n",
    "target_characters=set()\n",
    "for word in input_words:\n",
    "    for char in word:\n",
    "        if char not in input_characters:\n",
    "            input_characters.add(char)\n",
    "for word in target_words:\n",
    "    for char in word:\n",
    "        if char not in target_characters:\n",
    "            target_characters.add(char)"
   ]
  },
  {
   "cell_type": "code",
   "execution_count": 81,
   "id": "744ac070",
   "metadata": {},
   "outputs": [],
   "source": [
    "input_characters.add(\" \")\n",
    "target_characters.add(\" \")"
   ]
  },
  {
   "cell_type": "code",
   "execution_count": 82,
   "id": "b3588a45",
   "metadata": {},
   "outputs": [
    {
     "name": "stdout",
     "output_type": "stream",
     "text": [
      "अंकगणित\n",
      "अ\n",
      "ं\n",
      "क\n",
      "ग\n",
      "ण\n",
      "ि\n",
      "त\n"
     ]
    }
   ],
   "source": [
    "input_words[0]\n",
    "print(input_words[0])\n",
    "for char in input_words[0]:\n",
    "    print(char)"
   ]
  },
  {
   "cell_type": "code",
   "execution_count": 83,
   "id": "0f9b7448",
   "metadata": {},
   "outputs": [],
   "source": [
    "input_token_index = dict([(char, i) for i, char in enumerate(input_characters)])\n",
    "target_token_index = dict([(char, i) for i, char in enumerate(target_characters)])"
   ]
  },
  {
   "cell_type": "code",
   "execution_count": 84,
   "id": "1833d642",
   "metadata": {},
   "outputs": [],
   "source": [
    "num_encoder_tokens = len(input_characters)\n",
    "num_decoder_tokens = len(target_characters)\n",
    "max_encoder_seq_length = max([len(txt) for txt in input_words])\n",
    "max_decoder_seq_length = max([len(txt) for txt in target_words])"
   ]
  },
  {
   "cell_type": "code",
   "execution_count": 85,
   "id": "8e018276",
   "metadata": {},
   "outputs": [
    {
     "name": "stdout",
     "output_type": "stream",
     "text": [
      "Number of samples: 44202\n",
      "Number of unique input tokens: 64\n",
      "Number of unique output tokens: 29\n",
      "Max sequence length for inputs: 19\n",
      "Max sequence length for outputs: 20\n"
     ]
    }
   ],
   "source": [
    "print(\"Number of samples:\", len(input_words))\n",
    "print(\"Number of unique input tokens:\", num_encoder_tokens)\n",
    "print(\"Number of unique output tokens:\", num_decoder_tokens)\n",
    "print(\"Max sequence length for inputs:\", max_encoder_seq_length)\n",
    "print(\"Max sequence length for outputs:\", max_decoder_seq_length)"
   ]
  },
  {
   "cell_type": "code",
   "execution_count": 91,
   "id": "69917a55",
   "metadata": {},
   "outputs": [],
   "source": [
    "batch_size = 64  # Batch size for training.\n",
    "epochs = 10  # Number of epochs to train for.\n",
    "latent_dim = 256  # Latent dimensionality of the encoding space.\n",
    "num_samples = 44202  # Number of samples to train on."
   ]
  },
  {
   "cell_type": "code",
   "execution_count": 87,
   "id": "32d0dae0",
   "metadata": {},
   "outputs": [],
   "source": [
    "\n",
    "# the input is a tensor, the 1st dimension is the number of training examples, 2nd dimension is the maximum word length, 3rd dimension is the vocabulary \n",
    "# i think the input size is still flexible, this is just asking the number of states in worst case.\n",
    "encoder_input_data = np.zeros(\n",
    "    (len(input_words), max_encoder_seq_length, num_encoder_tokens), dtype=\"float32\"\n",
    ")\n",
    "decoder_input_data = np.zeros(\n",
    "    (len(input_words), max_decoder_seq_length, num_decoder_tokens), dtype=\"float32\"\n",
    ")\n",
    "decoder_target_data = np.zeros(\n",
    "    (len(input_words), max_decoder_seq_length, num_decoder_tokens), dtype=\"float32\"\n",
    ")"
   ]
  },
  {
   "cell_type": "code",
   "execution_count": 88,
   "id": "a3ce9b25",
   "metadata": {},
   "outputs": [],
   "source": [
    "\n",
    "\n",
    "# one hot encoding is done here\n",
    "\n",
    "\n",
    "for i, (input_text, target_text) in enumerate(zip(input_words, target_words)):\n",
    "    for t, char in enumerate(input_text):\n",
    "        encoder_input_data[i, t, input_token_index[char]] = 1.0\n",
    "    encoder_input_data[i, t + 1 :, input_token_index[\" \"]] = 1.0\n",
    "    for t, char in enumerate(target_text):\n",
    "        # decoder_target_data is ahead of decoder_input_data by one timestep\n",
    "        decoder_input_data[i, t, target_token_index[char]] = 1.0\n",
    "        if t > 0:\n",
    "            # decoder_target_data will be ahead by one timestep\n",
    "            # and will not include the start character.\n",
    "            # example:  \"\\t dog\", this will be decoder_input, \"dog \\n\", this should be decoder_target.\n",
    "            decoder_target_data[i, t - 1, target_token_index[char]] = 1.0\n",
    "    decoder_input_data[i, t + 1 :, target_token_index[\" \"]] = 1.0\n",
    "    decoder_target_data[i, t:, target_token_index[\" \"]] = 1.0"
   ]
  },
  {
   "cell_type": "code",
   "execution_count": 89,
   "id": "b97d5968",
   "metadata": {},
   "outputs": [],
   "source": [
    "# Define an input sequence and process it.\n",
    "encoder_inputs = keras.Input(shape=(None, num_encoder_tokens))\n",
    "encoder = keras.layers.LSTM(latent_dim, return_state=True)\n",
    "encoder_outputs, state_h, state_c = encoder(encoder_inputs)\n",
    "\n",
    "# We discard `encoder_outputs` and only keep the states.\n",
    "encoder_states = [state_h, state_c]\n",
    "\n",
    "# Set up the decoder, using `encoder_states` as initial state.\n",
    "decoder_inputs = keras.Input(shape=(None, num_decoder_tokens))\n",
    "\n",
    "# We set up our decoder to return full output sequences,\n",
    "# and to return internal states as well. We don't use the\n",
    "# return states in the training model, but we will use them in inference.\n",
    "decoder_lstm = keras.layers.LSTM(latent_dim, return_sequences=True, return_state=True)\n",
    "decoder_outputs, _, _ = decoder_lstm(decoder_inputs, initial_state=encoder_states)\n",
    "decoder_dense = keras.layers.Dense(num_decoder_tokens, activation=\"softmax\")\n",
    "decoder_outputs = decoder_dense(decoder_outputs)\n",
    "\n",
    "# Define the model that will turn\n",
    "# `encoder_input_data` & `decoder_input_data` into `decoder_target_data`\n",
    "model = keras.Model([encoder_inputs, decoder_inputs], decoder_outputs)"
   ]
  },
  {
   "cell_type": "code",
   "execution_count": 92,
   "id": "2b80b3b9",
   "metadata": {},
   "outputs": [
    {
     "name": "stdout",
     "output_type": "stream",
     "text": [
      "Epoch 1/10\n",
      "553/553 [==============================] - 100s 169ms/step - loss: 0.6835 - accuracy: 0.7979 - val_loss: 0.7028 - val_accuracy: 0.7854\n",
      "Epoch 2/10\n",
      "553/553 [==============================] - 92s 166ms/step - loss: 0.5124 - accuracy: 0.8424 - val_loss: 0.5465 - val_accuracy: 0.8293\n",
      "Epoch 3/10\n",
      "553/553 [==============================] - 94s 169ms/step - loss: 0.4005 - accuracy: 0.8727 - val_loss: 0.4523 - val_accuracy: 0.8556\n",
      "Epoch 4/10\n",
      "553/553 [==============================] - 96s 174ms/step - loss: 0.3337 - accuracy: 0.8936 - val_loss: 0.4533 - val_accuracy: 0.8516\n",
      "Epoch 5/10\n",
      "553/553 [==============================] - 98s 178ms/step - loss: 0.2874 - accuracy: 0.9083 - val_loss: 0.3683 - val_accuracy: 0.8837\n",
      "Epoch 6/10\n",
      "553/553 [==============================] - 90s 164ms/step - loss: 0.2523 - accuracy: 0.9196 - val_loss: 0.3710 - val_accuracy: 0.8797\n",
      "Epoch 7/10\n",
      "553/553 [==============================] - 93s 168ms/step - loss: 0.2251 - accuracy: 0.9279 - val_loss: 0.3285 - val_accuracy: 0.8973\n",
      "Epoch 8/10\n",
      "553/553 [==============================] - 93s 167ms/step - loss: 0.2035 - accuracy: 0.9346 - val_loss: 0.3226 - val_accuracy: 0.9001\n",
      "Epoch 9/10\n",
      "553/553 [==============================] - 86s 155ms/step - loss: 0.1853 - accuracy: 0.9399 - val_loss: 0.2932 - val_accuracy: 0.9093\n",
      "Epoch 10/10\n",
      "553/553 [==============================] - 92s 166ms/step - loss: 0.1711 - accuracy: 0.9444 - val_loss: 0.3201 - val_accuracy: 0.9032\n"
     ]
    },
    {
     "name": "stderr",
     "output_type": "stream",
     "text": [
      "WARNING:absl:Found untraced functions such as lstm_cell_1_layer_call_fn, lstm_cell_1_layer_call_and_return_conditional_losses, lstm_cell_2_layer_call_fn, lstm_cell_2_layer_call_and_return_conditional_losses while saving (showing 4 of 4). These functions will not be directly callable after loading.\n"
     ]
    },
    {
     "name": "stdout",
     "output_type": "stream",
     "text": [
      "INFO:tensorflow:Assets written to: s2s\\assets\n"
     ]
    },
    {
     "name": "stderr",
     "output_type": "stream",
     "text": [
      "INFO:tensorflow:Assets written to: s2s\\assets\n",
      "WARNING:absl:<keras.layers.recurrent.LSTMCell object at 0x000002957BA34400> has the same name 'LSTMCell' as a built-in Keras object. Consider renaming <class 'keras.layers.recurrent.LSTMCell'> to avoid naming conflicts when loading with `tf.keras.models.load_model`. If renaming is not possible, pass the object in the `custom_objects` parameter of the load function.\n",
      "WARNING:absl:<keras.layers.recurrent.LSTMCell object at 0x000002957B784E80> has the same name 'LSTMCell' as a built-in Keras object. Consider renaming <class 'keras.layers.recurrent.LSTMCell'> to avoid naming conflicts when loading with `tf.keras.models.load_model`. If renaming is not possible, pass the object in the `custom_objects` parameter of the load function.\n"
     ]
    }
   ],
   "source": [
    "model.compile(\n",
    "    optimizer=\"rmsprop\", loss=\"categorical_crossentropy\", metrics=[\"accuracy\"]\n",
    ")\n",
    "model.fit(\n",
    "    [encoder_input_data, decoder_input_data],\n",
    "    decoder_target_data,\n",
    "    batch_size=batch_size,\n",
    "    epochs=epochs,\n",
    "    validation_split=0.2,\n",
    ")\n",
    "# Save model\n",
    "model.save(\"s2s\")"
   ]
  },
  {
   "cell_type": "code",
   "execution_count": 21,
   "id": "33db1970",
   "metadata": {},
   "outputs": [
    {
     "name": "stdout",
     "output_type": "stream",
     "text": [
      "Model: \"sequential\"\n",
      "_________________________________________________________________\n",
      " Layer (type)                Output Shape              Param #   \n",
      "=================================================================\n",
      " embedding (Embedding)       (None, None, 64)          64000     \n",
      "                                                                 \n",
      " lstm (LSTM)                 (None, 128)               98816     \n",
      "                                                                 \n",
      " dense (Dense)               (None, 10)                1290      \n",
      "                                                                 \n",
      "=================================================================\n",
      "Total params: 164,106\n",
      "Trainable params: 164,106\n",
      "Non-trainable params: 0\n",
      "_________________________________________________________________\n"
     ]
    }
   ],
   "source": [
    "model = keras.Sequential()\n",
    "# Add an Embedding layer expecting input vocab of size 1000, and\n",
    "# output embedding dimension of size 64.\n",
    "model.add(layers.Embedding(input_dim=1000, output_dim=64))\n",
    "\n",
    "# Add a LSTM layer with 128 internal units.\n",
    "model.add(layers.LSTM(128))\n",
    "\n",
    "# Add a Dense layer with 10 units.\n",
    "model.add(layers.Dense(10))\n",
    "\n",
    "model.summary()"
   ]
  },
  {
   "cell_type": "code",
   "execution_count": null,
   "id": "49fa09a1",
   "metadata": {},
   "outputs": [],
   "source": []
  },
  {
   "cell_type": "code",
   "execution_count": null,
   "id": "66b5477a",
   "metadata": {},
   "outputs": [],
   "source": []
  }
 ],
 "metadata": {
  "kernelspec": {
   "display_name": "Python 3",
   "language": "python",
   "name": "python3"
  },
  "language_info": {
   "codemirror_mode": {
    "name": "ipython",
    "version": 3
   },
   "file_extension": ".py",
   "mimetype": "text/x-python",
   "name": "python",
   "nbconvert_exporter": "python",
   "pygments_lexer": "ipython3",
   "version": "3.8.8"
  }
 },
 "nbformat": 4,
 "nbformat_minor": 5
}
